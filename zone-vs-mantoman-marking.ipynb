{
 "cells": [
  {
   "cell_type": "code",
   "execution_count": 2,
   "metadata": {},
   "outputs": [],
   "source": [
    "import json \n",
    "import glob\n",
    "import itertools\n",
    "import pandas as pd\n",
    "import numpy as np\n",
    "import json"
   ]
  },
  {
   "cell_type": "code",
   "execution_count": 16,
   "metadata": {},
   "outputs": [],
   "source": [
    "import os\n",
    "\n",
    "def read_files(base_path):\n",
    "    file_anagrafica = []\n",
    "    file_tracking = []\n",
    "    \n",
    "    # Cammina attraverso tutte le directory e sottodirectory\n",
    "    for root, dirs, files in os.walk(base_path):\n",
    "        for file in files:\n",
    "            if file == '.DS_Store':\n",
    "                continue\n",
    "            # Controlla se nel nome del file è presente la stringa '_tracking'\n",
    "            if '_tracking' in file:\n",
    "                file_tracking.append(os.path.join(root, file))\n",
    "            else:\n",
    "                file_anagrafica.append(os.path.join(root, file))\n",
    "    \n",
    "    return file_anagrafica, file_tracking\n",
    "\n",
    "# Percorso della directory principale\n",
    "base_path = 'SerieA_22-23_tracking'\n",
    "anagrafica, tracking = read_files(base_path)\n"
   ]
  },
  {
   "cell_type": "code",
   "execution_count": 17,
   "metadata": {},
   "outputs": [
    {
     "data": {
      "text/plain": [
       "['SerieA_22-23_tracking/32/ROMA-MILAN G32.json',\n",
       " 'SerieA_22-23_tracking/32/NAPOLI-SALERNITANA G32.json',\n",
       " 'SerieA_22-23_tracking/32/LECCE-UDINESE G32.json',\n",
       " 'SerieA_22-23_tracking/32/US CREMONESE-HELLAS VERONA G32.json',\n",
       " 'SerieA_22-23_tracking/32/BOLOGNA-JUVENTUS G32.json',\n",
       " 'SerieA_22-23_tracking/32/SASSUOLO-EMPOLI G32.json',\n",
       " 'SerieA_22-23_tracking/32/TORINO-ATALANTA G32.json',\n",
       " 'SerieA_22-23_tracking/32/INTER-LAZIO G32.json',\n",
       " 'SerieA_22-23_tracking/32/SPEZIA CALCIO-MONZA G32.json',\n",
       " 'SerieA_22-23_tracking/32/FIORENTINA-SAMPDORIA G32.json',\n",
       " 'SerieA_22-23_tracking/35/FIORENTINA-UDINESE G35.json',\n",
       " 'SerieA_22-23_tracking/35/JUVENTUS-US CREMONESE G35.json',\n",
       " 'SerieA_22-23_tracking/35/SALERNITANA-ATALANTA G35.json',\n",
       " 'SerieA_22-23_tracking/35/INTER-SASSUOLO G35.json',\n",
       " 'SerieA_22-23_tracking/35/HELLAS VERONA-TORINO G35.json',\n",
       " 'SerieA_22-23_tracking/35/SPEZIA CALCIO-MILAN G35.json',\n",
       " 'SerieA_22-23_tracking/35/MONZA-NAPOLI G35.json',\n",
       " 'SerieA_22-23_tracking/35/BOLOGNA-ROMA G35.json',\n",
       " 'SerieA_22-23_tracking/35/LAZIO-LECCE G35.json',\n",
       " 'SerieA_22-23_tracking/35/SAMPDORIA-EMPOLI G35.json',\n",
       " 'SerieA_22-23_tracking/34/ATALANTA-JUVENTUS G34.json',\n",
       " 'SerieA_22-23_tracking/34/ROMA-INTER G34.json',\n",
       " 'SerieA_22-23_tracking/34/NAPOLI-FIORENTINA G34.json',\n",
       " 'SerieA_22-23_tracking/34/US CREMONESE-SPEZIA CALCIO G34.json',\n",
       " 'SerieA_22-23_tracking/34/UDINESE-SAMPDORIA G34.json',\n",
       " 'SerieA_22-23_tracking/34/SASSUOLO-BOLOGNA G34.json',\n",
       " 'SerieA_22-23_tracking/34/EMPOLI-SALERNITANA G34.json',\n",
       " 'SerieA_22-23_tracking/34/LECCE-HELLAS VERONA G34.json',\n",
       " 'SerieA_22-23_tracking/34/TORINO-MONZA G34.json',\n",
       " 'SerieA_22-23_tracking/34/MILAN-LAZIO G34.json',\n",
       " 'SerieA_22-23_tracking/33/LAZIO-SASSUOLO G33.json',\n",
       " 'SerieA_22-23_tracking/33/SALERNITANA-FIORENTINA G33.json',\n",
       " 'SerieA_22-23_tracking/33/ATALANTA-SPEZIA CALCIO G33.json',\n",
       " 'SerieA_22-23_tracking/33/MILAN-US CREMONESE G33.json',\n",
       " 'SerieA_22-23_tracking/33/HELLAS VERONA-INTER G33.json',\n",
       " 'SerieA_22-23_tracking/33/EMPOLI-BOLOGNA G33.json',\n",
       " 'SerieA_22-23_tracking/33/MONZA-ROMA G33.json',\n",
       " 'SerieA_22-23_tracking/33/SAMPDORIA-TORINO G33.json',\n",
       " 'SerieA_22-23_tracking/33/UDINESE-NAPOLI G33.json',\n",
       " 'SerieA_22-23_tracking/33/JUVENTUS-LECCE G33.json',\n",
       " 'SerieA_22-23_tracking/20/US CREMONESE-INTER G20.json',\n",
       " 'SerieA_22-23_tracking/20/NAPOLI-ROMA G20.json',\n",
       " 'SerieA_22-23_tracking/20/LAZIO-FIORENTINA G20.json',\n",
       " 'SerieA_22-23_tracking/20/EMPOLI-TORINO G20.json',\n",
       " 'SerieA_22-23_tracking/20/LECCE-SALERNITANA G20.json',\n",
       " 'SerieA_22-23_tracking/20/JUVENTUS-MONZA G20.json',\n",
       " 'SerieA_22-23_tracking/20/UDINESE-HELLAS VERONA G20.json',\n",
       " 'SerieA_22-23_tracking/20/MILAN-SASSUOLO G20.json',\n",
       " 'SerieA_22-23_tracking/20/BOLOGNA-SPEZIA CALCIO G20.json',\n",
       " 'SerieA_22-23_tracking/20/ATALANTA-SAMPDORIA G20.json',\n",
       " 'SerieA_22-23_tracking/18/LECCE-MILAN G18.json',\n",
       " 'SerieA_22-23_tracking/18/US CREMONESE-MONZA G18.json',\n",
       " 'SerieA_22-23_tracking/18/INTER-HELLAS VERONA G18.json',\n",
       " 'SerieA_22-23_tracking/18/NAPOLI-JUVENTUS G18.json',\n",
       " 'SerieA_22-23_tracking/18/TORINO-SPEZIA CALCIO G18.json',\n",
       " 'SerieA_22-23_tracking/18/SASSUOLO-LAZIO G18.json',\n",
       " 'SerieA_22-23_tracking/18/ROMA-FIORENTINA G18.json',\n",
       " 'SerieA_22-23_tracking/18/UDINESE-BOLOGNA G18.json',\n",
       " 'SerieA_22-23_tracking/18/ATALANTA-SALERNITANA G18.json',\n",
       " 'SerieA_22-23_tracking/18/EMPOLI-SAMPDORIA G18.json',\n",
       " 'SerieA_22-23_tracking/27/SAMPDORIA-HELLAS VERONA G27.json',\n",
       " 'SerieA_22-23_tracking/27/SASSUOLO-SPEZIA CALCIO G27.json',\n",
       " 'SerieA_22-23_tracking/27/SALERNITANA-BOLOGNA G27.json',\n",
       " 'SerieA_22-23_tracking/27/MONZA-US CREMONESE G27.json',\n",
       " 'SerieA_22-23_tracking/27/INTER-JUVENTUS G27.json',\n",
       " 'SerieA_22-23_tracking/27/FIORENTINA-LECCE G27.json',\n",
       " 'SerieA_22-23_tracking/27/UDINESE-MILAN G27.json',\n",
       " 'SerieA_22-23_tracking/27/TORINO-NAPOLI G27.json',\n",
       " 'SerieA_22-23_tracking/27/LAZIO-ROMA G27.json',\n",
       " 'SerieA_22-23_tracking/27/ATALANTA-EMPOLI G27.json',\n",
       " 'SerieA_22-23_tracking/9/ROMA-LECCE G9.json',\n",
       " 'SerieA_22-23_tracking/9/TORINO-EMPOLI G9.json',\n",
       " 'SerieA_22-23_tracking/9/FIORENTINA-LAZIO G9.json',\n",
       " 'SerieA_22-23_tracking/9/US CREMONESE-NAPOLI G9.json',\n",
       " 'SerieA_22-23_tracking/9/MILAN-JUVENTUS G9.json',\n",
       " 'SerieA_22-23_tracking/9/UDINESE-ATALANTA G9.json',\n",
       " 'SerieA_22-23_tracking/9/MONZA-SPEZIA CALCIO G9.json',\n",
       " 'SerieA_22-23_tracking/9/BOLOGNA-SAMPDORIA G9.json',\n",
       " 'SerieA_22-23_tracking/9/SALERNITANA-HELLAS VERONA G9.json',\n",
       " 'SerieA_22-23_tracking/9/SASSUOLO-INTER G9.json',\n",
       " 'SerieA_22-23_tracking/11/BOLOGNA-LECCE G11.json',\n",
       " 'SerieA_22-23_tracking/11/MILAN-MONZA G11.json',\n",
       " 'SerieA_22-23_tracking/11/JUVENTUS-EMPOLI G11.json',\n",
       " 'SerieA_22-23_tracking/11/US CREMONESE-SAMPDORIA G11.json',\n",
       " 'SerieA_22-23_tracking/11/ATALANTA-LAZIO G11.json',\n",
       " 'SerieA_22-23_tracking/11/FIORENTINA-INTER G11.json',\n",
       " 'SerieA_22-23_tracking/11/UDINESE-TORINO G11.json',\n",
       " 'SerieA_22-23_tracking/11/SALERNITANA-SPEZIA CALCIO G11.json',\n",
       " 'SerieA_22-23_tracking/11/ROMA-NAPOLI G11.json',\n",
       " 'SerieA_22-23_tracking/11/SASSUOLO-HELLAS VERONA G11.json',\n",
       " 'SerieA_22-23_tracking/7/FIORENTINA-HELLAS VERONA G7.json',\n",
       " 'SerieA_22-23_tracking/7/ROMA-ATALANTA G7.json',\n",
       " 'SerieA_22-23_tracking/7/US CREMONESE-LAZIO G7.json',\n",
       " 'SerieA_22-23_tracking/7/BOLOGNA-EMPOLI G7.json',\n",
       " 'SerieA_22-23_tracking/7/TORINO-SASSUOLO G7.json',\n",
       " 'SerieA_22-23_tracking/7/MONZA-JUVENTUS G7.json',\n",
       " 'SerieA_22-23_tracking/7/SALERNITANA-LECCE G7.json',\n",
       " 'SerieA_22-23_tracking/7/UDINESE-INTER G7.json',\n",
       " 'SerieA_22-23_tracking/7/SPEZIA CALCIO-SAMPDORIA G7.json',\n",
       " 'SerieA_22-23_tracking/7/MILAN-NAPOLI G7.json',\n",
       " 'SerieA_22-23_tracking/29/UDINESE-MONZA G29.json',\n",
       " 'SerieA_22-23_tracking/29/FIORENTINA-SPEZIA CALCIO G29.json',\n",
       " 'SerieA_22-23_tracking/29/SALERNITANA-INTER G29.json',\n",
       " 'SerieA_22-23_tracking/29/MILAN-EMPOLI G29.json',\n",
       " 'SerieA_22-23_tracking/29/HELLAS VERONA-SASSUOLO G29.json',\n",
       " 'SerieA_22-23_tracking/29/SAMPDORIA-US CREMONESE G29.json',\n",
       " 'SerieA_22-23_tracking/29/LAZIO-JUVENTUS G29.json',\n",
       " 'SerieA_22-23_tracking/29/ATALANTA-BOLOGNA G29.json',\n",
       " 'SerieA_22-23_tracking/29/TORINO-ROMA G29.json',\n",
       " 'SerieA_22-23_tracking/29/LECCE-NAPOLI G29.json',\n",
       " 'SerieA_22-23_tracking/16/SASSUOLO-SAMPDORIA G16.json',\n",
       " 'SerieA_22-23_tracking/16/FIORENTINA-MONZA G16.json',\n",
       " 'SerieA_22-23_tracking/16/TORINO-HELLAS VERONA G16.json',\n",
       " 'SerieA_22-23_tracking/16/SALERNITANA-MILAN G16.json',\n",
       " 'SerieA_22-23_tracking/16/ROMA-BOLOGNA G16.json',\n",
       " 'SerieA_22-23_tracking/16/LECCE-LAZIO G16.json',\n",
       " 'SerieA_22-23_tracking/16/US CREMONESE-JUVENTUS G16.json',\n",
       " 'SerieA_22-23_tracking/16/SPEZIA CALCIO-ATALANTA G16.json',\n",
       " 'SerieA_22-23_tracking/16/UDINESE-EMPOLI G16.json',\n",
       " 'SerieA_22-23_tracking/16/INTER-NAPOLI G16.json',\n",
       " 'SerieA_22-23_tracking/6/NAPOLI-SPEZIA CALCIO G6.json',\n",
       " 'SerieA_22-23_tracking/6/ATALANTA-US CREMONESE G6.json',\n",
       " 'SerieA_22-23_tracking/6/EMPOLI-ROMA G6.json',\n",
       " 'SerieA_22-23_tracking/6/SAMPDORIA-MILAN G6.json',\n",
       " 'SerieA_22-23_tracking/6/LAZIO-HELLAS VERONA G6.json',\n",
       " 'SerieA_22-23_tracking/6/JUVENTUS-SALERNITANA G6.json',\n",
       " 'SerieA_22-23_tracking/6/SASSUOLO-UDINESE G6.json',\n",
       " 'SerieA_22-23_tracking/6/INTER-TORINO G6.json',\n",
       " 'SerieA_22-23_tracking/6/LECCE-MONZA G6.json',\n",
       " 'SerieA_22-23_tracking/6/BOLOGNA-FIORENTINA G6.json',\n",
       " 'SerieA_22-23_tracking/28/SPEZIA CALCIO-SALERNITANA G28.json',\n",
       " 'SerieA_22-23_tracking/28/US CREMONESE-ATALANTA G28.json',\n",
       " 'SerieA_22-23_tracking/28/ROMA-SAMPDORIA G28.json',\n",
       " 'SerieA_22-23_tracking/28/MONZA-LAZIO G28.json',\n",
       " 'SerieA_22-23_tracking/28/BOLOGNA-UDINESE G28.json',\n",
       " 'SerieA_22-23_tracking/28/INTER-FIORENTINA G28.json',\n",
       " 'SerieA_22-23_tracking/28/SASSUOLO-TORINO G28.json',\n",
       " 'SerieA_22-23_tracking/28/EMPOLI-LECCE G28.json',\n",
       " 'SerieA_22-23_tracking/28/JUVENTUS-HELLAS VERONA G28.json',\n",
       " 'SerieA_22-23_tracking/28/NAPOLI-MILAN G28.json',\n",
       " 'SerieA_22-23_tracking/17/SALERNITANA-TORINO G17.json',\n",
       " 'SerieA_22-23_tracking/17/MONZA-INTER G17.json',\n",
       " 'SerieA_22-23_tracking/17/MILAN-ROMA G17.json',\n",
       " 'SerieA_22-23_tracking/17/BOLOGNA-ATALANTA G17.json',\n",
       " 'SerieA_22-23_tracking/17/FIORENTINA-SASSUOLO G17.json',\n",
       " 'SerieA_22-23_tracking/17/LAZIO-EMPOLI G17.json',\n",
       " 'SerieA_22-23_tracking/17/SPEZIA CALCIO-LECCE G17.json',\n",
       " 'SerieA_22-23_tracking/17/HELLAS VERONA-US CREMONESE G17.json',\n",
       " 'SerieA_22-23_tracking/17/JUVENTUS-UDINESE G17.json',\n",
       " 'SerieA_22-23_tracking/17/SAMPDORIA-NAPOLI G17.json',\n",
       " 'SerieA_22-23_tracking/1/MILAN-UDINESE G1.json',\n",
       " 'SerieA_22-23_tracking/1/SALERNITANA-ROMA G1.json',\n",
       " 'SerieA_22-23_tracking/1/MONZA-TORINO G1.json',\n",
       " 'SerieA_22-23_tracking/1/LECCE-INTER G1.json',\n",
       " 'SerieA_22-23_tracking/1/FIORENTINA-US CREMONESE G1.json',\n",
       " 'SerieA_22-23_tracking/1/SAMPDORIA-ATALANTA G1.json',\n",
       " 'SerieA_22-23_tracking/1/JUVENTUS-SASSUOLO G1.json',\n",
       " 'SerieA_22-23_tracking/1/SPEZIA CALCIO-EMPOLI G1.json',\n",
       " 'SerieA_22-23_tracking/1/LAZIO-BOLOGNA G1.json',\n",
       " 'SerieA_22-23_tracking/1/HELLAS VERONA-NAPOLI G1.json',\n",
       " 'SerieA_22-23_tracking/10/LECCE-FIORENTINA G10.json',\n",
       " 'SerieA_22-23_tracking/10/TORINO-JUVENTUS G10.json',\n",
       " 'SerieA_22-23_tracking/10/LAZIO-UDINESE G10.json',\n",
       " 'SerieA_22-23_tracking/10/HELLAS VERONA-MILAN G10.json',\n",
       " 'SerieA_22-23_tracking/10/EMPOLI-MONZA G10.json',\n",
       " 'SerieA_22-23_tracking/10/INTER-SALERNITANA G10.json',\n",
       " 'SerieA_22-23_tracking/10/SAMPDORIA-ROMA G10.json',\n",
       " 'SerieA_22-23_tracking/10/NAPOLI-BOLOGNA G10.json',\n",
       " 'SerieA_22-23_tracking/10/SPEZIA CALCIO-US CREMONESE G10.json',\n",
       " 'SerieA_22-23_tracking/10/ATALANTA-SASSUOLO G10.json',\n",
       " 'SerieA_22-23_tracking/19/HELLAS VERONA-LECCE G19.json',\n",
       " 'SerieA_22-23_tracking/19/SALERNITANA-NAPOLI G19.json',\n",
       " 'SerieA_22-23_tracking/19/SAMPDORIA-UDINESE G19.json',\n",
       " 'SerieA_22-23_tracking/19/LAZIO-MILAN G19.json',\n",
       " 'SerieA_22-23_tracking/19/JUVENTUS-ATALANTA G19.json',\n",
       " 'SerieA_22-23_tracking/19/FIORENTINA-TORINO G19.json',\n",
       " 'SerieA_22-23_tracking/19/SPEZIA CALCIO-ROMA G19.json',\n",
       " 'SerieA_22-23_tracking/19/MONZA-SASSUOLO G19.json',\n",
       " 'SerieA_22-23_tracking/19/INTER-EMPOLI G19.json',\n",
       " 'SerieA_22-23_tracking/19/BOLOGNA-US CREMONESE G19.json',\n",
       " 'SerieA_22-23_tracking/26/ROMA-SASSUOLO G26.json',\n",
       " 'SerieA_22-23_tracking/26/JUVENTUS-SAMPDORIA G26.json',\n",
       " 'SerieA_22-23_tracking/26/HELLAS VERONA-MONZA G26.json',\n",
       " 'SerieA_22-23_tracking/26/EMPOLI-UDINESE G26.json',\n",
       " 'SerieA_22-23_tracking/26/LECCE-TORINO G26.json',\n",
       " 'SerieA_22-23_tracking/26/BOLOGNA-LAZIO G26.json',\n",
       " 'SerieA_22-23_tracking/26/SPEZIA CALCIO-INTER G26.json',\n",
       " 'SerieA_22-23_tracking/26/NAPOLI-ATALANTA G26.json',\n",
       " 'SerieA_22-23_tracking/26/MILAN-SALERNITANA G26.json',\n",
       " 'SerieA_22-23_tracking/26/US CREMONESE-FIORENTINA G26.json',\n",
       " 'SerieA_22-23_tracking/8/LECCE-US CREMONESE G8.json',\n",
       " 'SerieA_22-23_tracking/8/NAPOLI-TORINO G8.json',\n",
       " 'SerieA_22-23_tracking/8/HELLAS VERONA-UDINESE G8.json',\n",
       " 'SerieA_22-23_tracking/8/JUVENTUS-BOLOGNA G8.json',\n",
       " 'SerieA_22-23_tracking/8/SASSUOLO-SALERNITANA G8.json',\n",
       " 'SerieA_22-23_tracking/8/INTER-ROMA G8.json',\n",
       " 'SerieA_22-23_tracking/8/EMPOLI-MILAN G8.json',\n",
       " 'SerieA_22-23_tracking/8/ATALANTA-FIORENTINA G8.json',\n",
       " 'SerieA_22-23_tracking/8/SAMPDORIA-MONZA G8.json',\n",
       " 'SerieA_22-23_tracking/8/LAZIO-SPEZIA CALCIO G8.json',\n",
       " 'SerieA_22-23_tracking/21/MONZA-SAMPDORIA G21.json',\n",
       " 'SerieA_22-23_tracking/21/INTER-MILAN G21.json',\n",
       " 'SerieA_22-23_tracking/21/US CREMONESE-LECCE G21.json',\n",
       " 'SerieA_22-23_tracking/21/HELLAS VERONA-LAZIO G21.json',\n",
       " 'SerieA_22-23_tracking/21/ROMA-EMPOLI G21.json',\n",
       " 'SerieA_22-23_tracking/21/SPEZIA CALCIO-NAPOLI G21.json',\n",
       " 'SerieA_22-23_tracking/21/SALERNITANA-JUVENTUS G21.json',\n",
       " 'SerieA_22-23_tracking/21/FIORENTINA-BOLOGNA G21.json',\n",
       " 'SerieA_22-23_tracking/21/TORINO-UDINESE G21.json',\n",
       " 'SerieA_22-23_tracking/21/SASSUOLO-ATALANTA G21.json',\n",
       " 'SerieA_22-23_tracking/38/MILAN-HELLAS VERONA G38.json',\n",
       " 'SerieA_22-23_tracking/38/TORINO-INTER G38.json',\n",
       " 'SerieA_22-23_tracking/38/ATALANTA-MONZA G38.json',\n",
       " 'SerieA_22-23_tracking/38/UDINESE-JUVENTUS G38.json',\n",
       " 'SerieA_22-23_tracking/38/LECCE-BOLOGNA G38.json',\n",
       " 'SerieA_22-23_tracking/38/EMPOLI-LAZIO G38.json',\n",
       " 'SerieA_22-23_tracking/38/SASSUOLO-FIORENTINA G38.json',\n",
       " 'SerieA_22-23_tracking/38/NAPOLI-SAMPDORIA G38.json',\n",
       " 'SerieA_22-23_tracking/38/US CREMONESE-SALERNITANA G38.json',\n",
       " 'SerieA_22-23_tracking/38/ROMA-SPEZIA CALCIO G38.json',\n",
       " 'SerieA_22-23_tracking/36/SASSUOLO-MONZA G36.json',\n",
       " 'SerieA_22-23_tracking/36/ATALANTA-HELLAS VERONA G36.json',\n",
       " 'SerieA_22-23_tracking/36/MILAN-SAMPDORIA G36.json',\n",
       " 'SerieA_22-23_tracking/36/NAPOLI-INTER G36.json',\n",
       " 'SerieA_22-23_tracking/36/EMPOLI-JUVENTUS G36.json',\n",
       " 'SerieA_22-23_tracking/36/TORINO-FIORENTINA G36.json',\n",
       " 'SerieA_22-23_tracking/36/LECCE-SPEZIA CALCIO G36.json',\n",
       " 'SerieA_22-23_tracking/36/ROMA-SALERNITANA G36.json',\n",
       " 'SerieA_22-23_tracking/36/US CREMONESE-BOLOGNA G36.json',\n",
       " 'SerieA_22-23_tracking/36/UDINESE-LAZIO G36.json',\n",
       " 'SerieA_22-23_tracking/31/EMPOLI-INTER G31.json',\n",
       " 'SerieA_22-23_tracking/31/UDINESE-US CREMONESE G31.json',\n",
       " 'SerieA_22-23_tracking/31/ATALANTA-ROMA G31.json',\n",
       " 'SerieA_22-23_tracking/31/SALERNITANA-SASSUOLO G31.json',\n",
       " 'SerieA_22-23_tracking/31/HELLAS VERONA-BOLOGNA G31.json',\n",
       " 'SerieA_22-23_tracking/31/JUVENTUS-NAPOLI G31.json',\n",
       " 'SerieA_22-23_tracking/31/MILAN-LECCE G31.json',\n",
       " 'SerieA_22-23_tracking/31/LAZIO-TORINO G31.json',\n",
       " 'SerieA_22-23_tracking/31/MONZA-FIORENTINA G31.json',\n",
       " 'SerieA_22-23_tracking/31/SAMPDORIA-SPEZIA CALCIO G31.json',\n",
       " 'SerieA_22-23_tracking/30/US CREMONESE-EMPOLI G30.json',\n",
       " 'SerieA_22-23_tracking/30/ROMA-UDINESE G30.json',\n",
       " 'SerieA_22-23_tracking/30/INTER-MONZA G30.json',\n",
       " 'SerieA_22-23_tracking/30/LECCE-SAMPDORIA G30.json',\n",
       " 'SerieA_22-23_tracking/30/SPEZIA CALCIO-LAZIO G30.json',\n",
       " 'SerieA_22-23_tracking/30/FIORENTINA-ATALANTA G30.json',\n",
       " 'SerieA_22-23_tracking/30/NAPOLI-HELLAS VERONA G30.json',\n",
       " 'SerieA_22-23_tracking/30/SASSUOLO-JUVENTUS G30.json',\n",
       " 'SerieA_22-23_tracking/30/TORINO-SALERNITANA G30.json',\n",
       " 'SerieA_22-23_tracking/30/BOLOGNA-MILAN G30.json',\n",
       " 'SerieA_22-23_tracking/37/MONZA-LECCE G37.json',\n",
       " 'SerieA_22-23_tracking/37/SALERNITANA-UDINESE G37.json',\n",
       " 'SerieA_22-23_tracking/37/HELLAS VERONA-EMPOLI G37.json',\n",
       " 'SerieA_22-23_tracking/37/SPEZIA CALCIO-TORINO G37.json',\n",
       " 'SerieA_22-23_tracking/37/SAMPDORIA-SASSUOLO G37.json',\n",
       " 'SerieA_22-23_tracking/37/BOLOGNA-NAPOLI G37.json',\n",
       " 'SerieA_22-23_tracking/37/JUVENTUS-MILAN G37.json',\n",
       " 'SerieA_22-23_tracking/37/LAZIO-US CREMONESE G37.json',\n",
       " 'SerieA_22-23_tracking/37/INTER-ATALANTA G37.json',\n",
       " 'SerieA_22-23_tracking/37/FIORENTINA-ROMA G37.json',\n",
       " 'SerieA_22-23_tracking/24/HELLAS VERONA-FIORENTINA G24.json',\n",
       " 'SerieA_22-23_tracking/24/MILAN-ATALANTA G24.json',\n",
       " 'SerieA_22-23_tracking/24/LECCE-SASSUOLO G24.json',\n",
       " 'SerieA_22-23_tracking/24/EMPOLI-NAPOLI G24.json',\n",
       " 'SerieA_22-23_tracking/24/LAZIO-SAMPDORIA G24.json',\n",
       " 'SerieA_22-23_tracking/24/UDINESE-SPEZIA CALCIO G24.json',\n",
       " 'SerieA_22-23_tracking/24/US CREMONESE-ROMA G24.json',\n",
       " 'SerieA_22-23_tracking/24/SALERNITANA-MONZA G24.json',\n",
       " 'SerieA_22-23_tracking/24/BOLOGNA-INTER G24.json',\n",
       " 'SerieA_22-23_tracking/24/JUVENTUS-TORINO G24.json',\n",
       " 'SerieA_22-23_tracking/23/SASSUOLO-NAPOLI G23.json',\n",
       " 'SerieA_22-23_tracking/23/MONZA-MILAN G23.json',\n",
       " 'SerieA_22-23_tracking/23/ROMA-HELLAS VERONA G23.json',\n",
       " 'SerieA_22-23_tracking/23/SAMPDORIA-BOLOGNA G23.json',\n",
       " 'SerieA_22-23_tracking/23/SPEZIA CALCIO-JUVENTUS G23.json',\n",
       " 'SerieA_22-23_tracking/23/FIORENTINA-EMPOLI G23.json',\n",
       " 'SerieA_22-23_tracking/23/ATALANTA-LECCE G23.json',\n",
       " 'SerieA_22-23_tracking/23/INTER-UDINESE G23.json',\n",
       " 'SerieA_22-23_tracking/23/TORINO-US CREMONESE G23.json',\n",
       " 'SerieA_22-23_tracking/23/SALERNITANA-LAZIO G23.json',\n",
       " 'SerieA_22-23_tracking/4/EMPOLI-HELLAS VERONA G4.json',\n",
       " 'SerieA_22-23_tracking/4/UDINESE-FIORENTINA G4.json',\n",
       " 'SerieA_22-23_tracking/4/SAMPDORIA-LAZIO G4.json',\n",
       " 'SerieA_22-23_tracking/4/INTER-US CREMONESE G4.json',\n",
       " 'SerieA_22-23_tracking/4/NAPOLI-LECCE G4.json',\n",
       " 'SerieA_22-23_tracking/4/ROMA-MONZA G4.json',\n",
       " 'SerieA_22-23_tracking/4/BOLOGNA-SALERNITANA G4.json',\n",
       " 'SerieA_22-23_tracking/4/ATALANTA-TORINO G4.json',\n",
       " 'SerieA_22-23_tracking/4/JUVENTUS-SPEZIA CALCIO G4.json',\n",
       " 'SerieA_22-23_tracking/4/SASSUOLO-MILAN G4.json',\n",
       " 'SerieA_22-23_tracking/15/SAMPDORIA-LECCE G15.json',\n",
       " 'SerieA_22-23_tracking/15/JUVENTUS-LAZIO G15.json',\n",
       " 'SerieA_22-23_tracking/15/NAPOLI-UDINESE G15.json',\n",
       " 'SerieA_22-23_tracking/15/MILAN-FIORENTINA G15.json',\n",
       " 'SerieA_22-23_tracking/15/ATALANTA-INTER G15.json',\n",
       " 'SerieA_22-23_tracking/15/ROMA-TORINO G15.json',\n",
       " 'SerieA_22-23_tracking/15/BOLOGNA-SASSUOLO G15.json',\n",
       " 'SerieA_22-23_tracking/15/HELLAS VERONA-SPEZIA CALCIO G15.json',\n",
       " 'SerieA_22-23_tracking/15/MONZA-SALERNITANA G15.json',\n",
       " 'SerieA_22-23_tracking/15/EMPOLI-US CREMONESE G15.json',\n",
       " 'SerieA_22-23_tracking/3/MILAN-BOLOGNA G3.json',\n",
       " 'SerieA_22-23_tracking/3/FIORENTINA-NAPOLI G3.json',\n",
       " 'SerieA_22-23_tracking/3/HELLAS VERONA-ATALANTA G3.json',\n",
       " 'SerieA_22-23_tracking/3/SPEZIA CALCIO-SASSUOLO G3.json',\n",
       " 'SerieA_22-23_tracking/3/JUVENTUS-ROMA G3.json',\n",
       " 'SerieA_22-23_tracking/3/SALERNITANA-SAMPDORIA G3.json',\n",
       " 'SerieA_22-23_tracking/3/US CREMONESE-TORINO G3.json',\n",
       " 'SerieA_22-23_tracking/3/LECCE-EMPOLI G3.json',\n",
       " 'SerieA_22-23_tracking/3/MONZA-UDINESE G3.json',\n",
       " 'SerieA_22-23_tracking/3/LAZIO-INTER G3.json',\n",
       " 'SerieA_22-23_tracking/12/SPEZIA CALCIO-FIORENTINA G12.json',\n",
       " 'SerieA_22-23_tracking/12/EMPOLI-ATALANTA G12.json',\n",
       " 'SerieA_22-23_tracking/12/HELLAS VERONA-ROMA G12.json',\n",
       " 'SerieA_22-23_tracking/12/LECCE-JUVENTUS G12.json',\n",
       " 'SerieA_22-23_tracking/12/MONZA-BOLOGNA G12.json',\n",
       " 'SerieA_22-23_tracking/12/US CREMONESE-UDINESE G12.json',\n",
       " 'SerieA_22-23_tracking/12/NAPOLI-SASSUOLO G12.json',\n",
       " 'SerieA_22-23_tracking/12/INTER-SAMPDORIA G12.json',\n",
       " 'SerieA_22-23_tracking/12/TORINO-MILAN G12.json',\n",
       " 'SerieA_22-23_tracking/12/LAZIO-SALERNITANA G12.json',\n",
       " 'SerieA_22-23_tracking/2/ROMA-US CREMONESE G2.json',\n",
       " 'SerieA_22-23_tracking/2/EMPOLI-FIORENTINA G2.json',\n",
       " 'SerieA_22-23_tracking/2/SAMPDORIA-JUVENTUS G2.json',\n",
       " 'SerieA_22-23_tracking/2/BOLOGNA-HELLAS VERONA G2.json',\n",
       " 'SerieA_22-23_tracking/2/TORINO-LAZIO G2.json',\n",
       " 'SerieA_22-23_tracking/2/NAPOLI-MONZA G2.json',\n",
       " 'SerieA_22-23_tracking/2/ATALANTA-MILAN G2.json',\n",
       " 'SerieA_22-23_tracking/2/UDINESE-SALERNITANA G2.json',\n",
       " 'SerieA_22-23_tracking/2/SASSUOLO-LECCE G2.json',\n",
       " 'SerieA_22-23_tracking/2/INTER-SPEZIA CALCIO G2.json',\n",
       " 'SerieA_22-23_tracking/13/ROMA-LAZIO G13.json',\n",
       " 'SerieA_22-23_tracking/13/SALERNITANA-US CREMONESE G13.json',\n",
       " 'SerieA_22-23_tracking/13/EMPOLI-SASSUOLO G13.json',\n",
       " 'SerieA_22-23_tracking/13/SAMPDORIA-FIORENTINA G13.json',\n",
       " 'SerieA_22-23_tracking/13/MILAN-SPEZIA CALCIO G13.json',\n",
       " 'SerieA_22-23_tracking/13/MONZA-HELLAS VERONA G13.json',\n",
       " 'SerieA_22-23_tracking/13/BOLOGNA-TORINO G13.json',\n",
       " 'SerieA_22-23_tracking/13/UDINESE-LECCE G13.json',\n",
       " 'SerieA_22-23_tracking/13/JUVENTUS-INTER G13.json',\n",
       " 'SerieA_22-23_tracking/13/ATALANTA-NAPOLI G13.json',\n",
       " 'SerieA_22-23_tracking/5/HELLAS VERONA-SAMPDORIA G5.json',\n",
       " 'SerieA_22-23_tracking/5/UDINESE-ROMA G5.json',\n",
       " 'SerieA_22-23_tracking/5/MILAN-INTER G5.json',\n",
       " 'SerieA_22-23_tracking/5/MONZA-ATALANTA G5.json',\n",
       " 'SerieA_22-23_tracking/5/US CREMONESE-SASSUOLO G5.json',\n",
       " 'SerieA_22-23_tracking/5/FIORENTINA-JUVENTUS G5.json',\n",
       " 'SerieA_22-23_tracking/5/SALERNITANA-EMPOLI G5.json',\n",
       " 'SerieA_22-23_tracking/5/TORINO-LECCE G5.json',\n",
       " 'SerieA_22-23_tracking/5/LAZIO-NAPOLI G5.json',\n",
       " 'SerieA_22-23_tracking/5/SPEZIA CALCIO-BOLOGNA G5.json',\n",
       " 'SerieA_22-23_tracking/14/SPEZIA CALCIO-UDINESE G14.json',\n",
       " 'SerieA_22-23_tracking/14/SASSUOLO-ROMA G14.json',\n",
       " 'SerieA_22-23_tracking/14/LAZIO-MONZA G14.json',\n",
       " 'SerieA_22-23_tracking/14/LECCE-ATALANTA G14.json',\n",
       " 'SerieA_22-23_tracking/14/US CREMONESE-MILAN G14.json',\n",
       " 'SerieA_22-23_tracking/14/TORINO-SAMPDORIA G14.json',\n",
       " 'SerieA_22-23_tracking/14/FIORENTINA-SALERNITANA G14.json',\n",
       " 'SerieA_22-23_tracking/14/HELLAS VERONA-JUVENTUS G14.json',\n",
       " 'SerieA_22-23_tracking/14/INTER-BOLOGNA G14.json',\n",
       " 'SerieA_22-23_tracking/14/NAPOLI-EMPOLI G14.json',\n",
       " 'SerieA_22-23_tracking/22/SAMPDORIA-INTER G22.json',\n",
       " 'SerieA_22-23_tracking/22/LAZIO-ATALANTA G22.json',\n",
       " 'SerieA_22-23_tracking/22/UDINESE-SASSUOLO G22.json',\n",
       " 'SerieA_22-23_tracking/22/HELLAS VERONA-SALERNITANA G22.json',\n",
       " 'SerieA_22-23_tracking/22/MILAN-TORINO G22.json',\n",
       " 'SerieA_22-23_tracking/22/NAPOLI-US CREMONESE G22.json',\n",
       " 'SerieA_22-23_tracking/22/BOLOGNA-MONZA G22.json',\n",
       " 'SerieA_22-23_tracking/22/EMPOLI-SPEZIA CALCIO G22.json',\n",
       " 'SerieA_22-23_tracking/22/JUVENTUS-FIORENTINA G22.json',\n",
       " 'SerieA_22-23_tracking/22/LECCE-ROMA G22.json',\n",
       " 'SerieA_22-23_tracking/25/SAMPDORIA-SALERNITANA G25.json',\n",
       " 'SerieA_22-23_tracking/25/MONZA-EMPOLI G25.json',\n",
       " 'SerieA_22-23_tracking/25/SASSUOLO-US CREMONESE G25.json',\n",
       " 'SerieA_22-23_tracking/25/TORINO-BOLOGNA G25.json',\n",
       " 'SerieA_22-23_tracking/25/INTER-LECCE G25.json',\n",
       " 'SerieA_22-23_tracking/25/ATALANTA-UDINESE G25.json',\n",
       " 'SerieA_22-23_tracking/25/NAPOLI-LAZIO G25.json',\n",
       " 'SerieA_22-23_tracking/25/FIORENTINA-MILAN G25.json',\n",
       " 'SerieA_22-23_tracking/25/SPEZIA CALCIO-HELLAS VERONA G25.json',\n",
       " 'SerieA_22-23_tracking/25/ROMA-JUVENTUS G25.json']"
      ]
     },
     "execution_count": 17,
     "metadata": {},
     "output_type": "execute_result"
    }
   ],
   "source": [
    "anagrafica"
   ]
  },
  {
   "cell_type": "code",
   "execution_count": 11,
   "metadata": {},
   "outputs": [],
   "source": [
    "filename_tracking = tracking[0]\n",
    "tracks = []\n",
    "with open(filename_tracking, \"r\") as file_t:\n",
    "    for line in file_t:\n",
    "        tracks.append(json.loads(line))\n",
    "\n",
    "filename_anagrafica = anagrafica[0]\n",
    "with open(filename_anagrafica, \"r\") as file:\n",
    "    fileData_anagr  = file.read()\n",
    "    anagrafica = json.loads(fileData_anagr)\n",
    "\n",
    "\n",
    "def mapSingleTimeFrame(row):\n",
    "\n",
    "    tracked_row = list(map(lambda d : [d['track_id'],d['x'],d['y'],d['is_visible'],row['period'],\n",
    "                                       row['timestamp'],row['frame'],row['possession'][\"group\"],\n",
    "                                       row['possession'][\"trackable_object\"]], row['data']))\n",
    "\n",
    "    return tracked_row\n",
    "\n",
    "tracked_rows = list(map(lambda row: mapSingleTimeFrame(row), list(filter(lambda d : d['data'] != [], tracks))))\n",
    "flatted_tracked_rows = list(itertools.chain.from_iterable(tracked_rows))\n",
    "\n",
    "home_team_list = [anagrafica['home_team']['id'],anagrafica['home_team']['name']]\n",
    "away_team_list = [anagrafica['away_team']['id'],anagrafica['away_team']['name']]\n",
    "\n",
    "anagrafica_team = [home_team_list, away_team_list]\n",
    "\n",
    "anagrafica_giocatori = list(map(lambda d : [d['team_id'],d['team_player_id'],d['short_name'],d['player_role']['name'],d['trackable_object']], anagrafica['players']))\n",
    "anagrafica_giocatori_completa = list(map(lambda d : list(d)+[list(filter(lambda c : c[0] == d[0],anagrafica_team))[0][1]], anagrafica_giocatori))\n",
    "\n",
    "\n",
    "def timehistory_per_player(anagrafica_row):\n",
    "\n",
    "    ## TROVA IL PLAYER ID ##\n",
    "    trackable_object = anagrafica_row[-2]\n",
    "    tracks = list(filter(lambda c : c[0] == trackable_object, flatted_tracked_rows))\n",
    "    tracks_out = list(map(lambda c : list(c[1:])+anagrafica_row, tracks))\n",
    "\n",
    "    return tracks_out\n",
    "    \n",
    "players_timehistory = list(map(lambda d : timehistory_per_player(d), anagrafica_giocatori_completa))\n",
    "\n",
    "players_timehistory_f = list(filter(lambda c : len(c) > 0, players_timehistory))\n",
    "\n",
    "flatten_players_timehistory_f = list(itertools.chain.from_iterable(players_timehistory_f))\n",
    "\n",
    "def isVisibleToNumeric(is_visible_boolean):\n",
    "    \n",
    "    if is_visible_boolean == False:\n",
    "        new_visible_value = 0.0\n",
    "    else:\n",
    "        new_visible_value = 1.0\n",
    "\n",
    "    return new_visible_value\n",
    "    \n",
    "    \n",
    "def addVisibleValue(timehistory):\n",
    "    return list(map(lambda row: row[:is_visible_index]+ [isVisibleToNumeric(row[is_visible_index])] + row[1+is_visible_index:], timehistory))\n",
    "\n",
    "\n",
    "def reduceFrequencyTo2Hz(frame):\n",
    "\n",
    "    x = float(frame)/10.0\n",
    "    \n",
    "    if float(x) - int(x) > 0.25 and float(x) - int(x) < 0.75:\n",
    "        time_rounded = float(np.round(int(x)+0.5,1))\n",
    "    elif float(x) - int(x) < 0.25:\n",
    "        time_rounded =  float(np.round(int(x),0))\n",
    "    elif float(x) - int(x) > 0.75:\n",
    "        time_rounded =  float(np.round(int(x)+1,0))\n",
    "\n",
    "    return time_rounded\n",
    "\n",
    "pd_tracks = pd.DataFrame(flatten_players_timehistory_f, columns = ['x','y','is_visible','period','timestamp','frame','possess_group','possess_trackable_object','team_id','player_id','player_name','ruolo','track_id','team_name'])\n",
    "pd_tracks['is_visible_value'] = pd_tracks.apply(lambda row: isVisibleToNumeric(row.is_visible), axis = 1)\n",
    "pd_tracks['frame_2hz'] = pd_tracks.apply(lambda row: reduceFrequencyTo2Hz(row.frame), axis = 1)\n",
    "\n",
    "sampled_tracking_data = pd_tracks[['track_id','frame_2hz','period', 'x','y','team_name','player_name','ruolo','possess_group']].groupby(by = ['track_id','frame_2hz','period','team_name','player_name','ruolo','possess_group'], as_index=False).mean()\n",
    "\n",
    "ball_tracks = list(filter(lambda c : c[0] == 55, flatted_tracked_rows))\n",
    "ball_tracks = pd.DataFrame(ball_tracks, columns = ['track_id','x','y','is_visible','period','timestamp','frame','possess_group','possess_trackable_object'])\n",
    "ball_tracks['frame_2hz'] = ball_tracks.apply(lambda row: reduceFrequencyTo2Hz(row.frame), axis = 1)\n",
    "sampled_ball_data = ball_tracks[['track_id','frame_2hz','x','y','possess_group']].groupby(by = ['track_id','frame_2hz','possess_group'], as_index=False).mean()\n",
    "\n",
    "tracking_data = pd.merge(sampled_tracking_data, sampled_ball_data[['frame_2hz', 'x', 'y']], on = ['frame_2hz'], how = 'left')\n",
    "tracking_data.columns = ['track_id', 'frame_2hz', 'period', 'team_name', 'player_name', 'ruolo', 'possess_group', 'x', 'y', 'x_ball', 'y_ball']\n",
    "\n",
    "\n",
    "# Determina il lato di attacco basato sul periodo e se il team_name corrisponde al team di casa\n",
    "def determine_attack_side(row):\n",
    "    if row['team_name'] == anagrafica['home_team']['name']:\n",
    "        # La squadra del giocatore è la squadra di casa\n",
    "        return anagrafica['home_team_side'][0] if row['period'] == 1 else anagrafica['home_team_side'][1]\n",
    "    else:\n",
    "        # La squadra del giocatore è la squadra in trasferta, quindi l'attacco è invertito\n",
    "        return anagrafica['home_team_side'][1] if row['period'] == 1 else anagrafica['home_team_side'][0]\n",
    "\n",
    "tracking_data['attack_side'] = tracking_data.apply(determine_attack_side, axis=1)\n",
    "\n",
    "# Funzione per calcolare la distanza euclidea\n",
    "def calc_distance(x1, y1, x2, y2):\n",
    "    return np.sqrt((x2 - x1) ** 2 + (y2 - y1) ** 2)\n",
    "\n",
    "# Filtriamo i portieri\n",
    "tracking_data = tracking_data[tracking_data['ruolo'] != 'Goalkeeper']\n",
    "\n",
    "# Identifica chi sono i difensori in base alla direzione di attacco e alla posizione della palla\n",
    "def is_defender(row, home_team, away_team):\n",
    "    if row['possess_group'] == 'home team':\n",
    "        defending_team = away_team\n",
    "    else:\n",
    "        defending_team = home_team\n",
    "\n",
    "    if row['team_name'] == defending_team:\n",
    "        if row['attack_side'] == 'left_to_right':\n",
    "            return row['x'] <= row['x_ball']\n",
    "        else:\n",
    "            return row['x'] >= row['x_ball']\n",
    "    return False\n",
    "\n",
    "\n",
    "home_team = anagrafica['home_team']['name']\n",
    "away_team = anagrafica['away_team']['name']\n",
    "tracking_data['is_defender'] = tracking_data.apply(is_defender, args=(home_team, away_team), axis=1)\n",
    "\n",
    "# Funzione per calcolare il difensore più vicino per ogni frame\n",
    "def analyze_frame(frame_data):\n",
    "    defenders = frame_data[frame_data['is_defender']]\n",
    "    attackers = frame_data[~frame_data['is_defender']]\n",
    "    \n",
    "    results = []\n",
    "    for _, defender in defenders.iterrows():\n",
    "        min_distance = np.inf\n",
    "        closest_attacker = None\n",
    "        for _, attacker in attackers.iterrows():\n",
    "            distance = calc_distance(defender['x'], defender['y'], attacker['x'], attacker['y'])\n",
    "            if distance < min_distance:\n",
    "                min_distance = distance\n",
    "                closest_attacker = attacker['player_name']\n",
    "        \n",
    "        results.append({\n",
    "            'frame': defender['frame_2hz'],\n",
    "            'defender': defender['player_name'],\n",
    "            'closest_attacker': closest_attacker,\n",
    "            'min_distance': min_distance,\n",
    "            'possession_group': defender['possess_group']\n",
    "        })\n",
    "    return results\n",
    "\n",
    "# Applichiamo la funzione ad ogni frame\n",
    "frame_results = []\n",
    "grouped_frames = tracking_data.groupby('frame_2hz')\n",
    "for frame, frame_data in grouped_frames:\n",
    "    frame_results.extend(analyze_frame(frame_data))\n",
    "\n",
    "# Creiamo un DataFrame con i risultati\n",
    "results_df = pd.DataFrame(frame_results)\n",
    "\n",
    "results_df = results_df[results_df['defender'] != results_df['closest_attacker']]\n",
    "\n",
    "results_df['possession_change'] = (results_df['possession_group'] != results_df['possession_group'].shift(1)).astype(int)\n",
    "\n",
    "results_df['possession_id'] = results_df['possession_change'].cumsum()\n",
    "\n",
    "possession_durations = results_df.groupby('possession_id').agg(\n",
    "    start_frame=('frame', 'min'),\n",
    "    end_frame=('frame', 'max')\n",
    ").reset_index()\n",
    "possession_durations['duration'] = (possession_durations['end_frame'] - possession_durations['start_frame'])\n",
    "\n",
    "# Filtra per mantenere solo i gruppi di possesso che durano almeno 5 secondi\n",
    "valid_possessions = possession_durations[possession_durations['duration'] >= 5]['possession_id']\n",
    "\n",
    "# Utilizza solo i dati dei gruppi di possesso validi\n",
    "valid_groups = results_df[results_df['possession_id'].isin(valid_possessions)]\n",
    "\n",
    "# Aggiunta del tracking dei cambi di marcatura\n",
    "valid_groups['change_in_marking'] = valid_groups.groupby(['defender', 'possession_id'])['closest_attacker'].shift() != valid_groups['closest_attacker']\n",
    "changes_per_defender = valid_groups.groupby(['defender', 'possession_id'])['change_in_marking'].sum().groupby('defender').mean()\n",
    "\n",
    "# Calcolo della distanza media\n",
    "mean_distances = valid_groups.groupby('defender')['min_distance'].mean()\n",
    "# Calcola la distanza media per ogni attaccante e ogni possesso\n",
    "attacker_distances = valid_groups.groupby(['possession_id', 'closest_attacker'])['min_distance'].mean().reset_index()\n",
    "\n",
    "# Trova l'attaccante più e meno marcato globalmente\n",
    "# Calcola prima la distanza media generale per ogni attaccante attraverso tutti i possedimenti\n",
    "overall_distances = attacker_distances.groupby('closest_attacker')['min_distance'].mean()\n",
    "\n",
    "most_marked_attacker = overall_distances.idxmin()\n",
    "least_marked_attacker = overall_distances.idxmax()\n",
    "\n",
    "# Recupera la distanza media per il più e meno marcato\n",
    "most_marked_attacker_distance = overall_distances.min()\n",
    "least_marked_attacker_distance = overall_distances.max()"
   ]
  },
  {
   "cell_type": "code",
   "execution_count": null,
   "metadata": {},
   "outputs": [],
   "source": []
  },
  {
   "cell_type": "code",
   "execution_count": 13,
   "metadata": {},
   "outputs": [
    {
     "name": "stdout",
     "output_type": "stream",
     "text": [
      "Media dei cambi di marcatura per difensore:\n",
      " defender\n",
      "A. Belotti         5.708333\n",
      "A. Saelemaekers    2.272727\n",
      "B. Cristante       4.315789\n",
      "Brahim Diaz        3.250000\n",
      "C. De Ketelaere    2.823529\n",
      "D. Calabria        2.971014\n",
      "D. Origi           2.750000\n",
      "E. Bove            5.000000\n",
      "F. Tomori          3.250000\n",
      "G. Mancini         4.519481\n",
      "I. Bennacer        2.977273\n",
      "Ibañez             4.285714\n",
      "L. Pellegrini      4.797297\n",
      "L. Spinazzola      4.081081\n",
      "M. Camara          6.000000\n",
      "M. Kumbulla        2.555556\n",
      "M. Thiaw           2.729730\n",
      "N. Matić           4.657895\n",
      "O. Giroud          2.225000\n",
      "O. Solbakken       4.500000\n",
      "P. Kalulu          3.166667\n",
      "R. Krunić          3.161765\n",
      "Rafael Leão        1.921569\n",
      "S. El Shaarawy     3.909091\n",
      "S. Kjær            3.039216\n",
      "S. Tonali          3.373134\n",
      "T. Abraham         3.683333\n",
      "T. Hernández       3.223881\n",
      "Z. Çelik           3.447368\n",
      "Name: change_in_marking, dtype: float64\n",
      "Distanza media per difensore:\n",
      " defender\n",
      "A. Belotti         6.745711\n",
      "A. Saelemaekers    5.316442\n",
      "B. Cristante       5.716859\n",
      "Brahim Diaz        5.745647\n",
      "C. De Ketelaere    4.235481\n",
      "D. Calabria        7.067504\n",
      "D. Origi           4.423013\n",
      "E. Bove            7.032091\n",
      "F. Tomori          5.229297\n",
      "G. Mancini         6.705551\n",
      "I. Bennacer        5.038401\n",
      "Ibañez             6.343293\n",
      "L. Pellegrini      5.469916\n",
      "L. Spinazzola      7.613361\n",
      "M. Camara          6.648499\n",
      "M. Kumbulla        4.414503\n",
      "M. Thiaw           7.105256\n",
      "N. Matić           5.600750\n",
      "O. Giroud          4.932606\n",
      "O. Solbakken       4.126119\n",
      "P. Kalulu          7.548473\n",
      "R. Krunić          4.815565\n",
      "Rafael Leão        5.193376\n",
      "S. El Shaarawy     6.962773\n",
      "S. Kjær            5.337162\n",
      "S. Tonali          5.441707\n",
      "T. Abraham         5.443154\n",
      "T. Hernández       7.886196\n",
      "Z. Çelik           7.031868\n",
      "Name: min_distance, dtype: float64\n",
      "Attaccante più marcato globalmente: G. Mancini, Distanza media: 4.80\n",
      "Attaccante con più libertà globalmente: D. Calabria, Distanza media: 7.93\n"
     ]
    },
    {
     "name": "stderr",
     "output_type": "stream",
     "text": [
      "/var/folders/n2/9_7g8plj0bl7kt3pzlkmfdm80000gn/T/ipykernel_32292/1122480269.py:2: SettingWithCopyWarning: \n",
      "A value is trying to be set on a copy of a slice from a DataFrame.\n",
      "Try using .loc[row_indexer,col_indexer] = value instead\n",
      "\n",
      "See the caveats in the documentation: https://pandas.pydata.org/pandas-docs/stable/user_guide/indexing.html#returning-a-view-versus-a-copy\n",
      "  valid_groups['change_in_marking'] = valid_groups.groupby(['defender', 'possession_id'])['closest_attacker'].shift() != valid_groups['closest_attacker']\n"
     ]
    }
   ],
   "source": [
    "# Aggiunta del tracking dei cambi di marcatura\n",
    "valid_groups['change_in_marking'] = valid_groups.groupby(['defender', 'possession_id'])['closest_attacker'].shift() != valid_groups['closest_attacker']\n",
    "changes_per_defender = valid_groups.groupby(['defender', 'possession_id'])['change_in_marking'].sum().groupby('defender').mean()\n",
    "\n",
    "# Calcolo della distanza media\n",
    "mean_distances = valid_groups.groupby('defender')['min_distance'].mean()\n",
    "# Calcola la distanza media per ogni attaccante e ogni possesso\n",
    "attacker_distances = results_df.groupby(['possession_id', 'closest_attacker'])['min_distance'].mean().reset_index()\n",
    "\n",
    "# Trova l'attaccante più e meno marcato globalmente\n",
    "# Calcola prima la distanza media generale per ogni attaccante attraverso tutti i possedimenti\n",
    "overall_distances = attacker_distances.groupby('closest_attacker')['min_distance'].mean()\n",
    "\n",
    "most_marked_attacker = overall_distances.idxmin()\n",
    "least_marked_attacker = overall_distances.idxmax()\n",
    "\n",
    "# Recupera la distanza media per il più e meno marcato\n",
    "most_marked_attacker_distance = overall_distances.min()\n",
    "least_marked_attacker_distance = overall_distances.max()\n",
    "\n",
    "# Stampare i risultati generali\n",
    "print(\"Media dei cambi di marcatura per difensore:\\n\", changes_per_defender)\n",
    "print(\"Distanza media per difensore:\\n\", mean_distances)\n",
    "print(\"Attaccante più marcato globalmente: {}, Distanza media: {:.2f}\".format(most_marked_attacker, most_marked_attacker_distance))\n",
    "print(\"Attaccante con più libertà globalmente: {}, Distanza media: {:.2f}\".format(least_marked_attacker, least_marked_attacker_distance))"
   ]
  },
  {
   "cell_type": "code",
   "execution_count": null,
   "metadata": {},
   "outputs": [],
   "source": []
  },
  {
   "cell_type": "code",
   "execution_count": null,
   "metadata": {},
   "outputs": [],
   "source": []
  },
  {
   "cell_type": "code",
   "execution_count": 1,
   "metadata": {},
   "outputs": [
    {
     "name": "stdout",
     "output_type": "stream",
     "text": [
      "('SerieA_22-23_tracking/32/BOLOGNA-JUVENTUS G32_tracking.json', 'SerieA_22-23_tracking/32/BOLOGNA-JUVENTUS G32.json')\n"
     ]
    },
    {
     "name": "stderr",
     "output_type": "stream",
     "text": [
      "/var/folders/n2/9_7g8plj0bl7kt3pzlkmfdm80000gn/T/ipykernel_32508/2964926902.py:185: SettingWithCopyWarning: \n",
      "A value is trying to be set on a copy of a slice from a DataFrame.\n",
      "Try using .loc[row_indexer,col_indexer] = value instead\n",
      "\n",
      "See the caveats in the documentation: https://pandas.pydata.org/pandas-docs/stable/user_guide/indexing.html#returning-a-view-versus-a-copy\n",
      "  valid_groups['change_in_marking'] = valid_groups.groupby(['defender', 'possession_id'])['closest_attacker'].shift() != valid_groups['closest_attacker']\n"
     ]
    },
    {
     "name": "stdout",
     "output_type": "stream",
     "text": [
      "('SerieA_22-23_tracking/32/FIORENTINA-SAMPDORIA G32_tracking.json', 'SerieA_22-23_tracking/32/FIORENTINA-SAMPDORIA G32.json')\n"
     ]
    },
    {
     "name": "stderr",
     "output_type": "stream",
     "text": [
      "/var/folders/n2/9_7g8plj0bl7kt3pzlkmfdm80000gn/T/ipykernel_32508/2964926902.py:185: SettingWithCopyWarning: \n",
      "A value is trying to be set on a copy of a slice from a DataFrame.\n",
      "Try using .loc[row_indexer,col_indexer] = value instead\n",
      "\n",
      "See the caveats in the documentation: https://pandas.pydata.org/pandas-docs/stable/user_guide/indexing.html#returning-a-view-versus-a-copy\n",
      "  valid_groups['change_in_marking'] = valid_groups.groupby(['defender', 'possession_id'])['closest_attacker'].shift() != valid_groups['closest_attacker']\n"
     ]
    },
    {
     "name": "stdout",
     "output_type": "stream",
     "text": [
      "('SerieA_22-23_tracking/32/INTER-LAZIO G32_tracking.json', 'SerieA_22-23_tracking/32/INTER-LAZIO G32.json')\n"
     ]
    },
    {
     "name": "stderr",
     "output_type": "stream",
     "text": [
      "/var/folders/n2/9_7g8plj0bl7kt3pzlkmfdm80000gn/T/ipykernel_32508/2964926902.py:185: SettingWithCopyWarning: \n",
      "A value is trying to be set on a copy of a slice from a DataFrame.\n",
      "Try using .loc[row_indexer,col_indexer] = value instead\n",
      "\n",
      "See the caveats in the documentation: https://pandas.pydata.org/pandas-docs/stable/user_guide/indexing.html#returning-a-view-versus-a-copy\n",
      "  valid_groups['change_in_marking'] = valid_groups.groupby(['defender', 'possession_id'])['closest_attacker'].shift() != valid_groups['closest_attacker']\n"
     ]
    },
    {
     "name": "stdout",
     "output_type": "stream",
     "text": [
      "('SerieA_22-23_tracking/32/LECCE-UDINESE G32_tracking.json', 'SerieA_22-23_tracking/32/LECCE-UDINESE G32.json')\n"
     ]
    },
    {
     "name": "stderr",
     "output_type": "stream",
     "text": [
      "/var/folders/n2/9_7g8plj0bl7kt3pzlkmfdm80000gn/T/ipykernel_32508/2964926902.py:185: SettingWithCopyWarning: \n",
      "A value is trying to be set on a copy of a slice from a DataFrame.\n",
      "Try using .loc[row_indexer,col_indexer] = value instead\n",
      "\n",
      "See the caveats in the documentation: https://pandas.pydata.org/pandas-docs/stable/user_guide/indexing.html#returning-a-view-versus-a-copy\n",
      "  valid_groups['change_in_marking'] = valid_groups.groupby(['defender', 'possession_id'])['closest_attacker'].shift() != valid_groups['closest_attacker']\n"
     ]
    },
    {
     "name": "stdout",
     "output_type": "stream",
     "text": [
      "('SerieA_22-23_tracking/32/NAPOLI-SALERNITANA G32_tracking.json', 'SerieA_22-23_tracking/32/NAPOLI-SALERNITANA G32.json')\n"
     ]
    },
    {
     "name": "stderr",
     "output_type": "stream",
     "text": [
      "/var/folders/n2/9_7g8plj0bl7kt3pzlkmfdm80000gn/T/ipykernel_32508/2964926902.py:185: SettingWithCopyWarning: \n",
      "A value is trying to be set on a copy of a slice from a DataFrame.\n",
      "Try using .loc[row_indexer,col_indexer] = value instead\n",
      "\n",
      "See the caveats in the documentation: https://pandas.pydata.org/pandas-docs/stable/user_guide/indexing.html#returning-a-view-versus-a-copy\n",
      "  valid_groups['change_in_marking'] = valid_groups.groupby(['defender', 'possession_id'])['closest_attacker'].shift() != valid_groups['closest_attacker']\n"
     ]
    },
    {
     "name": "stdout",
     "output_type": "stream",
     "text": [
      "('SerieA_22-23_tracking/32/ROMA-MILAN G32_tracking.json', 'SerieA_22-23_tracking/32/ROMA-MILAN G32.json')\n"
     ]
    },
    {
     "name": "stderr",
     "output_type": "stream",
     "text": [
      "/var/folders/n2/9_7g8plj0bl7kt3pzlkmfdm80000gn/T/ipykernel_32508/2964926902.py:185: SettingWithCopyWarning: \n",
      "A value is trying to be set on a copy of a slice from a DataFrame.\n",
      "Try using .loc[row_indexer,col_indexer] = value instead\n",
      "\n",
      "See the caveats in the documentation: https://pandas.pydata.org/pandas-docs/stable/user_guide/indexing.html#returning-a-view-versus-a-copy\n",
      "  valid_groups['change_in_marking'] = valid_groups.groupby(['defender', 'possession_id'])['closest_attacker'].shift() != valid_groups['closest_attacker']\n"
     ]
    },
    {
     "name": "stdout",
     "output_type": "stream",
     "text": [
      "('SerieA_22-23_tracking/32/SASSUOLO-EMPOLI G32_tracking.json', 'SerieA_22-23_tracking/32/SASSUOLO-EMPOLI G32.json')\n"
     ]
    },
    {
     "name": "stderr",
     "output_type": "stream",
     "text": [
      "/var/folders/n2/9_7g8plj0bl7kt3pzlkmfdm80000gn/T/ipykernel_32508/2964926902.py:185: SettingWithCopyWarning: \n",
      "A value is trying to be set on a copy of a slice from a DataFrame.\n",
      "Try using .loc[row_indexer,col_indexer] = value instead\n",
      "\n",
      "See the caveats in the documentation: https://pandas.pydata.org/pandas-docs/stable/user_guide/indexing.html#returning-a-view-versus-a-copy\n",
      "  valid_groups['change_in_marking'] = valid_groups.groupby(['defender', 'possession_id'])['closest_attacker'].shift() != valid_groups['closest_attacker']\n"
     ]
    },
    {
     "name": "stdout",
     "output_type": "stream",
     "text": [
      "('SerieA_22-23_tracking/32/SPEZIA CALCIO-MONZA G32_tracking.json', 'SerieA_22-23_tracking/32/SPEZIA CALCIO-MONZA G32.json')\n"
     ]
    },
    {
     "name": "stderr",
     "output_type": "stream",
     "text": [
      "/var/folders/n2/9_7g8plj0bl7kt3pzlkmfdm80000gn/T/ipykernel_32508/2964926902.py:185: SettingWithCopyWarning: \n",
      "A value is trying to be set on a copy of a slice from a DataFrame.\n",
      "Try using .loc[row_indexer,col_indexer] = value instead\n",
      "\n",
      "See the caveats in the documentation: https://pandas.pydata.org/pandas-docs/stable/user_guide/indexing.html#returning-a-view-versus-a-copy\n",
      "  valid_groups['change_in_marking'] = valid_groups.groupby(['defender', 'possession_id'])['closest_attacker'].shift() != valid_groups['closest_attacker']\n"
     ]
    },
    {
     "name": "stdout",
     "output_type": "stream",
     "text": [
      "('SerieA_22-23_tracking/32/TORINO-ATALANTA G32_tracking.json', 'SerieA_22-23_tracking/32/TORINO-ATALANTA G32.json')\n"
     ]
    },
    {
     "name": "stderr",
     "output_type": "stream",
     "text": [
      "/var/folders/n2/9_7g8plj0bl7kt3pzlkmfdm80000gn/T/ipykernel_32508/2964926902.py:185: SettingWithCopyWarning: \n",
      "A value is trying to be set on a copy of a slice from a DataFrame.\n",
      "Try using .loc[row_indexer,col_indexer] = value instead\n",
      "\n",
      "See the caveats in the documentation: https://pandas.pydata.org/pandas-docs/stable/user_guide/indexing.html#returning-a-view-versus-a-copy\n",
      "  valid_groups['change_in_marking'] = valid_groups.groupby(['defender', 'possession_id'])['closest_attacker'].shift() != valid_groups['closest_attacker']\n"
     ]
    },
    {
     "name": "stdout",
     "output_type": "stream",
     "text": [
      "('SerieA_22-23_tracking/32/US CREMONESE-HELLAS VERONA G32_tracking.json', 'SerieA_22-23_tracking/32/US CREMONESE-HELLAS VERONA G32.json')\n"
     ]
    },
    {
     "name": "stderr",
     "output_type": "stream",
     "text": [
      "/var/folders/n2/9_7g8plj0bl7kt3pzlkmfdm80000gn/T/ipykernel_32508/2964926902.py:185: SettingWithCopyWarning: \n",
      "A value is trying to be set on a copy of a slice from a DataFrame.\n",
      "Try using .loc[row_indexer,col_indexer] = value instead\n",
      "\n",
      "See the caveats in the documentation: https://pandas.pydata.org/pandas-docs/stable/user_guide/indexing.html#returning-a-view-versus-a-copy\n",
      "  valid_groups['change_in_marking'] = valid_groups.groupby(['defender', 'possession_id'])['closest_attacker'].shift() != valid_groups['closest_attacker']\n"
     ]
    },
    {
     "name": "stdout",
     "output_type": "stream",
     "text": [
      "('SerieA_22-23_tracking/35/BOLOGNA-ROMA G35_tracking.json', 'SerieA_22-23_tracking/35/BOLOGNA-ROMA G35.json')\n"
     ]
    },
    {
     "name": "stderr",
     "output_type": "stream",
     "text": [
      "/var/folders/n2/9_7g8plj0bl7kt3pzlkmfdm80000gn/T/ipykernel_32508/2964926902.py:185: SettingWithCopyWarning: \n",
      "A value is trying to be set on a copy of a slice from a DataFrame.\n",
      "Try using .loc[row_indexer,col_indexer] = value instead\n",
      "\n",
      "See the caveats in the documentation: https://pandas.pydata.org/pandas-docs/stable/user_guide/indexing.html#returning-a-view-versus-a-copy\n",
      "  valid_groups['change_in_marking'] = valid_groups.groupby(['defender', 'possession_id'])['closest_attacker'].shift() != valid_groups['closest_attacker']\n"
     ]
    },
    {
     "name": "stdout",
     "output_type": "stream",
     "text": [
      "('SerieA_22-23_tracking/35/FIORENTINA-UDINESE G35_tracking.json', 'SerieA_22-23_tracking/35/FIORENTINA-UDINESE G35.json')\n"
     ]
    },
    {
     "name": "stderr",
     "output_type": "stream",
     "text": [
      "/var/folders/n2/9_7g8plj0bl7kt3pzlkmfdm80000gn/T/ipykernel_32508/2964926902.py:185: SettingWithCopyWarning: \n",
      "A value is trying to be set on a copy of a slice from a DataFrame.\n",
      "Try using .loc[row_indexer,col_indexer] = value instead\n",
      "\n",
      "See the caveats in the documentation: https://pandas.pydata.org/pandas-docs/stable/user_guide/indexing.html#returning-a-view-versus-a-copy\n",
      "  valid_groups['change_in_marking'] = valid_groups.groupby(['defender', 'possession_id'])['closest_attacker'].shift() != valid_groups['closest_attacker']\n"
     ]
    },
    {
     "name": "stdout",
     "output_type": "stream",
     "text": [
      "('SerieA_22-23_tracking/35/HELLAS VERONA-TORINO G35_tracking.json', 'SerieA_22-23_tracking/35/HELLAS VERONA-TORINO G35.json')\n"
     ]
    },
    {
     "name": "stderr",
     "output_type": "stream",
     "text": [
      "/var/folders/n2/9_7g8plj0bl7kt3pzlkmfdm80000gn/T/ipykernel_32508/2964926902.py:185: SettingWithCopyWarning: \n",
      "A value is trying to be set on a copy of a slice from a DataFrame.\n",
      "Try using .loc[row_indexer,col_indexer] = value instead\n",
      "\n",
      "See the caveats in the documentation: https://pandas.pydata.org/pandas-docs/stable/user_guide/indexing.html#returning-a-view-versus-a-copy\n",
      "  valid_groups['change_in_marking'] = valid_groups.groupby(['defender', 'possession_id'])['closest_attacker'].shift() != valid_groups['closest_attacker']\n"
     ]
    },
    {
     "name": "stdout",
     "output_type": "stream",
     "text": [
      "('SerieA_22-23_tracking/35/INTER-SASSUOLO G35_tracking.json', 'SerieA_22-23_tracking/35/INTER-SASSUOLO G35.json')\n"
     ]
    },
    {
     "name": "stderr",
     "output_type": "stream",
     "text": [
      "/var/folders/n2/9_7g8plj0bl7kt3pzlkmfdm80000gn/T/ipykernel_32508/2964926902.py:185: SettingWithCopyWarning: \n",
      "A value is trying to be set on a copy of a slice from a DataFrame.\n",
      "Try using .loc[row_indexer,col_indexer] = value instead\n",
      "\n",
      "See the caveats in the documentation: https://pandas.pydata.org/pandas-docs/stable/user_guide/indexing.html#returning-a-view-versus-a-copy\n",
      "  valid_groups['change_in_marking'] = valid_groups.groupby(['defender', 'possession_id'])['closest_attacker'].shift() != valid_groups['closest_attacker']\n"
     ]
    },
    {
     "name": "stdout",
     "output_type": "stream",
     "text": [
      "('SerieA_22-23_tracking/35/JUVENTUS-US CREMONESE G35_tracking.json', 'SerieA_22-23_tracking/35/JUVENTUS-US CREMONESE G35.json')\n"
     ]
    },
    {
     "name": "stderr",
     "output_type": "stream",
     "text": [
      "/var/folders/n2/9_7g8plj0bl7kt3pzlkmfdm80000gn/T/ipykernel_32508/2964926902.py:185: SettingWithCopyWarning: \n",
      "A value is trying to be set on a copy of a slice from a DataFrame.\n",
      "Try using .loc[row_indexer,col_indexer] = value instead\n",
      "\n",
      "See the caveats in the documentation: https://pandas.pydata.org/pandas-docs/stable/user_guide/indexing.html#returning-a-view-versus-a-copy\n",
      "  valid_groups['change_in_marking'] = valid_groups.groupby(['defender', 'possession_id'])['closest_attacker'].shift() != valid_groups['closest_attacker']\n"
     ]
    },
    {
     "name": "stdout",
     "output_type": "stream",
     "text": [
      "('SerieA_22-23_tracking/35/LAZIO-LECCE G35_tracking.json', 'SerieA_22-23_tracking/35/LAZIO-LECCE G35.json')\n"
     ]
    },
    {
     "name": "stderr",
     "output_type": "stream",
     "text": [
      "/var/folders/n2/9_7g8plj0bl7kt3pzlkmfdm80000gn/T/ipykernel_32508/2964926902.py:185: SettingWithCopyWarning: \n",
      "A value is trying to be set on a copy of a slice from a DataFrame.\n",
      "Try using .loc[row_indexer,col_indexer] = value instead\n",
      "\n",
      "See the caveats in the documentation: https://pandas.pydata.org/pandas-docs/stable/user_guide/indexing.html#returning-a-view-versus-a-copy\n",
      "  valid_groups['change_in_marking'] = valid_groups.groupby(['defender', 'possession_id'])['closest_attacker'].shift() != valid_groups['closest_attacker']\n"
     ]
    },
    {
     "name": "stdout",
     "output_type": "stream",
     "text": [
      "('SerieA_22-23_tracking/35/MONZA-NAPOLI G35_tracking.json', 'SerieA_22-23_tracking/35/MONZA-NAPOLI G35.json')\n"
     ]
    },
    {
     "name": "stderr",
     "output_type": "stream",
     "text": [
      "/var/folders/n2/9_7g8plj0bl7kt3pzlkmfdm80000gn/T/ipykernel_32508/2964926902.py:185: SettingWithCopyWarning: \n",
      "A value is trying to be set on a copy of a slice from a DataFrame.\n",
      "Try using .loc[row_indexer,col_indexer] = value instead\n",
      "\n",
      "See the caveats in the documentation: https://pandas.pydata.org/pandas-docs/stable/user_guide/indexing.html#returning-a-view-versus-a-copy\n",
      "  valid_groups['change_in_marking'] = valid_groups.groupby(['defender', 'possession_id'])['closest_attacker'].shift() != valid_groups['closest_attacker']\n"
     ]
    },
    {
     "name": "stdout",
     "output_type": "stream",
     "text": [
      "('SerieA_22-23_tracking/35/SALERNITANA-ATALANTA G35_tracking.json', 'SerieA_22-23_tracking/35/SALERNITANA-ATALANTA G35.json')\n"
     ]
    },
    {
     "name": "stderr",
     "output_type": "stream",
     "text": [
      "/var/folders/n2/9_7g8plj0bl7kt3pzlkmfdm80000gn/T/ipykernel_32508/2964926902.py:185: SettingWithCopyWarning: \n",
      "A value is trying to be set on a copy of a slice from a DataFrame.\n",
      "Try using .loc[row_indexer,col_indexer] = value instead\n",
      "\n",
      "See the caveats in the documentation: https://pandas.pydata.org/pandas-docs/stable/user_guide/indexing.html#returning-a-view-versus-a-copy\n",
      "  valid_groups['change_in_marking'] = valid_groups.groupby(['defender', 'possession_id'])['closest_attacker'].shift() != valid_groups['closest_attacker']\n"
     ]
    },
    {
     "name": "stdout",
     "output_type": "stream",
     "text": [
      "('SerieA_22-23_tracking/35/SAMPDORIA-EMPOLI G35_tracking.json', 'SerieA_22-23_tracking/35/SAMPDORIA-EMPOLI G35.json')\n"
     ]
    },
    {
     "name": "stderr",
     "output_type": "stream",
     "text": [
      "/var/folders/n2/9_7g8plj0bl7kt3pzlkmfdm80000gn/T/ipykernel_32508/2964926902.py:185: SettingWithCopyWarning: \n",
      "A value is trying to be set on a copy of a slice from a DataFrame.\n",
      "Try using .loc[row_indexer,col_indexer] = value instead\n",
      "\n",
      "See the caveats in the documentation: https://pandas.pydata.org/pandas-docs/stable/user_guide/indexing.html#returning-a-view-versus-a-copy\n",
      "  valid_groups['change_in_marking'] = valid_groups.groupby(['defender', 'possession_id'])['closest_attacker'].shift() != valid_groups['closest_attacker']\n"
     ]
    },
    {
     "name": "stdout",
     "output_type": "stream",
     "text": [
      "('SerieA_22-23_tracking/35/SPEZIA CALCIO-MILAN G35_tracking.json', 'SerieA_22-23_tracking/35/SPEZIA CALCIO-MILAN G35.json')\n"
     ]
    },
    {
     "name": "stderr",
     "output_type": "stream",
     "text": [
      "/var/folders/n2/9_7g8plj0bl7kt3pzlkmfdm80000gn/T/ipykernel_32508/2964926902.py:185: SettingWithCopyWarning: \n",
      "A value is trying to be set on a copy of a slice from a DataFrame.\n",
      "Try using .loc[row_indexer,col_indexer] = value instead\n",
      "\n",
      "See the caveats in the documentation: https://pandas.pydata.org/pandas-docs/stable/user_guide/indexing.html#returning-a-view-versus-a-copy\n",
      "  valid_groups['change_in_marking'] = valid_groups.groupby(['defender', 'possession_id'])['closest_attacker'].shift() != valid_groups['closest_attacker']\n"
     ]
    },
    {
     "name": "stdout",
     "output_type": "stream",
     "text": [
      "('SerieA_22-23_tracking/34/ATALANTA-JUVENTUS G34_tracking.json', 'SerieA_22-23_tracking/34/ATALANTA-JUVENTUS G34.json')\n"
     ]
    },
    {
     "name": "stderr",
     "output_type": "stream",
     "text": [
      "/var/folders/n2/9_7g8plj0bl7kt3pzlkmfdm80000gn/T/ipykernel_32508/2964926902.py:185: SettingWithCopyWarning: \n",
      "A value is trying to be set on a copy of a slice from a DataFrame.\n",
      "Try using .loc[row_indexer,col_indexer] = value instead\n",
      "\n",
      "See the caveats in the documentation: https://pandas.pydata.org/pandas-docs/stable/user_guide/indexing.html#returning-a-view-versus-a-copy\n",
      "  valid_groups['change_in_marking'] = valid_groups.groupby(['defender', 'possession_id'])['closest_attacker'].shift() != valid_groups['closest_attacker']\n"
     ]
    },
    {
     "name": "stdout",
     "output_type": "stream",
     "text": [
      "('SerieA_22-23_tracking/34/EMPOLI-SALERNITANA G34_tracking.json', 'SerieA_22-23_tracking/34/EMPOLI-SALERNITANA G34.json')\n"
     ]
    },
    {
     "name": "stderr",
     "output_type": "stream",
     "text": [
      "/var/folders/n2/9_7g8plj0bl7kt3pzlkmfdm80000gn/T/ipykernel_32508/2964926902.py:185: SettingWithCopyWarning: \n",
      "A value is trying to be set on a copy of a slice from a DataFrame.\n",
      "Try using .loc[row_indexer,col_indexer] = value instead\n",
      "\n",
      "See the caveats in the documentation: https://pandas.pydata.org/pandas-docs/stable/user_guide/indexing.html#returning-a-view-versus-a-copy\n",
      "  valid_groups['change_in_marking'] = valid_groups.groupby(['defender', 'possession_id'])['closest_attacker'].shift() != valid_groups['closest_attacker']\n"
     ]
    },
    {
     "name": "stdout",
     "output_type": "stream",
     "text": [
      "('SerieA_22-23_tracking/34/LECCE-HELLAS VERONA G34_tracking.json', 'SerieA_22-23_tracking/34/LECCE-HELLAS VERONA G34.json')\n"
     ]
    },
    {
     "name": "stderr",
     "output_type": "stream",
     "text": [
      "/var/folders/n2/9_7g8plj0bl7kt3pzlkmfdm80000gn/T/ipykernel_32508/2964926902.py:185: SettingWithCopyWarning: \n",
      "A value is trying to be set on a copy of a slice from a DataFrame.\n",
      "Try using .loc[row_indexer,col_indexer] = value instead\n",
      "\n",
      "See the caveats in the documentation: https://pandas.pydata.org/pandas-docs/stable/user_guide/indexing.html#returning-a-view-versus-a-copy\n",
      "  valid_groups['change_in_marking'] = valid_groups.groupby(['defender', 'possession_id'])['closest_attacker'].shift() != valid_groups['closest_attacker']\n"
     ]
    },
    {
     "name": "stdout",
     "output_type": "stream",
     "text": [
      "('SerieA_22-23_tracking/34/MILAN-LAZIO G34_tracking.json', 'SerieA_22-23_tracking/34/MILAN-LAZIO G34.json')\n"
     ]
    },
    {
     "name": "stderr",
     "output_type": "stream",
     "text": [
      "/var/folders/n2/9_7g8plj0bl7kt3pzlkmfdm80000gn/T/ipykernel_32508/2964926902.py:185: SettingWithCopyWarning: \n",
      "A value is trying to be set on a copy of a slice from a DataFrame.\n",
      "Try using .loc[row_indexer,col_indexer] = value instead\n",
      "\n",
      "See the caveats in the documentation: https://pandas.pydata.org/pandas-docs/stable/user_guide/indexing.html#returning-a-view-versus-a-copy\n",
      "  valid_groups['change_in_marking'] = valid_groups.groupby(['defender', 'possession_id'])['closest_attacker'].shift() != valid_groups['closest_attacker']\n"
     ]
    },
    {
     "name": "stdout",
     "output_type": "stream",
     "text": [
      "('SerieA_22-23_tracking/34/NAPOLI-FIORENTINA G34_tracking.json', 'SerieA_22-23_tracking/34/NAPOLI-FIORENTINA G34.json')\n"
     ]
    },
    {
     "name": "stderr",
     "output_type": "stream",
     "text": [
      "/var/folders/n2/9_7g8plj0bl7kt3pzlkmfdm80000gn/T/ipykernel_32508/2964926902.py:185: SettingWithCopyWarning: \n",
      "A value is trying to be set on a copy of a slice from a DataFrame.\n",
      "Try using .loc[row_indexer,col_indexer] = value instead\n",
      "\n",
      "See the caveats in the documentation: https://pandas.pydata.org/pandas-docs/stable/user_guide/indexing.html#returning-a-view-versus-a-copy\n",
      "  valid_groups['change_in_marking'] = valid_groups.groupby(['defender', 'possession_id'])['closest_attacker'].shift() != valid_groups['closest_attacker']\n"
     ]
    },
    {
     "name": "stdout",
     "output_type": "stream",
     "text": [
      "('SerieA_22-23_tracking/34/ROMA-INTER G34_tracking.json', 'SerieA_22-23_tracking/34/ROMA-INTER G34.json')\n"
     ]
    },
    {
     "name": "stderr",
     "output_type": "stream",
     "text": [
      "/var/folders/n2/9_7g8plj0bl7kt3pzlkmfdm80000gn/T/ipykernel_32508/2964926902.py:185: SettingWithCopyWarning: \n",
      "A value is trying to be set on a copy of a slice from a DataFrame.\n",
      "Try using .loc[row_indexer,col_indexer] = value instead\n",
      "\n",
      "See the caveats in the documentation: https://pandas.pydata.org/pandas-docs/stable/user_guide/indexing.html#returning-a-view-versus-a-copy\n",
      "  valid_groups['change_in_marking'] = valid_groups.groupby(['defender', 'possession_id'])['closest_attacker'].shift() != valid_groups['closest_attacker']\n"
     ]
    },
    {
     "name": "stdout",
     "output_type": "stream",
     "text": [
      "('SerieA_22-23_tracking/34/SASSUOLO-BOLOGNA G34_tracking.json', 'SerieA_22-23_tracking/34/SASSUOLO-BOLOGNA G34.json')\n"
     ]
    },
    {
     "name": "stderr",
     "output_type": "stream",
     "text": [
      "/var/folders/n2/9_7g8plj0bl7kt3pzlkmfdm80000gn/T/ipykernel_32508/2964926902.py:185: SettingWithCopyWarning: \n",
      "A value is trying to be set on a copy of a slice from a DataFrame.\n",
      "Try using .loc[row_indexer,col_indexer] = value instead\n",
      "\n",
      "See the caveats in the documentation: https://pandas.pydata.org/pandas-docs/stable/user_guide/indexing.html#returning-a-view-versus-a-copy\n",
      "  valid_groups['change_in_marking'] = valid_groups.groupby(['defender', 'possession_id'])['closest_attacker'].shift() != valid_groups['closest_attacker']\n"
     ]
    },
    {
     "name": "stdout",
     "output_type": "stream",
     "text": [
      "('SerieA_22-23_tracking/34/TORINO-MONZA G34_tracking.json', 'SerieA_22-23_tracking/34/TORINO-MONZA G34.json')\n"
     ]
    },
    {
     "name": "stderr",
     "output_type": "stream",
     "text": [
      "/var/folders/n2/9_7g8plj0bl7kt3pzlkmfdm80000gn/T/ipykernel_32508/2964926902.py:185: SettingWithCopyWarning: \n",
      "A value is trying to be set on a copy of a slice from a DataFrame.\n",
      "Try using .loc[row_indexer,col_indexer] = value instead\n",
      "\n",
      "See the caveats in the documentation: https://pandas.pydata.org/pandas-docs/stable/user_guide/indexing.html#returning-a-view-versus-a-copy\n",
      "  valid_groups['change_in_marking'] = valid_groups.groupby(['defender', 'possession_id'])['closest_attacker'].shift() != valid_groups['closest_attacker']\n"
     ]
    },
    {
     "name": "stdout",
     "output_type": "stream",
     "text": [
      "('SerieA_22-23_tracking/34/UDINESE-SAMPDORIA G34_tracking.json', 'SerieA_22-23_tracking/34/UDINESE-SAMPDORIA G34.json')\n"
     ]
    },
    {
     "name": "stderr",
     "output_type": "stream",
     "text": [
      "/var/folders/n2/9_7g8plj0bl7kt3pzlkmfdm80000gn/T/ipykernel_32508/2964926902.py:185: SettingWithCopyWarning: \n",
      "A value is trying to be set on a copy of a slice from a DataFrame.\n",
      "Try using .loc[row_indexer,col_indexer] = value instead\n",
      "\n",
      "See the caveats in the documentation: https://pandas.pydata.org/pandas-docs/stable/user_guide/indexing.html#returning-a-view-versus-a-copy\n",
      "  valid_groups['change_in_marking'] = valid_groups.groupby(['defender', 'possession_id'])['closest_attacker'].shift() != valid_groups['closest_attacker']\n"
     ]
    },
    {
     "name": "stdout",
     "output_type": "stream",
     "text": [
      "('SerieA_22-23_tracking/34/US CREMONESE-SPEZIA CALCIO G34_tracking.json', 'SerieA_22-23_tracking/34/US CREMONESE-SPEZIA CALCIO G34.json')\n"
     ]
    },
    {
     "name": "stderr",
     "output_type": "stream",
     "text": [
      "/var/folders/n2/9_7g8plj0bl7kt3pzlkmfdm80000gn/T/ipykernel_32508/2964926902.py:185: SettingWithCopyWarning: \n",
      "A value is trying to be set on a copy of a slice from a DataFrame.\n",
      "Try using .loc[row_indexer,col_indexer] = value instead\n",
      "\n",
      "See the caveats in the documentation: https://pandas.pydata.org/pandas-docs/stable/user_guide/indexing.html#returning-a-view-versus-a-copy\n",
      "  valid_groups['change_in_marking'] = valid_groups.groupby(['defender', 'possession_id'])['closest_attacker'].shift() != valid_groups['closest_attacker']\n"
     ]
    },
    {
     "name": "stdout",
     "output_type": "stream",
     "text": [
      "('SerieA_22-23_tracking/33/ATALANTA-SPEZIA CALCIO G33_tracking.json', 'SerieA_22-23_tracking/33/ATALANTA-SPEZIA CALCIO G33.json')\n"
     ]
    },
    {
     "name": "stderr",
     "output_type": "stream",
     "text": [
      "/var/folders/n2/9_7g8plj0bl7kt3pzlkmfdm80000gn/T/ipykernel_32508/2964926902.py:185: SettingWithCopyWarning: \n",
      "A value is trying to be set on a copy of a slice from a DataFrame.\n",
      "Try using .loc[row_indexer,col_indexer] = value instead\n",
      "\n",
      "See the caveats in the documentation: https://pandas.pydata.org/pandas-docs/stable/user_guide/indexing.html#returning-a-view-versus-a-copy\n",
      "  valid_groups['change_in_marking'] = valid_groups.groupby(['defender', 'possession_id'])['closest_attacker'].shift() != valid_groups['closest_attacker']\n"
     ]
    },
    {
     "name": "stdout",
     "output_type": "stream",
     "text": [
      "('SerieA_22-23_tracking/33/EMPOLI-BOLOGNA G33_tracking.json', 'SerieA_22-23_tracking/33/EMPOLI-BOLOGNA G33.json')\n"
     ]
    },
    {
     "name": "stderr",
     "output_type": "stream",
     "text": [
      "/var/folders/n2/9_7g8plj0bl7kt3pzlkmfdm80000gn/T/ipykernel_32508/2964926902.py:185: SettingWithCopyWarning: \n",
      "A value is trying to be set on a copy of a slice from a DataFrame.\n",
      "Try using .loc[row_indexer,col_indexer] = value instead\n",
      "\n",
      "See the caveats in the documentation: https://pandas.pydata.org/pandas-docs/stable/user_guide/indexing.html#returning-a-view-versus-a-copy\n",
      "  valid_groups['change_in_marking'] = valid_groups.groupby(['defender', 'possession_id'])['closest_attacker'].shift() != valid_groups['closest_attacker']\n"
     ]
    },
    {
     "name": "stdout",
     "output_type": "stream",
     "text": [
      "('SerieA_22-23_tracking/33/HELLAS VERONA-INTER G33_tracking.json', 'SerieA_22-23_tracking/33/HELLAS VERONA-INTER G33.json')\n"
     ]
    },
    {
     "name": "stderr",
     "output_type": "stream",
     "text": [
      "/var/folders/n2/9_7g8plj0bl7kt3pzlkmfdm80000gn/T/ipykernel_32508/2964926902.py:185: SettingWithCopyWarning: \n",
      "A value is trying to be set on a copy of a slice from a DataFrame.\n",
      "Try using .loc[row_indexer,col_indexer] = value instead\n",
      "\n",
      "See the caveats in the documentation: https://pandas.pydata.org/pandas-docs/stable/user_guide/indexing.html#returning-a-view-versus-a-copy\n",
      "  valid_groups['change_in_marking'] = valid_groups.groupby(['defender', 'possession_id'])['closest_attacker'].shift() != valid_groups['closest_attacker']\n"
     ]
    },
    {
     "name": "stdout",
     "output_type": "stream",
     "text": [
      "('SerieA_22-23_tracking/33/JUVENTUS-LECCE G33_tracking.json', 'SerieA_22-23_tracking/33/JUVENTUS-LECCE G33.json')\n"
     ]
    },
    {
     "name": "stderr",
     "output_type": "stream",
     "text": [
      "/var/folders/n2/9_7g8plj0bl7kt3pzlkmfdm80000gn/T/ipykernel_32508/2964926902.py:185: SettingWithCopyWarning: \n",
      "A value is trying to be set on a copy of a slice from a DataFrame.\n",
      "Try using .loc[row_indexer,col_indexer] = value instead\n",
      "\n",
      "See the caveats in the documentation: https://pandas.pydata.org/pandas-docs/stable/user_guide/indexing.html#returning-a-view-versus-a-copy\n",
      "  valid_groups['change_in_marking'] = valid_groups.groupby(['defender', 'possession_id'])['closest_attacker'].shift() != valid_groups['closest_attacker']\n"
     ]
    },
    {
     "name": "stdout",
     "output_type": "stream",
     "text": [
      "('SerieA_22-23_tracking/33/LAZIO-SASSUOLO G33_tracking.json', 'SerieA_22-23_tracking/33/LAZIO-SASSUOLO G33.json')\n"
     ]
    },
    {
     "name": "stderr",
     "output_type": "stream",
     "text": [
      "/var/folders/n2/9_7g8plj0bl7kt3pzlkmfdm80000gn/T/ipykernel_32508/2964926902.py:185: SettingWithCopyWarning: \n",
      "A value is trying to be set on a copy of a slice from a DataFrame.\n",
      "Try using .loc[row_indexer,col_indexer] = value instead\n",
      "\n",
      "See the caveats in the documentation: https://pandas.pydata.org/pandas-docs/stable/user_guide/indexing.html#returning-a-view-versus-a-copy\n",
      "  valid_groups['change_in_marking'] = valid_groups.groupby(['defender', 'possession_id'])['closest_attacker'].shift() != valid_groups['closest_attacker']\n"
     ]
    },
    {
     "name": "stdout",
     "output_type": "stream",
     "text": [
      "('SerieA_22-23_tracking/33/MILAN-US CREMONESE G33_tracking.json', 'SerieA_22-23_tracking/33/MILAN-US CREMONESE G33.json')\n"
     ]
    },
    {
     "name": "stderr",
     "output_type": "stream",
     "text": [
      "/var/folders/n2/9_7g8plj0bl7kt3pzlkmfdm80000gn/T/ipykernel_32508/2964926902.py:185: SettingWithCopyWarning: \n",
      "A value is trying to be set on a copy of a slice from a DataFrame.\n",
      "Try using .loc[row_indexer,col_indexer] = value instead\n",
      "\n",
      "See the caveats in the documentation: https://pandas.pydata.org/pandas-docs/stable/user_guide/indexing.html#returning-a-view-versus-a-copy\n",
      "  valid_groups['change_in_marking'] = valid_groups.groupby(['defender', 'possession_id'])['closest_attacker'].shift() != valid_groups['closest_attacker']\n"
     ]
    },
    {
     "name": "stdout",
     "output_type": "stream",
     "text": [
      "('SerieA_22-23_tracking/33/MONZA-ROMA G33_tracking.json', 'SerieA_22-23_tracking/33/MONZA-ROMA G33.json')\n"
     ]
    },
    {
     "name": "stderr",
     "output_type": "stream",
     "text": [
      "/var/folders/n2/9_7g8plj0bl7kt3pzlkmfdm80000gn/T/ipykernel_32508/2964926902.py:185: SettingWithCopyWarning: \n",
      "A value is trying to be set on a copy of a slice from a DataFrame.\n",
      "Try using .loc[row_indexer,col_indexer] = value instead\n",
      "\n",
      "See the caveats in the documentation: https://pandas.pydata.org/pandas-docs/stable/user_guide/indexing.html#returning-a-view-versus-a-copy\n",
      "  valid_groups['change_in_marking'] = valid_groups.groupby(['defender', 'possession_id'])['closest_attacker'].shift() != valid_groups['closest_attacker']\n"
     ]
    },
    {
     "name": "stdout",
     "output_type": "stream",
     "text": [
      "('SerieA_22-23_tracking/33/SALERNITANA-FIORENTINA G33_tracking.json', 'SerieA_22-23_tracking/33/SALERNITANA-FIORENTINA G33.json')\n"
     ]
    },
    {
     "name": "stderr",
     "output_type": "stream",
     "text": [
      "/var/folders/n2/9_7g8plj0bl7kt3pzlkmfdm80000gn/T/ipykernel_32508/2964926902.py:185: SettingWithCopyWarning: \n",
      "A value is trying to be set on a copy of a slice from a DataFrame.\n",
      "Try using .loc[row_indexer,col_indexer] = value instead\n",
      "\n",
      "See the caveats in the documentation: https://pandas.pydata.org/pandas-docs/stable/user_guide/indexing.html#returning-a-view-versus-a-copy\n",
      "  valid_groups['change_in_marking'] = valid_groups.groupby(['defender', 'possession_id'])['closest_attacker'].shift() != valid_groups['closest_attacker']\n"
     ]
    },
    {
     "name": "stdout",
     "output_type": "stream",
     "text": [
      "('SerieA_22-23_tracking/33/SAMPDORIA-TORINO G33_tracking.json', 'SerieA_22-23_tracking/33/SAMPDORIA-TORINO G33.json')\n"
     ]
    },
    {
     "name": "stderr",
     "output_type": "stream",
     "text": [
      "/var/folders/n2/9_7g8plj0bl7kt3pzlkmfdm80000gn/T/ipykernel_32508/2964926902.py:185: SettingWithCopyWarning: \n",
      "A value is trying to be set on a copy of a slice from a DataFrame.\n",
      "Try using .loc[row_indexer,col_indexer] = value instead\n",
      "\n",
      "See the caveats in the documentation: https://pandas.pydata.org/pandas-docs/stable/user_guide/indexing.html#returning-a-view-versus-a-copy\n",
      "  valid_groups['change_in_marking'] = valid_groups.groupby(['defender', 'possession_id'])['closest_attacker'].shift() != valid_groups['closest_attacker']\n"
     ]
    },
    {
     "name": "stdout",
     "output_type": "stream",
     "text": [
      "('SerieA_22-23_tracking/33/UDINESE-NAPOLI G33_tracking.json', 'SerieA_22-23_tracking/33/UDINESE-NAPOLI G33.json')\n"
     ]
    },
    {
     "name": "stderr",
     "output_type": "stream",
     "text": [
      "/var/folders/n2/9_7g8plj0bl7kt3pzlkmfdm80000gn/T/ipykernel_32508/2964926902.py:185: SettingWithCopyWarning: \n",
      "A value is trying to be set on a copy of a slice from a DataFrame.\n",
      "Try using .loc[row_indexer,col_indexer] = value instead\n",
      "\n",
      "See the caveats in the documentation: https://pandas.pydata.org/pandas-docs/stable/user_guide/indexing.html#returning-a-view-versus-a-copy\n",
      "  valid_groups['change_in_marking'] = valid_groups.groupby(['defender', 'possession_id'])['closest_attacker'].shift() != valid_groups['closest_attacker']\n"
     ]
    },
    {
     "name": "stdout",
     "output_type": "stream",
     "text": [
      "('SerieA_22-23_tracking/20/ATALANTA-SAMPDORIA G20_tracking.json', 'SerieA_22-23_tracking/20/ATALANTA-SAMPDORIA G20.json')\n"
     ]
    },
    {
     "name": "stderr",
     "output_type": "stream",
     "text": [
      "/var/folders/n2/9_7g8plj0bl7kt3pzlkmfdm80000gn/T/ipykernel_32508/2964926902.py:185: SettingWithCopyWarning: \n",
      "A value is trying to be set on a copy of a slice from a DataFrame.\n",
      "Try using .loc[row_indexer,col_indexer] = value instead\n",
      "\n",
      "See the caveats in the documentation: https://pandas.pydata.org/pandas-docs/stable/user_guide/indexing.html#returning-a-view-versus-a-copy\n",
      "  valid_groups['change_in_marking'] = valid_groups.groupby(['defender', 'possession_id'])['closest_attacker'].shift() != valid_groups['closest_attacker']\n"
     ]
    },
    {
     "name": "stdout",
     "output_type": "stream",
     "text": [
      "('SerieA_22-23_tracking/20/BOLOGNA-SPEZIA CALCIO G20_tracking.json', 'SerieA_22-23_tracking/20/BOLOGNA-SPEZIA CALCIO G20.json')\n"
     ]
    },
    {
     "name": "stderr",
     "output_type": "stream",
     "text": [
      "/var/folders/n2/9_7g8plj0bl7kt3pzlkmfdm80000gn/T/ipykernel_32508/2964926902.py:185: SettingWithCopyWarning: \n",
      "A value is trying to be set on a copy of a slice from a DataFrame.\n",
      "Try using .loc[row_indexer,col_indexer] = value instead\n",
      "\n",
      "See the caveats in the documentation: https://pandas.pydata.org/pandas-docs/stable/user_guide/indexing.html#returning-a-view-versus-a-copy\n",
      "  valid_groups['change_in_marking'] = valid_groups.groupby(['defender', 'possession_id'])['closest_attacker'].shift() != valid_groups['closest_attacker']\n"
     ]
    },
    {
     "name": "stdout",
     "output_type": "stream",
     "text": [
      "('SerieA_22-23_tracking/20/EMPOLI-TORINO G20_tracking.json', 'SerieA_22-23_tracking/20/EMPOLI-TORINO G20.json')\n"
     ]
    },
    {
     "name": "stderr",
     "output_type": "stream",
     "text": [
      "/var/folders/n2/9_7g8plj0bl7kt3pzlkmfdm80000gn/T/ipykernel_32508/2964926902.py:185: SettingWithCopyWarning: \n",
      "A value is trying to be set on a copy of a slice from a DataFrame.\n",
      "Try using .loc[row_indexer,col_indexer] = value instead\n",
      "\n",
      "See the caveats in the documentation: https://pandas.pydata.org/pandas-docs/stable/user_guide/indexing.html#returning-a-view-versus-a-copy\n",
      "  valid_groups['change_in_marking'] = valid_groups.groupby(['defender', 'possession_id'])['closest_attacker'].shift() != valid_groups['closest_attacker']\n"
     ]
    },
    {
     "name": "stdout",
     "output_type": "stream",
     "text": [
      "('SerieA_22-23_tracking/20/JUVENTUS-MONZA G20_tracking.json', 'SerieA_22-23_tracking/20/JUVENTUS-MONZA G20.json')\n"
     ]
    },
    {
     "name": "stderr",
     "output_type": "stream",
     "text": [
      "/var/folders/n2/9_7g8plj0bl7kt3pzlkmfdm80000gn/T/ipykernel_32508/2964926902.py:185: SettingWithCopyWarning: \n",
      "A value is trying to be set on a copy of a slice from a DataFrame.\n",
      "Try using .loc[row_indexer,col_indexer] = value instead\n",
      "\n",
      "See the caveats in the documentation: https://pandas.pydata.org/pandas-docs/stable/user_guide/indexing.html#returning-a-view-versus-a-copy\n",
      "  valid_groups['change_in_marking'] = valid_groups.groupby(['defender', 'possession_id'])['closest_attacker'].shift() != valid_groups['closest_attacker']\n"
     ]
    },
    {
     "name": "stdout",
     "output_type": "stream",
     "text": [
      "('SerieA_22-23_tracking/20/LAZIO-FIORENTINA G20_tracking.json', 'SerieA_22-23_tracking/20/LAZIO-FIORENTINA G20.json')\n"
     ]
    },
    {
     "name": "stderr",
     "output_type": "stream",
     "text": [
      "/var/folders/n2/9_7g8plj0bl7kt3pzlkmfdm80000gn/T/ipykernel_32508/2964926902.py:185: SettingWithCopyWarning: \n",
      "A value is trying to be set on a copy of a slice from a DataFrame.\n",
      "Try using .loc[row_indexer,col_indexer] = value instead\n",
      "\n",
      "See the caveats in the documentation: https://pandas.pydata.org/pandas-docs/stable/user_guide/indexing.html#returning-a-view-versus-a-copy\n",
      "  valid_groups['change_in_marking'] = valid_groups.groupby(['defender', 'possession_id'])['closest_attacker'].shift() != valid_groups['closest_attacker']\n"
     ]
    },
    {
     "name": "stdout",
     "output_type": "stream",
     "text": [
      "('SerieA_22-23_tracking/20/LECCE-SALERNITANA G20_tracking.json', 'SerieA_22-23_tracking/20/LECCE-SALERNITANA G20.json')\n"
     ]
    },
    {
     "name": "stderr",
     "output_type": "stream",
     "text": [
      "/var/folders/n2/9_7g8plj0bl7kt3pzlkmfdm80000gn/T/ipykernel_32508/2964926902.py:185: SettingWithCopyWarning: \n",
      "A value is trying to be set on a copy of a slice from a DataFrame.\n",
      "Try using .loc[row_indexer,col_indexer] = value instead\n",
      "\n",
      "See the caveats in the documentation: https://pandas.pydata.org/pandas-docs/stable/user_guide/indexing.html#returning-a-view-versus-a-copy\n",
      "  valid_groups['change_in_marking'] = valid_groups.groupby(['defender', 'possession_id'])['closest_attacker'].shift() != valid_groups['closest_attacker']\n"
     ]
    },
    {
     "name": "stdout",
     "output_type": "stream",
     "text": [
      "('SerieA_22-23_tracking/20/MILAN-SASSUOLO G20_tracking.json', 'SerieA_22-23_tracking/20/MILAN-SASSUOLO G20.json')\n"
     ]
    },
    {
     "name": "stderr",
     "output_type": "stream",
     "text": [
      "/var/folders/n2/9_7g8plj0bl7kt3pzlkmfdm80000gn/T/ipykernel_32508/2964926902.py:185: SettingWithCopyWarning: \n",
      "A value is trying to be set on a copy of a slice from a DataFrame.\n",
      "Try using .loc[row_indexer,col_indexer] = value instead\n",
      "\n",
      "See the caveats in the documentation: https://pandas.pydata.org/pandas-docs/stable/user_guide/indexing.html#returning-a-view-versus-a-copy\n",
      "  valid_groups['change_in_marking'] = valid_groups.groupby(['defender', 'possession_id'])['closest_attacker'].shift() != valid_groups['closest_attacker']\n"
     ]
    },
    {
     "name": "stdout",
     "output_type": "stream",
     "text": [
      "('SerieA_22-23_tracking/20/NAPOLI-ROMA G20_tracking.json', 'SerieA_22-23_tracking/20/NAPOLI-ROMA G20.json')\n"
     ]
    },
    {
     "name": "stderr",
     "output_type": "stream",
     "text": [
      "/var/folders/n2/9_7g8plj0bl7kt3pzlkmfdm80000gn/T/ipykernel_32508/2964926902.py:185: SettingWithCopyWarning: \n",
      "A value is trying to be set on a copy of a slice from a DataFrame.\n",
      "Try using .loc[row_indexer,col_indexer] = value instead\n",
      "\n",
      "See the caveats in the documentation: https://pandas.pydata.org/pandas-docs/stable/user_guide/indexing.html#returning-a-view-versus-a-copy\n",
      "  valid_groups['change_in_marking'] = valid_groups.groupby(['defender', 'possession_id'])['closest_attacker'].shift() != valid_groups['closest_attacker']\n"
     ]
    },
    {
     "name": "stdout",
     "output_type": "stream",
     "text": [
      "('SerieA_22-23_tracking/20/UDINESE-HELLAS VERONA G20_tracking.json', 'SerieA_22-23_tracking/20/UDINESE-HELLAS VERONA G20.json')\n"
     ]
    },
    {
     "name": "stderr",
     "output_type": "stream",
     "text": [
      "/var/folders/n2/9_7g8plj0bl7kt3pzlkmfdm80000gn/T/ipykernel_32508/2964926902.py:185: SettingWithCopyWarning: \n",
      "A value is trying to be set on a copy of a slice from a DataFrame.\n",
      "Try using .loc[row_indexer,col_indexer] = value instead\n",
      "\n",
      "See the caveats in the documentation: https://pandas.pydata.org/pandas-docs/stable/user_guide/indexing.html#returning-a-view-versus-a-copy\n",
      "  valid_groups['change_in_marking'] = valid_groups.groupby(['defender', 'possession_id'])['closest_attacker'].shift() != valid_groups['closest_attacker']\n"
     ]
    },
    {
     "name": "stdout",
     "output_type": "stream",
     "text": [
      "('SerieA_22-23_tracking/20/US CREMONESE-INTER G20_tracking.json', 'SerieA_22-23_tracking/20/US CREMONESE-INTER G20.json')\n"
     ]
    },
    {
     "name": "stderr",
     "output_type": "stream",
     "text": [
      "/var/folders/n2/9_7g8plj0bl7kt3pzlkmfdm80000gn/T/ipykernel_32508/2964926902.py:185: SettingWithCopyWarning: \n",
      "A value is trying to be set on a copy of a slice from a DataFrame.\n",
      "Try using .loc[row_indexer,col_indexer] = value instead\n",
      "\n",
      "See the caveats in the documentation: https://pandas.pydata.org/pandas-docs/stable/user_guide/indexing.html#returning-a-view-versus-a-copy\n",
      "  valid_groups['change_in_marking'] = valid_groups.groupby(['defender', 'possession_id'])['closest_attacker'].shift() != valid_groups['closest_attacker']\n"
     ]
    },
    {
     "name": "stdout",
     "output_type": "stream",
     "text": [
      "('SerieA_22-23_tracking/18/ATALANTA-SALERNITANA G18_tracking.json', 'SerieA_22-23_tracking/18/ATALANTA-SALERNITANA G18.json')\n"
     ]
    },
    {
     "name": "stderr",
     "output_type": "stream",
     "text": [
      "/var/folders/n2/9_7g8plj0bl7kt3pzlkmfdm80000gn/T/ipykernel_32508/2964926902.py:185: SettingWithCopyWarning: \n",
      "A value is trying to be set on a copy of a slice from a DataFrame.\n",
      "Try using .loc[row_indexer,col_indexer] = value instead\n",
      "\n",
      "See the caveats in the documentation: https://pandas.pydata.org/pandas-docs/stable/user_guide/indexing.html#returning-a-view-versus-a-copy\n",
      "  valid_groups['change_in_marking'] = valid_groups.groupby(['defender', 'possession_id'])['closest_attacker'].shift() != valid_groups['closest_attacker']\n"
     ]
    },
    {
     "name": "stdout",
     "output_type": "stream",
     "text": [
      "('SerieA_22-23_tracking/18/EMPOLI-SAMPDORIA G18_tracking.json', 'SerieA_22-23_tracking/18/EMPOLI-SAMPDORIA G18.json')\n"
     ]
    },
    {
     "name": "stderr",
     "output_type": "stream",
     "text": [
      "/var/folders/n2/9_7g8plj0bl7kt3pzlkmfdm80000gn/T/ipykernel_32508/2964926902.py:185: SettingWithCopyWarning: \n",
      "A value is trying to be set on a copy of a slice from a DataFrame.\n",
      "Try using .loc[row_indexer,col_indexer] = value instead\n",
      "\n",
      "See the caveats in the documentation: https://pandas.pydata.org/pandas-docs/stable/user_guide/indexing.html#returning-a-view-versus-a-copy\n",
      "  valid_groups['change_in_marking'] = valid_groups.groupby(['defender', 'possession_id'])['closest_attacker'].shift() != valid_groups['closest_attacker']\n"
     ]
    },
    {
     "name": "stdout",
     "output_type": "stream",
     "text": [
      "('SerieA_22-23_tracking/18/INTER-HELLAS VERONA G18_tracking.json', 'SerieA_22-23_tracking/18/INTER-HELLAS VERONA G18.json')\n"
     ]
    },
    {
     "name": "stderr",
     "output_type": "stream",
     "text": [
      "/var/folders/n2/9_7g8plj0bl7kt3pzlkmfdm80000gn/T/ipykernel_32508/2964926902.py:185: SettingWithCopyWarning: \n",
      "A value is trying to be set on a copy of a slice from a DataFrame.\n",
      "Try using .loc[row_indexer,col_indexer] = value instead\n",
      "\n",
      "See the caveats in the documentation: https://pandas.pydata.org/pandas-docs/stable/user_guide/indexing.html#returning-a-view-versus-a-copy\n",
      "  valid_groups['change_in_marking'] = valid_groups.groupby(['defender', 'possession_id'])['closest_attacker'].shift() != valid_groups['closest_attacker']\n"
     ]
    },
    {
     "name": "stdout",
     "output_type": "stream",
     "text": [
      "('SerieA_22-23_tracking/18/LECCE-MILAN G18_tracking.json', 'SerieA_22-23_tracking/18/LECCE-MILAN G18.json')\n"
     ]
    },
    {
     "name": "stderr",
     "output_type": "stream",
     "text": [
      "/var/folders/n2/9_7g8plj0bl7kt3pzlkmfdm80000gn/T/ipykernel_32508/2964926902.py:185: SettingWithCopyWarning: \n",
      "A value is trying to be set on a copy of a slice from a DataFrame.\n",
      "Try using .loc[row_indexer,col_indexer] = value instead\n",
      "\n",
      "See the caveats in the documentation: https://pandas.pydata.org/pandas-docs/stable/user_guide/indexing.html#returning-a-view-versus-a-copy\n",
      "  valid_groups['change_in_marking'] = valid_groups.groupby(['defender', 'possession_id'])['closest_attacker'].shift() != valid_groups['closest_attacker']\n"
     ]
    },
    {
     "name": "stdout",
     "output_type": "stream",
     "text": [
      "('SerieA_22-23_tracking/18/NAPOLI-JUVENTUS G18_tracking.json', 'SerieA_22-23_tracking/18/NAPOLI-JUVENTUS G18.json')\n"
     ]
    },
    {
     "name": "stderr",
     "output_type": "stream",
     "text": [
      "/var/folders/n2/9_7g8plj0bl7kt3pzlkmfdm80000gn/T/ipykernel_32508/2964926902.py:185: SettingWithCopyWarning: \n",
      "A value is trying to be set on a copy of a slice from a DataFrame.\n",
      "Try using .loc[row_indexer,col_indexer] = value instead\n",
      "\n",
      "See the caveats in the documentation: https://pandas.pydata.org/pandas-docs/stable/user_guide/indexing.html#returning-a-view-versus-a-copy\n",
      "  valid_groups['change_in_marking'] = valid_groups.groupby(['defender', 'possession_id'])['closest_attacker'].shift() != valid_groups['closest_attacker']\n"
     ]
    },
    {
     "name": "stdout",
     "output_type": "stream",
     "text": [
      "('SerieA_22-23_tracking/18/ROMA-FIORENTINA G18_tracking.json', 'SerieA_22-23_tracking/18/ROMA-FIORENTINA G18.json')\n"
     ]
    },
    {
     "name": "stderr",
     "output_type": "stream",
     "text": [
      "/var/folders/n2/9_7g8plj0bl7kt3pzlkmfdm80000gn/T/ipykernel_32508/2964926902.py:185: SettingWithCopyWarning: \n",
      "A value is trying to be set on a copy of a slice from a DataFrame.\n",
      "Try using .loc[row_indexer,col_indexer] = value instead\n",
      "\n",
      "See the caveats in the documentation: https://pandas.pydata.org/pandas-docs/stable/user_guide/indexing.html#returning-a-view-versus-a-copy\n",
      "  valid_groups['change_in_marking'] = valid_groups.groupby(['defender', 'possession_id'])['closest_attacker'].shift() != valid_groups['closest_attacker']\n"
     ]
    },
    {
     "name": "stdout",
     "output_type": "stream",
     "text": [
      "('SerieA_22-23_tracking/18/SASSUOLO-LAZIO G18_tracking.json', 'SerieA_22-23_tracking/18/SASSUOLO-LAZIO G18.json')\n"
     ]
    },
    {
     "name": "stderr",
     "output_type": "stream",
     "text": [
      "/var/folders/n2/9_7g8plj0bl7kt3pzlkmfdm80000gn/T/ipykernel_32508/2964926902.py:185: SettingWithCopyWarning: \n",
      "A value is trying to be set on a copy of a slice from a DataFrame.\n",
      "Try using .loc[row_indexer,col_indexer] = value instead\n",
      "\n",
      "See the caveats in the documentation: https://pandas.pydata.org/pandas-docs/stable/user_guide/indexing.html#returning-a-view-versus-a-copy\n",
      "  valid_groups['change_in_marking'] = valid_groups.groupby(['defender', 'possession_id'])['closest_attacker'].shift() != valid_groups['closest_attacker']\n"
     ]
    },
    {
     "name": "stdout",
     "output_type": "stream",
     "text": [
      "('SerieA_22-23_tracking/18/TORINO-SPEZIA CALCIO G18_tracking.json', 'SerieA_22-23_tracking/18/TORINO-SPEZIA CALCIO G18.json')\n"
     ]
    },
    {
     "name": "stderr",
     "output_type": "stream",
     "text": [
      "/var/folders/n2/9_7g8plj0bl7kt3pzlkmfdm80000gn/T/ipykernel_32508/2964926902.py:185: SettingWithCopyWarning: \n",
      "A value is trying to be set on a copy of a slice from a DataFrame.\n",
      "Try using .loc[row_indexer,col_indexer] = value instead\n",
      "\n",
      "See the caveats in the documentation: https://pandas.pydata.org/pandas-docs/stable/user_guide/indexing.html#returning-a-view-versus-a-copy\n",
      "  valid_groups['change_in_marking'] = valid_groups.groupby(['defender', 'possession_id'])['closest_attacker'].shift() != valid_groups['closest_attacker']\n"
     ]
    },
    {
     "name": "stdout",
     "output_type": "stream",
     "text": [
      "('SerieA_22-23_tracking/18/UDINESE-BOLOGNA G18_tracking.json', 'SerieA_22-23_tracking/18/UDINESE-BOLOGNA G18.json')\n"
     ]
    },
    {
     "name": "stderr",
     "output_type": "stream",
     "text": [
      "/var/folders/n2/9_7g8plj0bl7kt3pzlkmfdm80000gn/T/ipykernel_32508/2964926902.py:185: SettingWithCopyWarning: \n",
      "A value is trying to be set on a copy of a slice from a DataFrame.\n",
      "Try using .loc[row_indexer,col_indexer] = value instead\n",
      "\n",
      "See the caveats in the documentation: https://pandas.pydata.org/pandas-docs/stable/user_guide/indexing.html#returning-a-view-versus-a-copy\n",
      "  valid_groups['change_in_marking'] = valid_groups.groupby(['defender', 'possession_id'])['closest_attacker'].shift() != valid_groups['closest_attacker']\n"
     ]
    },
    {
     "name": "stdout",
     "output_type": "stream",
     "text": [
      "('SerieA_22-23_tracking/18/US CREMONESE-MONZA G18_tracking.json', 'SerieA_22-23_tracking/18/US CREMONESE-MONZA G18.json')\n"
     ]
    },
    {
     "name": "stderr",
     "output_type": "stream",
     "text": [
      "/var/folders/n2/9_7g8plj0bl7kt3pzlkmfdm80000gn/T/ipykernel_32508/2964926902.py:185: SettingWithCopyWarning: \n",
      "A value is trying to be set on a copy of a slice from a DataFrame.\n",
      "Try using .loc[row_indexer,col_indexer] = value instead\n",
      "\n",
      "See the caveats in the documentation: https://pandas.pydata.org/pandas-docs/stable/user_guide/indexing.html#returning-a-view-versus-a-copy\n",
      "  valid_groups['change_in_marking'] = valid_groups.groupby(['defender', 'possession_id'])['closest_attacker'].shift() != valid_groups['closest_attacker']\n"
     ]
    },
    {
     "name": "stdout",
     "output_type": "stream",
     "text": [
      "('SerieA_22-23_tracking/27/ATALANTA-EMPOLI G27_tracking.json', 'SerieA_22-23_tracking/27/ATALANTA-EMPOLI G27.json')\n"
     ]
    },
    {
     "name": "stderr",
     "output_type": "stream",
     "text": [
      "/var/folders/n2/9_7g8plj0bl7kt3pzlkmfdm80000gn/T/ipykernel_32508/2964926902.py:185: SettingWithCopyWarning: \n",
      "A value is trying to be set on a copy of a slice from a DataFrame.\n",
      "Try using .loc[row_indexer,col_indexer] = value instead\n",
      "\n",
      "See the caveats in the documentation: https://pandas.pydata.org/pandas-docs/stable/user_guide/indexing.html#returning-a-view-versus-a-copy\n",
      "  valid_groups['change_in_marking'] = valid_groups.groupby(['defender', 'possession_id'])['closest_attacker'].shift() != valid_groups['closest_attacker']\n"
     ]
    },
    {
     "name": "stdout",
     "output_type": "stream",
     "text": [
      "('SerieA_22-23_tracking/27/FIORENTINA-LECCE G27_tracking.json', 'SerieA_22-23_tracking/27/FIORENTINA-LECCE G27.json')\n"
     ]
    },
    {
     "name": "stderr",
     "output_type": "stream",
     "text": [
      "/var/folders/n2/9_7g8plj0bl7kt3pzlkmfdm80000gn/T/ipykernel_32508/2964926902.py:185: SettingWithCopyWarning: \n",
      "A value is trying to be set on a copy of a slice from a DataFrame.\n",
      "Try using .loc[row_indexer,col_indexer] = value instead\n",
      "\n",
      "See the caveats in the documentation: https://pandas.pydata.org/pandas-docs/stable/user_guide/indexing.html#returning-a-view-versus-a-copy\n",
      "  valid_groups['change_in_marking'] = valid_groups.groupby(['defender', 'possession_id'])['closest_attacker'].shift() != valid_groups['closest_attacker']\n"
     ]
    },
    {
     "name": "stdout",
     "output_type": "stream",
     "text": [
      "('SerieA_22-23_tracking/27/INTER-JUVENTUS G27_tracking.json', 'SerieA_22-23_tracking/27/INTER-JUVENTUS G27.json')\n"
     ]
    },
    {
     "name": "stderr",
     "output_type": "stream",
     "text": [
      "/var/folders/n2/9_7g8plj0bl7kt3pzlkmfdm80000gn/T/ipykernel_32508/2964926902.py:185: SettingWithCopyWarning: \n",
      "A value is trying to be set on a copy of a slice from a DataFrame.\n",
      "Try using .loc[row_indexer,col_indexer] = value instead\n",
      "\n",
      "See the caveats in the documentation: https://pandas.pydata.org/pandas-docs/stable/user_guide/indexing.html#returning-a-view-versus-a-copy\n",
      "  valid_groups['change_in_marking'] = valid_groups.groupby(['defender', 'possession_id'])['closest_attacker'].shift() != valid_groups['closest_attacker']\n"
     ]
    },
    {
     "name": "stdout",
     "output_type": "stream",
     "text": [
      "('SerieA_22-23_tracking/27/LAZIO-ROMA G27_tracking.json', 'SerieA_22-23_tracking/27/LAZIO-ROMA G27.json')\n"
     ]
    },
    {
     "name": "stderr",
     "output_type": "stream",
     "text": [
      "/var/folders/n2/9_7g8plj0bl7kt3pzlkmfdm80000gn/T/ipykernel_32508/2964926902.py:185: SettingWithCopyWarning: \n",
      "A value is trying to be set on a copy of a slice from a DataFrame.\n",
      "Try using .loc[row_indexer,col_indexer] = value instead\n",
      "\n",
      "See the caveats in the documentation: https://pandas.pydata.org/pandas-docs/stable/user_guide/indexing.html#returning-a-view-versus-a-copy\n",
      "  valid_groups['change_in_marking'] = valid_groups.groupby(['defender', 'possession_id'])['closest_attacker'].shift() != valid_groups['closest_attacker']\n"
     ]
    },
    {
     "name": "stdout",
     "output_type": "stream",
     "text": [
      "('SerieA_22-23_tracking/27/MONZA-US CREMONESE G27_tracking.json', 'SerieA_22-23_tracking/27/MONZA-US CREMONESE G27.json')\n"
     ]
    },
    {
     "name": "stderr",
     "output_type": "stream",
     "text": [
      "/var/folders/n2/9_7g8plj0bl7kt3pzlkmfdm80000gn/T/ipykernel_32508/2964926902.py:185: SettingWithCopyWarning: \n",
      "A value is trying to be set on a copy of a slice from a DataFrame.\n",
      "Try using .loc[row_indexer,col_indexer] = value instead\n",
      "\n",
      "See the caveats in the documentation: https://pandas.pydata.org/pandas-docs/stable/user_guide/indexing.html#returning-a-view-versus-a-copy\n",
      "  valid_groups['change_in_marking'] = valid_groups.groupby(['defender', 'possession_id'])['closest_attacker'].shift() != valid_groups['closest_attacker']\n"
     ]
    },
    {
     "name": "stdout",
     "output_type": "stream",
     "text": [
      "('SerieA_22-23_tracking/27/SALERNITANA-BOLOGNA G27_tracking.json', 'SerieA_22-23_tracking/27/SALERNITANA-BOLOGNA G27.json')\n"
     ]
    },
    {
     "name": "stderr",
     "output_type": "stream",
     "text": [
      "/var/folders/n2/9_7g8plj0bl7kt3pzlkmfdm80000gn/T/ipykernel_32508/2964926902.py:185: SettingWithCopyWarning: \n",
      "A value is trying to be set on a copy of a slice from a DataFrame.\n",
      "Try using .loc[row_indexer,col_indexer] = value instead\n",
      "\n",
      "See the caveats in the documentation: https://pandas.pydata.org/pandas-docs/stable/user_guide/indexing.html#returning-a-view-versus-a-copy\n",
      "  valid_groups['change_in_marking'] = valid_groups.groupby(['defender', 'possession_id'])['closest_attacker'].shift() != valid_groups['closest_attacker']\n"
     ]
    },
    {
     "name": "stdout",
     "output_type": "stream",
     "text": [
      "('SerieA_22-23_tracking/27/SAMPDORIA-HELLAS VERONA G27_tracking.json', 'SerieA_22-23_tracking/27/SAMPDORIA-HELLAS VERONA G27.json')\n"
     ]
    },
    {
     "name": "stderr",
     "output_type": "stream",
     "text": [
      "/var/folders/n2/9_7g8plj0bl7kt3pzlkmfdm80000gn/T/ipykernel_32508/2964926902.py:185: SettingWithCopyWarning: \n",
      "A value is trying to be set on a copy of a slice from a DataFrame.\n",
      "Try using .loc[row_indexer,col_indexer] = value instead\n",
      "\n",
      "See the caveats in the documentation: https://pandas.pydata.org/pandas-docs/stable/user_guide/indexing.html#returning-a-view-versus-a-copy\n",
      "  valid_groups['change_in_marking'] = valid_groups.groupby(['defender', 'possession_id'])['closest_attacker'].shift() != valid_groups['closest_attacker']\n"
     ]
    },
    {
     "name": "stdout",
     "output_type": "stream",
     "text": [
      "('SerieA_22-23_tracking/27/SASSUOLO-SPEZIA CALCIO G27_tracking.json', 'SerieA_22-23_tracking/27/SASSUOLO-SPEZIA CALCIO G27.json')\n"
     ]
    },
    {
     "name": "stderr",
     "output_type": "stream",
     "text": [
      "/var/folders/n2/9_7g8plj0bl7kt3pzlkmfdm80000gn/T/ipykernel_32508/2964926902.py:185: SettingWithCopyWarning: \n",
      "A value is trying to be set on a copy of a slice from a DataFrame.\n",
      "Try using .loc[row_indexer,col_indexer] = value instead\n",
      "\n",
      "See the caveats in the documentation: https://pandas.pydata.org/pandas-docs/stable/user_guide/indexing.html#returning-a-view-versus-a-copy\n",
      "  valid_groups['change_in_marking'] = valid_groups.groupby(['defender', 'possession_id'])['closest_attacker'].shift() != valid_groups['closest_attacker']\n"
     ]
    },
    {
     "name": "stdout",
     "output_type": "stream",
     "text": [
      "('SerieA_22-23_tracking/27/TORINO-NAPOLI G27_tracking.json', 'SerieA_22-23_tracking/27/TORINO-NAPOLI G27.json')\n"
     ]
    },
    {
     "name": "stderr",
     "output_type": "stream",
     "text": [
      "/var/folders/n2/9_7g8plj0bl7kt3pzlkmfdm80000gn/T/ipykernel_32508/2964926902.py:185: SettingWithCopyWarning: \n",
      "A value is trying to be set on a copy of a slice from a DataFrame.\n",
      "Try using .loc[row_indexer,col_indexer] = value instead\n",
      "\n",
      "See the caveats in the documentation: https://pandas.pydata.org/pandas-docs/stable/user_guide/indexing.html#returning-a-view-versus-a-copy\n",
      "  valid_groups['change_in_marking'] = valid_groups.groupby(['defender', 'possession_id'])['closest_attacker'].shift() != valid_groups['closest_attacker']\n"
     ]
    },
    {
     "name": "stdout",
     "output_type": "stream",
     "text": [
      "('SerieA_22-23_tracking/27/UDINESE-MILAN G27_tracking.json', 'SerieA_22-23_tracking/27/UDINESE-MILAN G27.json')\n"
     ]
    },
    {
     "name": "stderr",
     "output_type": "stream",
     "text": [
      "/var/folders/n2/9_7g8plj0bl7kt3pzlkmfdm80000gn/T/ipykernel_32508/2964926902.py:185: SettingWithCopyWarning: \n",
      "A value is trying to be set on a copy of a slice from a DataFrame.\n",
      "Try using .loc[row_indexer,col_indexer] = value instead\n",
      "\n",
      "See the caveats in the documentation: https://pandas.pydata.org/pandas-docs/stable/user_guide/indexing.html#returning-a-view-versus-a-copy\n",
      "  valid_groups['change_in_marking'] = valid_groups.groupby(['defender', 'possession_id'])['closest_attacker'].shift() != valid_groups['closest_attacker']\n"
     ]
    },
    {
     "name": "stdout",
     "output_type": "stream",
     "text": [
      "('SerieA_22-23_tracking/9/BOLOGNA-SAMPDORIA G9_tracking.json', 'SerieA_22-23_tracking/9/BOLOGNA-SAMPDORIA G9.json')\n"
     ]
    },
    {
     "name": "stderr",
     "output_type": "stream",
     "text": [
      "/var/folders/n2/9_7g8plj0bl7kt3pzlkmfdm80000gn/T/ipykernel_32508/2964926902.py:185: SettingWithCopyWarning: \n",
      "A value is trying to be set on a copy of a slice from a DataFrame.\n",
      "Try using .loc[row_indexer,col_indexer] = value instead\n",
      "\n",
      "See the caveats in the documentation: https://pandas.pydata.org/pandas-docs/stable/user_guide/indexing.html#returning-a-view-versus-a-copy\n",
      "  valid_groups['change_in_marking'] = valid_groups.groupby(['defender', 'possession_id'])['closest_attacker'].shift() != valid_groups['closest_attacker']\n"
     ]
    },
    {
     "name": "stdout",
     "output_type": "stream",
     "text": [
      "('SerieA_22-23_tracking/9/FIORENTINA-LAZIO G9_tracking.json', 'SerieA_22-23_tracking/9/FIORENTINA-LAZIO G9.json')\n"
     ]
    },
    {
     "name": "stderr",
     "output_type": "stream",
     "text": [
      "/var/folders/n2/9_7g8plj0bl7kt3pzlkmfdm80000gn/T/ipykernel_32508/2964926902.py:185: SettingWithCopyWarning: \n",
      "A value is trying to be set on a copy of a slice from a DataFrame.\n",
      "Try using .loc[row_indexer,col_indexer] = value instead\n",
      "\n",
      "See the caveats in the documentation: https://pandas.pydata.org/pandas-docs/stable/user_guide/indexing.html#returning-a-view-versus-a-copy\n",
      "  valid_groups['change_in_marking'] = valid_groups.groupby(['defender', 'possession_id'])['closest_attacker'].shift() != valid_groups['closest_attacker']\n"
     ]
    },
    {
     "name": "stdout",
     "output_type": "stream",
     "text": [
      "('SerieA_22-23_tracking/9/MILAN-JUVENTUS G9_tracking.json', 'SerieA_22-23_tracking/9/MILAN-JUVENTUS G9.json')\n"
     ]
    },
    {
     "name": "stderr",
     "output_type": "stream",
     "text": [
      "/var/folders/n2/9_7g8plj0bl7kt3pzlkmfdm80000gn/T/ipykernel_32508/2964926902.py:185: SettingWithCopyWarning: \n",
      "A value is trying to be set on a copy of a slice from a DataFrame.\n",
      "Try using .loc[row_indexer,col_indexer] = value instead\n",
      "\n",
      "See the caveats in the documentation: https://pandas.pydata.org/pandas-docs/stable/user_guide/indexing.html#returning-a-view-versus-a-copy\n",
      "  valid_groups['change_in_marking'] = valid_groups.groupby(['defender', 'possession_id'])['closest_attacker'].shift() != valid_groups['closest_attacker']\n"
     ]
    },
    {
     "name": "stdout",
     "output_type": "stream",
     "text": [
      "('SerieA_22-23_tracking/9/MONZA-SPEZIA CALCIO G9_tracking.json', 'SerieA_22-23_tracking/9/MONZA-SPEZIA CALCIO G9.json')\n"
     ]
    },
    {
     "name": "stderr",
     "output_type": "stream",
     "text": [
      "/var/folders/n2/9_7g8plj0bl7kt3pzlkmfdm80000gn/T/ipykernel_32508/2964926902.py:185: SettingWithCopyWarning: \n",
      "A value is trying to be set on a copy of a slice from a DataFrame.\n",
      "Try using .loc[row_indexer,col_indexer] = value instead\n",
      "\n",
      "See the caveats in the documentation: https://pandas.pydata.org/pandas-docs/stable/user_guide/indexing.html#returning-a-view-versus-a-copy\n",
      "  valid_groups['change_in_marking'] = valid_groups.groupby(['defender', 'possession_id'])['closest_attacker'].shift() != valid_groups['closest_attacker']\n"
     ]
    },
    {
     "name": "stdout",
     "output_type": "stream",
     "text": [
      "('SerieA_22-23_tracking/9/ROMA-LECCE G9_tracking.json', 'SerieA_22-23_tracking/9/ROMA-LECCE G9.json')\n"
     ]
    },
    {
     "name": "stderr",
     "output_type": "stream",
     "text": [
      "/var/folders/n2/9_7g8plj0bl7kt3pzlkmfdm80000gn/T/ipykernel_32508/2964926902.py:185: SettingWithCopyWarning: \n",
      "A value is trying to be set on a copy of a slice from a DataFrame.\n",
      "Try using .loc[row_indexer,col_indexer] = value instead\n",
      "\n",
      "See the caveats in the documentation: https://pandas.pydata.org/pandas-docs/stable/user_guide/indexing.html#returning-a-view-versus-a-copy\n",
      "  valid_groups['change_in_marking'] = valid_groups.groupby(['defender', 'possession_id'])['closest_attacker'].shift() != valid_groups['closest_attacker']\n"
     ]
    },
    {
     "name": "stdout",
     "output_type": "stream",
     "text": [
      "('SerieA_22-23_tracking/9/SALERNITANA-HELLAS VERONA G9_tracking.json', 'SerieA_22-23_tracking/9/SALERNITANA-HELLAS VERONA G9.json')\n"
     ]
    },
    {
     "name": "stderr",
     "output_type": "stream",
     "text": [
      "/var/folders/n2/9_7g8plj0bl7kt3pzlkmfdm80000gn/T/ipykernel_32508/2964926902.py:185: SettingWithCopyWarning: \n",
      "A value is trying to be set on a copy of a slice from a DataFrame.\n",
      "Try using .loc[row_indexer,col_indexer] = value instead\n",
      "\n",
      "See the caveats in the documentation: https://pandas.pydata.org/pandas-docs/stable/user_guide/indexing.html#returning-a-view-versus-a-copy\n",
      "  valid_groups['change_in_marking'] = valid_groups.groupby(['defender', 'possession_id'])['closest_attacker'].shift() != valid_groups['closest_attacker']\n"
     ]
    },
    {
     "name": "stdout",
     "output_type": "stream",
     "text": [
      "('SerieA_22-23_tracking/9/SASSUOLO-INTER G9_tracking.json', 'SerieA_22-23_tracking/9/SASSUOLO-INTER G9.json')\n"
     ]
    },
    {
     "name": "stderr",
     "output_type": "stream",
     "text": [
      "/var/folders/n2/9_7g8plj0bl7kt3pzlkmfdm80000gn/T/ipykernel_32508/2964926902.py:185: SettingWithCopyWarning: \n",
      "A value is trying to be set on a copy of a slice from a DataFrame.\n",
      "Try using .loc[row_indexer,col_indexer] = value instead\n",
      "\n",
      "See the caveats in the documentation: https://pandas.pydata.org/pandas-docs/stable/user_guide/indexing.html#returning-a-view-versus-a-copy\n",
      "  valid_groups['change_in_marking'] = valid_groups.groupby(['defender', 'possession_id'])['closest_attacker'].shift() != valid_groups['closest_attacker']\n"
     ]
    },
    {
     "name": "stdout",
     "output_type": "stream",
     "text": [
      "('SerieA_22-23_tracking/9/TORINO-EMPOLI G9_tracking.json', 'SerieA_22-23_tracking/9/TORINO-EMPOLI G9.json')\n"
     ]
    },
    {
     "name": "stderr",
     "output_type": "stream",
     "text": [
      "/var/folders/n2/9_7g8plj0bl7kt3pzlkmfdm80000gn/T/ipykernel_32508/2964926902.py:185: SettingWithCopyWarning: \n",
      "A value is trying to be set on a copy of a slice from a DataFrame.\n",
      "Try using .loc[row_indexer,col_indexer] = value instead\n",
      "\n",
      "See the caveats in the documentation: https://pandas.pydata.org/pandas-docs/stable/user_guide/indexing.html#returning-a-view-versus-a-copy\n",
      "  valid_groups['change_in_marking'] = valid_groups.groupby(['defender', 'possession_id'])['closest_attacker'].shift() != valid_groups['closest_attacker']\n"
     ]
    },
    {
     "name": "stdout",
     "output_type": "stream",
     "text": [
      "('SerieA_22-23_tracking/9/UDINESE-ATALANTA G9_tracking.json', 'SerieA_22-23_tracking/9/UDINESE-ATALANTA G9.json')\n"
     ]
    },
    {
     "name": "stderr",
     "output_type": "stream",
     "text": [
      "/var/folders/n2/9_7g8plj0bl7kt3pzlkmfdm80000gn/T/ipykernel_32508/2964926902.py:185: SettingWithCopyWarning: \n",
      "A value is trying to be set on a copy of a slice from a DataFrame.\n",
      "Try using .loc[row_indexer,col_indexer] = value instead\n",
      "\n",
      "See the caveats in the documentation: https://pandas.pydata.org/pandas-docs/stable/user_guide/indexing.html#returning-a-view-versus-a-copy\n",
      "  valid_groups['change_in_marking'] = valid_groups.groupby(['defender', 'possession_id'])['closest_attacker'].shift() != valid_groups['closest_attacker']\n"
     ]
    },
    {
     "name": "stdout",
     "output_type": "stream",
     "text": [
      "('SerieA_22-23_tracking/9/US CREMONESE-NAPOLI G9_tracking.json', 'SerieA_22-23_tracking/9/US CREMONESE-NAPOLI G9.json')\n"
     ]
    },
    {
     "name": "stderr",
     "output_type": "stream",
     "text": [
      "/var/folders/n2/9_7g8plj0bl7kt3pzlkmfdm80000gn/T/ipykernel_32508/2964926902.py:185: SettingWithCopyWarning: \n",
      "A value is trying to be set on a copy of a slice from a DataFrame.\n",
      "Try using .loc[row_indexer,col_indexer] = value instead\n",
      "\n",
      "See the caveats in the documentation: https://pandas.pydata.org/pandas-docs/stable/user_guide/indexing.html#returning-a-view-versus-a-copy\n",
      "  valid_groups['change_in_marking'] = valid_groups.groupby(['defender', 'possession_id'])['closest_attacker'].shift() != valid_groups['closest_attacker']\n"
     ]
    },
    {
     "name": "stdout",
     "output_type": "stream",
     "text": [
      "('SerieA_22-23_tracking/11/ATALANTA-LAZIO G11_tracking.json', 'SerieA_22-23_tracking/11/ATALANTA-LAZIO G11.json')\n"
     ]
    },
    {
     "name": "stderr",
     "output_type": "stream",
     "text": [
      "/var/folders/n2/9_7g8plj0bl7kt3pzlkmfdm80000gn/T/ipykernel_32508/2964926902.py:185: SettingWithCopyWarning: \n",
      "A value is trying to be set on a copy of a slice from a DataFrame.\n",
      "Try using .loc[row_indexer,col_indexer] = value instead\n",
      "\n",
      "See the caveats in the documentation: https://pandas.pydata.org/pandas-docs/stable/user_guide/indexing.html#returning-a-view-versus-a-copy\n",
      "  valid_groups['change_in_marking'] = valid_groups.groupby(['defender', 'possession_id'])['closest_attacker'].shift() != valid_groups['closest_attacker']\n"
     ]
    },
    {
     "name": "stdout",
     "output_type": "stream",
     "text": [
      "('SerieA_22-23_tracking/11/BOLOGNA-LECCE G11_tracking.json', 'SerieA_22-23_tracking/11/BOLOGNA-LECCE G11.json')\n"
     ]
    },
    {
     "name": "stderr",
     "output_type": "stream",
     "text": [
      "/var/folders/n2/9_7g8plj0bl7kt3pzlkmfdm80000gn/T/ipykernel_32508/2964926902.py:185: SettingWithCopyWarning: \n",
      "A value is trying to be set on a copy of a slice from a DataFrame.\n",
      "Try using .loc[row_indexer,col_indexer] = value instead\n",
      "\n",
      "See the caveats in the documentation: https://pandas.pydata.org/pandas-docs/stable/user_guide/indexing.html#returning-a-view-versus-a-copy\n",
      "  valid_groups['change_in_marking'] = valid_groups.groupby(['defender', 'possession_id'])['closest_attacker'].shift() != valid_groups['closest_attacker']\n"
     ]
    },
    {
     "name": "stdout",
     "output_type": "stream",
     "text": [
      "('SerieA_22-23_tracking/11/FIORENTINA-INTER G11_tracking.json', 'SerieA_22-23_tracking/11/FIORENTINA-INTER G11.json')\n"
     ]
    },
    {
     "name": "stderr",
     "output_type": "stream",
     "text": [
      "/var/folders/n2/9_7g8plj0bl7kt3pzlkmfdm80000gn/T/ipykernel_32508/2964926902.py:185: SettingWithCopyWarning: \n",
      "A value is trying to be set on a copy of a slice from a DataFrame.\n",
      "Try using .loc[row_indexer,col_indexer] = value instead\n",
      "\n",
      "See the caveats in the documentation: https://pandas.pydata.org/pandas-docs/stable/user_guide/indexing.html#returning-a-view-versus-a-copy\n",
      "  valid_groups['change_in_marking'] = valid_groups.groupby(['defender', 'possession_id'])['closest_attacker'].shift() != valid_groups['closest_attacker']\n"
     ]
    },
    {
     "name": "stdout",
     "output_type": "stream",
     "text": [
      "('SerieA_22-23_tracking/11/JUVENTUS-EMPOLI G11_tracking.json', 'SerieA_22-23_tracking/11/JUVENTUS-EMPOLI G11.json')\n"
     ]
    },
    {
     "name": "stderr",
     "output_type": "stream",
     "text": [
      "/var/folders/n2/9_7g8plj0bl7kt3pzlkmfdm80000gn/T/ipykernel_32508/2964926902.py:185: SettingWithCopyWarning: \n",
      "A value is trying to be set on a copy of a slice from a DataFrame.\n",
      "Try using .loc[row_indexer,col_indexer] = value instead\n",
      "\n",
      "See the caveats in the documentation: https://pandas.pydata.org/pandas-docs/stable/user_guide/indexing.html#returning-a-view-versus-a-copy\n",
      "  valid_groups['change_in_marking'] = valid_groups.groupby(['defender', 'possession_id'])['closest_attacker'].shift() != valid_groups['closest_attacker']\n"
     ]
    },
    {
     "name": "stdout",
     "output_type": "stream",
     "text": [
      "('SerieA_22-23_tracking/11/MILAN-MONZA G11_tracking.json', 'SerieA_22-23_tracking/11/MILAN-MONZA G11.json')\n"
     ]
    },
    {
     "name": "stderr",
     "output_type": "stream",
     "text": [
      "/var/folders/n2/9_7g8plj0bl7kt3pzlkmfdm80000gn/T/ipykernel_32508/2964926902.py:185: SettingWithCopyWarning: \n",
      "A value is trying to be set on a copy of a slice from a DataFrame.\n",
      "Try using .loc[row_indexer,col_indexer] = value instead\n",
      "\n",
      "See the caveats in the documentation: https://pandas.pydata.org/pandas-docs/stable/user_guide/indexing.html#returning-a-view-versus-a-copy\n",
      "  valid_groups['change_in_marking'] = valid_groups.groupby(['defender', 'possession_id'])['closest_attacker'].shift() != valid_groups['closest_attacker']\n"
     ]
    },
    {
     "name": "stdout",
     "output_type": "stream",
     "text": [
      "('SerieA_22-23_tracking/11/ROMA-NAPOLI G11_tracking.json', 'SerieA_22-23_tracking/11/ROMA-NAPOLI G11.json')\n"
     ]
    },
    {
     "name": "stderr",
     "output_type": "stream",
     "text": [
      "/var/folders/n2/9_7g8plj0bl7kt3pzlkmfdm80000gn/T/ipykernel_32508/2964926902.py:185: SettingWithCopyWarning: \n",
      "A value is trying to be set on a copy of a slice from a DataFrame.\n",
      "Try using .loc[row_indexer,col_indexer] = value instead\n",
      "\n",
      "See the caveats in the documentation: https://pandas.pydata.org/pandas-docs/stable/user_guide/indexing.html#returning-a-view-versus-a-copy\n",
      "  valid_groups['change_in_marking'] = valid_groups.groupby(['defender', 'possession_id'])['closest_attacker'].shift() != valid_groups['closest_attacker']\n"
     ]
    },
    {
     "name": "stdout",
     "output_type": "stream",
     "text": [
      "('SerieA_22-23_tracking/11/SALERNITANA-SPEZIA CALCIO G11_tracking.json', 'SerieA_22-23_tracking/11/SALERNITANA-SPEZIA CALCIO G11.json')\n"
     ]
    },
    {
     "name": "stderr",
     "output_type": "stream",
     "text": [
      "/var/folders/n2/9_7g8plj0bl7kt3pzlkmfdm80000gn/T/ipykernel_32508/2964926902.py:185: SettingWithCopyWarning: \n",
      "A value is trying to be set on a copy of a slice from a DataFrame.\n",
      "Try using .loc[row_indexer,col_indexer] = value instead\n",
      "\n",
      "See the caveats in the documentation: https://pandas.pydata.org/pandas-docs/stable/user_guide/indexing.html#returning-a-view-versus-a-copy\n",
      "  valid_groups['change_in_marking'] = valid_groups.groupby(['defender', 'possession_id'])['closest_attacker'].shift() != valid_groups['closest_attacker']\n"
     ]
    },
    {
     "name": "stdout",
     "output_type": "stream",
     "text": [
      "('SerieA_22-23_tracking/11/SASSUOLO-HELLAS VERONA G11_tracking.json', 'SerieA_22-23_tracking/11/SASSUOLO-HELLAS VERONA G11.json')\n"
     ]
    },
    {
     "name": "stderr",
     "output_type": "stream",
     "text": [
      "/var/folders/n2/9_7g8plj0bl7kt3pzlkmfdm80000gn/T/ipykernel_32508/2964926902.py:185: SettingWithCopyWarning: \n",
      "A value is trying to be set on a copy of a slice from a DataFrame.\n",
      "Try using .loc[row_indexer,col_indexer] = value instead\n",
      "\n",
      "See the caveats in the documentation: https://pandas.pydata.org/pandas-docs/stable/user_guide/indexing.html#returning-a-view-versus-a-copy\n",
      "  valid_groups['change_in_marking'] = valid_groups.groupby(['defender', 'possession_id'])['closest_attacker'].shift() != valid_groups['closest_attacker']\n"
     ]
    },
    {
     "name": "stdout",
     "output_type": "stream",
     "text": [
      "('SerieA_22-23_tracking/11/UDINESE-TORINO G11_tracking.json', 'SerieA_22-23_tracking/11/UDINESE-TORINO G11.json')\n"
     ]
    },
    {
     "name": "stderr",
     "output_type": "stream",
     "text": [
      "/var/folders/n2/9_7g8plj0bl7kt3pzlkmfdm80000gn/T/ipykernel_32508/2964926902.py:185: SettingWithCopyWarning: \n",
      "A value is trying to be set on a copy of a slice from a DataFrame.\n",
      "Try using .loc[row_indexer,col_indexer] = value instead\n",
      "\n",
      "See the caveats in the documentation: https://pandas.pydata.org/pandas-docs/stable/user_guide/indexing.html#returning-a-view-versus-a-copy\n",
      "  valid_groups['change_in_marking'] = valid_groups.groupby(['defender', 'possession_id'])['closest_attacker'].shift() != valid_groups['closest_attacker']\n"
     ]
    },
    {
     "name": "stdout",
     "output_type": "stream",
     "text": [
      "('SerieA_22-23_tracking/11/US CREMONESE-SAMPDORIA G11_tracking.json', 'SerieA_22-23_tracking/11/US CREMONESE-SAMPDORIA G11.json')\n"
     ]
    },
    {
     "name": "stderr",
     "output_type": "stream",
     "text": [
      "/var/folders/n2/9_7g8plj0bl7kt3pzlkmfdm80000gn/T/ipykernel_32508/2964926902.py:185: SettingWithCopyWarning: \n",
      "A value is trying to be set on a copy of a slice from a DataFrame.\n",
      "Try using .loc[row_indexer,col_indexer] = value instead\n",
      "\n",
      "See the caveats in the documentation: https://pandas.pydata.org/pandas-docs/stable/user_guide/indexing.html#returning-a-view-versus-a-copy\n",
      "  valid_groups['change_in_marking'] = valid_groups.groupby(['defender', 'possession_id'])['closest_attacker'].shift() != valid_groups['closest_attacker']\n"
     ]
    },
    {
     "name": "stdout",
     "output_type": "stream",
     "text": [
      "('SerieA_22-23_tracking/7/BOLOGNA-EMPOLI G7_tracking.json', 'SerieA_22-23_tracking/7/BOLOGNA-EMPOLI G7.json')\n"
     ]
    },
    {
     "name": "stderr",
     "output_type": "stream",
     "text": [
      "/var/folders/n2/9_7g8plj0bl7kt3pzlkmfdm80000gn/T/ipykernel_32508/2964926902.py:185: SettingWithCopyWarning: \n",
      "A value is trying to be set on a copy of a slice from a DataFrame.\n",
      "Try using .loc[row_indexer,col_indexer] = value instead\n",
      "\n",
      "See the caveats in the documentation: https://pandas.pydata.org/pandas-docs/stable/user_guide/indexing.html#returning-a-view-versus-a-copy\n",
      "  valid_groups['change_in_marking'] = valid_groups.groupby(['defender', 'possession_id'])['closest_attacker'].shift() != valid_groups['closest_attacker']\n"
     ]
    },
    {
     "name": "stdout",
     "output_type": "stream",
     "text": [
      "('SerieA_22-23_tracking/7/FIORENTINA-HELLAS VERONA G7_tracking.json', 'SerieA_22-23_tracking/7/FIORENTINA-HELLAS VERONA G7.json')\n"
     ]
    },
    {
     "name": "stderr",
     "output_type": "stream",
     "text": [
      "/var/folders/n2/9_7g8plj0bl7kt3pzlkmfdm80000gn/T/ipykernel_32508/2964926902.py:185: SettingWithCopyWarning: \n",
      "A value is trying to be set on a copy of a slice from a DataFrame.\n",
      "Try using .loc[row_indexer,col_indexer] = value instead\n",
      "\n",
      "See the caveats in the documentation: https://pandas.pydata.org/pandas-docs/stable/user_guide/indexing.html#returning-a-view-versus-a-copy\n",
      "  valid_groups['change_in_marking'] = valid_groups.groupby(['defender', 'possession_id'])['closest_attacker'].shift() != valid_groups['closest_attacker']\n"
     ]
    },
    {
     "name": "stdout",
     "output_type": "stream",
     "text": [
      "('SerieA_22-23_tracking/7/MILAN-NAPOLI G7_tracking.json', 'SerieA_22-23_tracking/7/MILAN-NAPOLI G7.json')\n"
     ]
    },
    {
     "name": "stderr",
     "output_type": "stream",
     "text": [
      "/var/folders/n2/9_7g8plj0bl7kt3pzlkmfdm80000gn/T/ipykernel_32508/2964926902.py:185: SettingWithCopyWarning: \n",
      "A value is trying to be set on a copy of a slice from a DataFrame.\n",
      "Try using .loc[row_indexer,col_indexer] = value instead\n",
      "\n",
      "See the caveats in the documentation: https://pandas.pydata.org/pandas-docs/stable/user_guide/indexing.html#returning-a-view-versus-a-copy\n",
      "  valid_groups['change_in_marking'] = valid_groups.groupby(['defender', 'possession_id'])['closest_attacker'].shift() != valid_groups['closest_attacker']\n"
     ]
    },
    {
     "name": "stdout",
     "output_type": "stream",
     "text": [
      "('SerieA_22-23_tracking/7/MONZA-JUVENTUS G7_tracking.json', 'SerieA_22-23_tracking/7/MONZA-JUVENTUS G7.json')\n"
     ]
    },
    {
     "name": "stderr",
     "output_type": "stream",
     "text": [
      "/var/folders/n2/9_7g8plj0bl7kt3pzlkmfdm80000gn/T/ipykernel_32508/2964926902.py:185: SettingWithCopyWarning: \n",
      "A value is trying to be set on a copy of a slice from a DataFrame.\n",
      "Try using .loc[row_indexer,col_indexer] = value instead\n",
      "\n",
      "See the caveats in the documentation: https://pandas.pydata.org/pandas-docs/stable/user_guide/indexing.html#returning-a-view-versus-a-copy\n",
      "  valid_groups['change_in_marking'] = valid_groups.groupby(['defender', 'possession_id'])['closest_attacker'].shift() != valid_groups['closest_attacker']\n"
     ]
    },
    {
     "name": "stdout",
     "output_type": "stream",
     "text": [
      "('SerieA_22-23_tracking/7/ROMA-ATALANTA G7_tracking.json', 'SerieA_22-23_tracking/7/ROMA-ATALANTA G7.json')\n"
     ]
    },
    {
     "name": "stderr",
     "output_type": "stream",
     "text": [
      "/var/folders/n2/9_7g8plj0bl7kt3pzlkmfdm80000gn/T/ipykernel_32508/2964926902.py:185: SettingWithCopyWarning: \n",
      "A value is trying to be set on a copy of a slice from a DataFrame.\n",
      "Try using .loc[row_indexer,col_indexer] = value instead\n",
      "\n",
      "See the caveats in the documentation: https://pandas.pydata.org/pandas-docs/stable/user_guide/indexing.html#returning-a-view-versus-a-copy\n",
      "  valid_groups['change_in_marking'] = valid_groups.groupby(['defender', 'possession_id'])['closest_attacker'].shift() != valid_groups['closest_attacker']\n"
     ]
    },
    {
     "name": "stdout",
     "output_type": "stream",
     "text": [
      "('SerieA_22-23_tracking/7/SALERNITANA-LECCE G7_tracking.json', 'SerieA_22-23_tracking/7/SALERNITANA-LECCE G7.json')\n"
     ]
    },
    {
     "name": "stderr",
     "output_type": "stream",
     "text": [
      "/var/folders/n2/9_7g8plj0bl7kt3pzlkmfdm80000gn/T/ipykernel_32508/2964926902.py:185: SettingWithCopyWarning: \n",
      "A value is trying to be set on a copy of a slice from a DataFrame.\n",
      "Try using .loc[row_indexer,col_indexer] = value instead\n",
      "\n",
      "See the caveats in the documentation: https://pandas.pydata.org/pandas-docs/stable/user_guide/indexing.html#returning-a-view-versus-a-copy\n",
      "  valid_groups['change_in_marking'] = valid_groups.groupby(['defender', 'possession_id'])['closest_attacker'].shift() != valid_groups['closest_attacker']\n"
     ]
    },
    {
     "name": "stdout",
     "output_type": "stream",
     "text": [
      "('SerieA_22-23_tracking/7/SPEZIA CALCIO-SAMPDORIA G7_tracking.json', 'SerieA_22-23_tracking/7/SPEZIA CALCIO-SAMPDORIA G7.json')\n"
     ]
    },
    {
     "name": "stderr",
     "output_type": "stream",
     "text": [
      "/var/folders/n2/9_7g8plj0bl7kt3pzlkmfdm80000gn/T/ipykernel_32508/2964926902.py:185: SettingWithCopyWarning: \n",
      "A value is trying to be set on a copy of a slice from a DataFrame.\n",
      "Try using .loc[row_indexer,col_indexer] = value instead\n",
      "\n",
      "See the caveats in the documentation: https://pandas.pydata.org/pandas-docs/stable/user_guide/indexing.html#returning-a-view-versus-a-copy\n",
      "  valid_groups['change_in_marking'] = valid_groups.groupby(['defender', 'possession_id'])['closest_attacker'].shift() != valid_groups['closest_attacker']\n"
     ]
    },
    {
     "name": "stdout",
     "output_type": "stream",
     "text": [
      "('SerieA_22-23_tracking/7/TORINO-SASSUOLO G7_tracking.json', 'SerieA_22-23_tracking/7/TORINO-SASSUOLO G7.json')\n"
     ]
    },
    {
     "name": "stderr",
     "output_type": "stream",
     "text": [
      "/var/folders/n2/9_7g8plj0bl7kt3pzlkmfdm80000gn/T/ipykernel_32508/2964926902.py:185: SettingWithCopyWarning: \n",
      "A value is trying to be set on a copy of a slice from a DataFrame.\n",
      "Try using .loc[row_indexer,col_indexer] = value instead\n",
      "\n",
      "See the caveats in the documentation: https://pandas.pydata.org/pandas-docs/stable/user_guide/indexing.html#returning-a-view-versus-a-copy\n",
      "  valid_groups['change_in_marking'] = valid_groups.groupby(['defender', 'possession_id'])['closest_attacker'].shift() != valid_groups['closest_attacker']\n"
     ]
    },
    {
     "name": "stdout",
     "output_type": "stream",
     "text": [
      "('SerieA_22-23_tracking/7/UDINESE-INTER G7_tracking.json', 'SerieA_22-23_tracking/7/UDINESE-INTER G7.json')\n"
     ]
    },
    {
     "name": "stderr",
     "output_type": "stream",
     "text": [
      "/var/folders/n2/9_7g8plj0bl7kt3pzlkmfdm80000gn/T/ipykernel_32508/2964926902.py:185: SettingWithCopyWarning: \n",
      "A value is trying to be set on a copy of a slice from a DataFrame.\n",
      "Try using .loc[row_indexer,col_indexer] = value instead\n",
      "\n",
      "See the caveats in the documentation: https://pandas.pydata.org/pandas-docs/stable/user_guide/indexing.html#returning-a-view-versus-a-copy\n",
      "  valid_groups['change_in_marking'] = valid_groups.groupby(['defender', 'possession_id'])['closest_attacker'].shift() != valid_groups['closest_attacker']\n"
     ]
    },
    {
     "name": "stdout",
     "output_type": "stream",
     "text": [
      "('SerieA_22-23_tracking/7/US CREMONESE-LAZIO G7_tracking.json', 'SerieA_22-23_tracking/7/US CREMONESE-LAZIO G7.json')\n"
     ]
    },
    {
     "name": "stderr",
     "output_type": "stream",
     "text": [
      "/var/folders/n2/9_7g8plj0bl7kt3pzlkmfdm80000gn/T/ipykernel_32508/2964926902.py:185: SettingWithCopyWarning: \n",
      "A value is trying to be set on a copy of a slice from a DataFrame.\n",
      "Try using .loc[row_indexer,col_indexer] = value instead\n",
      "\n",
      "See the caveats in the documentation: https://pandas.pydata.org/pandas-docs/stable/user_guide/indexing.html#returning-a-view-versus-a-copy\n",
      "  valid_groups['change_in_marking'] = valid_groups.groupby(['defender', 'possession_id'])['closest_attacker'].shift() != valid_groups['closest_attacker']\n"
     ]
    },
    {
     "name": "stdout",
     "output_type": "stream",
     "text": [
      "('SerieA_22-23_tracking/29/ATALANTA-BOLOGNA G29_tracking.json', 'SerieA_22-23_tracking/29/ATALANTA-BOLOGNA G29.json')\n"
     ]
    },
    {
     "name": "stderr",
     "output_type": "stream",
     "text": [
      "/var/folders/n2/9_7g8plj0bl7kt3pzlkmfdm80000gn/T/ipykernel_32508/2964926902.py:185: SettingWithCopyWarning: \n",
      "A value is trying to be set on a copy of a slice from a DataFrame.\n",
      "Try using .loc[row_indexer,col_indexer] = value instead\n",
      "\n",
      "See the caveats in the documentation: https://pandas.pydata.org/pandas-docs/stable/user_guide/indexing.html#returning-a-view-versus-a-copy\n",
      "  valid_groups['change_in_marking'] = valid_groups.groupby(['defender', 'possession_id'])['closest_attacker'].shift() != valid_groups['closest_attacker']\n"
     ]
    },
    {
     "name": "stdout",
     "output_type": "stream",
     "text": [
      "('SerieA_22-23_tracking/29/FIORENTINA-SPEZIA CALCIO G29_tracking.json', 'SerieA_22-23_tracking/29/FIORENTINA-SPEZIA CALCIO G29.json')\n"
     ]
    },
    {
     "name": "stderr",
     "output_type": "stream",
     "text": [
      "/var/folders/n2/9_7g8plj0bl7kt3pzlkmfdm80000gn/T/ipykernel_32508/2964926902.py:185: SettingWithCopyWarning: \n",
      "A value is trying to be set on a copy of a slice from a DataFrame.\n",
      "Try using .loc[row_indexer,col_indexer] = value instead\n",
      "\n",
      "See the caveats in the documentation: https://pandas.pydata.org/pandas-docs/stable/user_guide/indexing.html#returning-a-view-versus-a-copy\n",
      "  valid_groups['change_in_marking'] = valid_groups.groupby(['defender', 'possession_id'])['closest_attacker'].shift() != valid_groups['closest_attacker']\n"
     ]
    },
    {
     "name": "stdout",
     "output_type": "stream",
     "text": [
      "('SerieA_22-23_tracking/29/HELLAS VERONA-SASSUOLO G29_tracking.json', 'SerieA_22-23_tracking/29/HELLAS VERONA-SASSUOLO G29.json')\n"
     ]
    },
    {
     "name": "stderr",
     "output_type": "stream",
     "text": [
      "/var/folders/n2/9_7g8plj0bl7kt3pzlkmfdm80000gn/T/ipykernel_32508/2964926902.py:185: SettingWithCopyWarning: \n",
      "A value is trying to be set on a copy of a slice from a DataFrame.\n",
      "Try using .loc[row_indexer,col_indexer] = value instead\n",
      "\n",
      "See the caveats in the documentation: https://pandas.pydata.org/pandas-docs/stable/user_guide/indexing.html#returning-a-view-versus-a-copy\n",
      "  valid_groups['change_in_marking'] = valid_groups.groupby(['defender', 'possession_id'])['closest_attacker'].shift() != valid_groups['closest_attacker']\n"
     ]
    },
    {
     "name": "stdout",
     "output_type": "stream",
     "text": [
      "('SerieA_22-23_tracking/29/LAZIO-JUVENTUS G29_tracking.json', 'SerieA_22-23_tracking/29/LAZIO-JUVENTUS G29.json')\n"
     ]
    },
    {
     "name": "stderr",
     "output_type": "stream",
     "text": [
      "/var/folders/n2/9_7g8plj0bl7kt3pzlkmfdm80000gn/T/ipykernel_32508/2964926902.py:185: SettingWithCopyWarning: \n",
      "A value is trying to be set on a copy of a slice from a DataFrame.\n",
      "Try using .loc[row_indexer,col_indexer] = value instead\n",
      "\n",
      "See the caveats in the documentation: https://pandas.pydata.org/pandas-docs/stable/user_guide/indexing.html#returning-a-view-versus-a-copy\n",
      "  valid_groups['change_in_marking'] = valid_groups.groupby(['defender', 'possession_id'])['closest_attacker'].shift() != valid_groups['closest_attacker']\n"
     ]
    },
    {
     "name": "stdout",
     "output_type": "stream",
     "text": [
      "('SerieA_22-23_tracking/29/LECCE-NAPOLI G29_tracking.json', 'SerieA_22-23_tracking/29/LECCE-NAPOLI G29.json')\n"
     ]
    },
    {
     "name": "stderr",
     "output_type": "stream",
     "text": [
      "/var/folders/n2/9_7g8plj0bl7kt3pzlkmfdm80000gn/T/ipykernel_32508/2964926902.py:185: SettingWithCopyWarning: \n",
      "A value is trying to be set on a copy of a slice from a DataFrame.\n",
      "Try using .loc[row_indexer,col_indexer] = value instead\n",
      "\n",
      "See the caveats in the documentation: https://pandas.pydata.org/pandas-docs/stable/user_guide/indexing.html#returning-a-view-versus-a-copy\n",
      "  valid_groups['change_in_marking'] = valid_groups.groupby(['defender', 'possession_id'])['closest_attacker'].shift() != valid_groups['closest_attacker']\n"
     ]
    },
    {
     "name": "stdout",
     "output_type": "stream",
     "text": [
      "('SerieA_22-23_tracking/29/MILAN-EMPOLI G29_tracking.json', 'SerieA_22-23_tracking/29/MILAN-EMPOLI G29.json')\n"
     ]
    },
    {
     "name": "stderr",
     "output_type": "stream",
     "text": [
      "/var/folders/n2/9_7g8plj0bl7kt3pzlkmfdm80000gn/T/ipykernel_32508/2964926902.py:185: SettingWithCopyWarning: \n",
      "A value is trying to be set on a copy of a slice from a DataFrame.\n",
      "Try using .loc[row_indexer,col_indexer] = value instead\n",
      "\n",
      "See the caveats in the documentation: https://pandas.pydata.org/pandas-docs/stable/user_guide/indexing.html#returning-a-view-versus-a-copy\n",
      "  valid_groups['change_in_marking'] = valid_groups.groupby(['defender', 'possession_id'])['closest_attacker'].shift() != valid_groups['closest_attacker']\n"
     ]
    },
    {
     "name": "stdout",
     "output_type": "stream",
     "text": [
      "('SerieA_22-23_tracking/29/SALERNITANA-INTER G29_tracking.json', 'SerieA_22-23_tracking/29/SALERNITANA-INTER G29.json')\n"
     ]
    },
    {
     "name": "stderr",
     "output_type": "stream",
     "text": [
      "/var/folders/n2/9_7g8plj0bl7kt3pzlkmfdm80000gn/T/ipykernel_32508/2964926902.py:185: SettingWithCopyWarning: \n",
      "A value is trying to be set on a copy of a slice from a DataFrame.\n",
      "Try using .loc[row_indexer,col_indexer] = value instead\n",
      "\n",
      "See the caveats in the documentation: https://pandas.pydata.org/pandas-docs/stable/user_guide/indexing.html#returning-a-view-versus-a-copy\n",
      "  valid_groups['change_in_marking'] = valid_groups.groupby(['defender', 'possession_id'])['closest_attacker'].shift() != valid_groups['closest_attacker']\n"
     ]
    },
    {
     "name": "stdout",
     "output_type": "stream",
     "text": [
      "('SerieA_22-23_tracking/29/SAMPDORIA-US CREMONESE G29_tracking.json', 'SerieA_22-23_tracking/29/SAMPDORIA-US CREMONESE G29.json')\n"
     ]
    },
    {
     "name": "stderr",
     "output_type": "stream",
     "text": [
      "/var/folders/n2/9_7g8plj0bl7kt3pzlkmfdm80000gn/T/ipykernel_32508/2964926902.py:185: SettingWithCopyWarning: \n",
      "A value is trying to be set on a copy of a slice from a DataFrame.\n",
      "Try using .loc[row_indexer,col_indexer] = value instead\n",
      "\n",
      "See the caveats in the documentation: https://pandas.pydata.org/pandas-docs/stable/user_guide/indexing.html#returning-a-view-versus-a-copy\n",
      "  valid_groups['change_in_marking'] = valid_groups.groupby(['defender', 'possession_id'])['closest_attacker'].shift() != valid_groups['closest_attacker']\n"
     ]
    },
    {
     "name": "stdout",
     "output_type": "stream",
     "text": [
      "('SerieA_22-23_tracking/29/TORINO-ROMA G29_tracking.json', 'SerieA_22-23_tracking/29/TORINO-ROMA G29.json')\n"
     ]
    },
    {
     "name": "stderr",
     "output_type": "stream",
     "text": [
      "/var/folders/n2/9_7g8plj0bl7kt3pzlkmfdm80000gn/T/ipykernel_32508/2964926902.py:185: SettingWithCopyWarning: \n",
      "A value is trying to be set on a copy of a slice from a DataFrame.\n",
      "Try using .loc[row_indexer,col_indexer] = value instead\n",
      "\n",
      "See the caveats in the documentation: https://pandas.pydata.org/pandas-docs/stable/user_guide/indexing.html#returning-a-view-versus-a-copy\n",
      "  valid_groups['change_in_marking'] = valid_groups.groupby(['defender', 'possession_id'])['closest_attacker'].shift() != valid_groups['closest_attacker']\n"
     ]
    },
    {
     "name": "stdout",
     "output_type": "stream",
     "text": [
      "('SerieA_22-23_tracking/29/UDINESE-MONZA G29_tracking.json', 'SerieA_22-23_tracking/29/UDINESE-MONZA G29.json')\n"
     ]
    },
    {
     "name": "stderr",
     "output_type": "stream",
     "text": [
      "/var/folders/n2/9_7g8plj0bl7kt3pzlkmfdm80000gn/T/ipykernel_32508/2964926902.py:185: SettingWithCopyWarning: \n",
      "A value is trying to be set on a copy of a slice from a DataFrame.\n",
      "Try using .loc[row_indexer,col_indexer] = value instead\n",
      "\n",
      "See the caveats in the documentation: https://pandas.pydata.org/pandas-docs/stable/user_guide/indexing.html#returning-a-view-versus-a-copy\n",
      "  valid_groups['change_in_marking'] = valid_groups.groupby(['defender', 'possession_id'])['closest_attacker'].shift() != valid_groups['closest_attacker']\n"
     ]
    },
    {
     "name": "stdout",
     "output_type": "stream",
     "text": [
      "('SerieA_22-23_tracking/16/FIORENTINA-MONZA G16_tracking.json', 'SerieA_22-23_tracking/16/FIORENTINA-MONZA G16.json')\n"
     ]
    },
    {
     "name": "stderr",
     "output_type": "stream",
     "text": [
      "/var/folders/n2/9_7g8plj0bl7kt3pzlkmfdm80000gn/T/ipykernel_32508/2964926902.py:185: SettingWithCopyWarning: \n",
      "A value is trying to be set on a copy of a slice from a DataFrame.\n",
      "Try using .loc[row_indexer,col_indexer] = value instead\n",
      "\n",
      "See the caveats in the documentation: https://pandas.pydata.org/pandas-docs/stable/user_guide/indexing.html#returning-a-view-versus-a-copy\n",
      "  valid_groups['change_in_marking'] = valid_groups.groupby(['defender', 'possession_id'])['closest_attacker'].shift() != valid_groups['closest_attacker']\n"
     ]
    },
    {
     "name": "stdout",
     "output_type": "stream",
     "text": [
      "('SerieA_22-23_tracking/16/INTER-NAPOLI G16_tracking.json', 'SerieA_22-23_tracking/16/INTER-NAPOLI G16.json')\n"
     ]
    },
    {
     "name": "stderr",
     "output_type": "stream",
     "text": [
      "/var/folders/n2/9_7g8plj0bl7kt3pzlkmfdm80000gn/T/ipykernel_32508/2964926902.py:185: SettingWithCopyWarning: \n",
      "A value is trying to be set on a copy of a slice from a DataFrame.\n",
      "Try using .loc[row_indexer,col_indexer] = value instead\n",
      "\n",
      "See the caveats in the documentation: https://pandas.pydata.org/pandas-docs/stable/user_guide/indexing.html#returning-a-view-versus-a-copy\n",
      "  valid_groups['change_in_marking'] = valid_groups.groupby(['defender', 'possession_id'])['closest_attacker'].shift() != valid_groups['closest_attacker']\n"
     ]
    },
    {
     "name": "stdout",
     "output_type": "stream",
     "text": [
      "('SerieA_22-23_tracking/16/LECCE-LAZIO G16_tracking.json', 'SerieA_22-23_tracking/16/LECCE-LAZIO G16.json')\n"
     ]
    },
    {
     "name": "stderr",
     "output_type": "stream",
     "text": [
      "/var/folders/n2/9_7g8plj0bl7kt3pzlkmfdm80000gn/T/ipykernel_32508/2964926902.py:185: SettingWithCopyWarning: \n",
      "A value is trying to be set on a copy of a slice from a DataFrame.\n",
      "Try using .loc[row_indexer,col_indexer] = value instead\n",
      "\n",
      "See the caveats in the documentation: https://pandas.pydata.org/pandas-docs/stable/user_guide/indexing.html#returning-a-view-versus-a-copy\n",
      "  valid_groups['change_in_marking'] = valid_groups.groupby(['defender', 'possession_id'])['closest_attacker'].shift() != valid_groups['closest_attacker']\n"
     ]
    },
    {
     "name": "stdout",
     "output_type": "stream",
     "text": [
      "('SerieA_22-23_tracking/16/ROMA-BOLOGNA G16_tracking.json', 'SerieA_22-23_tracking/16/ROMA-BOLOGNA G16.json')\n"
     ]
    },
    {
     "name": "stderr",
     "output_type": "stream",
     "text": [
      "/var/folders/n2/9_7g8plj0bl7kt3pzlkmfdm80000gn/T/ipykernel_32508/2964926902.py:185: SettingWithCopyWarning: \n",
      "A value is trying to be set on a copy of a slice from a DataFrame.\n",
      "Try using .loc[row_indexer,col_indexer] = value instead\n",
      "\n",
      "See the caveats in the documentation: https://pandas.pydata.org/pandas-docs/stable/user_guide/indexing.html#returning-a-view-versus-a-copy\n",
      "  valid_groups['change_in_marking'] = valid_groups.groupby(['defender', 'possession_id'])['closest_attacker'].shift() != valid_groups['closest_attacker']\n"
     ]
    },
    {
     "name": "stdout",
     "output_type": "stream",
     "text": [
      "('SerieA_22-23_tracking/16/SALERNITANA-MILAN G16_tracking.json', 'SerieA_22-23_tracking/16/SALERNITANA-MILAN G16.json')\n"
     ]
    },
    {
     "name": "stderr",
     "output_type": "stream",
     "text": [
      "/var/folders/n2/9_7g8plj0bl7kt3pzlkmfdm80000gn/T/ipykernel_32508/2964926902.py:185: SettingWithCopyWarning: \n",
      "A value is trying to be set on a copy of a slice from a DataFrame.\n",
      "Try using .loc[row_indexer,col_indexer] = value instead\n",
      "\n",
      "See the caveats in the documentation: https://pandas.pydata.org/pandas-docs/stable/user_guide/indexing.html#returning-a-view-versus-a-copy\n",
      "  valid_groups['change_in_marking'] = valid_groups.groupby(['defender', 'possession_id'])['closest_attacker'].shift() != valid_groups['closest_attacker']\n"
     ]
    },
    {
     "name": "stdout",
     "output_type": "stream",
     "text": [
      "('SerieA_22-23_tracking/16/SASSUOLO-SAMPDORIA G16_tracking.json', 'SerieA_22-23_tracking/16/SASSUOLO-SAMPDORIA G16.json')\n"
     ]
    },
    {
     "name": "stderr",
     "output_type": "stream",
     "text": [
      "/var/folders/n2/9_7g8plj0bl7kt3pzlkmfdm80000gn/T/ipykernel_32508/2964926902.py:185: SettingWithCopyWarning: \n",
      "A value is trying to be set on a copy of a slice from a DataFrame.\n",
      "Try using .loc[row_indexer,col_indexer] = value instead\n",
      "\n",
      "See the caveats in the documentation: https://pandas.pydata.org/pandas-docs/stable/user_guide/indexing.html#returning-a-view-versus-a-copy\n",
      "  valid_groups['change_in_marking'] = valid_groups.groupby(['defender', 'possession_id'])['closest_attacker'].shift() != valid_groups['closest_attacker']\n"
     ]
    },
    {
     "name": "stdout",
     "output_type": "stream",
     "text": [
      "('SerieA_22-23_tracking/16/SPEZIA CALCIO-ATALANTA G16_tracking.json', 'SerieA_22-23_tracking/16/SPEZIA CALCIO-ATALANTA G16.json')\n"
     ]
    },
    {
     "name": "stderr",
     "output_type": "stream",
     "text": [
      "/var/folders/n2/9_7g8plj0bl7kt3pzlkmfdm80000gn/T/ipykernel_32508/2964926902.py:185: SettingWithCopyWarning: \n",
      "A value is trying to be set on a copy of a slice from a DataFrame.\n",
      "Try using .loc[row_indexer,col_indexer] = value instead\n",
      "\n",
      "See the caveats in the documentation: https://pandas.pydata.org/pandas-docs/stable/user_guide/indexing.html#returning-a-view-versus-a-copy\n",
      "  valid_groups['change_in_marking'] = valid_groups.groupby(['defender', 'possession_id'])['closest_attacker'].shift() != valid_groups['closest_attacker']\n"
     ]
    },
    {
     "name": "stdout",
     "output_type": "stream",
     "text": [
      "('SerieA_22-23_tracking/16/TORINO-HELLAS VERONA G16_tracking.json', 'SerieA_22-23_tracking/16/TORINO-HELLAS VERONA G16.json')\n"
     ]
    },
    {
     "name": "stderr",
     "output_type": "stream",
     "text": [
      "/var/folders/n2/9_7g8plj0bl7kt3pzlkmfdm80000gn/T/ipykernel_32508/2964926902.py:185: SettingWithCopyWarning: \n",
      "A value is trying to be set on a copy of a slice from a DataFrame.\n",
      "Try using .loc[row_indexer,col_indexer] = value instead\n",
      "\n",
      "See the caveats in the documentation: https://pandas.pydata.org/pandas-docs/stable/user_guide/indexing.html#returning-a-view-versus-a-copy\n",
      "  valid_groups['change_in_marking'] = valid_groups.groupby(['defender', 'possession_id'])['closest_attacker'].shift() != valid_groups['closest_attacker']\n"
     ]
    },
    {
     "name": "stdout",
     "output_type": "stream",
     "text": [
      "('SerieA_22-23_tracking/16/UDINESE-EMPOLI G16_tracking.json', 'SerieA_22-23_tracking/16/UDINESE-EMPOLI G16.json')\n"
     ]
    },
    {
     "name": "stderr",
     "output_type": "stream",
     "text": [
      "/var/folders/n2/9_7g8plj0bl7kt3pzlkmfdm80000gn/T/ipykernel_32508/2964926902.py:185: SettingWithCopyWarning: \n",
      "A value is trying to be set on a copy of a slice from a DataFrame.\n",
      "Try using .loc[row_indexer,col_indexer] = value instead\n",
      "\n",
      "See the caveats in the documentation: https://pandas.pydata.org/pandas-docs/stable/user_guide/indexing.html#returning-a-view-versus-a-copy\n",
      "  valid_groups['change_in_marking'] = valid_groups.groupby(['defender', 'possession_id'])['closest_attacker'].shift() != valid_groups['closest_attacker']\n"
     ]
    },
    {
     "name": "stdout",
     "output_type": "stream",
     "text": [
      "('SerieA_22-23_tracking/16/US CREMONESE-JUVENTUS G16_tracking.json', 'SerieA_22-23_tracking/16/US CREMONESE-JUVENTUS G16.json')\n"
     ]
    },
    {
     "name": "stderr",
     "output_type": "stream",
     "text": [
      "/var/folders/n2/9_7g8plj0bl7kt3pzlkmfdm80000gn/T/ipykernel_32508/2964926902.py:185: SettingWithCopyWarning: \n",
      "A value is trying to be set on a copy of a slice from a DataFrame.\n",
      "Try using .loc[row_indexer,col_indexer] = value instead\n",
      "\n",
      "See the caveats in the documentation: https://pandas.pydata.org/pandas-docs/stable/user_guide/indexing.html#returning-a-view-versus-a-copy\n",
      "  valid_groups['change_in_marking'] = valid_groups.groupby(['defender', 'possession_id'])['closest_attacker'].shift() != valid_groups['closest_attacker']\n"
     ]
    },
    {
     "name": "stdout",
     "output_type": "stream",
     "text": [
      "('SerieA_22-23_tracking/6/ATALANTA-US CREMONESE G6_tracking.json', 'SerieA_22-23_tracking/6/ATALANTA-US CREMONESE G6.json')\n"
     ]
    },
    {
     "name": "stderr",
     "output_type": "stream",
     "text": [
      "/var/folders/n2/9_7g8plj0bl7kt3pzlkmfdm80000gn/T/ipykernel_32508/2964926902.py:185: SettingWithCopyWarning: \n",
      "A value is trying to be set on a copy of a slice from a DataFrame.\n",
      "Try using .loc[row_indexer,col_indexer] = value instead\n",
      "\n",
      "See the caveats in the documentation: https://pandas.pydata.org/pandas-docs/stable/user_guide/indexing.html#returning-a-view-versus-a-copy\n",
      "  valid_groups['change_in_marking'] = valid_groups.groupby(['defender', 'possession_id'])['closest_attacker'].shift() != valid_groups['closest_attacker']\n"
     ]
    },
    {
     "name": "stdout",
     "output_type": "stream",
     "text": [
      "('SerieA_22-23_tracking/6/BOLOGNA-FIORENTINA G6_tracking.json', 'SerieA_22-23_tracking/6/BOLOGNA-FIORENTINA G6.json')\n"
     ]
    },
    {
     "name": "stderr",
     "output_type": "stream",
     "text": [
      "/var/folders/n2/9_7g8plj0bl7kt3pzlkmfdm80000gn/T/ipykernel_32508/2964926902.py:185: SettingWithCopyWarning: \n",
      "A value is trying to be set on a copy of a slice from a DataFrame.\n",
      "Try using .loc[row_indexer,col_indexer] = value instead\n",
      "\n",
      "See the caveats in the documentation: https://pandas.pydata.org/pandas-docs/stable/user_guide/indexing.html#returning-a-view-versus-a-copy\n",
      "  valid_groups['change_in_marking'] = valid_groups.groupby(['defender', 'possession_id'])['closest_attacker'].shift() != valid_groups['closest_attacker']\n"
     ]
    },
    {
     "name": "stdout",
     "output_type": "stream",
     "text": [
      "('SerieA_22-23_tracking/6/EMPOLI-ROMA G6_tracking.json', 'SerieA_22-23_tracking/6/EMPOLI-ROMA G6.json')\n"
     ]
    },
    {
     "name": "stderr",
     "output_type": "stream",
     "text": [
      "/var/folders/n2/9_7g8plj0bl7kt3pzlkmfdm80000gn/T/ipykernel_32508/2964926902.py:185: SettingWithCopyWarning: \n",
      "A value is trying to be set on a copy of a slice from a DataFrame.\n",
      "Try using .loc[row_indexer,col_indexer] = value instead\n",
      "\n",
      "See the caveats in the documentation: https://pandas.pydata.org/pandas-docs/stable/user_guide/indexing.html#returning-a-view-versus-a-copy\n",
      "  valid_groups['change_in_marking'] = valid_groups.groupby(['defender', 'possession_id'])['closest_attacker'].shift() != valid_groups['closest_attacker']\n"
     ]
    },
    {
     "name": "stdout",
     "output_type": "stream",
     "text": [
      "('SerieA_22-23_tracking/6/INTER-TORINO G6_tracking.json', 'SerieA_22-23_tracking/6/INTER-TORINO G6.json')\n"
     ]
    },
    {
     "name": "stderr",
     "output_type": "stream",
     "text": [
      "/var/folders/n2/9_7g8plj0bl7kt3pzlkmfdm80000gn/T/ipykernel_32508/2964926902.py:185: SettingWithCopyWarning: \n",
      "A value is trying to be set on a copy of a slice from a DataFrame.\n",
      "Try using .loc[row_indexer,col_indexer] = value instead\n",
      "\n",
      "See the caveats in the documentation: https://pandas.pydata.org/pandas-docs/stable/user_guide/indexing.html#returning-a-view-versus-a-copy\n",
      "  valid_groups['change_in_marking'] = valid_groups.groupby(['defender', 'possession_id'])['closest_attacker'].shift() != valid_groups['closest_attacker']\n"
     ]
    },
    {
     "name": "stdout",
     "output_type": "stream",
     "text": [
      "('SerieA_22-23_tracking/6/JUVENTUS-SALERNITANA G6_tracking.json', 'SerieA_22-23_tracking/6/JUVENTUS-SALERNITANA G6.json')\n"
     ]
    },
    {
     "name": "stderr",
     "output_type": "stream",
     "text": [
      "/var/folders/n2/9_7g8plj0bl7kt3pzlkmfdm80000gn/T/ipykernel_32508/2964926902.py:185: SettingWithCopyWarning: \n",
      "A value is trying to be set on a copy of a slice from a DataFrame.\n",
      "Try using .loc[row_indexer,col_indexer] = value instead\n",
      "\n",
      "See the caveats in the documentation: https://pandas.pydata.org/pandas-docs/stable/user_guide/indexing.html#returning-a-view-versus-a-copy\n",
      "  valid_groups['change_in_marking'] = valid_groups.groupby(['defender', 'possession_id'])['closest_attacker'].shift() != valid_groups['closest_attacker']\n"
     ]
    },
    {
     "name": "stdout",
     "output_type": "stream",
     "text": [
      "('SerieA_22-23_tracking/6/LAZIO-HELLAS VERONA G6_tracking.json', 'SerieA_22-23_tracking/6/LAZIO-HELLAS VERONA G6.json')\n"
     ]
    },
    {
     "name": "stderr",
     "output_type": "stream",
     "text": [
      "/var/folders/n2/9_7g8plj0bl7kt3pzlkmfdm80000gn/T/ipykernel_32508/2964926902.py:185: SettingWithCopyWarning: \n",
      "A value is trying to be set on a copy of a slice from a DataFrame.\n",
      "Try using .loc[row_indexer,col_indexer] = value instead\n",
      "\n",
      "See the caveats in the documentation: https://pandas.pydata.org/pandas-docs/stable/user_guide/indexing.html#returning-a-view-versus-a-copy\n",
      "  valid_groups['change_in_marking'] = valid_groups.groupby(['defender', 'possession_id'])['closest_attacker'].shift() != valid_groups['closest_attacker']\n"
     ]
    },
    {
     "name": "stdout",
     "output_type": "stream",
     "text": [
      "('SerieA_22-23_tracking/6/LECCE-MONZA G6_tracking.json', 'SerieA_22-23_tracking/6/LECCE-MONZA G6.json')\n"
     ]
    },
    {
     "name": "stderr",
     "output_type": "stream",
     "text": [
      "/var/folders/n2/9_7g8plj0bl7kt3pzlkmfdm80000gn/T/ipykernel_32508/2964926902.py:185: SettingWithCopyWarning: \n",
      "A value is trying to be set on a copy of a slice from a DataFrame.\n",
      "Try using .loc[row_indexer,col_indexer] = value instead\n",
      "\n",
      "See the caveats in the documentation: https://pandas.pydata.org/pandas-docs/stable/user_guide/indexing.html#returning-a-view-versus-a-copy\n",
      "  valid_groups['change_in_marking'] = valid_groups.groupby(['defender', 'possession_id'])['closest_attacker'].shift() != valid_groups['closest_attacker']\n"
     ]
    },
    {
     "name": "stdout",
     "output_type": "stream",
     "text": [
      "('SerieA_22-23_tracking/6/NAPOLI-SPEZIA CALCIO G6_tracking.json', 'SerieA_22-23_tracking/6/NAPOLI-SPEZIA CALCIO G6.json')\n"
     ]
    },
    {
     "name": "stderr",
     "output_type": "stream",
     "text": [
      "/var/folders/n2/9_7g8plj0bl7kt3pzlkmfdm80000gn/T/ipykernel_32508/2964926902.py:185: SettingWithCopyWarning: \n",
      "A value is trying to be set on a copy of a slice from a DataFrame.\n",
      "Try using .loc[row_indexer,col_indexer] = value instead\n",
      "\n",
      "See the caveats in the documentation: https://pandas.pydata.org/pandas-docs/stable/user_guide/indexing.html#returning-a-view-versus-a-copy\n",
      "  valid_groups['change_in_marking'] = valid_groups.groupby(['defender', 'possession_id'])['closest_attacker'].shift() != valid_groups['closest_attacker']\n"
     ]
    },
    {
     "name": "stdout",
     "output_type": "stream",
     "text": [
      "('SerieA_22-23_tracking/6/SAMPDORIA-MILAN G6_tracking.json', 'SerieA_22-23_tracking/6/SAMPDORIA-MILAN G6.json')\n"
     ]
    },
    {
     "name": "stderr",
     "output_type": "stream",
     "text": [
      "/var/folders/n2/9_7g8plj0bl7kt3pzlkmfdm80000gn/T/ipykernel_32508/2964926902.py:185: SettingWithCopyWarning: \n",
      "A value is trying to be set on a copy of a slice from a DataFrame.\n",
      "Try using .loc[row_indexer,col_indexer] = value instead\n",
      "\n",
      "See the caveats in the documentation: https://pandas.pydata.org/pandas-docs/stable/user_guide/indexing.html#returning-a-view-versus-a-copy\n",
      "  valid_groups['change_in_marking'] = valid_groups.groupby(['defender', 'possession_id'])['closest_attacker'].shift() != valid_groups['closest_attacker']\n"
     ]
    },
    {
     "name": "stdout",
     "output_type": "stream",
     "text": [
      "('SerieA_22-23_tracking/6/SASSUOLO-UDINESE G6_tracking.json', 'SerieA_22-23_tracking/6/SASSUOLO-UDINESE G6.json')\n"
     ]
    },
    {
     "name": "stderr",
     "output_type": "stream",
     "text": [
      "/var/folders/n2/9_7g8plj0bl7kt3pzlkmfdm80000gn/T/ipykernel_32508/2964926902.py:185: SettingWithCopyWarning: \n",
      "A value is trying to be set on a copy of a slice from a DataFrame.\n",
      "Try using .loc[row_indexer,col_indexer] = value instead\n",
      "\n",
      "See the caveats in the documentation: https://pandas.pydata.org/pandas-docs/stable/user_guide/indexing.html#returning-a-view-versus-a-copy\n",
      "  valid_groups['change_in_marking'] = valid_groups.groupby(['defender', 'possession_id'])['closest_attacker'].shift() != valid_groups['closest_attacker']\n"
     ]
    },
    {
     "name": "stdout",
     "output_type": "stream",
     "text": [
      "('SerieA_22-23_tracking/28/BOLOGNA-UDINESE G28_tracking.json', 'SerieA_22-23_tracking/28/BOLOGNA-UDINESE G28.json')\n"
     ]
    },
    {
     "name": "stderr",
     "output_type": "stream",
     "text": [
      "/var/folders/n2/9_7g8plj0bl7kt3pzlkmfdm80000gn/T/ipykernel_32508/2964926902.py:185: SettingWithCopyWarning: \n",
      "A value is trying to be set on a copy of a slice from a DataFrame.\n",
      "Try using .loc[row_indexer,col_indexer] = value instead\n",
      "\n",
      "See the caveats in the documentation: https://pandas.pydata.org/pandas-docs/stable/user_guide/indexing.html#returning-a-view-versus-a-copy\n",
      "  valid_groups['change_in_marking'] = valid_groups.groupby(['defender', 'possession_id'])['closest_attacker'].shift() != valid_groups['closest_attacker']\n"
     ]
    },
    {
     "name": "stdout",
     "output_type": "stream",
     "text": [
      "('SerieA_22-23_tracking/28/EMPOLI-LECCE G28_tracking.json', 'SerieA_22-23_tracking/28/EMPOLI-LECCE G28.json')\n"
     ]
    },
    {
     "name": "stderr",
     "output_type": "stream",
     "text": [
      "/var/folders/n2/9_7g8plj0bl7kt3pzlkmfdm80000gn/T/ipykernel_32508/2964926902.py:185: SettingWithCopyWarning: \n",
      "A value is trying to be set on a copy of a slice from a DataFrame.\n",
      "Try using .loc[row_indexer,col_indexer] = value instead\n",
      "\n",
      "See the caveats in the documentation: https://pandas.pydata.org/pandas-docs/stable/user_guide/indexing.html#returning-a-view-versus-a-copy\n",
      "  valid_groups['change_in_marking'] = valid_groups.groupby(['defender', 'possession_id'])['closest_attacker'].shift() != valid_groups['closest_attacker']\n"
     ]
    },
    {
     "name": "stdout",
     "output_type": "stream",
     "text": [
      "('SerieA_22-23_tracking/28/INTER-FIORENTINA G28_tracking.json', 'SerieA_22-23_tracking/28/INTER-FIORENTINA G28.json')\n"
     ]
    },
    {
     "name": "stderr",
     "output_type": "stream",
     "text": [
      "/var/folders/n2/9_7g8plj0bl7kt3pzlkmfdm80000gn/T/ipykernel_32508/2964926902.py:185: SettingWithCopyWarning: \n",
      "A value is trying to be set on a copy of a slice from a DataFrame.\n",
      "Try using .loc[row_indexer,col_indexer] = value instead\n",
      "\n",
      "See the caveats in the documentation: https://pandas.pydata.org/pandas-docs/stable/user_guide/indexing.html#returning-a-view-versus-a-copy\n",
      "  valid_groups['change_in_marking'] = valid_groups.groupby(['defender', 'possession_id'])['closest_attacker'].shift() != valid_groups['closest_attacker']\n"
     ]
    },
    {
     "name": "stdout",
     "output_type": "stream",
     "text": [
      "('SerieA_22-23_tracking/28/JUVENTUS-HELLAS VERONA G28_tracking.json', 'SerieA_22-23_tracking/28/JUVENTUS-HELLAS VERONA G28.json')\n"
     ]
    },
    {
     "name": "stderr",
     "output_type": "stream",
     "text": [
      "/var/folders/n2/9_7g8plj0bl7kt3pzlkmfdm80000gn/T/ipykernel_32508/2964926902.py:185: SettingWithCopyWarning: \n",
      "A value is trying to be set on a copy of a slice from a DataFrame.\n",
      "Try using .loc[row_indexer,col_indexer] = value instead\n",
      "\n",
      "See the caveats in the documentation: https://pandas.pydata.org/pandas-docs/stable/user_guide/indexing.html#returning-a-view-versus-a-copy\n",
      "  valid_groups['change_in_marking'] = valid_groups.groupby(['defender', 'possession_id'])['closest_attacker'].shift() != valid_groups['closest_attacker']\n"
     ]
    },
    {
     "name": "stdout",
     "output_type": "stream",
     "text": [
      "('SerieA_22-23_tracking/28/MONZA-LAZIO G28_tracking.json', 'SerieA_22-23_tracking/28/MONZA-LAZIO G28.json')\n"
     ]
    },
    {
     "name": "stderr",
     "output_type": "stream",
     "text": [
      "/var/folders/n2/9_7g8plj0bl7kt3pzlkmfdm80000gn/T/ipykernel_32508/2964926902.py:185: SettingWithCopyWarning: \n",
      "A value is trying to be set on a copy of a slice from a DataFrame.\n",
      "Try using .loc[row_indexer,col_indexer] = value instead\n",
      "\n",
      "See the caveats in the documentation: https://pandas.pydata.org/pandas-docs/stable/user_guide/indexing.html#returning-a-view-versus-a-copy\n",
      "  valid_groups['change_in_marking'] = valid_groups.groupby(['defender', 'possession_id'])['closest_attacker'].shift() != valid_groups['closest_attacker']\n"
     ]
    },
    {
     "name": "stdout",
     "output_type": "stream",
     "text": [
      "('SerieA_22-23_tracking/28/NAPOLI-MILAN G28_tracking.json', 'SerieA_22-23_tracking/28/NAPOLI-MILAN G28.json')\n"
     ]
    },
    {
     "name": "stderr",
     "output_type": "stream",
     "text": [
      "/var/folders/n2/9_7g8plj0bl7kt3pzlkmfdm80000gn/T/ipykernel_32508/2964926902.py:185: SettingWithCopyWarning: \n",
      "A value is trying to be set on a copy of a slice from a DataFrame.\n",
      "Try using .loc[row_indexer,col_indexer] = value instead\n",
      "\n",
      "See the caveats in the documentation: https://pandas.pydata.org/pandas-docs/stable/user_guide/indexing.html#returning-a-view-versus-a-copy\n",
      "  valid_groups['change_in_marking'] = valid_groups.groupby(['defender', 'possession_id'])['closest_attacker'].shift() != valid_groups['closest_attacker']\n"
     ]
    },
    {
     "name": "stdout",
     "output_type": "stream",
     "text": [
      "('SerieA_22-23_tracking/28/ROMA-SAMPDORIA G28_tracking.json', 'SerieA_22-23_tracking/28/ROMA-SAMPDORIA G28.json')\n"
     ]
    },
    {
     "name": "stderr",
     "output_type": "stream",
     "text": [
      "/var/folders/n2/9_7g8plj0bl7kt3pzlkmfdm80000gn/T/ipykernel_32508/2964926902.py:185: SettingWithCopyWarning: \n",
      "A value is trying to be set on a copy of a slice from a DataFrame.\n",
      "Try using .loc[row_indexer,col_indexer] = value instead\n",
      "\n",
      "See the caveats in the documentation: https://pandas.pydata.org/pandas-docs/stable/user_guide/indexing.html#returning-a-view-versus-a-copy\n",
      "  valid_groups['change_in_marking'] = valid_groups.groupby(['defender', 'possession_id'])['closest_attacker'].shift() != valid_groups['closest_attacker']\n"
     ]
    },
    {
     "name": "stdout",
     "output_type": "stream",
     "text": [
      "('SerieA_22-23_tracking/28/SASSUOLO-TORINO G28_tracking.json', 'SerieA_22-23_tracking/28/SASSUOLO-TORINO G28.json')\n"
     ]
    },
    {
     "name": "stderr",
     "output_type": "stream",
     "text": [
      "/var/folders/n2/9_7g8plj0bl7kt3pzlkmfdm80000gn/T/ipykernel_32508/2964926902.py:185: SettingWithCopyWarning: \n",
      "A value is trying to be set on a copy of a slice from a DataFrame.\n",
      "Try using .loc[row_indexer,col_indexer] = value instead\n",
      "\n",
      "See the caveats in the documentation: https://pandas.pydata.org/pandas-docs/stable/user_guide/indexing.html#returning-a-view-versus-a-copy\n",
      "  valid_groups['change_in_marking'] = valid_groups.groupby(['defender', 'possession_id'])['closest_attacker'].shift() != valid_groups['closest_attacker']\n"
     ]
    },
    {
     "name": "stdout",
     "output_type": "stream",
     "text": [
      "('SerieA_22-23_tracking/28/SPEZIA CALCIO-SALERNITANA G28_tracking.json', 'SerieA_22-23_tracking/28/SPEZIA CALCIO-SALERNITANA G28.json')\n"
     ]
    },
    {
     "name": "stderr",
     "output_type": "stream",
     "text": [
      "/var/folders/n2/9_7g8plj0bl7kt3pzlkmfdm80000gn/T/ipykernel_32508/2964926902.py:185: SettingWithCopyWarning: \n",
      "A value is trying to be set on a copy of a slice from a DataFrame.\n",
      "Try using .loc[row_indexer,col_indexer] = value instead\n",
      "\n",
      "See the caveats in the documentation: https://pandas.pydata.org/pandas-docs/stable/user_guide/indexing.html#returning-a-view-versus-a-copy\n",
      "  valid_groups['change_in_marking'] = valid_groups.groupby(['defender', 'possession_id'])['closest_attacker'].shift() != valid_groups['closest_attacker']\n"
     ]
    },
    {
     "name": "stdout",
     "output_type": "stream",
     "text": [
      "('SerieA_22-23_tracking/28/US CREMONESE-ATALANTA G28_tracking.json', 'SerieA_22-23_tracking/28/US CREMONESE-ATALANTA G28.json')\n"
     ]
    },
    {
     "name": "stderr",
     "output_type": "stream",
     "text": [
      "/var/folders/n2/9_7g8plj0bl7kt3pzlkmfdm80000gn/T/ipykernel_32508/2964926902.py:185: SettingWithCopyWarning: \n",
      "A value is trying to be set on a copy of a slice from a DataFrame.\n",
      "Try using .loc[row_indexer,col_indexer] = value instead\n",
      "\n",
      "See the caveats in the documentation: https://pandas.pydata.org/pandas-docs/stable/user_guide/indexing.html#returning-a-view-versus-a-copy\n",
      "  valid_groups['change_in_marking'] = valid_groups.groupby(['defender', 'possession_id'])['closest_attacker'].shift() != valid_groups['closest_attacker']\n"
     ]
    },
    {
     "name": "stdout",
     "output_type": "stream",
     "text": [
      "('SerieA_22-23_tracking/17/BOLOGNA-ATALANTA G17_tracking.json', 'SerieA_22-23_tracking/17/BOLOGNA-ATALANTA G17.json')\n"
     ]
    },
    {
     "name": "stderr",
     "output_type": "stream",
     "text": [
      "/var/folders/n2/9_7g8plj0bl7kt3pzlkmfdm80000gn/T/ipykernel_32508/2964926902.py:185: SettingWithCopyWarning: \n",
      "A value is trying to be set on a copy of a slice from a DataFrame.\n",
      "Try using .loc[row_indexer,col_indexer] = value instead\n",
      "\n",
      "See the caveats in the documentation: https://pandas.pydata.org/pandas-docs/stable/user_guide/indexing.html#returning-a-view-versus-a-copy\n",
      "  valid_groups['change_in_marking'] = valid_groups.groupby(['defender', 'possession_id'])['closest_attacker'].shift() != valid_groups['closest_attacker']\n"
     ]
    },
    {
     "name": "stdout",
     "output_type": "stream",
     "text": [
      "('SerieA_22-23_tracking/17/FIORENTINA-SASSUOLO G17_tracking.json', 'SerieA_22-23_tracking/17/FIORENTINA-SASSUOLO G17.json')\n"
     ]
    },
    {
     "name": "stderr",
     "output_type": "stream",
     "text": [
      "/var/folders/n2/9_7g8plj0bl7kt3pzlkmfdm80000gn/T/ipykernel_32508/2964926902.py:185: SettingWithCopyWarning: \n",
      "A value is trying to be set on a copy of a slice from a DataFrame.\n",
      "Try using .loc[row_indexer,col_indexer] = value instead\n",
      "\n",
      "See the caveats in the documentation: https://pandas.pydata.org/pandas-docs/stable/user_guide/indexing.html#returning-a-view-versus-a-copy\n",
      "  valid_groups['change_in_marking'] = valid_groups.groupby(['defender', 'possession_id'])['closest_attacker'].shift() != valid_groups['closest_attacker']\n"
     ]
    },
    {
     "name": "stdout",
     "output_type": "stream",
     "text": [
      "('SerieA_22-23_tracking/17/HELLAS VERONA-US CREMONESE G17_tracking.json', 'SerieA_22-23_tracking/17/HELLAS VERONA-US CREMONESE G17.json')\n"
     ]
    },
    {
     "name": "stderr",
     "output_type": "stream",
     "text": [
      "/var/folders/n2/9_7g8plj0bl7kt3pzlkmfdm80000gn/T/ipykernel_32508/2964926902.py:185: SettingWithCopyWarning: \n",
      "A value is trying to be set on a copy of a slice from a DataFrame.\n",
      "Try using .loc[row_indexer,col_indexer] = value instead\n",
      "\n",
      "See the caveats in the documentation: https://pandas.pydata.org/pandas-docs/stable/user_guide/indexing.html#returning-a-view-versus-a-copy\n",
      "  valid_groups['change_in_marking'] = valid_groups.groupby(['defender', 'possession_id'])['closest_attacker'].shift() != valid_groups['closest_attacker']\n"
     ]
    },
    {
     "name": "stdout",
     "output_type": "stream",
     "text": [
      "('SerieA_22-23_tracking/17/JUVENTUS-UDINESE G17_tracking.json', 'SerieA_22-23_tracking/17/JUVENTUS-UDINESE G17.json')\n"
     ]
    },
    {
     "name": "stderr",
     "output_type": "stream",
     "text": [
      "/var/folders/n2/9_7g8plj0bl7kt3pzlkmfdm80000gn/T/ipykernel_32508/2964926902.py:185: SettingWithCopyWarning: \n",
      "A value is trying to be set on a copy of a slice from a DataFrame.\n",
      "Try using .loc[row_indexer,col_indexer] = value instead\n",
      "\n",
      "See the caveats in the documentation: https://pandas.pydata.org/pandas-docs/stable/user_guide/indexing.html#returning-a-view-versus-a-copy\n",
      "  valid_groups['change_in_marking'] = valid_groups.groupby(['defender', 'possession_id'])['closest_attacker'].shift() != valid_groups['closest_attacker']\n"
     ]
    },
    {
     "name": "stdout",
     "output_type": "stream",
     "text": [
      "('SerieA_22-23_tracking/17/LAZIO-EMPOLI G17_tracking.json', 'SerieA_22-23_tracking/17/LAZIO-EMPOLI G17.json')\n"
     ]
    },
    {
     "name": "stderr",
     "output_type": "stream",
     "text": [
      "/var/folders/n2/9_7g8plj0bl7kt3pzlkmfdm80000gn/T/ipykernel_32508/2964926902.py:185: SettingWithCopyWarning: \n",
      "A value is trying to be set on a copy of a slice from a DataFrame.\n",
      "Try using .loc[row_indexer,col_indexer] = value instead\n",
      "\n",
      "See the caveats in the documentation: https://pandas.pydata.org/pandas-docs/stable/user_guide/indexing.html#returning-a-view-versus-a-copy\n",
      "  valid_groups['change_in_marking'] = valid_groups.groupby(['defender', 'possession_id'])['closest_attacker'].shift() != valid_groups['closest_attacker']\n"
     ]
    },
    {
     "name": "stdout",
     "output_type": "stream",
     "text": [
      "('SerieA_22-23_tracking/17/MILAN-ROMA G17_tracking.json', 'SerieA_22-23_tracking/17/MILAN-ROMA G17.json')\n"
     ]
    },
    {
     "name": "stderr",
     "output_type": "stream",
     "text": [
      "/var/folders/n2/9_7g8plj0bl7kt3pzlkmfdm80000gn/T/ipykernel_32508/2964926902.py:185: SettingWithCopyWarning: \n",
      "A value is trying to be set on a copy of a slice from a DataFrame.\n",
      "Try using .loc[row_indexer,col_indexer] = value instead\n",
      "\n",
      "See the caveats in the documentation: https://pandas.pydata.org/pandas-docs/stable/user_guide/indexing.html#returning-a-view-versus-a-copy\n",
      "  valid_groups['change_in_marking'] = valid_groups.groupby(['defender', 'possession_id'])['closest_attacker'].shift() != valid_groups['closest_attacker']\n"
     ]
    },
    {
     "name": "stdout",
     "output_type": "stream",
     "text": [
      "('SerieA_22-23_tracking/17/MONZA-INTER G17_tracking.json', 'SerieA_22-23_tracking/17/MONZA-INTER G17.json')\n"
     ]
    },
    {
     "name": "stderr",
     "output_type": "stream",
     "text": [
      "/var/folders/n2/9_7g8plj0bl7kt3pzlkmfdm80000gn/T/ipykernel_32508/2964926902.py:185: SettingWithCopyWarning: \n",
      "A value is trying to be set on a copy of a slice from a DataFrame.\n",
      "Try using .loc[row_indexer,col_indexer] = value instead\n",
      "\n",
      "See the caveats in the documentation: https://pandas.pydata.org/pandas-docs/stable/user_guide/indexing.html#returning-a-view-versus-a-copy\n",
      "  valid_groups['change_in_marking'] = valid_groups.groupby(['defender', 'possession_id'])['closest_attacker'].shift() != valid_groups['closest_attacker']\n"
     ]
    },
    {
     "name": "stdout",
     "output_type": "stream",
     "text": [
      "('SerieA_22-23_tracking/17/SALERNITANA-TORINO G17_tracking.json', 'SerieA_22-23_tracking/17/SALERNITANA-TORINO G17.json')\n"
     ]
    },
    {
     "name": "stderr",
     "output_type": "stream",
     "text": [
      "/var/folders/n2/9_7g8plj0bl7kt3pzlkmfdm80000gn/T/ipykernel_32508/2964926902.py:185: SettingWithCopyWarning: \n",
      "A value is trying to be set on a copy of a slice from a DataFrame.\n",
      "Try using .loc[row_indexer,col_indexer] = value instead\n",
      "\n",
      "See the caveats in the documentation: https://pandas.pydata.org/pandas-docs/stable/user_guide/indexing.html#returning-a-view-versus-a-copy\n",
      "  valid_groups['change_in_marking'] = valid_groups.groupby(['defender', 'possession_id'])['closest_attacker'].shift() != valid_groups['closest_attacker']\n"
     ]
    },
    {
     "name": "stdout",
     "output_type": "stream",
     "text": [
      "('SerieA_22-23_tracking/17/SAMPDORIA-NAPOLI G17_tracking.json', 'SerieA_22-23_tracking/17/SAMPDORIA-NAPOLI G17.json')\n"
     ]
    },
    {
     "name": "stderr",
     "output_type": "stream",
     "text": [
      "/var/folders/n2/9_7g8plj0bl7kt3pzlkmfdm80000gn/T/ipykernel_32508/2964926902.py:185: SettingWithCopyWarning: \n",
      "A value is trying to be set on a copy of a slice from a DataFrame.\n",
      "Try using .loc[row_indexer,col_indexer] = value instead\n",
      "\n",
      "See the caveats in the documentation: https://pandas.pydata.org/pandas-docs/stable/user_guide/indexing.html#returning-a-view-versus-a-copy\n",
      "  valid_groups['change_in_marking'] = valid_groups.groupby(['defender', 'possession_id'])['closest_attacker'].shift() != valid_groups['closest_attacker']\n"
     ]
    },
    {
     "name": "stdout",
     "output_type": "stream",
     "text": [
      "('SerieA_22-23_tracking/17/SPEZIA CALCIO-LECCE G17_tracking.json', 'SerieA_22-23_tracking/17/SPEZIA CALCIO-LECCE G17.json')\n"
     ]
    },
    {
     "name": "stderr",
     "output_type": "stream",
     "text": [
      "/var/folders/n2/9_7g8plj0bl7kt3pzlkmfdm80000gn/T/ipykernel_32508/2964926902.py:185: SettingWithCopyWarning: \n",
      "A value is trying to be set on a copy of a slice from a DataFrame.\n",
      "Try using .loc[row_indexer,col_indexer] = value instead\n",
      "\n",
      "See the caveats in the documentation: https://pandas.pydata.org/pandas-docs/stable/user_guide/indexing.html#returning-a-view-versus-a-copy\n",
      "  valid_groups['change_in_marking'] = valid_groups.groupby(['defender', 'possession_id'])['closest_attacker'].shift() != valid_groups['closest_attacker']\n"
     ]
    },
    {
     "name": "stdout",
     "output_type": "stream",
     "text": [
      "('SerieA_22-23_tracking/1/FIORENTINA-US CREMONESE G1_tracking.json', 'SerieA_22-23_tracking/1/FIORENTINA-US CREMONESE G1.json')\n"
     ]
    },
    {
     "name": "stderr",
     "output_type": "stream",
     "text": [
      "/var/folders/n2/9_7g8plj0bl7kt3pzlkmfdm80000gn/T/ipykernel_32508/2964926902.py:185: SettingWithCopyWarning: \n",
      "A value is trying to be set on a copy of a slice from a DataFrame.\n",
      "Try using .loc[row_indexer,col_indexer] = value instead\n",
      "\n",
      "See the caveats in the documentation: https://pandas.pydata.org/pandas-docs/stable/user_guide/indexing.html#returning-a-view-versus-a-copy\n",
      "  valid_groups['change_in_marking'] = valid_groups.groupby(['defender', 'possession_id'])['closest_attacker'].shift() != valid_groups['closest_attacker']\n"
     ]
    },
    {
     "name": "stdout",
     "output_type": "stream",
     "text": [
      "('SerieA_22-23_tracking/1/HELLAS VERONA-NAPOLI G1_tracking.json', 'SerieA_22-23_tracking/1/HELLAS VERONA-NAPOLI G1.json')\n"
     ]
    },
    {
     "name": "stderr",
     "output_type": "stream",
     "text": [
      "/var/folders/n2/9_7g8plj0bl7kt3pzlkmfdm80000gn/T/ipykernel_32508/2964926902.py:185: SettingWithCopyWarning: \n",
      "A value is trying to be set on a copy of a slice from a DataFrame.\n",
      "Try using .loc[row_indexer,col_indexer] = value instead\n",
      "\n",
      "See the caveats in the documentation: https://pandas.pydata.org/pandas-docs/stable/user_guide/indexing.html#returning-a-view-versus-a-copy\n",
      "  valid_groups['change_in_marking'] = valid_groups.groupby(['defender', 'possession_id'])['closest_attacker'].shift() != valid_groups['closest_attacker']\n"
     ]
    },
    {
     "name": "stdout",
     "output_type": "stream",
     "text": [
      "('SerieA_22-23_tracking/1/JUVENTUS-SASSUOLO G1_tracking.json', 'SerieA_22-23_tracking/1/JUVENTUS-SASSUOLO G1.json')\n"
     ]
    },
    {
     "name": "stderr",
     "output_type": "stream",
     "text": [
      "/var/folders/n2/9_7g8plj0bl7kt3pzlkmfdm80000gn/T/ipykernel_32508/2964926902.py:185: SettingWithCopyWarning: \n",
      "A value is trying to be set on a copy of a slice from a DataFrame.\n",
      "Try using .loc[row_indexer,col_indexer] = value instead\n",
      "\n",
      "See the caveats in the documentation: https://pandas.pydata.org/pandas-docs/stable/user_guide/indexing.html#returning-a-view-versus-a-copy\n",
      "  valid_groups['change_in_marking'] = valid_groups.groupby(['defender', 'possession_id'])['closest_attacker'].shift() != valid_groups['closest_attacker']\n"
     ]
    },
    {
     "name": "stdout",
     "output_type": "stream",
     "text": [
      "('SerieA_22-23_tracking/1/LAZIO-BOLOGNA G1_tracking.json', 'SerieA_22-23_tracking/1/LAZIO-BOLOGNA G1.json')\n"
     ]
    },
    {
     "name": "stderr",
     "output_type": "stream",
     "text": [
      "/var/folders/n2/9_7g8plj0bl7kt3pzlkmfdm80000gn/T/ipykernel_32508/2964926902.py:185: SettingWithCopyWarning: \n",
      "A value is trying to be set on a copy of a slice from a DataFrame.\n",
      "Try using .loc[row_indexer,col_indexer] = value instead\n",
      "\n",
      "See the caveats in the documentation: https://pandas.pydata.org/pandas-docs/stable/user_guide/indexing.html#returning-a-view-versus-a-copy\n",
      "  valid_groups['change_in_marking'] = valid_groups.groupby(['defender', 'possession_id'])['closest_attacker'].shift() != valid_groups['closest_attacker']\n"
     ]
    },
    {
     "name": "stdout",
     "output_type": "stream",
     "text": [
      "('SerieA_22-23_tracking/1/LECCE-INTER G1_tracking.json', 'SerieA_22-23_tracking/1/LECCE-INTER G1.json')\n"
     ]
    },
    {
     "name": "stderr",
     "output_type": "stream",
     "text": [
      "/var/folders/n2/9_7g8plj0bl7kt3pzlkmfdm80000gn/T/ipykernel_32508/2964926902.py:185: SettingWithCopyWarning: \n",
      "A value is trying to be set on a copy of a slice from a DataFrame.\n",
      "Try using .loc[row_indexer,col_indexer] = value instead\n",
      "\n",
      "See the caveats in the documentation: https://pandas.pydata.org/pandas-docs/stable/user_guide/indexing.html#returning-a-view-versus-a-copy\n",
      "  valid_groups['change_in_marking'] = valid_groups.groupby(['defender', 'possession_id'])['closest_attacker'].shift() != valid_groups['closest_attacker']\n"
     ]
    },
    {
     "name": "stdout",
     "output_type": "stream",
     "text": [
      "('SerieA_22-23_tracking/1/MILAN-UDINESE G1_tracking.json', 'SerieA_22-23_tracking/1/MILAN-UDINESE G1.json')\n"
     ]
    },
    {
     "name": "stderr",
     "output_type": "stream",
     "text": [
      "/var/folders/n2/9_7g8plj0bl7kt3pzlkmfdm80000gn/T/ipykernel_32508/2964926902.py:185: SettingWithCopyWarning: \n",
      "A value is trying to be set on a copy of a slice from a DataFrame.\n",
      "Try using .loc[row_indexer,col_indexer] = value instead\n",
      "\n",
      "See the caveats in the documentation: https://pandas.pydata.org/pandas-docs/stable/user_guide/indexing.html#returning-a-view-versus-a-copy\n",
      "  valid_groups['change_in_marking'] = valid_groups.groupby(['defender', 'possession_id'])['closest_attacker'].shift() != valid_groups['closest_attacker']\n"
     ]
    },
    {
     "name": "stdout",
     "output_type": "stream",
     "text": [
      "('SerieA_22-23_tracking/1/MONZA-TORINO G1_tracking.json', 'SerieA_22-23_tracking/1/MONZA-TORINO G1.json')\n"
     ]
    },
    {
     "name": "stderr",
     "output_type": "stream",
     "text": [
      "/var/folders/n2/9_7g8plj0bl7kt3pzlkmfdm80000gn/T/ipykernel_32508/2964926902.py:185: SettingWithCopyWarning: \n",
      "A value is trying to be set on a copy of a slice from a DataFrame.\n",
      "Try using .loc[row_indexer,col_indexer] = value instead\n",
      "\n",
      "See the caveats in the documentation: https://pandas.pydata.org/pandas-docs/stable/user_guide/indexing.html#returning-a-view-versus-a-copy\n",
      "  valid_groups['change_in_marking'] = valid_groups.groupby(['defender', 'possession_id'])['closest_attacker'].shift() != valid_groups['closest_attacker']\n"
     ]
    },
    {
     "name": "stdout",
     "output_type": "stream",
     "text": [
      "('SerieA_22-23_tracking/1/SALERNITANA-ROMA G1_tracking.json', 'SerieA_22-23_tracking/1/SALERNITANA-ROMA G1.json')\n"
     ]
    },
    {
     "name": "stderr",
     "output_type": "stream",
     "text": [
      "/var/folders/n2/9_7g8plj0bl7kt3pzlkmfdm80000gn/T/ipykernel_32508/2964926902.py:185: SettingWithCopyWarning: \n",
      "A value is trying to be set on a copy of a slice from a DataFrame.\n",
      "Try using .loc[row_indexer,col_indexer] = value instead\n",
      "\n",
      "See the caveats in the documentation: https://pandas.pydata.org/pandas-docs/stable/user_guide/indexing.html#returning-a-view-versus-a-copy\n",
      "  valid_groups['change_in_marking'] = valid_groups.groupby(['defender', 'possession_id'])['closest_attacker'].shift() != valid_groups['closest_attacker']\n"
     ]
    },
    {
     "name": "stdout",
     "output_type": "stream",
     "text": [
      "('SerieA_22-23_tracking/1/SAMPDORIA-ATALANTA G1_tracking.json', 'SerieA_22-23_tracking/1/SAMPDORIA-ATALANTA G1.json')\n"
     ]
    },
    {
     "name": "stderr",
     "output_type": "stream",
     "text": [
      "/var/folders/n2/9_7g8plj0bl7kt3pzlkmfdm80000gn/T/ipykernel_32508/2964926902.py:185: SettingWithCopyWarning: \n",
      "A value is trying to be set on a copy of a slice from a DataFrame.\n",
      "Try using .loc[row_indexer,col_indexer] = value instead\n",
      "\n",
      "See the caveats in the documentation: https://pandas.pydata.org/pandas-docs/stable/user_guide/indexing.html#returning-a-view-versus-a-copy\n",
      "  valid_groups['change_in_marking'] = valid_groups.groupby(['defender', 'possession_id'])['closest_attacker'].shift() != valid_groups['closest_attacker']\n"
     ]
    },
    {
     "name": "stdout",
     "output_type": "stream",
     "text": [
      "('SerieA_22-23_tracking/1/SPEZIA CALCIO-EMPOLI G1_tracking.json', 'SerieA_22-23_tracking/1/SPEZIA CALCIO-EMPOLI G1.json')\n"
     ]
    },
    {
     "name": "stderr",
     "output_type": "stream",
     "text": [
      "/var/folders/n2/9_7g8plj0bl7kt3pzlkmfdm80000gn/T/ipykernel_32508/2964926902.py:185: SettingWithCopyWarning: \n",
      "A value is trying to be set on a copy of a slice from a DataFrame.\n",
      "Try using .loc[row_indexer,col_indexer] = value instead\n",
      "\n",
      "See the caveats in the documentation: https://pandas.pydata.org/pandas-docs/stable/user_guide/indexing.html#returning-a-view-versus-a-copy\n",
      "  valid_groups['change_in_marking'] = valid_groups.groupby(['defender', 'possession_id'])['closest_attacker'].shift() != valid_groups['closest_attacker']\n"
     ]
    },
    {
     "name": "stdout",
     "output_type": "stream",
     "text": [
      "('SerieA_22-23_tracking/10/ATALANTA-SASSUOLO G10_tracking.json', 'SerieA_22-23_tracking/10/ATALANTA-SASSUOLO G10.json')\n"
     ]
    },
    {
     "name": "stderr",
     "output_type": "stream",
     "text": [
      "/var/folders/n2/9_7g8plj0bl7kt3pzlkmfdm80000gn/T/ipykernel_32508/2964926902.py:185: SettingWithCopyWarning: \n",
      "A value is trying to be set on a copy of a slice from a DataFrame.\n",
      "Try using .loc[row_indexer,col_indexer] = value instead\n",
      "\n",
      "See the caveats in the documentation: https://pandas.pydata.org/pandas-docs/stable/user_guide/indexing.html#returning-a-view-versus-a-copy\n",
      "  valid_groups['change_in_marking'] = valid_groups.groupby(['defender', 'possession_id'])['closest_attacker'].shift() != valid_groups['closest_attacker']\n"
     ]
    },
    {
     "name": "stdout",
     "output_type": "stream",
     "text": [
      "('SerieA_22-23_tracking/10/EMPOLI-MONZA G10_tracking.json', 'SerieA_22-23_tracking/10/EMPOLI-MONZA G10.json')\n"
     ]
    },
    {
     "name": "stderr",
     "output_type": "stream",
     "text": [
      "/var/folders/n2/9_7g8plj0bl7kt3pzlkmfdm80000gn/T/ipykernel_32508/2964926902.py:185: SettingWithCopyWarning: \n",
      "A value is trying to be set on a copy of a slice from a DataFrame.\n",
      "Try using .loc[row_indexer,col_indexer] = value instead\n",
      "\n",
      "See the caveats in the documentation: https://pandas.pydata.org/pandas-docs/stable/user_guide/indexing.html#returning-a-view-versus-a-copy\n",
      "  valid_groups['change_in_marking'] = valid_groups.groupby(['defender', 'possession_id'])['closest_attacker'].shift() != valid_groups['closest_attacker']\n"
     ]
    },
    {
     "name": "stdout",
     "output_type": "stream",
     "text": [
      "('SerieA_22-23_tracking/10/HELLAS VERONA-MILAN G10_tracking.json', 'SerieA_22-23_tracking/10/HELLAS VERONA-MILAN G10.json')\n"
     ]
    },
    {
     "name": "stderr",
     "output_type": "stream",
     "text": [
      "/var/folders/n2/9_7g8plj0bl7kt3pzlkmfdm80000gn/T/ipykernel_32508/2964926902.py:185: SettingWithCopyWarning: \n",
      "A value is trying to be set on a copy of a slice from a DataFrame.\n",
      "Try using .loc[row_indexer,col_indexer] = value instead\n",
      "\n",
      "See the caveats in the documentation: https://pandas.pydata.org/pandas-docs/stable/user_guide/indexing.html#returning-a-view-versus-a-copy\n",
      "  valid_groups['change_in_marking'] = valid_groups.groupby(['defender', 'possession_id'])['closest_attacker'].shift() != valid_groups['closest_attacker']\n"
     ]
    },
    {
     "name": "stdout",
     "output_type": "stream",
     "text": [
      "('SerieA_22-23_tracking/10/INTER-SALERNITANA G10_tracking.json', 'SerieA_22-23_tracking/10/INTER-SALERNITANA G10.json')\n"
     ]
    },
    {
     "name": "stderr",
     "output_type": "stream",
     "text": [
      "/var/folders/n2/9_7g8plj0bl7kt3pzlkmfdm80000gn/T/ipykernel_32508/2964926902.py:185: SettingWithCopyWarning: \n",
      "A value is trying to be set on a copy of a slice from a DataFrame.\n",
      "Try using .loc[row_indexer,col_indexer] = value instead\n",
      "\n",
      "See the caveats in the documentation: https://pandas.pydata.org/pandas-docs/stable/user_guide/indexing.html#returning-a-view-versus-a-copy\n",
      "  valid_groups['change_in_marking'] = valid_groups.groupby(['defender', 'possession_id'])['closest_attacker'].shift() != valid_groups['closest_attacker']\n"
     ]
    },
    {
     "name": "stdout",
     "output_type": "stream",
     "text": [
      "('SerieA_22-23_tracking/10/LAZIO-UDINESE G10_tracking.json', 'SerieA_22-23_tracking/10/LAZIO-UDINESE G10.json')\n"
     ]
    },
    {
     "name": "stderr",
     "output_type": "stream",
     "text": [
      "/var/folders/n2/9_7g8plj0bl7kt3pzlkmfdm80000gn/T/ipykernel_32508/2964926902.py:185: SettingWithCopyWarning: \n",
      "A value is trying to be set on a copy of a slice from a DataFrame.\n",
      "Try using .loc[row_indexer,col_indexer] = value instead\n",
      "\n",
      "See the caveats in the documentation: https://pandas.pydata.org/pandas-docs/stable/user_guide/indexing.html#returning-a-view-versus-a-copy\n",
      "  valid_groups['change_in_marking'] = valid_groups.groupby(['defender', 'possession_id'])['closest_attacker'].shift() != valid_groups['closest_attacker']\n"
     ]
    },
    {
     "name": "stdout",
     "output_type": "stream",
     "text": [
      "('SerieA_22-23_tracking/10/LECCE-FIORENTINA G10_tracking.json', 'SerieA_22-23_tracking/10/LECCE-FIORENTINA G10.json')\n"
     ]
    },
    {
     "name": "stderr",
     "output_type": "stream",
     "text": [
      "/var/folders/n2/9_7g8plj0bl7kt3pzlkmfdm80000gn/T/ipykernel_32508/2964926902.py:185: SettingWithCopyWarning: \n",
      "A value is trying to be set on a copy of a slice from a DataFrame.\n",
      "Try using .loc[row_indexer,col_indexer] = value instead\n",
      "\n",
      "See the caveats in the documentation: https://pandas.pydata.org/pandas-docs/stable/user_guide/indexing.html#returning-a-view-versus-a-copy\n",
      "  valid_groups['change_in_marking'] = valid_groups.groupby(['defender', 'possession_id'])['closest_attacker'].shift() != valid_groups['closest_attacker']\n"
     ]
    },
    {
     "name": "stdout",
     "output_type": "stream",
     "text": [
      "('SerieA_22-23_tracking/10/NAPOLI-BOLOGNA G10_tracking.json', 'SerieA_22-23_tracking/10/NAPOLI-BOLOGNA G10.json')\n"
     ]
    },
    {
     "name": "stderr",
     "output_type": "stream",
     "text": [
      "/var/folders/n2/9_7g8plj0bl7kt3pzlkmfdm80000gn/T/ipykernel_32508/2964926902.py:185: SettingWithCopyWarning: \n",
      "A value is trying to be set on a copy of a slice from a DataFrame.\n",
      "Try using .loc[row_indexer,col_indexer] = value instead\n",
      "\n",
      "See the caveats in the documentation: https://pandas.pydata.org/pandas-docs/stable/user_guide/indexing.html#returning-a-view-versus-a-copy\n",
      "  valid_groups['change_in_marking'] = valid_groups.groupby(['defender', 'possession_id'])['closest_attacker'].shift() != valid_groups['closest_attacker']\n"
     ]
    },
    {
     "name": "stdout",
     "output_type": "stream",
     "text": [
      "('SerieA_22-23_tracking/10/SAMPDORIA-ROMA G10_tracking.json', 'SerieA_22-23_tracking/10/SAMPDORIA-ROMA G10.json')\n"
     ]
    },
    {
     "name": "stderr",
     "output_type": "stream",
     "text": [
      "/var/folders/n2/9_7g8plj0bl7kt3pzlkmfdm80000gn/T/ipykernel_32508/2964926902.py:185: SettingWithCopyWarning: \n",
      "A value is trying to be set on a copy of a slice from a DataFrame.\n",
      "Try using .loc[row_indexer,col_indexer] = value instead\n",
      "\n",
      "See the caveats in the documentation: https://pandas.pydata.org/pandas-docs/stable/user_guide/indexing.html#returning-a-view-versus-a-copy\n",
      "  valid_groups['change_in_marking'] = valid_groups.groupby(['defender', 'possession_id'])['closest_attacker'].shift() != valid_groups['closest_attacker']\n"
     ]
    },
    {
     "name": "stdout",
     "output_type": "stream",
     "text": [
      "('SerieA_22-23_tracking/10/SPEZIA CALCIO-US CREMONESE G10_tracking.json', 'SerieA_22-23_tracking/10/SPEZIA CALCIO-US CREMONESE G10.json')\n"
     ]
    },
    {
     "name": "stderr",
     "output_type": "stream",
     "text": [
      "/var/folders/n2/9_7g8plj0bl7kt3pzlkmfdm80000gn/T/ipykernel_32508/2964926902.py:185: SettingWithCopyWarning: \n",
      "A value is trying to be set on a copy of a slice from a DataFrame.\n",
      "Try using .loc[row_indexer,col_indexer] = value instead\n",
      "\n",
      "See the caveats in the documentation: https://pandas.pydata.org/pandas-docs/stable/user_guide/indexing.html#returning-a-view-versus-a-copy\n",
      "  valid_groups['change_in_marking'] = valid_groups.groupby(['defender', 'possession_id'])['closest_attacker'].shift() != valid_groups['closest_attacker']\n"
     ]
    },
    {
     "name": "stdout",
     "output_type": "stream",
     "text": [
      "('SerieA_22-23_tracking/10/TORINO-JUVENTUS G10_tracking.json', 'SerieA_22-23_tracking/10/TORINO-JUVENTUS G10.json')\n"
     ]
    },
    {
     "name": "stderr",
     "output_type": "stream",
     "text": [
      "/var/folders/n2/9_7g8plj0bl7kt3pzlkmfdm80000gn/T/ipykernel_32508/2964926902.py:185: SettingWithCopyWarning: \n",
      "A value is trying to be set on a copy of a slice from a DataFrame.\n",
      "Try using .loc[row_indexer,col_indexer] = value instead\n",
      "\n",
      "See the caveats in the documentation: https://pandas.pydata.org/pandas-docs/stable/user_guide/indexing.html#returning-a-view-versus-a-copy\n",
      "  valid_groups['change_in_marking'] = valid_groups.groupby(['defender', 'possession_id'])['closest_attacker'].shift() != valid_groups['closest_attacker']\n"
     ]
    },
    {
     "name": "stdout",
     "output_type": "stream",
     "text": [
      "('SerieA_22-23_tracking/19/BOLOGNA-US CREMONESE G19_tracking.json', 'SerieA_22-23_tracking/19/BOLOGNA-US CREMONESE G19.json')\n"
     ]
    },
    {
     "name": "stderr",
     "output_type": "stream",
     "text": [
      "/var/folders/n2/9_7g8plj0bl7kt3pzlkmfdm80000gn/T/ipykernel_32508/2964926902.py:185: SettingWithCopyWarning: \n",
      "A value is trying to be set on a copy of a slice from a DataFrame.\n",
      "Try using .loc[row_indexer,col_indexer] = value instead\n",
      "\n",
      "See the caveats in the documentation: https://pandas.pydata.org/pandas-docs/stable/user_guide/indexing.html#returning-a-view-versus-a-copy\n",
      "  valid_groups['change_in_marking'] = valid_groups.groupby(['defender', 'possession_id'])['closest_attacker'].shift() != valid_groups['closest_attacker']\n"
     ]
    },
    {
     "name": "stdout",
     "output_type": "stream",
     "text": [
      "('SerieA_22-23_tracking/19/FIORENTINA-TORINO G19_tracking.json', 'SerieA_22-23_tracking/19/FIORENTINA-TORINO G19.json')\n"
     ]
    },
    {
     "name": "stderr",
     "output_type": "stream",
     "text": [
      "/var/folders/n2/9_7g8plj0bl7kt3pzlkmfdm80000gn/T/ipykernel_32508/2964926902.py:185: SettingWithCopyWarning: \n",
      "A value is trying to be set on a copy of a slice from a DataFrame.\n",
      "Try using .loc[row_indexer,col_indexer] = value instead\n",
      "\n",
      "See the caveats in the documentation: https://pandas.pydata.org/pandas-docs/stable/user_guide/indexing.html#returning-a-view-versus-a-copy\n",
      "  valid_groups['change_in_marking'] = valid_groups.groupby(['defender', 'possession_id'])['closest_attacker'].shift() != valid_groups['closest_attacker']\n"
     ]
    },
    {
     "name": "stdout",
     "output_type": "stream",
     "text": [
      "('SerieA_22-23_tracking/19/HELLAS VERONA-LECCE G19_tracking.json', 'SerieA_22-23_tracking/19/HELLAS VERONA-LECCE G19.json')\n"
     ]
    },
    {
     "name": "stderr",
     "output_type": "stream",
     "text": [
      "/var/folders/n2/9_7g8plj0bl7kt3pzlkmfdm80000gn/T/ipykernel_32508/2964926902.py:185: SettingWithCopyWarning: \n",
      "A value is trying to be set on a copy of a slice from a DataFrame.\n",
      "Try using .loc[row_indexer,col_indexer] = value instead\n",
      "\n",
      "See the caveats in the documentation: https://pandas.pydata.org/pandas-docs/stable/user_guide/indexing.html#returning-a-view-versus-a-copy\n",
      "  valid_groups['change_in_marking'] = valid_groups.groupby(['defender', 'possession_id'])['closest_attacker'].shift() != valid_groups['closest_attacker']\n"
     ]
    },
    {
     "name": "stdout",
     "output_type": "stream",
     "text": [
      "('SerieA_22-23_tracking/19/INTER-EMPOLI G19_tracking.json', 'SerieA_22-23_tracking/19/INTER-EMPOLI G19.json')\n"
     ]
    },
    {
     "name": "stderr",
     "output_type": "stream",
     "text": [
      "/var/folders/n2/9_7g8plj0bl7kt3pzlkmfdm80000gn/T/ipykernel_32508/2964926902.py:185: SettingWithCopyWarning: \n",
      "A value is trying to be set on a copy of a slice from a DataFrame.\n",
      "Try using .loc[row_indexer,col_indexer] = value instead\n",
      "\n",
      "See the caveats in the documentation: https://pandas.pydata.org/pandas-docs/stable/user_guide/indexing.html#returning-a-view-versus-a-copy\n",
      "  valid_groups['change_in_marking'] = valid_groups.groupby(['defender', 'possession_id'])['closest_attacker'].shift() != valid_groups['closest_attacker']\n"
     ]
    },
    {
     "name": "stdout",
     "output_type": "stream",
     "text": [
      "('SerieA_22-23_tracking/19/JUVENTUS-ATALANTA G19_tracking.json', 'SerieA_22-23_tracking/19/JUVENTUS-ATALANTA G19.json')\n"
     ]
    },
    {
     "name": "stderr",
     "output_type": "stream",
     "text": [
      "/var/folders/n2/9_7g8plj0bl7kt3pzlkmfdm80000gn/T/ipykernel_32508/2964926902.py:185: SettingWithCopyWarning: \n",
      "A value is trying to be set on a copy of a slice from a DataFrame.\n",
      "Try using .loc[row_indexer,col_indexer] = value instead\n",
      "\n",
      "See the caveats in the documentation: https://pandas.pydata.org/pandas-docs/stable/user_guide/indexing.html#returning-a-view-versus-a-copy\n",
      "  valid_groups['change_in_marking'] = valid_groups.groupby(['defender', 'possession_id'])['closest_attacker'].shift() != valid_groups['closest_attacker']\n"
     ]
    },
    {
     "name": "stdout",
     "output_type": "stream",
     "text": [
      "('SerieA_22-23_tracking/19/LAZIO-MILAN G19_tracking.json', 'SerieA_22-23_tracking/19/LAZIO-MILAN G19.json')\n"
     ]
    },
    {
     "name": "stderr",
     "output_type": "stream",
     "text": [
      "/var/folders/n2/9_7g8plj0bl7kt3pzlkmfdm80000gn/T/ipykernel_32508/2964926902.py:185: SettingWithCopyWarning: \n",
      "A value is trying to be set on a copy of a slice from a DataFrame.\n",
      "Try using .loc[row_indexer,col_indexer] = value instead\n",
      "\n",
      "See the caveats in the documentation: https://pandas.pydata.org/pandas-docs/stable/user_guide/indexing.html#returning-a-view-versus-a-copy\n",
      "  valid_groups['change_in_marking'] = valid_groups.groupby(['defender', 'possession_id'])['closest_attacker'].shift() != valid_groups['closest_attacker']\n"
     ]
    },
    {
     "name": "stdout",
     "output_type": "stream",
     "text": [
      "('SerieA_22-23_tracking/19/MONZA-SASSUOLO G19_tracking.json', 'SerieA_22-23_tracking/19/MONZA-SASSUOLO G19.json')\n"
     ]
    },
    {
     "name": "stderr",
     "output_type": "stream",
     "text": [
      "/var/folders/n2/9_7g8plj0bl7kt3pzlkmfdm80000gn/T/ipykernel_32508/2964926902.py:185: SettingWithCopyWarning: \n",
      "A value is trying to be set on a copy of a slice from a DataFrame.\n",
      "Try using .loc[row_indexer,col_indexer] = value instead\n",
      "\n",
      "See the caveats in the documentation: https://pandas.pydata.org/pandas-docs/stable/user_guide/indexing.html#returning-a-view-versus-a-copy\n",
      "  valid_groups['change_in_marking'] = valid_groups.groupby(['defender', 'possession_id'])['closest_attacker'].shift() != valid_groups['closest_attacker']\n"
     ]
    },
    {
     "name": "stdout",
     "output_type": "stream",
     "text": [
      "('SerieA_22-23_tracking/19/SALERNITANA-NAPOLI G19_tracking.json', 'SerieA_22-23_tracking/19/SALERNITANA-NAPOLI G19.json')\n"
     ]
    },
    {
     "name": "stderr",
     "output_type": "stream",
     "text": [
      "/var/folders/n2/9_7g8plj0bl7kt3pzlkmfdm80000gn/T/ipykernel_32508/2964926902.py:185: SettingWithCopyWarning: \n",
      "A value is trying to be set on a copy of a slice from a DataFrame.\n",
      "Try using .loc[row_indexer,col_indexer] = value instead\n",
      "\n",
      "See the caveats in the documentation: https://pandas.pydata.org/pandas-docs/stable/user_guide/indexing.html#returning-a-view-versus-a-copy\n",
      "  valid_groups['change_in_marking'] = valid_groups.groupby(['defender', 'possession_id'])['closest_attacker'].shift() != valid_groups['closest_attacker']\n"
     ]
    },
    {
     "name": "stdout",
     "output_type": "stream",
     "text": [
      "('SerieA_22-23_tracking/19/SAMPDORIA-UDINESE G19_tracking.json', 'SerieA_22-23_tracking/19/SAMPDORIA-UDINESE G19.json')\n"
     ]
    },
    {
     "name": "stderr",
     "output_type": "stream",
     "text": [
      "/var/folders/n2/9_7g8plj0bl7kt3pzlkmfdm80000gn/T/ipykernel_32508/2964926902.py:185: SettingWithCopyWarning: \n",
      "A value is trying to be set on a copy of a slice from a DataFrame.\n",
      "Try using .loc[row_indexer,col_indexer] = value instead\n",
      "\n",
      "See the caveats in the documentation: https://pandas.pydata.org/pandas-docs/stable/user_guide/indexing.html#returning-a-view-versus-a-copy\n",
      "  valid_groups['change_in_marking'] = valid_groups.groupby(['defender', 'possession_id'])['closest_attacker'].shift() != valid_groups['closest_attacker']\n"
     ]
    },
    {
     "name": "stdout",
     "output_type": "stream",
     "text": [
      "('SerieA_22-23_tracking/19/SPEZIA CALCIO-ROMA G19_tracking.json', 'SerieA_22-23_tracking/19/SPEZIA CALCIO-ROMA G19.json')\n"
     ]
    },
    {
     "name": "stderr",
     "output_type": "stream",
     "text": [
      "/var/folders/n2/9_7g8plj0bl7kt3pzlkmfdm80000gn/T/ipykernel_32508/2964926902.py:185: SettingWithCopyWarning: \n",
      "A value is trying to be set on a copy of a slice from a DataFrame.\n",
      "Try using .loc[row_indexer,col_indexer] = value instead\n",
      "\n",
      "See the caveats in the documentation: https://pandas.pydata.org/pandas-docs/stable/user_guide/indexing.html#returning-a-view-versus-a-copy\n",
      "  valid_groups['change_in_marking'] = valid_groups.groupby(['defender', 'possession_id'])['closest_attacker'].shift() != valid_groups['closest_attacker']\n"
     ]
    },
    {
     "name": "stdout",
     "output_type": "stream",
     "text": [
      "('SerieA_22-23_tracking/26/BOLOGNA-LAZIO G26_tracking.json', 'SerieA_22-23_tracking/26/BOLOGNA-LAZIO G26.json')\n"
     ]
    },
    {
     "name": "stderr",
     "output_type": "stream",
     "text": [
      "/var/folders/n2/9_7g8plj0bl7kt3pzlkmfdm80000gn/T/ipykernel_32508/2964926902.py:185: SettingWithCopyWarning: \n",
      "A value is trying to be set on a copy of a slice from a DataFrame.\n",
      "Try using .loc[row_indexer,col_indexer] = value instead\n",
      "\n",
      "See the caveats in the documentation: https://pandas.pydata.org/pandas-docs/stable/user_guide/indexing.html#returning-a-view-versus-a-copy\n",
      "  valid_groups['change_in_marking'] = valid_groups.groupby(['defender', 'possession_id'])['closest_attacker'].shift() != valid_groups['closest_attacker']\n"
     ]
    },
    {
     "name": "stdout",
     "output_type": "stream",
     "text": [
      "('SerieA_22-23_tracking/26/EMPOLI-UDINESE G26_tracking.json', 'SerieA_22-23_tracking/26/EMPOLI-UDINESE G26.json')\n"
     ]
    },
    {
     "name": "stderr",
     "output_type": "stream",
     "text": [
      "/var/folders/n2/9_7g8plj0bl7kt3pzlkmfdm80000gn/T/ipykernel_32508/2964926902.py:185: SettingWithCopyWarning: \n",
      "A value is trying to be set on a copy of a slice from a DataFrame.\n",
      "Try using .loc[row_indexer,col_indexer] = value instead\n",
      "\n",
      "See the caveats in the documentation: https://pandas.pydata.org/pandas-docs/stable/user_guide/indexing.html#returning-a-view-versus-a-copy\n",
      "  valid_groups['change_in_marking'] = valid_groups.groupby(['defender', 'possession_id'])['closest_attacker'].shift() != valid_groups['closest_attacker']\n"
     ]
    },
    {
     "name": "stdout",
     "output_type": "stream",
     "text": [
      "('SerieA_22-23_tracking/26/HELLAS VERONA-MONZA G26_tracking.json', 'SerieA_22-23_tracking/26/HELLAS VERONA-MONZA G26.json')\n"
     ]
    },
    {
     "name": "stderr",
     "output_type": "stream",
     "text": [
      "/var/folders/n2/9_7g8plj0bl7kt3pzlkmfdm80000gn/T/ipykernel_32508/2964926902.py:185: SettingWithCopyWarning: \n",
      "A value is trying to be set on a copy of a slice from a DataFrame.\n",
      "Try using .loc[row_indexer,col_indexer] = value instead\n",
      "\n",
      "See the caveats in the documentation: https://pandas.pydata.org/pandas-docs/stable/user_guide/indexing.html#returning-a-view-versus-a-copy\n",
      "  valid_groups['change_in_marking'] = valid_groups.groupby(['defender', 'possession_id'])['closest_attacker'].shift() != valid_groups['closest_attacker']\n"
     ]
    },
    {
     "name": "stdout",
     "output_type": "stream",
     "text": [
      "('SerieA_22-23_tracking/26/JUVENTUS-SAMPDORIA G26_tracking.json', 'SerieA_22-23_tracking/26/JUVENTUS-SAMPDORIA G26.json')\n"
     ]
    },
    {
     "name": "stderr",
     "output_type": "stream",
     "text": [
      "/var/folders/n2/9_7g8plj0bl7kt3pzlkmfdm80000gn/T/ipykernel_32508/2964926902.py:185: SettingWithCopyWarning: \n",
      "A value is trying to be set on a copy of a slice from a DataFrame.\n",
      "Try using .loc[row_indexer,col_indexer] = value instead\n",
      "\n",
      "See the caveats in the documentation: https://pandas.pydata.org/pandas-docs/stable/user_guide/indexing.html#returning-a-view-versus-a-copy\n",
      "  valid_groups['change_in_marking'] = valid_groups.groupby(['defender', 'possession_id'])['closest_attacker'].shift() != valid_groups['closest_attacker']\n"
     ]
    },
    {
     "name": "stdout",
     "output_type": "stream",
     "text": [
      "('SerieA_22-23_tracking/26/LECCE-TORINO G26_tracking.json', 'SerieA_22-23_tracking/26/LECCE-TORINO G26.json')\n"
     ]
    },
    {
     "name": "stderr",
     "output_type": "stream",
     "text": [
      "/var/folders/n2/9_7g8plj0bl7kt3pzlkmfdm80000gn/T/ipykernel_32508/2964926902.py:185: SettingWithCopyWarning: \n",
      "A value is trying to be set on a copy of a slice from a DataFrame.\n",
      "Try using .loc[row_indexer,col_indexer] = value instead\n",
      "\n",
      "See the caveats in the documentation: https://pandas.pydata.org/pandas-docs/stable/user_guide/indexing.html#returning-a-view-versus-a-copy\n",
      "  valid_groups['change_in_marking'] = valid_groups.groupby(['defender', 'possession_id'])['closest_attacker'].shift() != valid_groups['closest_attacker']\n"
     ]
    },
    {
     "name": "stdout",
     "output_type": "stream",
     "text": [
      "('SerieA_22-23_tracking/26/MILAN-SALERNITANA G26_tracking.json', 'SerieA_22-23_tracking/26/MILAN-SALERNITANA G26.json')\n"
     ]
    },
    {
     "name": "stderr",
     "output_type": "stream",
     "text": [
      "/var/folders/n2/9_7g8plj0bl7kt3pzlkmfdm80000gn/T/ipykernel_32508/2964926902.py:185: SettingWithCopyWarning: \n",
      "A value is trying to be set on a copy of a slice from a DataFrame.\n",
      "Try using .loc[row_indexer,col_indexer] = value instead\n",
      "\n",
      "See the caveats in the documentation: https://pandas.pydata.org/pandas-docs/stable/user_guide/indexing.html#returning-a-view-versus-a-copy\n",
      "  valid_groups['change_in_marking'] = valid_groups.groupby(['defender', 'possession_id'])['closest_attacker'].shift() != valid_groups['closest_attacker']\n"
     ]
    },
    {
     "name": "stdout",
     "output_type": "stream",
     "text": [
      "('SerieA_22-23_tracking/26/NAPOLI-ATALANTA G26_tracking.json', 'SerieA_22-23_tracking/26/NAPOLI-ATALANTA G26.json')\n"
     ]
    },
    {
     "name": "stderr",
     "output_type": "stream",
     "text": [
      "/var/folders/n2/9_7g8plj0bl7kt3pzlkmfdm80000gn/T/ipykernel_32508/2964926902.py:185: SettingWithCopyWarning: \n",
      "A value is trying to be set on a copy of a slice from a DataFrame.\n",
      "Try using .loc[row_indexer,col_indexer] = value instead\n",
      "\n",
      "See the caveats in the documentation: https://pandas.pydata.org/pandas-docs/stable/user_guide/indexing.html#returning-a-view-versus-a-copy\n",
      "  valid_groups['change_in_marking'] = valid_groups.groupby(['defender', 'possession_id'])['closest_attacker'].shift() != valid_groups['closest_attacker']\n"
     ]
    },
    {
     "name": "stdout",
     "output_type": "stream",
     "text": [
      "('SerieA_22-23_tracking/26/ROMA-SASSUOLO G26_tracking.json', 'SerieA_22-23_tracking/26/ROMA-SASSUOLO G26.json')\n"
     ]
    },
    {
     "name": "stderr",
     "output_type": "stream",
     "text": [
      "/var/folders/n2/9_7g8plj0bl7kt3pzlkmfdm80000gn/T/ipykernel_32508/2964926902.py:185: SettingWithCopyWarning: \n",
      "A value is trying to be set on a copy of a slice from a DataFrame.\n",
      "Try using .loc[row_indexer,col_indexer] = value instead\n",
      "\n",
      "See the caveats in the documentation: https://pandas.pydata.org/pandas-docs/stable/user_guide/indexing.html#returning-a-view-versus-a-copy\n",
      "  valid_groups['change_in_marking'] = valid_groups.groupby(['defender', 'possession_id'])['closest_attacker'].shift() != valid_groups['closest_attacker']\n"
     ]
    },
    {
     "name": "stdout",
     "output_type": "stream",
     "text": [
      "('SerieA_22-23_tracking/26/SPEZIA CALCIO-INTER G26_tracking.json', 'SerieA_22-23_tracking/26/SPEZIA CALCIO-INTER G26.json')\n"
     ]
    },
    {
     "name": "stderr",
     "output_type": "stream",
     "text": [
      "/var/folders/n2/9_7g8plj0bl7kt3pzlkmfdm80000gn/T/ipykernel_32508/2964926902.py:185: SettingWithCopyWarning: \n",
      "A value is trying to be set on a copy of a slice from a DataFrame.\n",
      "Try using .loc[row_indexer,col_indexer] = value instead\n",
      "\n",
      "See the caveats in the documentation: https://pandas.pydata.org/pandas-docs/stable/user_guide/indexing.html#returning-a-view-versus-a-copy\n",
      "  valid_groups['change_in_marking'] = valid_groups.groupby(['defender', 'possession_id'])['closest_attacker'].shift() != valid_groups['closest_attacker']\n"
     ]
    },
    {
     "name": "stdout",
     "output_type": "stream",
     "text": [
      "('SerieA_22-23_tracking/26/US CREMONESE-FIORENTINA G26_tracking.json', 'SerieA_22-23_tracking/26/US CREMONESE-FIORENTINA G26.json')\n"
     ]
    },
    {
     "name": "stderr",
     "output_type": "stream",
     "text": [
      "/var/folders/n2/9_7g8plj0bl7kt3pzlkmfdm80000gn/T/ipykernel_32508/2964926902.py:185: SettingWithCopyWarning: \n",
      "A value is trying to be set on a copy of a slice from a DataFrame.\n",
      "Try using .loc[row_indexer,col_indexer] = value instead\n",
      "\n",
      "See the caveats in the documentation: https://pandas.pydata.org/pandas-docs/stable/user_guide/indexing.html#returning-a-view-versus-a-copy\n",
      "  valid_groups['change_in_marking'] = valid_groups.groupby(['defender', 'possession_id'])['closest_attacker'].shift() != valid_groups['closest_attacker']\n"
     ]
    },
    {
     "name": "stdout",
     "output_type": "stream",
     "text": [
      "('SerieA_22-23_tracking/8/ATALANTA-FIORENTINA G8_tracking.json', 'SerieA_22-23_tracking/8/ATALANTA-FIORENTINA G8.json')\n"
     ]
    },
    {
     "name": "stderr",
     "output_type": "stream",
     "text": [
      "/var/folders/n2/9_7g8plj0bl7kt3pzlkmfdm80000gn/T/ipykernel_32508/2964926902.py:185: SettingWithCopyWarning: \n",
      "A value is trying to be set on a copy of a slice from a DataFrame.\n",
      "Try using .loc[row_indexer,col_indexer] = value instead\n",
      "\n",
      "See the caveats in the documentation: https://pandas.pydata.org/pandas-docs/stable/user_guide/indexing.html#returning-a-view-versus-a-copy\n",
      "  valid_groups['change_in_marking'] = valid_groups.groupby(['defender', 'possession_id'])['closest_attacker'].shift() != valid_groups['closest_attacker']\n"
     ]
    },
    {
     "name": "stdout",
     "output_type": "stream",
     "text": [
      "('SerieA_22-23_tracking/8/EMPOLI-MILAN G8_tracking.json', 'SerieA_22-23_tracking/8/EMPOLI-MILAN G8.json')\n"
     ]
    },
    {
     "name": "stderr",
     "output_type": "stream",
     "text": [
      "/var/folders/n2/9_7g8plj0bl7kt3pzlkmfdm80000gn/T/ipykernel_32508/2964926902.py:185: SettingWithCopyWarning: \n",
      "A value is trying to be set on a copy of a slice from a DataFrame.\n",
      "Try using .loc[row_indexer,col_indexer] = value instead\n",
      "\n",
      "See the caveats in the documentation: https://pandas.pydata.org/pandas-docs/stable/user_guide/indexing.html#returning-a-view-versus-a-copy\n",
      "  valid_groups['change_in_marking'] = valid_groups.groupby(['defender', 'possession_id'])['closest_attacker'].shift() != valid_groups['closest_attacker']\n"
     ]
    },
    {
     "name": "stdout",
     "output_type": "stream",
     "text": [
      "('SerieA_22-23_tracking/8/HELLAS VERONA-UDINESE G8_tracking.json', 'SerieA_22-23_tracking/8/HELLAS VERONA-UDINESE G8.json')\n"
     ]
    },
    {
     "name": "stderr",
     "output_type": "stream",
     "text": [
      "/var/folders/n2/9_7g8plj0bl7kt3pzlkmfdm80000gn/T/ipykernel_32508/2964926902.py:185: SettingWithCopyWarning: \n",
      "A value is trying to be set on a copy of a slice from a DataFrame.\n",
      "Try using .loc[row_indexer,col_indexer] = value instead\n",
      "\n",
      "See the caveats in the documentation: https://pandas.pydata.org/pandas-docs/stable/user_guide/indexing.html#returning-a-view-versus-a-copy\n",
      "  valid_groups['change_in_marking'] = valid_groups.groupby(['defender', 'possession_id'])['closest_attacker'].shift() != valid_groups['closest_attacker']\n"
     ]
    },
    {
     "name": "stdout",
     "output_type": "stream",
     "text": [
      "('SerieA_22-23_tracking/8/INTER-ROMA G8_tracking.json', 'SerieA_22-23_tracking/8/INTER-ROMA G8.json')\n"
     ]
    },
    {
     "name": "stderr",
     "output_type": "stream",
     "text": [
      "/var/folders/n2/9_7g8plj0bl7kt3pzlkmfdm80000gn/T/ipykernel_32508/2964926902.py:185: SettingWithCopyWarning: \n",
      "A value is trying to be set on a copy of a slice from a DataFrame.\n",
      "Try using .loc[row_indexer,col_indexer] = value instead\n",
      "\n",
      "See the caveats in the documentation: https://pandas.pydata.org/pandas-docs/stable/user_guide/indexing.html#returning-a-view-versus-a-copy\n",
      "  valid_groups['change_in_marking'] = valid_groups.groupby(['defender', 'possession_id'])['closest_attacker'].shift() != valid_groups['closest_attacker']\n"
     ]
    },
    {
     "name": "stdout",
     "output_type": "stream",
     "text": [
      "('SerieA_22-23_tracking/8/JUVENTUS-BOLOGNA G8_tracking.json', 'SerieA_22-23_tracking/8/JUVENTUS-BOLOGNA G8.json')\n"
     ]
    },
    {
     "name": "stderr",
     "output_type": "stream",
     "text": [
      "/var/folders/n2/9_7g8plj0bl7kt3pzlkmfdm80000gn/T/ipykernel_32508/2964926902.py:185: SettingWithCopyWarning: \n",
      "A value is trying to be set on a copy of a slice from a DataFrame.\n",
      "Try using .loc[row_indexer,col_indexer] = value instead\n",
      "\n",
      "See the caveats in the documentation: https://pandas.pydata.org/pandas-docs/stable/user_guide/indexing.html#returning-a-view-versus-a-copy\n",
      "  valid_groups['change_in_marking'] = valid_groups.groupby(['defender', 'possession_id'])['closest_attacker'].shift() != valid_groups['closest_attacker']\n"
     ]
    },
    {
     "name": "stdout",
     "output_type": "stream",
     "text": [
      "('SerieA_22-23_tracking/8/LAZIO-SPEZIA CALCIO G8_tracking.json', 'SerieA_22-23_tracking/8/LAZIO-SPEZIA CALCIO G8.json')\n"
     ]
    },
    {
     "name": "stderr",
     "output_type": "stream",
     "text": [
      "/var/folders/n2/9_7g8plj0bl7kt3pzlkmfdm80000gn/T/ipykernel_32508/2964926902.py:185: SettingWithCopyWarning: \n",
      "A value is trying to be set on a copy of a slice from a DataFrame.\n",
      "Try using .loc[row_indexer,col_indexer] = value instead\n",
      "\n",
      "See the caveats in the documentation: https://pandas.pydata.org/pandas-docs/stable/user_guide/indexing.html#returning-a-view-versus-a-copy\n",
      "  valid_groups['change_in_marking'] = valid_groups.groupby(['defender', 'possession_id'])['closest_attacker'].shift() != valid_groups['closest_attacker']\n"
     ]
    },
    {
     "name": "stdout",
     "output_type": "stream",
     "text": [
      "('SerieA_22-23_tracking/8/LECCE-US CREMONESE G8_tracking.json', 'SerieA_22-23_tracking/8/LECCE-US CREMONESE G8.json')\n"
     ]
    },
    {
     "name": "stderr",
     "output_type": "stream",
     "text": [
      "/var/folders/n2/9_7g8plj0bl7kt3pzlkmfdm80000gn/T/ipykernel_32508/2964926902.py:185: SettingWithCopyWarning: \n",
      "A value is trying to be set on a copy of a slice from a DataFrame.\n",
      "Try using .loc[row_indexer,col_indexer] = value instead\n",
      "\n",
      "See the caveats in the documentation: https://pandas.pydata.org/pandas-docs/stable/user_guide/indexing.html#returning-a-view-versus-a-copy\n",
      "  valid_groups['change_in_marking'] = valid_groups.groupby(['defender', 'possession_id'])['closest_attacker'].shift() != valid_groups['closest_attacker']\n"
     ]
    },
    {
     "name": "stdout",
     "output_type": "stream",
     "text": [
      "('SerieA_22-23_tracking/8/NAPOLI-TORINO G8_tracking.json', 'SerieA_22-23_tracking/8/NAPOLI-TORINO G8.json')\n"
     ]
    },
    {
     "name": "stderr",
     "output_type": "stream",
     "text": [
      "/var/folders/n2/9_7g8plj0bl7kt3pzlkmfdm80000gn/T/ipykernel_32508/2964926902.py:185: SettingWithCopyWarning: \n",
      "A value is trying to be set on a copy of a slice from a DataFrame.\n",
      "Try using .loc[row_indexer,col_indexer] = value instead\n",
      "\n",
      "See the caveats in the documentation: https://pandas.pydata.org/pandas-docs/stable/user_guide/indexing.html#returning-a-view-versus-a-copy\n",
      "  valid_groups['change_in_marking'] = valid_groups.groupby(['defender', 'possession_id'])['closest_attacker'].shift() != valid_groups['closest_attacker']\n"
     ]
    },
    {
     "name": "stdout",
     "output_type": "stream",
     "text": [
      "('SerieA_22-23_tracking/8/SAMPDORIA-MONZA G8_tracking.json', 'SerieA_22-23_tracking/8/SAMPDORIA-MONZA G8.json')\n"
     ]
    },
    {
     "name": "stderr",
     "output_type": "stream",
     "text": [
      "/var/folders/n2/9_7g8plj0bl7kt3pzlkmfdm80000gn/T/ipykernel_32508/2964926902.py:185: SettingWithCopyWarning: \n",
      "A value is trying to be set on a copy of a slice from a DataFrame.\n",
      "Try using .loc[row_indexer,col_indexer] = value instead\n",
      "\n",
      "See the caveats in the documentation: https://pandas.pydata.org/pandas-docs/stable/user_guide/indexing.html#returning-a-view-versus-a-copy\n",
      "  valid_groups['change_in_marking'] = valid_groups.groupby(['defender', 'possession_id'])['closest_attacker'].shift() != valid_groups['closest_attacker']\n"
     ]
    },
    {
     "name": "stdout",
     "output_type": "stream",
     "text": [
      "('SerieA_22-23_tracking/8/SASSUOLO-SALERNITANA G8_tracking.json', 'SerieA_22-23_tracking/8/SASSUOLO-SALERNITANA G8.json')\n"
     ]
    },
    {
     "name": "stderr",
     "output_type": "stream",
     "text": [
      "/var/folders/n2/9_7g8plj0bl7kt3pzlkmfdm80000gn/T/ipykernel_32508/2964926902.py:185: SettingWithCopyWarning: \n",
      "A value is trying to be set on a copy of a slice from a DataFrame.\n",
      "Try using .loc[row_indexer,col_indexer] = value instead\n",
      "\n",
      "See the caveats in the documentation: https://pandas.pydata.org/pandas-docs/stable/user_guide/indexing.html#returning-a-view-versus-a-copy\n",
      "  valid_groups['change_in_marking'] = valid_groups.groupby(['defender', 'possession_id'])['closest_attacker'].shift() != valid_groups['closest_attacker']\n"
     ]
    },
    {
     "name": "stdout",
     "output_type": "stream",
     "text": [
      "('SerieA_22-23_tracking/21/FIORENTINA-BOLOGNA G21_tracking.json', 'SerieA_22-23_tracking/21/FIORENTINA-BOLOGNA G21.json')\n"
     ]
    },
    {
     "name": "stderr",
     "output_type": "stream",
     "text": [
      "/var/folders/n2/9_7g8plj0bl7kt3pzlkmfdm80000gn/T/ipykernel_32508/2964926902.py:185: SettingWithCopyWarning: \n",
      "A value is trying to be set on a copy of a slice from a DataFrame.\n",
      "Try using .loc[row_indexer,col_indexer] = value instead\n",
      "\n",
      "See the caveats in the documentation: https://pandas.pydata.org/pandas-docs/stable/user_guide/indexing.html#returning-a-view-versus-a-copy\n",
      "  valid_groups['change_in_marking'] = valid_groups.groupby(['defender', 'possession_id'])['closest_attacker'].shift() != valid_groups['closest_attacker']\n"
     ]
    },
    {
     "name": "stdout",
     "output_type": "stream",
     "text": [
      "('SerieA_22-23_tracking/21/HELLAS VERONA-LAZIO G21_tracking.json', 'SerieA_22-23_tracking/21/HELLAS VERONA-LAZIO G21.json')\n"
     ]
    },
    {
     "name": "stderr",
     "output_type": "stream",
     "text": [
      "/var/folders/n2/9_7g8plj0bl7kt3pzlkmfdm80000gn/T/ipykernel_32508/2964926902.py:185: SettingWithCopyWarning: \n",
      "A value is trying to be set on a copy of a slice from a DataFrame.\n",
      "Try using .loc[row_indexer,col_indexer] = value instead\n",
      "\n",
      "See the caveats in the documentation: https://pandas.pydata.org/pandas-docs/stable/user_guide/indexing.html#returning-a-view-versus-a-copy\n",
      "  valid_groups['change_in_marking'] = valid_groups.groupby(['defender', 'possession_id'])['closest_attacker'].shift() != valid_groups['closest_attacker']\n"
     ]
    },
    {
     "name": "stdout",
     "output_type": "stream",
     "text": [
      "('SerieA_22-23_tracking/21/INTER-MILAN G21_tracking.json', 'SerieA_22-23_tracking/21/INTER-MILAN G21.json')\n"
     ]
    },
    {
     "name": "stderr",
     "output_type": "stream",
     "text": [
      "/var/folders/n2/9_7g8plj0bl7kt3pzlkmfdm80000gn/T/ipykernel_32508/2964926902.py:185: SettingWithCopyWarning: \n",
      "A value is trying to be set on a copy of a slice from a DataFrame.\n",
      "Try using .loc[row_indexer,col_indexer] = value instead\n",
      "\n",
      "See the caveats in the documentation: https://pandas.pydata.org/pandas-docs/stable/user_guide/indexing.html#returning-a-view-versus-a-copy\n",
      "  valid_groups['change_in_marking'] = valid_groups.groupby(['defender', 'possession_id'])['closest_attacker'].shift() != valid_groups['closest_attacker']\n"
     ]
    },
    {
     "name": "stdout",
     "output_type": "stream",
     "text": [
      "('SerieA_22-23_tracking/21/MONZA-SAMPDORIA G21_tracking.json', 'SerieA_22-23_tracking/21/MONZA-SAMPDORIA G21.json')\n"
     ]
    },
    {
     "name": "stderr",
     "output_type": "stream",
     "text": [
      "/var/folders/n2/9_7g8plj0bl7kt3pzlkmfdm80000gn/T/ipykernel_32508/2964926902.py:185: SettingWithCopyWarning: \n",
      "A value is trying to be set on a copy of a slice from a DataFrame.\n",
      "Try using .loc[row_indexer,col_indexer] = value instead\n",
      "\n",
      "See the caveats in the documentation: https://pandas.pydata.org/pandas-docs/stable/user_guide/indexing.html#returning-a-view-versus-a-copy\n",
      "  valid_groups['change_in_marking'] = valid_groups.groupby(['defender', 'possession_id'])['closest_attacker'].shift() != valid_groups['closest_attacker']\n"
     ]
    },
    {
     "name": "stdout",
     "output_type": "stream",
     "text": [
      "('SerieA_22-23_tracking/21/ROMA-EMPOLI G21_tracking.json', 'SerieA_22-23_tracking/21/ROMA-EMPOLI G21.json')\n"
     ]
    },
    {
     "name": "stderr",
     "output_type": "stream",
     "text": [
      "/var/folders/n2/9_7g8plj0bl7kt3pzlkmfdm80000gn/T/ipykernel_32508/2964926902.py:185: SettingWithCopyWarning: \n",
      "A value is trying to be set on a copy of a slice from a DataFrame.\n",
      "Try using .loc[row_indexer,col_indexer] = value instead\n",
      "\n",
      "See the caveats in the documentation: https://pandas.pydata.org/pandas-docs/stable/user_guide/indexing.html#returning-a-view-versus-a-copy\n",
      "  valid_groups['change_in_marking'] = valid_groups.groupby(['defender', 'possession_id'])['closest_attacker'].shift() != valid_groups['closest_attacker']\n"
     ]
    },
    {
     "name": "stdout",
     "output_type": "stream",
     "text": [
      "('SerieA_22-23_tracking/21/SALERNITANA-JUVENTUS G21_tracking.json', 'SerieA_22-23_tracking/21/SALERNITANA-JUVENTUS G21.json')\n"
     ]
    },
    {
     "name": "stderr",
     "output_type": "stream",
     "text": [
      "/var/folders/n2/9_7g8plj0bl7kt3pzlkmfdm80000gn/T/ipykernel_32508/2964926902.py:185: SettingWithCopyWarning: \n",
      "A value is trying to be set on a copy of a slice from a DataFrame.\n",
      "Try using .loc[row_indexer,col_indexer] = value instead\n",
      "\n",
      "See the caveats in the documentation: https://pandas.pydata.org/pandas-docs/stable/user_guide/indexing.html#returning-a-view-versus-a-copy\n",
      "  valid_groups['change_in_marking'] = valid_groups.groupby(['defender', 'possession_id'])['closest_attacker'].shift() != valid_groups['closest_attacker']\n"
     ]
    },
    {
     "name": "stdout",
     "output_type": "stream",
     "text": [
      "('SerieA_22-23_tracking/21/SASSUOLO-ATALANTA G21_tracking.json', 'SerieA_22-23_tracking/21/SASSUOLO-ATALANTA G21.json')\n"
     ]
    },
    {
     "name": "stderr",
     "output_type": "stream",
     "text": [
      "/var/folders/n2/9_7g8plj0bl7kt3pzlkmfdm80000gn/T/ipykernel_32508/2964926902.py:185: SettingWithCopyWarning: \n",
      "A value is trying to be set on a copy of a slice from a DataFrame.\n",
      "Try using .loc[row_indexer,col_indexer] = value instead\n",
      "\n",
      "See the caveats in the documentation: https://pandas.pydata.org/pandas-docs/stable/user_guide/indexing.html#returning-a-view-versus-a-copy\n",
      "  valid_groups['change_in_marking'] = valid_groups.groupby(['defender', 'possession_id'])['closest_attacker'].shift() != valid_groups['closest_attacker']\n"
     ]
    },
    {
     "name": "stdout",
     "output_type": "stream",
     "text": [
      "('SerieA_22-23_tracking/21/SPEZIA CALCIO-NAPOLI G21_tracking.json', 'SerieA_22-23_tracking/21/SPEZIA CALCIO-NAPOLI G21.json')\n"
     ]
    },
    {
     "name": "stderr",
     "output_type": "stream",
     "text": [
      "/var/folders/n2/9_7g8plj0bl7kt3pzlkmfdm80000gn/T/ipykernel_32508/2964926902.py:185: SettingWithCopyWarning: \n",
      "A value is trying to be set on a copy of a slice from a DataFrame.\n",
      "Try using .loc[row_indexer,col_indexer] = value instead\n",
      "\n",
      "See the caveats in the documentation: https://pandas.pydata.org/pandas-docs/stable/user_guide/indexing.html#returning-a-view-versus-a-copy\n",
      "  valid_groups['change_in_marking'] = valid_groups.groupby(['defender', 'possession_id'])['closest_attacker'].shift() != valid_groups['closest_attacker']\n"
     ]
    },
    {
     "name": "stdout",
     "output_type": "stream",
     "text": [
      "('SerieA_22-23_tracking/21/TORINO-UDINESE G21_tracking.json', 'SerieA_22-23_tracking/21/TORINO-UDINESE G21.json')\n"
     ]
    },
    {
     "name": "stderr",
     "output_type": "stream",
     "text": [
      "/var/folders/n2/9_7g8plj0bl7kt3pzlkmfdm80000gn/T/ipykernel_32508/2964926902.py:185: SettingWithCopyWarning: \n",
      "A value is trying to be set on a copy of a slice from a DataFrame.\n",
      "Try using .loc[row_indexer,col_indexer] = value instead\n",
      "\n",
      "See the caveats in the documentation: https://pandas.pydata.org/pandas-docs/stable/user_guide/indexing.html#returning-a-view-versus-a-copy\n",
      "  valid_groups['change_in_marking'] = valid_groups.groupby(['defender', 'possession_id'])['closest_attacker'].shift() != valid_groups['closest_attacker']\n"
     ]
    },
    {
     "name": "stdout",
     "output_type": "stream",
     "text": [
      "('SerieA_22-23_tracking/21/US CREMONESE-LECCE G21_tracking.json', 'SerieA_22-23_tracking/21/US CREMONESE-LECCE G21.json')\n"
     ]
    },
    {
     "name": "stderr",
     "output_type": "stream",
     "text": [
      "/var/folders/n2/9_7g8plj0bl7kt3pzlkmfdm80000gn/T/ipykernel_32508/2964926902.py:185: SettingWithCopyWarning: \n",
      "A value is trying to be set on a copy of a slice from a DataFrame.\n",
      "Try using .loc[row_indexer,col_indexer] = value instead\n",
      "\n",
      "See the caveats in the documentation: https://pandas.pydata.org/pandas-docs/stable/user_guide/indexing.html#returning-a-view-versus-a-copy\n",
      "  valid_groups['change_in_marking'] = valid_groups.groupby(['defender', 'possession_id'])['closest_attacker'].shift() != valid_groups['closest_attacker']\n"
     ]
    },
    {
     "name": "stdout",
     "output_type": "stream",
     "text": [
      "('SerieA_22-23_tracking/38/ATALANTA-MONZA G38_tracking.json', 'SerieA_22-23_tracking/38/ATALANTA-MONZA G38.json')\n"
     ]
    },
    {
     "name": "stderr",
     "output_type": "stream",
     "text": [
      "/var/folders/n2/9_7g8plj0bl7kt3pzlkmfdm80000gn/T/ipykernel_32508/2964926902.py:185: SettingWithCopyWarning: \n",
      "A value is trying to be set on a copy of a slice from a DataFrame.\n",
      "Try using .loc[row_indexer,col_indexer] = value instead\n",
      "\n",
      "See the caveats in the documentation: https://pandas.pydata.org/pandas-docs/stable/user_guide/indexing.html#returning-a-view-versus-a-copy\n",
      "  valid_groups['change_in_marking'] = valid_groups.groupby(['defender', 'possession_id'])['closest_attacker'].shift() != valid_groups['closest_attacker']\n"
     ]
    },
    {
     "name": "stdout",
     "output_type": "stream",
     "text": [
      "('SerieA_22-23_tracking/38/EMPOLI-LAZIO G38_tracking.json', 'SerieA_22-23_tracking/38/EMPOLI-LAZIO G38.json')\n"
     ]
    },
    {
     "name": "stderr",
     "output_type": "stream",
     "text": [
      "/var/folders/n2/9_7g8plj0bl7kt3pzlkmfdm80000gn/T/ipykernel_32508/2964926902.py:185: SettingWithCopyWarning: \n",
      "A value is trying to be set on a copy of a slice from a DataFrame.\n",
      "Try using .loc[row_indexer,col_indexer] = value instead\n",
      "\n",
      "See the caveats in the documentation: https://pandas.pydata.org/pandas-docs/stable/user_guide/indexing.html#returning-a-view-versus-a-copy\n",
      "  valid_groups['change_in_marking'] = valid_groups.groupby(['defender', 'possession_id'])['closest_attacker'].shift() != valid_groups['closest_attacker']\n"
     ]
    },
    {
     "name": "stdout",
     "output_type": "stream",
     "text": [
      "('SerieA_22-23_tracking/38/LECCE-BOLOGNA G38_tracking.json', 'SerieA_22-23_tracking/38/LECCE-BOLOGNA G38.json')\n"
     ]
    },
    {
     "name": "stderr",
     "output_type": "stream",
     "text": [
      "/var/folders/n2/9_7g8plj0bl7kt3pzlkmfdm80000gn/T/ipykernel_32508/2964926902.py:185: SettingWithCopyWarning: \n",
      "A value is trying to be set on a copy of a slice from a DataFrame.\n",
      "Try using .loc[row_indexer,col_indexer] = value instead\n",
      "\n",
      "See the caveats in the documentation: https://pandas.pydata.org/pandas-docs/stable/user_guide/indexing.html#returning-a-view-versus-a-copy\n",
      "  valid_groups['change_in_marking'] = valid_groups.groupby(['defender', 'possession_id'])['closest_attacker'].shift() != valid_groups['closest_attacker']\n"
     ]
    },
    {
     "name": "stdout",
     "output_type": "stream",
     "text": [
      "('SerieA_22-23_tracking/38/MILAN-HELLAS VERONA G38_tracking.json', 'SerieA_22-23_tracking/38/MILAN-HELLAS VERONA G38.json')\n"
     ]
    },
    {
     "name": "stderr",
     "output_type": "stream",
     "text": [
      "/var/folders/n2/9_7g8plj0bl7kt3pzlkmfdm80000gn/T/ipykernel_32508/2964926902.py:185: SettingWithCopyWarning: \n",
      "A value is trying to be set on a copy of a slice from a DataFrame.\n",
      "Try using .loc[row_indexer,col_indexer] = value instead\n",
      "\n",
      "See the caveats in the documentation: https://pandas.pydata.org/pandas-docs/stable/user_guide/indexing.html#returning-a-view-versus-a-copy\n",
      "  valid_groups['change_in_marking'] = valid_groups.groupby(['defender', 'possession_id'])['closest_attacker'].shift() != valid_groups['closest_attacker']\n"
     ]
    },
    {
     "name": "stdout",
     "output_type": "stream",
     "text": [
      "('SerieA_22-23_tracking/38/NAPOLI-SAMPDORIA G38_tracking.json', 'SerieA_22-23_tracking/38/NAPOLI-SAMPDORIA G38.json')\n"
     ]
    },
    {
     "name": "stderr",
     "output_type": "stream",
     "text": [
      "/var/folders/n2/9_7g8plj0bl7kt3pzlkmfdm80000gn/T/ipykernel_32508/2964926902.py:185: SettingWithCopyWarning: \n",
      "A value is trying to be set on a copy of a slice from a DataFrame.\n",
      "Try using .loc[row_indexer,col_indexer] = value instead\n",
      "\n",
      "See the caveats in the documentation: https://pandas.pydata.org/pandas-docs/stable/user_guide/indexing.html#returning-a-view-versus-a-copy\n",
      "  valid_groups['change_in_marking'] = valid_groups.groupby(['defender', 'possession_id'])['closest_attacker'].shift() != valid_groups['closest_attacker']\n"
     ]
    },
    {
     "name": "stdout",
     "output_type": "stream",
     "text": [
      "('SerieA_22-23_tracking/38/ROMA-SPEZIA CALCIO G38_tracking.json', 'SerieA_22-23_tracking/38/ROMA-SPEZIA CALCIO G38.json')\n"
     ]
    },
    {
     "name": "stderr",
     "output_type": "stream",
     "text": [
      "/var/folders/n2/9_7g8plj0bl7kt3pzlkmfdm80000gn/T/ipykernel_32508/2964926902.py:185: SettingWithCopyWarning: \n",
      "A value is trying to be set on a copy of a slice from a DataFrame.\n",
      "Try using .loc[row_indexer,col_indexer] = value instead\n",
      "\n",
      "See the caveats in the documentation: https://pandas.pydata.org/pandas-docs/stable/user_guide/indexing.html#returning-a-view-versus-a-copy\n",
      "  valid_groups['change_in_marking'] = valid_groups.groupby(['defender', 'possession_id'])['closest_attacker'].shift() != valid_groups['closest_attacker']\n"
     ]
    },
    {
     "name": "stdout",
     "output_type": "stream",
     "text": [
      "('SerieA_22-23_tracking/38/SASSUOLO-FIORENTINA G38_tracking.json', 'SerieA_22-23_tracking/38/SASSUOLO-FIORENTINA G38.json')\n"
     ]
    },
    {
     "name": "stderr",
     "output_type": "stream",
     "text": [
      "/var/folders/n2/9_7g8plj0bl7kt3pzlkmfdm80000gn/T/ipykernel_32508/2964926902.py:185: SettingWithCopyWarning: \n",
      "A value is trying to be set on a copy of a slice from a DataFrame.\n",
      "Try using .loc[row_indexer,col_indexer] = value instead\n",
      "\n",
      "See the caveats in the documentation: https://pandas.pydata.org/pandas-docs/stable/user_guide/indexing.html#returning-a-view-versus-a-copy\n",
      "  valid_groups['change_in_marking'] = valid_groups.groupby(['defender', 'possession_id'])['closest_attacker'].shift() != valid_groups['closest_attacker']\n"
     ]
    },
    {
     "name": "stdout",
     "output_type": "stream",
     "text": [
      "('SerieA_22-23_tracking/38/TORINO-INTER G38_tracking.json', 'SerieA_22-23_tracking/38/TORINO-INTER G38.json')\n"
     ]
    },
    {
     "name": "stderr",
     "output_type": "stream",
     "text": [
      "/var/folders/n2/9_7g8plj0bl7kt3pzlkmfdm80000gn/T/ipykernel_32508/2964926902.py:185: SettingWithCopyWarning: \n",
      "A value is trying to be set on a copy of a slice from a DataFrame.\n",
      "Try using .loc[row_indexer,col_indexer] = value instead\n",
      "\n",
      "See the caveats in the documentation: https://pandas.pydata.org/pandas-docs/stable/user_guide/indexing.html#returning-a-view-versus-a-copy\n",
      "  valid_groups['change_in_marking'] = valid_groups.groupby(['defender', 'possession_id'])['closest_attacker'].shift() != valid_groups['closest_attacker']\n"
     ]
    },
    {
     "name": "stdout",
     "output_type": "stream",
     "text": [
      "('SerieA_22-23_tracking/38/UDINESE-JUVENTUS G38_tracking.json', 'SerieA_22-23_tracking/38/UDINESE-JUVENTUS G38.json')\n"
     ]
    },
    {
     "name": "stderr",
     "output_type": "stream",
     "text": [
      "/var/folders/n2/9_7g8plj0bl7kt3pzlkmfdm80000gn/T/ipykernel_32508/2964926902.py:185: SettingWithCopyWarning: \n",
      "A value is trying to be set on a copy of a slice from a DataFrame.\n",
      "Try using .loc[row_indexer,col_indexer] = value instead\n",
      "\n",
      "See the caveats in the documentation: https://pandas.pydata.org/pandas-docs/stable/user_guide/indexing.html#returning-a-view-versus-a-copy\n",
      "  valid_groups['change_in_marking'] = valid_groups.groupby(['defender', 'possession_id'])['closest_attacker'].shift() != valid_groups['closest_attacker']\n"
     ]
    },
    {
     "name": "stdout",
     "output_type": "stream",
     "text": [
      "('SerieA_22-23_tracking/38/US CREMONESE-SALERNITANA G38_tracking.json', 'SerieA_22-23_tracking/38/US CREMONESE-SALERNITANA G38.json')\n"
     ]
    },
    {
     "name": "stderr",
     "output_type": "stream",
     "text": [
      "/var/folders/n2/9_7g8plj0bl7kt3pzlkmfdm80000gn/T/ipykernel_32508/2964926902.py:185: SettingWithCopyWarning: \n",
      "A value is trying to be set on a copy of a slice from a DataFrame.\n",
      "Try using .loc[row_indexer,col_indexer] = value instead\n",
      "\n",
      "See the caveats in the documentation: https://pandas.pydata.org/pandas-docs/stable/user_guide/indexing.html#returning-a-view-versus-a-copy\n",
      "  valid_groups['change_in_marking'] = valid_groups.groupby(['defender', 'possession_id'])['closest_attacker'].shift() != valid_groups['closest_attacker']\n"
     ]
    },
    {
     "name": "stdout",
     "output_type": "stream",
     "text": [
      "('SerieA_22-23_tracking/36/ATALANTA-HELLAS VERONA G36_tracking.json', 'SerieA_22-23_tracking/36/ATALANTA-HELLAS VERONA G36.json')\n"
     ]
    },
    {
     "name": "stderr",
     "output_type": "stream",
     "text": [
      "/var/folders/n2/9_7g8plj0bl7kt3pzlkmfdm80000gn/T/ipykernel_32508/2964926902.py:185: SettingWithCopyWarning: \n",
      "A value is trying to be set on a copy of a slice from a DataFrame.\n",
      "Try using .loc[row_indexer,col_indexer] = value instead\n",
      "\n",
      "See the caveats in the documentation: https://pandas.pydata.org/pandas-docs/stable/user_guide/indexing.html#returning-a-view-versus-a-copy\n",
      "  valid_groups['change_in_marking'] = valid_groups.groupby(['defender', 'possession_id'])['closest_attacker'].shift() != valid_groups['closest_attacker']\n"
     ]
    },
    {
     "name": "stdout",
     "output_type": "stream",
     "text": [
      "('SerieA_22-23_tracking/36/EMPOLI-JUVENTUS G36_tracking.json', 'SerieA_22-23_tracking/36/EMPOLI-JUVENTUS G36.json')\n"
     ]
    },
    {
     "name": "stderr",
     "output_type": "stream",
     "text": [
      "/var/folders/n2/9_7g8plj0bl7kt3pzlkmfdm80000gn/T/ipykernel_32508/2964926902.py:185: SettingWithCopyWarning: \n",
      "A value is trying to be set on a copy of a slice from a DataFrame.\n",
      "Try using .loc[row_indexer,col_indexer] = value instead\n",
      "\n",
      "See the caveats in the documentation: https://pandas.pydata.org/pandas-docs/stable/user_guide/indexing.html#returning-a-view-versus-a-copy\n",
      "  valid_groups['change_in_marking'] = valid_groups.groupby(['defender', 'possession_id'])['closest_attacker'].shift() != valid_groups['closest_attacker']\n"
     ]
    },
    {
     "name": "stdout",
     "output_type": "stream",
     "text": [
      "('SerieA_22-23_tracking/36/LECCE-SPEZIA CALCIO G36_tracking.json', 'SerieA_22-23_tracking/36/LECCE-SPEZIA CALCIO G36.json')\n"
     ]
    },
    {
     "name": "stderr",
     "output_type": "stream",
     "text": [
      "/var/folders/n2/9_7g8plj0bl7kt3pzlkmfdm80000gn/T/ipykernel_32508/2964926902.py:185: SettingWithCopyWarning: \n",
      "A value is trying to be set on a copy of a slice from a DataFrame.\n",
      "Try using .loc[row_indexer,col_indexer] = value instead\n",
      "\n",
      "See the caveats in the documentation: https://pandas.pydata.org/pandas-docs/stable/user_guide/indexing.html#returning-a-view-versus-a-copy\n",
      "  valid_groups['change_in_marking'] = valid_groups.groupby(['defender', 'possession_id'])['closest_attacker'].shift() != valid_groups['closest_attacker']\n"
     ]
    },
    {
     "name": "stdout",
     "output_type": "stream",
     "text": [
      "('SerieA_22-23_tracking/36/MILAN-SAMPDORIA G36_tracking.json', 'SerieA_22-23_tracking/36/MILAN-SAMPDORIA G36.json')\n"
     ]
    },
    {
     "name": "stderr",
     "output_type": "stream",
     "text": [
      "/var/folders/n2/9_7g8plj0bl7kt3pzlkmfdm80000gn/T/ipykernel_32508/2964926902.py:185: SettingWithCopyWarning: \n",
      "A value is trying to be set on a copy of a slice from a DataFrame.\n",
      "Try using .loc[row_indexer,col_indexer] = value instead\n",
      "\n",
      "See the caveats in the documentation: https://pandas.pydata.org/pandas-docs/stable/user_guide/indexing.html#returning-a-view-versus-a-copy\n",
      "  valid_groups['change_in_marking'] = valid_groups.groupby(['defender', 'possession_id'])['closest_attacker'].shift() != valid_groups['closest_attacker']\n"
     ]
    },
    {
     "name": "stdout",
     "output_type": "stream",
     "text": [
      "('SerieA_22-23_tracking/36/NAPOLI-INTER G36_tracking.json', 'SerieA_22-23_tracking/36/NAPOLI-INTER G36.json')\n"
     ]
    },
    {
     "name": "stderr",
     "output_type": "stream",
     "text": [
      "/var/folders/n2/9_7g8plj0bl7kt3pzlkmfdm80000gn/T/ipykernel_32508/2964926902.py:185: SettingWithCopyWarning: \n",
      "A value is trying to be set on a copy of a slice from a DataFrame.\n",
      "Try using .loc[row_indexer,col_indexer] = value instead\n",
      "\n",
      "See the caveats in the documentation: https://pandas.pydata.org/pandas-docs/stable/user_guide/indexing.html#returning-a-view-versus-a-copy\n",
      "  valid_groups['change_in_marking'] = valid_groups.groupby(['defender', 'possession_id'])['closest_attacker'].shift() != valid_groups['closest_attacker']\n"
     ]
    },
    {
     "name": "stdout",
     "output_type": "stream",
     "text": [
      "('SerieA_22-23_tracking/36/ROMA-SALERNITANA G36_tracking.json', 'SerieA_22-23_tracking/36/ROMA-SALERNITANA G36.json')\n"
     ]
    },
    {
     "name": "stderr",
     "output_type": "stream",
     "text": [
      "/var/folders/n2/9_7g8plj0bl7kt3pzlkmfdm80000gn/T/ipykernel_32508/2964926902.py:185: SettingWithCopyWarning: \n",
      "A value is trying to be set on a copy of a slice from a DataFrame.\n",
      "Try using .loc[row_indexer,col_indexer] = value instead\n",
      "\n",
      "See the caveats in the documentation: https://pandas.pydata.org/pandas-docs/stable/user_guide/indexing.html#returning-a-view-versus-a-copy\n",
      "  valid_groups['change_in_marking'] = valid_groups.groupby(['defender', 'possession_id'])['closest_attacker'].shift() != valid_groups['closest_attacker']\n"
     ]
    },
    {
     "name": "stdout",
     "output_type": "stream",
     "text": [
      "('SerieA_22-23_tracking/36/SASSUOLO-MONZA G36_tracking.json', 'SerieA_22-23_tracking/36/SASSUOLO-MONZA G36.json')\n"
     ]
    },
    {
     "name": "stderr",
     "output_type": "stream",
     "text": [
      "/var/folders/n2/9_7g8plj0bl7kt3pzlkmfdm80000gn/T/ipykernel_32508/2964926902.py:185: SettingWithCopyWarning: \n",
      "A value is trying to be set on a copy of a slice from a DataFrame.\n",
      "Try using .loc[row_indexer,col_indexer] = value instead\n",
      "\n",
      "See the caveats in the documentation: https://pandas.pydata.org/pandas-docs/stable/user_guide/indexing.html#returning-a-view-versus-a-copy\n",
      "  valid_groups['change_in_marking'] = valid_groups.groupby(['defender', 'possession_id'])['closest_attacker'].shift() != valid_groups['closest_attacker']\n"
     ]
    },
    {
     "name": "stdout",
     "output_type": "stream",
     "text": [
      "('SerieA_22-23_tracking/36/TORINO-FIORENTINA G36_tracking.json', 'SerieA_22-23_tracking/36/TORINO-FIORENTINA G36.json')\n"
     ]
    },
    {
     "name": "stderr",
     "output_type": "stream",
     "text": [
      "/var/folders/n2/9_7g8plj0bl7kt3pzlkmfdm80000gn/T/ipykernel_32508/2964926902.py:185: SettingWithCopyWarning: \n",
      "A value is trying to be set on a copy of a slice from a DataFrame.\n",
      "Try using .loc[row_indexer,col_indexer] = value instead\n",
      "\n",
      "See the caveats in the documentation: https://pandas.pydata.org/pandas-docs/stable/user_guide/indexing.html#returning-a-view-versus-a-copy\n",
      "  valid_groups['change_in_marking'] = valid_groups.groupby(['defender', 'possession_id'])['closest_attacker'].shift() != valid_groups['closest_attacker']\n"
     ]
    },
    {
     "name": "stdout",
     "output_type": "stream",
     "text": [
      "('SerieA_22-23_tracking/36/UDINESE-LAZIO G36_tracking.json', 'SerieA_22-23_tracking/36/UDINESE-LAZIO G36.json')\n"
     ]
    },
    {
     "name": "stderr",
     "output_type": "stream",
     "text": [
      "/var/folders/n2/9_7g8plj0bl7kt3pzlkmfdm80000gn/T/ipykernel_32508/2964926902.py:185: SettingWithCopyWarning: \n",
      "A value is trying to be set on a copy of a slice from a DataFrame.\n",
      "Try using .loc[row_indexer,col_indexer] = value instead\n",
      "\n",
      "See the caveats in the documentation: https://pandas.pydata.org/pandas-docs/stable/user_guide/indexing.html#returning-a-view-versus-a-copy\n",
      "  valid_groups['change_in_marking'] = valid_groups.groupby(['defender', 'possession_id'])['closest_attacker'].shift() != valid_groups['closest_attacker']\n"
     ]
    },
    {
     "name": "stdout",
     "output_type": "stream",
     "text": [
      "('SerieA_22-23_tracking/36/US CREMONESE-BOLOGNA G36_tracking.json', 'SerieA_22-23_tracking/36/US CREMONESE-BOLOGNA G36.json')\n"
     ]
    },
    {
     "name": "stderr",
     "output_type": "stream",
     "text": [
      "/var/folders/n2/9_7g8plj0bl7kt3pzlkmfdm80000gn/T/ipykernel_32508/2964926902.py:185: SettingWithCopyWarning: \n",
      "A value is trying to be set on a copy of a slice from a DataFrame.\n",
      "Try using .loc[row_indexer,col_indexer] = value instead\n",
      "\n",
      "See the caveats in the documentation: https://pandas.pydata.org/pandas-docs/stable/user_guide/indexing.html#returning-a-view-versus-a-copy\n",
      "  valid_groups['change_in_marking'] = valid_groups.groupby(['defender', 'possession_id'])['closest_attacker'].shift() != valid_groups['closest_attacker']\n"
     ]
    },
    {
     "name": "stdout",
     "output_type": "stream",
     "text": [
      "('SerieA_22-23_tracking/31/ATALANTA-ROMA G31_tracking.json', 'SerieA_22-23_tracking/31/ATALANTA-ROMA G31.json')\n"
     ]
    },
    {
     "name": "stderr",
     "output_type": "stream",
     "text": [
      "/var/folders/n2/9_7g8plj0bl7kt3pzlkmfdm80000gn/T/ipykernel_32508/2964926902.py:185: SettingWithCopyWarning: \n",
      "A value is trying to be set on a copy of a slice from a DataFrame.\n",
      "Try using .loc[row_indexer,col_indexer] = value instead\n",
      "\n",
      "See the caveats in the documentation: https://pandas.pydata.org/pandas-docs/stable/user_guide/indexing.html#returning-a-view-versus-a-copy\n",
      "  valid_groups['change_in_marking'] = valid_groups.groupby(['defender', 'possession_id'])['closest_attacker'].shift() != valid_groups['closest_attacker']\n"
     ]
    },
    {
     "name": "stdout",
     "output_type": "stream",
     "text": [
      "('SerieA_22-23_tracking/31/EMPOLI-INTER G31_tracking.json', 'SerieA_22-23_tracking/31/EMPOLI-INTER G31.json')\n"
     ]
    },
    {
     "name": "stderr",
     "output_type": "stream",
     "text": [
      "/var/folders/n2/9_7g8plj0bl7kt3pzlkmfdm80000gn/T/ipykernel_32508/2964926902.py:185: SettingWithCopyWarning: \n",
      "A value is trying to be set on a copy of a slice from a DataFrame.\n",
      "Try using .loc[row_indexer,col_indexer] = value instead\n",
      "\n",
      "See the caveats in the documentation: https://pandas.pydata.org/pandas-docs/stable/user_guide/indexing.html#returning-a-view-versus-a-copy\n",
      "  valid_groups['change_in_marking'] = valid_groups.groupby(['defender', 'possession_id'])['closest_attacker'].shift() != valid_groups['closest_attacker']\n"
     ]
    },
    {
     "name": "stdout",
     "output_type": "stream",
     "text": [
      "('SerieA_22-23_tracking/31/HELLAS VERONA-BOLOGNA G31_tracking.json', 'SerieA_22-23_tracking/31/HELLAS VERONA-BOLOGNA G31.json')\n"
     ]
    },
    {
     "name": "stderr",
     "output_type": "stream",
     "text": [
      "/var/folders/n2/9_7g8plj0bl7kt3pzlkmfdm80000gn/T/ipykernel_32508/2964926902.py:185: SettingWithCopyWarning: \n",
      "A value is trying to be set on a copy of a slice from a DataFrame.\n",
      "Try using .loc[row_indexer,col_indexer] = value instead\n",
      "\n",
      "See the caveats in the documentation: https://pandas.pydata.org/pandas-docs/stable/user_guide/indexing.html#returning-a-view-versus-a-copy\n",
      "  valid_groups['change_in_marking'] = valid_groups.groupby(['defender', 'possession_id'])['closest_attacker'].shift() != valid_groups['closest_attacker']\n"
     ]
    },
    {
     "name": "stdout",
     "output_type": "stream",
     "text": [
      "('SerieA_22-23_tracking/31/JUVENTUS-NAPOLI G31_tracking.json', 'SerieA_22-23_tracking/31/JUVENTUS-NAPOLI G31.json')\n"
     ]
    },
    {
     "name": "stderr",
     "output_type": "stream",
     "text": [
      "/var/folders/n2/9_7g8plj0bl7kt3pzlkmfdm80000gn/T/ipykernel_32508/2964926902.py:185: SettingWithCopyWarning: \n",
      "A value is trying to be set on a copy of a slice from a DataFrame.\n",
      "Try using .loc[row_indexer,col_indexer] = value instead\n",
      "\n",
      "See the caveats in the documentation: https://pandas.pydata.org/pandas-docs/stable/user_guide/indexing.html#returning-a-view-versus-a-copy\n",
      "  valid_groups['change_in_marking'] = valid_groups.groupby(['defender', 'possession_id'])['closest_attacker'].shift() != valid_groups['closest_attacker']\n"
     ]
    },
    {
     "name": "stdout",
     "output_type": "stream",
     "text": [
      "('SerieA_22-23_tracking/31/LAZIO-TORINO G31_tracking.json', 'SerieA_22-23_tracking/31/LAZIO-TORINO G31.json')\n"
     ]
    },
    {
     "name": "stderr",
     "output_type": "stream",
     "text": [
      "/var/folders/n2/9_7g8plj0bl7kt3pzlkmfdm80000gn/T/ipykernel_32508/2964926902.py:185: SettingWithCopyWarning: \n",
      "A value is trying to be set on a copy of a slice from a DataFrame.\n",
      "Try using .loc[row_indexer,col_indexer] = value instead\n",
      "\n",
      "See the caveats in the documentation: https://pandas.pydata.org/pandas-docs/stable/user_guide/indexing.html#returning-a-view-versus-a-copy\n",
      "  valid_groups['change_in_marking'] = valid_groups.groupby(['defender', 'possession_id'])['closest_attacker'].shift() != valid_groups['closest_attacker']\n"
     ]
    },
    {
     "name": "stdout",
     "output_type": "stream",
     "text": [
      "('SerieA_22-23_tracking/31/MILAN-LECCE G31_tracking.json', 'SerieA_22-23_tracking/31/MILAN-LECCE G31.json')\n"
     ]
    },
    {
     "name": "stderr",
     "output_type": "stream",
     "text": [
      "/var/folders/n2/9_7g8plj0bl7kt3pzlkmfdm80000gn/T/ipykernel_32508/2964926902.py:185: SettingWithCopyWarning: \n",
      "A value is trying to be set on a copy of a slice from a DataFrame.\n",
      "Try using .loc[row_indexer,col_indexer] = value instead\n",
      "\n",
      "See the caveats in the documentation: https://pandas.pydata.org/pandas-docs/stable/user_guide/indexing.html#returning-a-view-versus-a-copy\n",
      "  valid_groups['change_in_marking'] = valid_groups.groupby(['defender', 'possession_id'])['closest_attacker'].shift() != valid_groups['closest_attacker']\n"
     ]
    },
    {
     "name": "stdout",
     "output_type": "stream",
     "text": [
      "('SerieA_22-23_tracking/31/MONZA-FIORENTINA G31_tracking.json', 'SerieA_22-23_tracking/31/MONZA-FIORENTINA G31.json')\n"
     ]
    },
    {
     "name": "stderr",
     "output_type": "stream",
     "text": [
      "/var/folders/n2/9_7g8plj0bl7kt3pzlkmfdm80000gn/T/ipykernel_32508/2964926902.py:185: SettingWithCopyWarning: \n",
      "A value is trying to be set on a copy of a slice from a DataFrame.\n",
      "Try using .loc[row_indexer,col_indexer] = value instead\n",
      "\n",
      "See the caveats in the documentation: https://pandas.pydata.org/pandas-docs/stable/user_guide/indexing.html#returning-a-view-versus-a-copy\n",
      "  valid_groups['change_in_marking'] = valid_groups.groupby(['defender', 'possession_id'])['closest_attacker'].shift() != valid_groups['closest_attacker']\n"
     ]
    },
    {
     "name": "stdout",
     "output_type": "stream",
     "text": [
      "('SerieA_22-23_tracking/31/SALERNITANA-SASSUOLO G31_tracking.json', 'SerieA_22-23_tracking/31/SALERNITANA-SASSUOLO G31.json')\n"
     ]
    },
    {
     "name": "stderr",
     "output_type": "stream",
     "text": [
      "/var/folders/n2/9_7g8plj0bl7kt3pzlkmfdm80000gn/T/ipykernel_32508/2964926902.py:185: SettingWithCopyWarning: \n",
      "A value is trying to be set on a copy of a slice from a DataFrame.\n",
      "Try using .loc[row_indexer,col_indexer] = value instead\n",
      "\n",
      "See the caveats in the documentation: https://pandas.pydata.org/pandas-docs/stable/user_guide/indexing.html#returning-a-view-versus-a-copy\n",
      "  valid_groups['change_in_marking'] = valid_groups.groupby(['defender', 'possession_id'])['closest_attacker'].shift() != valid_groups['closest_attacker']\n"
     ]
    },
    {
     "name": "stdout",
     "output_type": "stream",
     "text": [
      "('SerieA_22-23_tracking/31/SAMPDORIA-SPEZIA CALCIO G31_tracking.json', 'SerieA_22-23_tracking/31/SAMPDORIA-SPEZIA CALCIO G31.json')\n"
     ]
    },
    {
     "name": "stderr",
     "output_type": "stream",
     "text": [
      "/var/folders/n2/9_7g8plj0bl7kt3pzlkmfdm80000gn/T/ipykernel_32508/2964926902.py:185: SettingWithCopyWarning: \n",
      "A value is trying to be set on a copy of a slice from a DataFrame.\n",
      "Try using .loc[row_indexer,col_indexer] = value instead\n",
      "\n",
      "See the caveats in the documentation: https://pandas.pydata.org/pandas-docs/stable/user_guide/indexing.html#returning-a-view-versus-a-copy\n",
      "  valid_groups['change_in_marking'] = valid_groups.groupby(['defender', 'possession_id'])['closest_attacker'].shift() != valid_groups['closest_attacker']\n"
     ]
    },
    {
     "name": "stdout",
     "output_type": "stream",
     "text": [
      "('SerieA_22-23_tracking/31/UDINESE-US CREMONESE G31_tracking.json', 'SerieA_22-23_tracking/31/UDINESE-US CREMONESE G31.json')\n"
     ]
    },
    {
     "name": "stderr",
     "output_type": "stream",
     "text": [
      "/var/folders/n2/9_7g8plj0bl7kt3pzlkmfdm80000gn/T/ipykernel_32508/2964926902.py:185: SettingWithCopyWarning: \n",
      "A value is trying to be set on a copy of a slice from a DataFrame.\n",
      "Try using .loc[row_indexer,col_indexer] = value instead\n",
      "\n",
      "See the caveats in the documentation: https://pandas.pydata.org/pandas-docs/stable/user_guide/indexing.html#returning-a-view-versus-a-copy\n",
      "  valid_groups['change_in_marking'] = valid_groups.groupby(['defender', 'possession_id'])['closest_attacker'].shift() != valid_groups['closest_attacker']\n"
     ]
    },
    {
     "name": "stdout",
     "output_type": "stream",
     "text": [
      "('SerieA_22-23_tracking/30/BOLOGNA-MILAN G30_tracking.json', 'SerieA_22-23_tracking/30/BOLOGNA-MILAN G30.json')\n"
     ]
    },
    {
     "name": "stderr",
     "output_type": "stream",
     "text": [
      "/var/folders/n2/9_7g8plj0bl7kt3pzlkmfdm80000gn/T/ipykernel_32508/2964926902.py:185: SettingWithCopyWarning: \n",
      "A value is trying to be set on a copy of a slice from a DataFrame.\n",
      "Try using .loc[row_indexer,col_indexer] = value instead\n",
      "\n",
      "See the caveats in the documentation: https://pandas.pydata.org/pandas-docs/stable/user_guide/indexing.html#returning-a-view-versus-a-copy\n",
      "  valid_groups['change_in_marking'] = valid_groups.groupby(['defender', 'possession_id'])['closest_attacker'].shift() != valid_groups['closest_attacker']\n"
     ]
    },
    {
     "name": "stdout",
     "output_type": "stream",
     "text": [
      "('SerieA_22-23_tracking/30/FIORENTINA-ATALANTA G30_tracking.json', 'SerieA_22-23_tracking/30/FIORENTINA-ATALANTA G30.json')\n"
     ]
    },
    {
     "name": "stderr",
     "output_type": "stream",
     "text": [
      "/var/folders/n2/9_7g8plj0bl7kt3pzlkmfdm80000gn/T/ipykernel_32508/2964926902.py:185: SettingWithCopyWarning: \n",
      "A value is trying to be set on a copy of a slice from a DataFrame.\n",
      "Try using .loc[row_indexer,col_indexer] = value instead\n",
      "\n",
      "See the caveats in the documentation: https://pandas.pydata.org/pandas-docs/stable/user_guide/indexing.html#returning-a-view-versus-a-copy\n",
      "  valid_groups['change_in_marking'] = valid_groups.groupby(['defender', 'possession_id'])['closest_attacker'].shift() != valid_groups['closest_attacker']\n"
     ]
    },
    {
     "name": "stdout",
     "output_type": "stream",
     "text": [
      "('SerieA_22-23_tracking/30/INTER-MONZA G30_tracking.json', 'SerieA_22-23_tracking/30/INTER-MONZA G30.json')\n"
     ]
    },
    {
     "name": "stderr",
     "output_type": "stream",
     "text": [
      "/var/folders/n2/9_7g8plj0bl7kt3pzlkmfdm80000gn/T/ipykernel_32508/2964926902.py:185: SettingWithCopyWarning: \n",
      "A value is trying to be set on a copy of a slice from a DataFrame.\n",
      "Try using .loc[row_indexer,col_indexer] = value instead\n",
      "\n",
      "See the caveats in the documentation: https://pandas.pydata.org/pandas-docs/stable/user_guide/indexing.html#returning-a-view-versus-a-copy\n",
      "  valid_groups['change_in_marking'] = valid_groups.groupby(['defender', 'possession_id'])['closest_attacker'].shift() != valid_groups['closest_attacker']\n"
     ]
    },
    {
     "name": "stdout",
     "output_type": "stream",
     "text": [
      "('SerieA_22-23_tracking/30/LECCE-SAMPDORIA G30_tracking.json', 'SerieA_22-23_tracking/30/LECCE-SAMPDORIA G30.json')\n"
     ]
    },
    {
     "name": "stderr",
     "output_type": "stream",
     "text": [
      "/var/folders/n2/9_7g8plj0bl7kt3pzlkmfdm80000gn/T/ipykernel_32508/2964926902.py:185: SettingWithCopyWarning: \n",
      "A value is trying to be set on a copy of a slice from a DataFrame.\n",
      "Try using .loc[row_indexer,col_indexer] = value instead\n",
      "\n",
      "See the caveats in the documentation: https://pandas.pydata.org/pandas-docs/stable/user_guide/indexing.html#returning-a-view-versus-a-copy\n",
      "  valid_groups['change_in_marking'] = valid_groups.groupby(['defender', 'possession_id'])['closest_attacker'].shift() != valid_groups['closest_attacker']\n"
     ]
    },
    {
     "name": "stdout",
     "output_type": "stream",
     "text": [
      "('SerieA_22-23_tracking/30/NAPOLI-HELLAS VERONA G30_tracking.json', 'SerieA_22-23_tracking/30/NAPOLI-HELLAS VERONA G30.json')\n"
     ]
    },
    {
     "name": "stderr",
     "output_type": "stream",
     "text": [
      "/var/folders/n2/9_7g8plj0bl7kt3pzlkmfdm80000gn/T/ipykernel_32508/2964926902.py:185: SettingWithCopyWarning: \n",
      "A value is trying to be set on a copy of a slice from a DataFrame.\n",
      "Try using .loc[row_indexer,col_indexer] = value instead\n",
      "\n",
      "See the caveats in the documentation: https://pandas.pydata.org/pandas-docs/stable/user_guide/indexing.html#returning-a-view-versus-a-copy\n",
      "  valid_groups['change_in_marking'] = valid_groups.groupby(['defender', 'possession_id'])['closest_attacker'].shift() != valid_groups['closest_attacker']\n"
     ]
    },
    {
     "name": "stdout",
     "output_type": "stream",
     "text": [
      "('SerieA_22-23_tracking/30/ROMA-UDINESE G30_tracking.json', 'SerieA_22-23_tracking/30/ROMA-UDINESE G30.json')\n"
     ]
    },
    {
     "name": "stderr",
     "output_type": "stream",
     "text": [
      "/var/folders/n2/9_7g8plj0bl7kt3pzlkmfdm80000gn/T/ipykernel_32508/2964926902.py:185: SettingWithCopyWarning: \n",
      "A value is trying to be set on a copy of a slice from a DataFrame.\n",
      "Try using .loc[row_indexer,col_indexer] = value instead\n",
      "\n",
      "See the caveats in the documentation: https://pandas.pydata.org/pandas-docs/stable/user_guide/indexing.html#returning-a-view-versus-a-copy\n",
      "  valid_groups['change_in_marking'] = valid_groups.groupby(['defender', 'possession_id'])['closest_attacker'].shift() != valid_groups['closest_attacker']\n"
     ]
    },
    {
     "name": "stdout",
     "output_type": "stream",
     "text": [
      "('SerieA_22-23_tracking/30/SASSUOLO-JUVENTUS G30_tracking.json', 'SerieA_22-23_tracking/30/SASSUOLO-JUVENTUS G30.json')\n"
     ]
    },
    {
     "name": "stderr",
     "output_type": "stream",
     "text": [
      "/var/folders/n2/9_7g8plj0bl7kt3pzlkmfdm80000gn/T/ipykernel_32508/2964926902.py:185: SettingWithCopyWarning: \n",
      "A value is trying to be set on a copy of a slice from a DataFrame.\n",
      "Try using .loc[row_indexer,col_indexer] = value instead\n",
      "\n",
      "See the caveats in the documentation: https://pandas.pydata.org/pandas-docs/stable/user_guide/indexing.html#returning-a-view-versus-a-copy\n",
      "  valid_groups['change_in_marking'] = valid_groups.groupby(['defender', 'possession_id'])['closest_attacker'].shift() != valid_groups['closest_attacker']\n"
     ]
    },
    {
     "name": "stdout",
     "output_type": "stream",
     "text": [
      "('SerieA_22-23_tracking/30/SPEZIA CALCIO-LAZIO G30_tracking.json', 'SerieA_22-23_tracking/30/SPEZIA CALCIO-LAZIO G30.json')\n"
     ]
    },
    {
     "name": "stderr",
     "output_type": "stream",
     "text": [
      "/var/folders/n2/9_7g8plj0bl7kt3pzlkmfdm80000gn/T/ipykernel_32508/2964926902.py:185: SettingWithCopyWarning: \n",
      "A value is trying to be set on a copy of a slice from a DataFrame.\n",
      "Try using .loc[row_indexer,col_indexer] = value instead\n",
      "\n",
      "See the caveats in the documentation: https://pandas.pydata.org/pandas-docs/stable/user_guide/indexing.html#returning-a-view-versus-a-copy\n",
      "  valid_groups['change_in_marking'] = valid_groups.groupby(['defender', 'possession_id'])['closest_attacker'].shift() != valid_groups['closest_attacker']\n"
     ]
    },
    {
     "name": "stdout",
     "output_type": "stream",
     "text": [
      "('SerieA_22-23_tracking/30/TORINO-SALERNITANA G30_tracking.json', 'SerieA_22-23_tracking/30/TORINO-SALERNITANA G30.json')\n"
     ]
    },
    {
     "name": "stderr",
     "output_type": "stream",
     "text": [
      "/var/folders/n2/9_7g8plj0bl7kt3pzlkmfdm80000gn/T/ipykernel_32508/2964926902.py:185: SettingWithCopyWarning: \n",
      "A value is trying to be set on a copy of a slice from a DataFrame.\n",
      "Try using .loc[row_indexer,col_indexer] = value instead\n",
      "\n",
      "See the caveats in the documentation: https://pandas.pydata.org/pandas-docs/stable/user_guide/indexing.html#returning-a-view-versus-a-copy\n",
      "  valid_groups['change_in_marking'] = valid_groups.groupby(['defender', 'possession_id'])['closest_attacker'].shift() != valid_groups['closest_attacker']\n"
     ]
    },
    {
     "name": "stdout",
     "output_type": "stream",
     "text": [
      "('SerieA_22-23_tracking/30/US CREMONESE-EMPOLI G30_tracking.json', 'SerieA_22-23_tracking/30/US CREMONESE-EMPOLI G30.json')\n"
     ]
    },
    {
     "name": "stderr",
     "output_type": "stream",
     "text": [
      "/var/folders/n2/9_7g8plj0bl7kt3pzlkmfdm80000gn/T/ipykernel_32508/2964926902.py:185: SettingWithCopyWarning: \n",
      "A value is trying to be set on a copy of a slice from a DataFrame.\n",
      "Try using .loc[row_indexer,col_indexer] = value instead\n",
      "\n",
      "See the caveats in the documentation: https://pandas.pydata.org/pandas-docs/stable/user_guide/indexing.html#returning-a-view-versus-a-copy\n",
      "  valid_groups['change_in_marking'] = valid_groups.groupby(['defender', 'possession_id'])['closest_attacker'].shift() != valid_groups['closest_attacker']\n"
     ]
    },
    {
     "name": "stdout",
     "output_type": "stream",
     "text": [
      "('SerieA_22-23_tracking/37/BOLOGNA-NAPOLI G37_tracking.json', 'SerieA_22-23_tracking/37/BOLOGNA-NAPOLI G37.json')\n"
     ]
    },
    {
     "name": "stderr",
     "output_type": "stream",
     "text": [
      "/var/folders/n2/9_7g8plj0bl7kt3pzlkmfdm80000gn/T/ipykernel_32508/2964926902.py:185: SettingWithCopyWarning: \n",
      "A value is trying to be set on a copy of a slice from a DataFrame.\n",
      "Try using .loc[row_indexer,col_indexer] = value instead\n",
      "\n",
      "See the caveats in the documentation: https://pandas.pydata.org/pandas-docs/stable/user_guide/indexing.html#returning-a-view-versus-a-copy\n",
      "  valid_groups['change_in_marking'] = valid_groups.groupby(['defender', 'possession_id'])['closest_attacker'].shift() != valid_groups['closest_attacker']\n"
     ]
    },
    {
     "name": "stdout",
     "output_type": "stream",
     "text": [
      "('SerieA_22-23_tracking/37/FIORENTINA-ROMA G37_tracking.json', 'SerieA_22-23_tracking/37/FIORENTINA-ROMA G37.json')\n"
     ]
    },
    {
     "name": "stderr",
     "output_type": "stream",
     "text": [
      "/var/folders/n2/9_7g8plj0bl7kt3pzlkmfdm80000gn/T/ipykernel_32508/2964926902.py:185: SettingWithCopyWarning: \n",
      "A value is trying to be set on a copy of a slice from a DataFrame.\n",
      "Try using .loc[row_indexer,col_indexer] = value instead\n",
      "\n",
      "See the caveats in the documentation: https://pandas.pydata.org/pandas-docs/stable/user_guide/indexing.html#returning-a-view-versus-a-copy\n",
      "  valid_groups['change_in_marking'] = valid_groups.groupby(['defender', 'possession_id'])['closest_attacker'].shift() != valid_groups['closest_attacker']\n"
     ]
    },
    {
     "name": "stdout",
     "output_type": "stream",
     "text": [
      "('SerieA_22-23_tracking/37/HELLAS VERONA-EMPOLI G37_tracking.json', 'SerieA_22-23_tracking/37/HELLAS VERONA-EMPOLI G37.json')\n"
     ]
    },
    {
     "name": "stderr",
     "output_type": "stream",
     "text": [
      "/var/folders/n2/9_7g8plj0bl7kt3pzlkmfdm80000gn/T/ipykernel_32508/2964926902.py:185: SettingWithCopyWarning: \n",
      "A value is trying to be set on a copy of a slice from a DataFrame.\n",
      "Try using .loc[row_indexer,col_indexer] = value instead\n",
      "\n",
      "See the caveats in the documentation: https://pandas.pydata.org/pandas-docs/stable/user_guide/indexing.html#returning-a-view-versus-a-copy\n",
      "  valid_groups['change_in_marking'] = valid_groups.groupby(['defender', 'possession_id'])['closest_attacker'].shift() != valid_groups['closest_attacker']\n"
     ]
    },
    {
     "name": "stdout",
     "output_type": "stream",
     "text": [
      "('SerieA_22-23_tracking/37/INTER-ATALANTA G37_tracking.json', 'SerieA_22-23_tracking/37/INTER-ATALANTA G37.json')\n"
     ]
    },
    {
     "name": "stderr",
     "output_type": "stream",
     "text": [
      "/var/folders/n2/9_7g8plj0bl7kt3pzlkmfdm80000gn/T/ipykernel_32508/2964926902.py:185: SettingWithCopyWarning: \n",
      "A value is trying to be set on a copy of a slice from a DataFrame.\n",
      "Try using .loc[row_indexer,col_indexer] = value instead\n",
      "\n",
      "See the caveats in the documentation: https://pandas.pydata.org/pandas-docs/stable/user_guide/indexing.html#returning-a-view-versus-a-copy\n",
      "  valid_groups['change_in_marking'] = valid_groups.groupby(['defender', 'possession_id'])['closest_attacker'].shift() != valid_groups['closest_attacker']\n"
     ]
    },
    {
     "name": "stdout",
     "output_type": "stream",
     "text": [
      "('SerieA_22-23_tracking/37/JUVENTUS-MILAN G37_tracking.json', 'SerieA_22-23_tracking/37/JUVENTUS-MILAN G37.json')\n"
     ]
    },
    {
     "name": "stderr",
     "output_type": "stream",
     "text": [
      "/var/folders/n2/9_7g8plj0bl7kt3pzlkmfdm80000gn/T/ipykernel_32508/2964926902.py:185: SettingWithCopyWarning: \n",
      "A value is trying to be set on a copy of a slice from a DataFrame.\n",
      "Try using .loc[row_indexer,col_indexer] = value instead\n",
      "\n",
      "See the caveats in the documentation: https://pandas.pydata.org/pandas-docs/stable/user_guide/indexing.html#returning-a-view-versus-a-copy\n",
      "  valid_groups['change_in_marking'] = valid_groups.groupby(['defender', 'possession_id'])['closest_attacker'].shift() != valid_groups['closest_attacker']\n"
     ]
    },
    {
     "name": "stdout",
     "output_type": "stream",
     "text": [
      "('SerieA_22-23_tracking/37/LAZIO-US CREMONESE G37_tracking.json', 'SerieA_22-23_tracking/37/LAZIO-US CREMONESE G37.json')\n"
     ]
    },
    {
     "name": "stderr",
     "output_type": "stream",
     "text": [
      "/var/folders/n2/9_7g8plj0bl7kt3pzlkmfdm80000gn/T/ipykernel_32508/2964926902.py:185: SettingWithCopyWarning: \n",
      "A value is trying to be set on a copy of a slice from a DataFrame.\n",
      "Try using .loc[row_indexer,col_indexer] = value instead\n",
      "\n",
      "See the caveats in the documentation: https://pandas.pydata.org/pandas-docs/stable/user_guide/indexing.html#returning-a-view-versus-a-copy\n",
      "  valid_groups['change_in_marking'] = valid_groups.groupby(['defender', 'possession_id'])['closest_attacker'].shift() != valid_groups['closest_attacker']\n"
     ]
    },
    {
     "name": "stdout",
     "output_type": "stream",
     "text": [
      "('SerieA_22-23_tracking/37/MONZA-LECCE G37_tracking.json', 'SerieA_22-23_tracking/37/MONZA-LECCE G37.json')\n"
     ]
    },
    {
     "name": "stderr",
     "output_type": "stream",
     "text": [
      "/var/folders/n2/9_7g8plj0bl7kt3pzlkmfdm80000gn/T/ipykernel_32508/2964926902.py:185: SettingWithCopyWarning: \n",
      "A value is trying to be set on a copy of a slice from a DataFrame.\n",
      "Try using .loc[row_indexer,col_indexer] = value instead\n",
      "\n",
      "See the caveats in the documentation: https://pandas.pydata.org/pandas-docs/stable/user_guide/indexing.html#returning-a-view-versus-a-copy\n",
      "  valid_groups['change_in_marking'] = valid_groups.groupby(['defender', 'possession_id'])['closest_attacker'].shift() != valid_groups['closest_attacker']\n"
     ]
    },
    {
     "name": "stdout",
     "output_type": "stream",
     "text": [
      "('SerieA_22-23_tracking/37/SALERNITANA-UDINESE G37_tracking.json', 'SerieA_22-23_tracking/37/SALERNITANA-UDINESE G37.json')\n"
     ]
    },
    {
     "name": "stderr",
     "output_type": "stream",
     "text": [
      "/var/folders/n2/9_7g8plj0bl7kt3pzlkmfdm80000gn/T/ipykernel_32508/2964926902.py:185: SettingWithCopyWarning: \n",
      "A value is trying to be set on a copy of a slice from a DataFrame.\n",
      "Try using .loc[row_indexer,col_indexer] = value instead\n",
      "\n",
      "See the caveats in the documentation: https://pandas.pydata.org/pandas-docs/stable/user_guide/indexing.html#returning-a-view-versus-a-copy\n",
      "  valid_groups['change_in_marking'] = valid_groups.groupby(['defender', 'possession_id'])['closest_attacker'].shift() != valid_groups['closest_attacker']\n"
     ]
    },
    {
     "name": "stdout",
     "output_type": "stream",
     "text": [
      "('SerieA_22-23_tracking/37/SAMPDORIA-SASSUOLO G37_tracking.json', 'SerieA_22-23_tracking/37/SAMPDORIA-SASSUOLO G37.json')\n"
     ]
    },
    {
     "name": "stderr",
     "output_type": "stream",
     "text": [
      "/var/folders/n2/9_7g8plj0bl7kt3pzlkmfdm80000gn/T/ipykernel_32508/2964926902.py:185: SettingWithCopyWarning: \n",
      "A value is trying to be set on a copy of a slice from a DataFrame.\n",
      "Try using .loc[row_indexer,col_indexer] = value instead\n",
      "\n",
      "See the caveats in the documentation: https://pandas.pydata.org/pandas-docs/stable/user_guide/indexing.html#returning-a-view-versus-a-copy\n",
      "  valid_groups['change_in_marking'] = valid_groups.groupby(['defender', 'possession_id'])['closest_attacker'].shift() != valid_groups['closest_attacker']\n"
     ]
    },
    {
     "name": "stdout",
     "output_type": "stream",
     "text": [
      "('SerieA_22-23_tracking/37/SPEZIA CALCIO-TORINO G37_tracking.json', 'SerieA_22-23_tracking/37/SPEZIA CALCIO-TORINO G37.json')\n"
     ]
    },
    {
     "name": "stderr",
     "output_type": "stream",
     "text": [
      "/var/folders/n2/9_7g8plj0bl7kt3pzlkmfdm80000gn/T/ipykernel_32508/2964926902.py:185: SettingWithCopyWarning: \n",
      "A value is trying to be set on a copy of a slice from a DataFrame.\n",
      "Try using .loc[row_indexer,col_indexer] = value instead\n",
      "\n",
      "See the caveats in the documentation: https://pandas.pydata.org/pandas-docs/stable/user_guide/indexing.html#returning-a-view-versus-a-copy\n",
      "  valid_groups['change_in_marking'] = valid_groups.groupby(['defender', 'possession_id'])['closest_attacker'].shift() != valid_groups['closest_attacker']\n"
     ]
    },
    {
     "name": "stdout",
     "output_type": "stream",
     "text": [
      "('SerieA_22-23_tracking/24/BOLOGNA-INTER G24_tracking.json', 'SerieA_22-23_tracking/24/BOLOGNA-INTER G24.json')\n"
     ]
    },
    {
     "name": "stderr",
     "output_type": "stream",
     "text": [
      "/var/folders/n2/9_7g8plj0bl7kt3pzlkmfdm80000gn/T/ipykernel_32508/2964926902.py:185: SettingWithCopyWarning: \n",
      "A value is trying to be set on a copy of a slice from a DataFrame.\n",
      "Try using .loc[row_indexer,col_indexer] = value instead\n",
      "\n",
      "See the caveats in the documentation: https://pandas.pydata.org/pandas-docs/stable/user_guide/indexing.html#returning-a-view-versus-a-copy\n",
      "  valid_groups['change_in_marking'] = valid_groups.groupby(['defender', 'possession_id'])['closest_attacker'].shift() != valid_groups['closest_attacker']\n"
     ]
    },
    {
     "name": "stdout",
     "output_type": "stream",
     "text": [
      "('SerieA_22-23_tracking/24/EMPOLI-NAPOLI G24_tracking.json', 'SerieA_22-23_tracking/24/EMPOLI-NAPOLI G24.json')\n"
     ]
    },
    {
     "name": "stderr",
     "output_type": "stream",
     "text": [
      "/var/folders/n2/9_7g8plj0bl7kt3pzlkmfdm80000gn/T/ipykernel_32508/2964926902.py:185: SettingWithCopyWarning: \n",
      "A value is trying to be set on a copy of a slice from a DataFrame.\n",
      "Try using .loc[row_indexer,col_indexer] = value instead\n",
      "\n",
      "See the caveats in the documentation: https://pandas.pydata.org/pandas-docs/stable/user_guide/indexing.html#returning-a-view-versus-a-copy\n",
      "  valid_groups['change_in_marking'] = valid_groups.groupby(['defender', 'possession_id'])['closest_attacker'].shift() != valid_groups['closest_attacker']\n"
     ]
    },
    {
     "name": "stdout",
     "output_type": "stream",
     "text": [
      "('SerieA_22-23_tracking/24/HELLAS VERONA-FIORENTINA G24_tracking.json', 'SerieA_22-23_tracking/24/HELLAS VERONA-FIORENTINA G24.json')\n"
     ]
    },
    {
     "name": "stderr",
     "output_type": "stream",
     "text": [
      "/var/folders/n2/9_7g8plj0bl7kt3pzlkmfdm80000gn/T/ipykernel_32508/2964926902.py:185: SettingWithCopyWarning: \n",
      "A value is trying to be set on a copy of a slice from a DataFrame.\n",
      "Try using .loc[row_indexer,col_indexer] = value instead\n",
      "\n",
      "See the caveats in the documentation: https://pandas.pydata.org/pandas-docs/stable/user_guide/indexing.html#returning-a-view-versus-a-copy\n",
      "  valid_groups['change_in_marking'] = valid_groups.groupby(['defender', 'possession_id'])['closest_attacker'].shift() != valid_groups['closest_attacker']\n"
     ]
    },
    {
     "name": "stdout",
     "output_type": "stream",
     "text": [
      "('SerieA_22-23_tracking/24/JUVENTUS-TORINO G24_tracking.json', 'SerieA_22-23_tracking/24/JUVENTUS-TORINO G24.json')\n"
     ]
    },
    {
     "name": "stderr",
     "output_type": "stream",
     "text": [
      "/var/folders/n2/9_7g8plj0bl7kt3pzlkmfdm80000gn/T/ipykernel_32508/2964926902.py:185: SettingWithCopyWarning: \n",
      "A value is trying to be set on a copy of a slice from a DataFrame.\n",
      "Try using .loc[row_indexer,col_indexer] = value instead\n",
      "\n",
      "See the caveats in the documentation: https://pandas.pydata.org/pandas-docs/stable/user_guide/indexing.html#returning-a-view-versus-a-copy\n",
      "  valid_groups['change_in_marking'] = valid_groups.groupby(['defender', 'possession_id'])['closest_attacker'].shift() != valid_groups['closest_attacker']\n"
     ]
    },
    {
     "name": "stdout",
     "output_type": "stream",
     "text": [
      "('SerieA_22-23_tracking/24/LAZIO-SAMPDORIA G24_tracking.json', 'SerieA_22-23_tracking/24/LAZIO-SAMPDORIA G24.json')\n"
     ]
    },
    {
     "name": "stderr",
     "output_type": "stream",
     "text": [
      "/var/folders/n2/9_7g8plj0bl7kt3pzlkmfdm80000gn/T/ipykernel_32508/2964926902.py:185: SettingWithCopyWarning: \n",
      "A value is trying to be set on a copy of a slice from a DataFrame.\n",
      "Try using .loc[row_indexer,col_indexer] = value instead\n",
      "\n",
      "See the caveats in the documentation: https://pandas.pydata.org/pandas-docs/stable/user_guide/indexing.html#returning-a-view-versus-a-copy\n",
      "  valid_groups['change_in_marking'] = valid_groups.groupby(['defender', 'possession_id'])['closest_attacker'].shift() != valid_groups['closest_attacker']\n"
     ]
    },
    {
     "name": "stdout",
     "output_type": "stream",
     "text": [
      "('SerieA_22-23_tracking/24/LECCE-SASSUOLO G24_tracking.json', 'SerieA_22-23_tracking/24/LECCE-SASSUOLO G24.json')\n"
     ]
    },
    {
     "name": "stderr",
     "output_type": "stream",
     "text": [
      "/var/folders/n2/9_7g8plj0bl7kt3pzlkmfdm80000gn/T/ipykernel_32508/2964926902.py:185: SettingWithCopyWarning: \n",
      "A value is trying to be set on a copy of a slice from a DataFrame.\n",
      "Try using .loc[row_indexer,col_indexer] = value instead\n",
      "\n",
      "See the caveats in the documentation: https://pandas.pydata.org/pandas-docs/stable/user_guide/indexing.html#returning-a-view-versus-a-copy\n",
      "  valid_groups['change_in_marking'] = valid_groups.groupby(['defender', 'possession_id'])['closest_attacker'].shift() != valid_groups['closest_attacker']\n"
     ]
    },
    {
     "name": "stdout",
     "output_type": "stream",
     "text": [
      "('SerieA_22-23_tracking/24/MILAN-ATALANTA G24_tracking.json', 'SerieA_22-23_tracking/24/MILAN-ATALANTA G24.json')\n"
     ]
    },
    {
     "name": "stderr",
     "output_type": "stream",
     "text": [
      "/var/folders/n2/9_7g8plj0bl7kt3pzlkmfdm80000gn/T/ipykernel_32508/2964926902.py:185: SettingWithCopyWarning: \n",
      "A value is trying to be set on a copy of a slice from a DataFrame.\n",
      "Try using .loc[row_indexer,col_indexer] = value instead\n",
      "\n",
      "See the caveats in the documentation: https://pandas.pydata.org/pandas-docs/stable/user_guide/indexing.html#returning-a-view-versus-a-copy\n",
      "  valid_groups['change_in_marking'] = valid_groups.groupby(['defender', 'possession_id'])['closest_attacker'].shift() != valid_groups['closest_attacker']\n"
     ]
    },
    {
     "name": "stdout",
     "output_type": "stream",
     "text": [
      "('SerieA_22-23_tracking/24/SALERNITANA-MONZA G24_tracking.json', 'SerieA_22-23_tracking/24/SALERNITANA-MONZA G24.json')\n"
     ]
    },
    {
     "name": "stderr",
     "output_type": "stream",
     "text": [
      "/var/folders/n2/9_7g8plj0bl7kt3pzlkmfdm80000gn/T/ipykernel_32508/2964926902.py:185: SettingWithCopyWarning: \n",
      "A value is trying to be set on a copy of a slice from a DataFrame.\n",
      "Try using .loc[row_indexer,col_indexer] = value instead\n",
      "\n",
      "See the caveats in the documentation: https://pandas.pydata.org/pandas-docs/stable/user_guide/indexing.html#returning-a-view-versus-a-copy\n",
      "  valid_groups['change_in_marking'] = valid_groups.groupby(['defender', 'possession_id'])['closest_attacker'].shift() != valid_groups['closest_attacker']\n"
     ]
    },
    {
     "name": "stdout",
     "output_type": "stream",
     "text": [
      "('SerieA_22-23_tracking/24/UDINESE-SPEZIA CALCIO G24_tracking.json', 'SerieA_22-23_tracking/24/UDINESE-SPEZIA CALCIO G24.json')\n"
     ]
    },
    {
     "name": "stderr",
     "output_type": "stream",
     "text": [
      "/var/folders/n2/9_7g8plj0bl7kt3pzlkmfdm80000gn/T/ipykernel_32508/2964926902.py:185: SettingWithCopyWarning: \n",
      "A value is trying to be set on a copy of a slice from a DataFrame.\n",
      "Try using .loc[row_indexer,col_indexer] = value instead\n",
      "\n",
      "See the caveats in the documentation: https://pandas.pydata.org/pandas-docs/stable/user_guide/indexing.html#returning-a-view-versus-a-copy\n",
      "  valid_groups['change_in_marking'] = valid_groups.groupby(['defender', 'possession_id'])['closest_attacker'].shift() != valid_groups['closest_attacker']\n"
     ]
    },
    {
     "name": "stdout",
     "output_type": "stream",
     "text": [
      "('SerieA_22-23_tracking/24/US CREMONESE-ROMA G24_tracking.json', 'SerieA_22-23_tracking/24/US CREMONESE-ROMA G24.json')\n"
     ]
    },
    {
     "name": "stderr",
     "output_type": "stream",
     "text": [
      "/var/folders/n2/9_7g8plj0bl7kt3pzlkmfdm80000gn/T/ipykernel_32508/2964926902.py:185: SettingWithCopyWarning: \n",
      "A value is trying to be set on a copy of a slice from a DataFrame.\n",
      "Try using .loc[row_indexer,col_indexer] = value instead\n",
      "\n",
      "See the caveats in the documentation: https://pandas.pydata.org/pandas-docs/stable/user_guide/indexing.html#returning-a-view-versus-a-copy\n",
      "  valid_groups['change_in_marking'] = valid_groups.groupby(['defender', 'possession_id'])['closest_attacker'].shift() != valid_groups['closest_attacker']\n"
     ]
    },
    {
     "name": "stdout",
     "output_type": "stream",
     "text": [
      "('SerieA_22-23_tracking/23/ATALANTA-LECCE G23_tracking.json', 'SerieA_22-23_tracking/23/ATALANTA-LECCE G23.json')\n"
     ]
    },
    {
     "name": "stderr",
     "output_type": "stream",
     "text": [
      "/var/folders/n2/9_7g8plj0bl7kt3pzlkmfdm80000gn/T/ipykernel_32508/2964926902.py:185: SettingWithCopyWarning: \n",
      "A value is trying to be set on a copy of a slice from a DataFrame.\n",
      "Try using .loc[row_indexer,col_indexer] = value instead\n",
      "\n",
      "See the caveats in the documentation: https://pandas.pydata.org/pandas-docs/stable/user_guide/indexing.html#returning-a-view-versus-a-copy\n",
      "  valid_groups['change_in_marking'] = valid_groups.groupby(['defender', 'possession_id'])['closest_attacker'].shift() != valid_groups['closest_attacker']\n"
     ]
    },
    {
     "name": "stdout",
     "output_type": "stream",
     "text": [
      "('SerieA_22-23_tracking/23/FIORENTINA-EMPOLI G23_tracking.json', 'SerieA_22-23_tracking/23/FIORENTINA-EMPOLI G23.json')\n"
     ]
    },
    {
     "name": "stderr",
     "output_type": "stream",
     "text": [
      "/var/folders/n2/9_7g8plj0bl7kt3pzlkmfdm80000gn/T/ipykernel_32508/2964926902.py:185: SettingWithCopyWarning: \n",
      "A value is trying to be set on a copy of a slice from a DataFrame.\n",
      "Try using .loc[row_indexer,col_indexer] = value instead\n",
      "\n",
      "See the caveats in the documentation: https://pandas.pydata.org/pandas-docs/stable/user_guide/indexing.html#returning-a-view-versus-a-copy\n",
      "  valid_groups['change_in_marking'] = valid_groups.groupby(['defender', 'possession_id'])['closest_attacker'].shift() != valid_groups['closest_attacker']\n"
     ]
    },
    {
     "name": "stdout",
     "output_type": "stream",
     "text": [
      "('SerieA_22-23_tracking/23/INTER-UDINESE G23_tracking.json', 'SerieA_22-23_tracking/23/INTER-UDINESE G23.json')\n"
     ]
    },
    {
     "name": "stderr",
     "output_type": "stream",
     "text": [
      "/var/folders/n2/9_7g8plj0bl7kt3pzlkmfdm80000gn/T/ipykernel_32508/2964926902.py:185: SettingWithCopyWarning: \n",
      "A value is trying to be set on a copy of a slice from a DataFrame.\n",
      "Try using .loc[row_indexer,col_indexer] = value instead\n",
      "\n",
      "See the caveats in the documentation: https://pandas.pydata.org/pandas-docs/stable/user_guide/indexing.html#returning-a-view-versus-a-copy\n",
      "  valid_groups['change_in_marking'] = valid_groups.groupby(['defender', 'possession_id'])['closest_attacker'].shift() != valid_groups['closest_attacker']\n"
     ]
    },
    {
     "name": "stdout",
     "output_type": "stream",
     "text": [
      "('SerieA_22-23_tracking/23/MONZA-MILAN G23_tracking.json', 'SerieA_22-23_tracking/23/MONZA-MILAN G23.json')\n"
     ]
    },
    {
     "name": "stderr",
     "output_type": "stream",
     "text": [
      "/var/folders/n2/9_7g8plj0bl7kt3pzlkmfdm80000gn/T/ipykernel_32508/2964926902.py:185: SettingWithCopyWarning: \n",
      "A value is trying to be set on a copy of a slice from a DataFrame.\n",
      "Try using .loc[row_indexer,col_indexer] = value instead\n",
      "\n",
      "See the caveats in the documentation: https://pandas.pydata.org/pandas-docs/stable/user_guide/indexing.html#returning-a-view-versus-a-copy\n",
      "  valid_groups['change_in_marking'] = valid_groups.groupby(['defender', 'possession_id'])['closest_attacker'].shift() != valid_groups['closest_attacker']\n"
     ]
    },
    {
     "name": "stdout",
     "output_type": "stream",
     "text": [
      "('SerieA_22-23_tracking/23/ROMA-HELLAS VERONA G23_tracking.json', 'SerieA_22-23_tracking/23/ROMA-HELLAS VERONA G23.json')\n"
     ]
    },
    {
     "name": "stderr",
     "output_type": "stream",
     "text": [
      "/var/folders/n2/9_7g8plj0bl7kt3pzlkmfdm80000gn/T/ipykernel_32508/2964926902.py:185: SettingWithCopyWarning: \n",
      "A value is trying to be set on a copy of a slice from a DataFrame.\n",
      "Try using .loc[row_indexer,col_indexer] = value instead\n",
      "\n",
      "See the caveats in the documentation: https://pandas.pydata.org/pandas-docs/stable/user_guide/indexing.html#returning-a-view-versus-a-copy\n",
      "  valid_groups['change_in_marking'] = valid_groups.groupby(['defender', 'possession_id'])['closest_attacker'].shift() != valid_groups['closest_attacker']\n"
     ]
    },
    {
     "name": "stdout",
     "output_type": "stream",
     "text": [
      "('SerieA_22-23_tracking/23/SALERNITANA-LAZIO G23_tracking.json', 'SerieA_22-23_tracking/23/SALERNITANA-LAZIO G23.json')\n"
     ]
    },
    {
     "name": "stderr",
     "output_type": "stream",
     "text": [
      "/var/folders/n2/9_7g8plj0bl7kt3pzlkmfdm80000gn/T/ipykernel_32508/2964926902.py:185: SettingWithCopyWarning: \n",
      "A value is trying to be set on a copy of a slice from a DataFrame.\n",
      "Try using .loc[row_indexer,col_indexer] = value instead\n",
      "\n",
      "See the caveats in the documentation: https://pandas.pydata.org/pandas-docs/stable/user_guide/indexing.html#returning-a-view-versus-a-copy\n",
      "  valid_groups['change_in_marking'] = valid_groups.groupby(['defender', 'possession_id'])['closest_attacker'].shift() != valid_groups['closest_attacker']\n"
     ]
    },
    {
     "name": "stdout",
     "output_type": "stream",
     "text": [
      "('SerieA_22-23_tracking/23/SAMPDORIA-BOLOGNA G23_tracking.json', 'SerieA_22-23_tracking/23/SAMPDORIA-BOLOGNA G23.json')\n"
     ]
    },
    {
     "name": "stderr",
     "output_type": "stream",
     "text": [
      "/var/folders/n2/9_7g8plj0bl7kt3pzlkmfdm80000gn/T/ipykernel_32508/2964926902.py:185: SettingWithCopyWarning: \n",
      "A value is trying to be set on a copy of a slice from a DataFrame.\n",
      "Try using .loc[row_indexer,col_indexer] = value instead\n",
      "\n",
      "See the caveats in the documentation: https://pandas.pydata.org/pandas-docs/stable/user_guide/indexing.html#returning-a-view-versus-a-copy\n",
      "  valid_groups['change_in_marking'] = valid_groups.groupby(['defender', 'possession_id'])['closest_attacker'].shift() != valid_groups['closest_attacker']\n"
     ]
    },
    {
     "name": "stdout",
     "output_type": "stream",
     "text": [
      "('SerieA_22-23_tracking/23/SASSUOLO-NAPOLI G23_tracking.json', 'SerieA_22-23_tracking/23/SASSUOLO-NAPOLI G23.json')\n"
     ]
    },
    {
     "name": "stderr",
     "output_type": "stream",
     "text": [
      "/var/folders/n2/9_7g8plj0bl7kt3pzlkmfdm80000gn/T/ipykernel_32508/2964926902.py:185: SettingWithCopyWarning: \n",
      "A value is trying to be set on a copy of a slice from a DataFrame.\n",
      "Try using .loc[row_indexer,col_indexer] = value instead\n",
      "\n",
      "See the caveats in the documentation: https://pandas.pydata.org/pandas-docs/stable/user_guide/indexing.html#returning-a-view-versus-a-copy\n",
      "  valid_groups['change_in_marking'] = valid_groups.groupby(['defender', 'possession_id'])['closest_attacker'].shift() != valid_groups['closest_attacker']\n"
     ]
    },
    {
     "name": "stdout",
     "output_type": "stream",
     "text": [
      "('SerieA_22-23_tracking/23/SPEZIA CALCIO-JUVENTUS G23_tracking.json', 'SerieA_22-23_tracking/23/SPEZIA CALCIO-JUVENTUS G23.json')\n"
     ]
    },
    {
     "name": "stderr",
     "output_type": "stream",
     "text": [
      "/var/folders/n2/9_7g8plj0bl7kt3pzlkmfdm80000gn/T/ipykernel_32508/2964926902.py:185: SettingWithCopyWarning: \n",
      "A value is trying to be set on a copy of a slice from a DataFrame.\n",
      "Try using .loc[row_indexer,col_indexer] = value instead\n",
      "\n",
      "See the caveats in the documentation: https://pandas.pydata.org/pandas-docs/stable/user_guide/indexing.html#returning-a-view-versus-a-copy\n",
      "  valid_groups['change_in_marking'] = valid_groups.groupby(['defender', 'possession_id'])['closest_attacker'].shift() != valid_groups['closest_attacker']\n"
     ]
    },
    {
     "name": "stdout",
     "output_type": "stream",
     "text": [
      "('SerieA_22-23_tracking/23/TORINO-US CREMONESE G23_tracking.json', 'SerieA_22-23_tracking/23/TORINO-US CREMONESE G23.json')\n"
     ]
    },
    {
     "name": "stderr",
     "output_type": "stream",
     "text": [
      "/var/folders/n2/9_7g8plj0bl7kt3pzlkmfdm80000gn/T/ipykernel_32508/2964926902.py:185: SettingWithCopyWarning: \n",
      "A value is trying to be set on a copy of a slice from a DataFrame.\n",
      "Try using .loc[row_indexer,col_indexer] = value instead\n",
      "\n",
      "See the caveats in the documentation: https://pandas.pydata.org/pandas-docs/stable/user_guide/indexing.html#returning-a-view-versus-a-copy\n",
      "  valid_groups['change_in_marking'] = valid_groups.groupby(['defender', 'possession_id'])['closest_attacker'].shift() != valid_groups['closest_attacker']\n"
     ]
    },
    {
     "name": "stdout",
     "output_type": "stream",
     "text": [
      "('SerieA_22-23_tracking/4/ATALANTA-TORINO G4_tracking.json', 'SerieA_22-23_tracking/4/ATALANTA-TORINO G4.json')\n"
     ]
    },
    {
     "name": "stderr",
     "output_type": "stream",
     "text": [
      "/var/folders/n2/9_7g8plj0bl7kt3pzlkmfdm80000gn/T/ipykernel_32508/2964926902.py:185: SettingWithCopyWarning: \n",
      "A value is trying to be set on a copy of a slice from a DataFrame.\n",
      "Try using .loc[row_indexer,col_indexer] = value instead\n",
      "\n",
      "See the caveats in the documentation: https://pandas.pydata.org/pandas-docs/stable/user_guide/indexing.html#returning-a-view-versus-a-copy\n",
      "  valid_groups['change_in_marking'] = valid_groups.groupby(['defender', 'possession_id'])['closest_attacker'].shift() != valid_groups['closest_attacker']\n"
     ]
    },
    {
     "name": "stdout",
     "output_type": "stream",
     "text": [
      "('SerieA_22-23_tracking/4/BOLOGNA-SALERNITANA G4_tracking.json', 'SerieA_22-23_tracking/4/BOLOGNA-SALERNITANA G4.json')\n"
     ]
    },
    {
     "name": "stderr",
     "output_type": "stream",
     "text": [
      "/var/folders/n2/9_7g8plj0bl7kt3pzlkmfdm80000gn/T/ipykernel_32508/2964926902.py:185: SettingWithCopyWarning: \n",
      "A value is trying to be set on a copy of a slice from a DataFrame.\n",
      "Try using .loc[row_indexer,col_indexer] = value instead\n",
      "\n",
      "See the caveats in the documentation: https://pandas.pydata.org/pandas-docs/stable/user_guide/indexing.html#returning-a-view-versus-a-copy\n",
      "  valid_groups['change_in_marking'] = valid_groups.groupby(['defender', 'possession_id'])['closest_attacker'].shift() != valid_groups['closest_attacker']\n"
     ]
    },
    {
     "name": "stdout",
     "output_type": "stream",
     "text": [
      "('SerieA_22-23_tracking/4/EMPOLI-HELLAS VERONA G4_tracking.json', 'SerieA_22-23_tracking/4/EMPOLI-HELLAS VERONA G4.json')\n"
     ]
    },
    {
     "name": "stderr",
     "output_type": "stream",
     "text": [
      "/var/folders/n2/9_7g8plj0bl7kt3pzlkmfdm80000gn/T/ipykernel_32508/2964926902.py:185: SettingWithCopyWarning: \n",
      "A value is trying to be set on a copy of a slice from a DataFrame.\n",
      "Try using .loc[row_indexer,col_indexer] = value instead\n",
      "\n",
      "See the caveats in the documentation: https://pandas.pydata.org/pandas-docs/stable/user_guide/indexing.html#returning-a-view-versus-a-copy\n",
      "  valid_groups['change_in_marking'] = valid_groups.groupby(['defender', 'possession_id'])['closest_attacker'].shift() != valid_groups['closest_attacker']\n"
     ]
    },
    {
     "name": "stdout",
     "output_type": "stream",
     "text": [
      "('SerieA_22-23_tracking/4/INTER-US CREMONESE G4_tracking.json', 'SerieA_22-23_tracking/4/INTER-US CREMONESE G4.json')\n"
     ]
    },
    {
     "name": "stderr",
     "output_type": "stream",
     "text": [
      "/var/folders/n2/9_7g8plj0bl7kt3pzlkmfdm80000gn/T/ipykernel_32508/2964926902.py:185: SettingWithCopyWarning: \n",
      "A value is trying to be set on a copy of a slice from a DataFrame.\n",
      "Try using .loc[row_indexer,col_indexer] = value instead\n",
      "\n",
      "See the caveats in the documentation: https://pandas.pydata.org/pandas-docs/stable/user_guide/indexing.html#returning-a-view-versus-a-copy\n",
      "  valid_groups['change_in_marking'] = valid_groups.groupby(['defender', 'possession_id'])['closest_attacker'].shift() != valid_groups['closest_attacker']\n"
     ]
    },
    {
     "name": "stdout",
     "output_type": "stream",
     "text": [
      "('SerieA_22-23_tracking/4/JUVENTUS-SPEZIA CALCIO G4_tracking.json', 'SerieA_22-23_tracking/4/JUVENTUS-SPEZIA CALCIO G4.json')\n"
     ]
    },
    {
     "name": "stderr",
     "output_type": "stream",
     "text": [
      "/var/folders/n2/9_7g8plj0bl7kt3pzlkmfdm80000gn/T/ipykernel_32508/2964926902.py:185: SettingWithCopyWarning: \n",
      "A value is trying to be set on a copy of a slice from a DataFrame.\n",
      "Try using .loc[row_indexer,col_indexer] = value instead\n",
      "\n",
      "See the caveats in the documentation: https://pandas.pydata.org/pandas-docs/stable/user_guide/indexing.html#returning-a-view-versus-a-copy\n",
      "  valid_groups['change_in_marking'] = valid_groups.groupby(['defender', 'possession_id'])['closest_attacker'].shift() != valid_groups['closest_attacker']\n"
     ]
    },
    {
     "name": "stdout",
     "output_type": "stream",
     "text": [
      "('SerieA_22-23_tracking/4/NAPOLI-LECCE G4_tracking.json', 'SerieA_22-23_tracking/4/NAPOLI-LECCE G4.json')\n"
     ]
    },
    {
     "name": "stderr",
     "output_type": "stream",
     "text": [
      "/var/folders/n2/9_7g8plj0bl7kt3pzlkmfdm80000gn/T/ipykernel_32508/2964926902.py:185: SettingWithCopyWarning: \n",
      "A value is trying to be set on a copy of a slice from a DataFrame.\n",
      "Try using .loc[row_indexer,col_indexer] = value instead\n",
      "\n",
      "See the caveats in the documentation: https://pandas.pydata.org/pandas-docs/stable/user_guide/indexing.html#returning-a-view-versus-a-copy\n",
      "  valid_groups['change_in_marking'] = valid_groups.groupby(['defender', 'possession_id'])['closest_attacker'].shift() != valid_groups['closest_attacker']\n"
     ]
    },
    {
     "name": "stdout",
     "output_type": "stream",
     "text": [
      "('SerieA_22-23_tracking/4/ROMA-MONZA G4_tracking.json', 'SerieA_22-23_tracking/4/ROMA-MONZA G4.json')\n"
     ]
    },
    {
     "name": "stderr",
     "output_type": "stream",
     "text": [
      "/var/folders/n2/9_7g8plj0bl7kt3pzlkmfdm80000gn/T/ipykernel_32508/2964926902.py:185: SettingWithCopyWarning: \n",
      "A value is trying to be set on a copy of a slice from a DataFrame.\n",
      "Try using .loc[row_indexer,col_indexer] = value instead\n",
      "\n",
      "See the caveats in the documentation: https://pandas.pydata.org/pandas-docs/stable/user_guide/indexing.html#returning-a-view-versus-a-copy\n",
      "  valid_groups['change_in_marking'] = valid_groups.groupby(['defender', 'possession_id'])['closest_attacker'].shift() != valid_groups['closest_attacker']\n"
     ]
    },
    {
     "name": "stdout",
     "output_type": "stream",
     "text": [
      "('SerieA_22-23_tracking/4/SAMPDORIA-LAZIO G4_tracking.json', 'SerieA_22-23_tracking/4/SAMPDORIA-LAZIO G4.json')\n"
     ]
    },
    {
     "name": "stderr",
     "output_type": "stream",
     "text": [
      "/var/folders/n2/9_7g8plj0bl7kt3pzlkmfdm80000gn/T/ipykernel_32508/2964926902.py:185: SettingWithCopyWarning: \n",
      "A value is trying to be set on a copy of a slice from a DataFrame.\n",
      "Try using .loc[row_indexer,col_indexer] = value instead\n",
      "\n",
      "See the caveats in the documentation: https://pandas.pydata.org/pandas-docs/stable/user_guide/indexing.html#returning-a-view-versus-a-copy\n",
      "  valid_groups['change_in_marking'] = valid_groups.groupby(['defender', 'possession_id'])['closest_attacker'].shift() != valid_groups['closest_attacker']\n"
     ]
    },
    {
     "name": "stdout",
     "output_type": "stream",
     "text": [
      "('SerieA_22-23_tracking/4/SASSUOLO-MILAN G4_tracking.json', 'SerieA_22-23_tracking/4/SASSUOLO-MILAN G4.json')\n"
     ]
    },
    {
     "name": "stderr",
     "output_type": "stream",
     "text": [
      "/var/folders/n2/9_7g8plj0bl7kt3pzlkmfdm80000gn/T/ipykernel_32508/2964926902.py:185: SettingWithCopyWarning: \n",
      "A value is trying to be set on a copy of a slice from a DataFrame.\n",
      "Try using .loc[row_indexer,col_indexer] = value instead\n",
      "\n",
      "See the caveats in the documentation: https://pandas.pydata.org/pandas-docs/stable/user_guide/indexing.html#returning-a-view-versus-a-copy\n",
      "  valid_groups['change_in_marking'] = valid_groups.groupby(['defender', 'possession_id'])['closest_attacker'].shift() != valid_groups['closest_attacker']\n"
     ]
    },
    {
     "name": "stdout",
     "output_type": "stream",
     "text": [
      "('SerieA_22-23_tracking/4/UDINESE-FIORENTINA G4_tracking.json', 'SerieA_22-23_tracking/4/UDINESE-FIORENTINA G4.json')\n"
     ]
    },
    {
     "name": "stderr",
     "output_type": "stream",
     "text": [
      "/var/folders/n2/9_7g8plj0bl7kt3pzlkmfdm80000gn/T/ipykernel_32508/2964926902.py:185: SettingWithCopyWarning: \n",
      "A value is trying to be set on a copy of a slice from a DataFrame.\n",
      "Try using .loc[row_indexer,col_indexer] = value instead\n",
      "\n",
      "See the caveats in the documentation: https://pandas.pydata.org/pandas-docs/stable/user_guide/indexing.html#returning-a-view-versus-a-copy\n",
      "  valid_groups['change_in_marking'] = valid_groups.groupby(['defender', 'possession_id'])['closest_attacker'].shift() != valid_groups['closest_attacker']\n"
     ]
    },
    {
     "name": "stdout",
     "output_type": "stream",
     "text": [
      "('SerieA_22-23_tracking/15/ATALANTA-INTER G15_tracking.json', 'SerieA_22-23_tracking/15/ATALANTA-INTER G15.json')\n"
     ]
    },
    {
     "name": "stderr",
     "output_type": "stream",
     "text": [
      "/var/folders/n2/9_7g8plj0bl7kt3pzlkmfdm80000gn/T/ipykernel_32508/2964926902.py:185: SettingWithCopyWarning: \n",
      "A value is trying to be set on a copy of a slice from a DataFrame.\n",
      "Try using .loc[row_indexer,col_indexer] = value instead\n",
      "\n",
      "See the caveats in the documentation: https://pandas.pydata.org/pandas-docs/stable/user_guide/indexing.html#returning-a-view-versus-a-copy\n",
      "  valid_groups['change_in_marking'] = valid_groups.groupby(['defender', 'possession_id'])['closest_attacker'].shift() != valid_groups['closest_attacker']\n"
     ]
    },
    {
     "name": "stdout",
     "output_type": "stream",
     "text": [
      "('SerieA_22-23_tracking/15/BOLOGNA-SASSUOLO G15_tracking.json', 'SerieA_22-23_tracking/15/BOLOGNA-SASSUOLO G15.json')\n"
     ]
    },
    {
     "name": "stderr",
     "output_type": "stream",
     "text": [
      "/var/folders/n2/9_7g8plj0bl7kt3pzlkmfdm80000gn/T/ipykernel_32508/2964926902.py:185: SettingWithCopyWarning: \n",
      "A value is trying to be set on a copy of a slice from a DataFrame.\n",
      "Try using .loc[row_indexer,col_indexer] = value instead\n",
      "\n",
      "See the caveats in the documentation: https://pandas.pydata.org/pandas-docs/stable/user_guide/indexing.html#returning-a-view-versus-a-copy\n",
      "  valid_groups['change_in_marking'] = valid_groups.groupby(['defender', 'possession_id'])['closest_attacker'].shift() != valid_groups['closest_attacker']\n"
     ]
    },
    {
     "name": "stdout",
     "output_type": "stream",
     "text": [
      "('SerieA_22-23_tracking/15/EMPOLI-US CREMONESE G15_tracking.json', 'SerieA_22-23_tracking/15/EMPOLI-US CREMONESE G15.json')\n"
     ]
    },
    {
     "name": "stderr",
     "output_type": "stream",
     "text": [
      "/var/folders/n2/9_7g8plj0bl7kt3pzlkmfdm80000gn/T/ipykernel_32508/2964926902.py:185: SettingWithCopyWarning: \n",
      "A value is trying to be set on a copy of a slice from a DataFrame.\n",
      "Try using .loc[row_indexer,col_indexer] = value instead\n",
      "\n",
      "See the caveats in the documentation: https://pandas.pydata.org/pandas-docs/stable/user_guide/indexing.html#returning-a-view-versus-a-copy\n",
      "  valid_groups['change_in_marking'] = valid_groups.groupby(['defender', 'possession_id'])['closest_attacker'].shift() != valid_groups['closest_attacker']\n"
     ]
    },
    {
     "name": "stdout",
     "output_type": "stream",
     "text": [
      "('SerieA_22-23_tracking/15/HELLAS VERONA-SPEZIA CALCIO G15_tracking.json', 'SerieA_22-23_tracking/15/HELLAS VERONA-SPEZIA CALCIO G15.json')\n"
     ]
    },
    {
     "name": "stderr",
     "output_type": "stream",
     "text": [
      "/var/folders/n2/9_7g8plj0bl7kt3pzlkmfdm80000gn/T/ipykernel_32508/2964926902.py:185: SettingWithCopyWarning: \n",
      "A value is trying to be set on a copy of a slice from a DataFrame.\n",
      "Try using .loc[row_indexer,col_indexer] = value instead\n",
      "\n",
      "See the caveats in the documentation: https://pandas.pydata.org/pandas-docs/stable/user_guide/indexing.html#returning-a-view-versus-a-copy\n",
      "  valid_groups['change_in_marking'] = valid_groups.groupby(['defender', 'possession_id'])['closest_attacker'].shift() != valid_groups['closest_attacker']\n"
     ]
    },
    {
     "name": "stdout",
     "output_type": "stream",
     "text": [
      "('SerieA_22-23_tracking/15/JUVENTUS-LAZIO G15_tracking.json', 'SerieA_22-23_tracking/15/JUVENTUS-LAZIO G15.json')\n"
     ]
    },
    {
     "name": "stderr",
     "output_type": "stream",
     "text": [
      "/var/folders/n2/9_7g8plj0bl7kt3pzlkmfdm80000gn/T/ipykernel_32508/2964926902.py:185: SettingWithCopyWarning: \n",
      "A value is trying to be set on a copy of a slice from a DataFrame.\n",
      "Try using .loc[row_indexer,col_indexer] = value instead\n",
      "\n",
      "See the caveats in the documentation: https://pandas.pydata.org/pandas-docs/stable/user_guide/indexing.html#returning-a-view-versus-a-copy\n",
      "  valid_groups['change_in_marking'] = valid_groups.groupby(['defender', 'possession_id'])['closest_attacker'].shift() != valid_groups['closest_attacker']\n"
     ]
    },
    {
     "name": "stdout",
     "output_type": "stream",
     "text": [
      "('SerieA_22-23_tracking/15/MILAN-FIORENTINA G15_tracking.json', 'SerieA_22-23_tracking/15/MILAN-FIORENTINA G15.json')\n"
     ]
    },
    {
     "name": "stderr",
     "output_type": "stream",
     "text": [
      "/var/folders/n2/9_7g8plj0bl7kt3pzlkmfdm80000gn/T/ipykernel_32508/2964926902.py:185: SettingWithCopyWarning: \n",
      "A value is trying to be set on a copy of a slice from a DataFrame.\n",
      "Try using .loc[row_indexer,col_indexer] = value instead\n",
      "\n",
      "See the caveats in the documentation: https://pandas.pydata.org/pandas-docs/stable/user_guide/indexing.html#returning-a-view-versus-a-copy\n",
      "  valid_groups['change_in_marking'] = valid_groups.groupby(['defender', 'possession_id'])['closest_attacker'].shift() != valid_groups['closest_attacker']\n"
     ]
    },
    {
     "name": "stdout",
     "output_type": "stream",
     "text": [
      "('SerieA_22-23_tracking/15/MONZA-SALERNITANA G15_tracking.json', 'SerieA_22-23_tracking/15/MONZA-SALERNITANA G15.json')\n"
     ]
    },
    {
     "name": "stderr",
     "output_type": "stream",
     "text": [
      "/var/folders/n2/9_7g8plj0bl7kt3pzlkmfdm80000gn/T/ipykernel_32508/2964926902.py:185: SettingWithCopyWarning: \n",
      "A value is trying to be set on a copy of a slice from a DataFrame.\n",
      "Try using .loc[row_indexer,col_indexer] = value instead\n",
      "\n",
      "See the caveats in the documentation: https://pandas.pydata.org/pandas-docs/stable/user_guide/indexing.html#returning-a-view-versus-a-copy\n",
      "  valid_groups['change_in_marking'] = valid_groups.groupby(['defender', 'possession_id'])['closest_attacker'].shift() != valid_groups['closest_attacker']\n"
     ]
    },
    {
     "name": "stdout",
     "output_type": "stream",
     "text": [
      "('SerieA_22-23_tracking/15/NAPOLI-UDINESE G15_tracking.json', 'SerieA_22-23_tracking/15/NAPOLI-UDINESE G15.json')\n"
     ]
    },
    {
     "name": "stderr",
     "output_type": "stream",
     "text": [
      "/var/folders/n2/9_7g8plj0bl7kt3pzlkmfdm80000gn/T/ipykernel_32508/2964926902.py:185: SettingWithCopyWarning: \n",
      "A value is trying to be set on a copy of a slice from a DataFrame.\n",
      "Try using .loc[row_indexer,col_indexer] = value instead\n",
      "\n",
      "See the caveats in the documentation: https://pandas.pydata.org/pandas-docs/stable/user_guide/indexing.html#returning-a-view-versus-a-copy\n",
      "  valid_groups['change_in_marking'] = valid_groups.groupby(['defender', 'possession_id'])['closest_attacker'].shift() != valid_groups['closest_attacker']\n"
     ]
    },
    {
     "name": "stdout",
     "output_type": "stream",
     "text": [
      "('SerieA_22-23_tracking/15/ROMA-TORINO G15_tracking.json', 'SerieA_22-23_tracking/15/ROMA-TORINO G15.json')\n"
     ]
    },
    {
     "name": "stderr",
     "output_type": "stream",
     "text": [
      "/var/folders/n2/9_7g8plj0bl7kt3pzlkmfdm80000gn/T/ipykernel_32508/2964926902.py:185: SettingWithCopyWarning: \n",
      "A value is trying to be set on a copy of a slice from a DataFrame.\n",
      "Try using .loc[row_indexer,col_indexer] = value instead\n",
      "\n",
      "See the caveats in the documentation: https://pandas.pydata.org/pandas-docs/stable/user_guide/indexing.html#returning-a-view-versus-a-copy\n",
      "  valid_groups['change_in_marking'] = valid_groups.groupby(['defender', 'possession_id'])['closest_attacker'].shift() != valid_groups['closest_attacker']\n"
     ]
    },
    {
     "name": "stdout",
     "output_type": "stream",
     "text": [
      "('SerieA_22-23_tracking/15/SAMPDORIA-LECCE G15_tracking.json', 'SerieA_22-23_tracking/15/SAMPDORIA-LECCE G15.json')\n"
     ]
    },
    {
     "name": "stderr",
     "output_type": "stream",
     "text": [
      "/var/folders/n2/9_7g8plj0bl7kt3pzlkmfdm80000gn/T/ipykernel_32508/2964926902.py:185: SettingWithCopyWarning: \n",
      "A value is trying to be set on a copy of a slice from a DataFrame.\n",
      "Try using .loc[row_indexer,col_indexer] = value instead\n",
      "\n",
      "See the caveats in the documentation: https://pandas.pydata.org/pandas-docs/stable/user_guide/indexing.html#returning-a-view-versus-a-copy\n",
      "  valid_groups['change_in_marking'] = valid_groups.groupby(['defender', 'possession_id'])['closest_attacker'].shift() != valid_groups['closest_attacker']\n"
     ]
    },
    {
     "name": "stdout",
     "output_type": "stream",
     "text": [
      "('SerieA_22-23_tracking/3/FIORENTINA-NAPOLI G3_tracking.json', 'SerieA_22-23_tracking/3/FIORENTINA-NAPOLI G3.json')\n"
     ]
    },
    {
     "name": "stderr",
     "output_type": "stream",
     "text": [
      "/var/folders/n2/9_7g8plj0bl7kt3pzlkmfdm80000gn/T/ipykernel_32508/2964926902.py:185: SettingWithCopyWarning: \n",
      "A value is trying to be set on a copy of a slice from a DataFrame.\n",
      "Try using .loc[row_indexer,col_indexer] = value instead\n",
      "\n",
      "See the caveats in the documentation: https://pandas.pydata.org/pandas-docs/stable/user_guide/indexing.html#returning-a-view-versus-a-copy\n",
      "  valid_groups['change_in_marking'] = valid_groups.groupby(['defender', 'possession_id'])['closest_attacker'].shift() != valid_groups['closest_attacker']\n"
     ]
    },
    {
     "name": "stdout",
     "output_type": "stream",
     "text": [
      "('SerieA_22-23_tracking/3/HELLAS VERONA-ATALANTA G3_tracking.json', 'SerieA_22-23_tracking/3/HELLAS VERONA-ATALANTA G3.json')\n"
     ]
    },
    {
     "name": "stderr",
     "output_type": "stream",
     "text": [
      "/var/folders/n2/9_7g8plj0bl7kt3pzlkmfdm80000gn/T/ipykernel_32508/2964926902.py:185: SettingWithCopyWarning: \n",
      "A value is trying to be set on a copy of a slice from a DataFrame.\n",
      "Try using .loc[row_indexer,col_indexer] = value instead\n",
      "\n",
      "See the caveats in the documentation: https://pandas.pydata.org/pandas-docs/stable/user_guide/indexing.html#returning-a-view-versus-a-copy\n",
      "  valid_groups['change_in_marking'] = valid_groups.groupby(['defender', 'possession_id'])['closest_attacker'].shift() != valid_groups['closest_attacker']\n"
     ]
    },
    {
     "name": "stdout",
     "output_type": "stream",
     "text": [
      "('SerieA_22-23_tracking/3/JUVENTUS-ROMA G3_tracking.json', 'SerieA_22-23_tracking/3/JUVENTUS-ROMA G3.json')\n"
     ]
    },
    {
     "name": "stderr",
     "output_type": "stream",
     "text": [
      "/var/folders/n2/9_7g8plj0bl7kt3pzlkmfdm80000gn/T/ipykernel_32508/2964926902.py:185: SettingWithCopyWarning: \n",
      "A value is trying to be set on a copy of a slice from a DataFrame.\n",
      "Try using .loc[row_indexer,col_indexer] = value instead\n",
      "\n",
      "See the caveats in the documentation: https://pandas.pydata.org/pandas-docs/stable/user_guide/indexing.html#returning-a-view-versus-a-copy\n",
      "  valid_groups['change_in_marking'] = valid_groups.groupby(['defender', 'possession_id'])['closest_attacker'].shift() != valid_groups['closest_attacker']\n"
     ]
    },
    {
     "name": "stdout",
     "output_type": "stream",
     "text": [
      "('SerieA_22-23_tracking/3/LAZIO-INTER G3_tracking.json', 'SerieA_22-23_tracking/3/LAZIO-INTER G3.json')\n"
     ]
    },
    {
     "name": "stderr",
     "output_type": "stream",
     "text": [
      "/var/folders/n2/9_7g8plj0bl7kt3pzlkmfdm80000gn/T/ipykernel_32508/2964926902.py:185: SettingWithCopyWarning: \n",
      "A value is trying to be set on a copy of a slice from a DataFrame.\n",
      "Try using .loc[row_indexer,col_indexer] = value instead\n",
      "\n",
      "See the caveats in the documentation: https://pandas.pydata.org/pandas-docs/stable/user_guide/indexing.html#returning-a-view-versus-a-copy\n",
      "  valid_groups['change_in_marking'] = valid_groups.groupby(['defender', 'possession_id'])['closest_attacker'].shift() != valid_groups['closest_attacker']\n"
     ]
    },
    {
     "name": "stdout",
     "output_type": "stream",
     "text": [
      "('SerieA_22-23_tracking/3/LECCE-EMPOLI G3_tracking.json', 'SerieA_22-23_tracking/3/LECCE-EMPOLI G3.json')\n"
     ]
    },
    {
     "name": "stderr",
     "output_type": "stream",
     "text": [
      "/var/folders/n2/9_7g8plj0bl7kt3pzlkmfdm80000gn/T/ipykernel_32508/2964926902.py:185: SettingWithCopyWarning: \n",
      "A value is trying to be set on a copy of a slice from a DataFrame.\n",
      "Try using .loc[row_indexer,col_indexer] = value instead\n",
      "\n",
      "See the caveats in the documentation: https://pandas.pydata.org/pandas-docs/stable/user_guide/indexing.html#returning-a-view-versus-a-copy\n",
      "  valid_groups['change_in_marking'] = valid_groups.groupby(['defender', 'possession_id'])['closest_attacker'].shift() != valid_groups['closest_attacker']\n"
     ]
    },
    {
     "name": "stdout",
     "output_type": "stream",
     "text": [
      "('SerieA_22-23_tracking/3/MILAN-BOLOGNA G3_tracking.json', 'SerieA_22-23_tracking/3/MILAN-BOLOGNA G3.json')\n"
     ]
    },
    {
     "name": "stderr",
     "output_type": "stream",
     "text": [
      "/var/folders/n2/9_7g8plj0bl7kt3pzlkmfdm80000gn/T/ipykernel_32508/2964926902.py:185: SettingWithCopyWarning: \n",
      "A value is trying to be set on a copy of a slice from a DataFrame.\n",
      "Try using .loc[row_indexer,col_indexer] = value instead\n",
      "\n",
      "See the caveats in the documentation: https://pandas.pydata.org/pandas-docs/stable/user_guide/indexing.html#returning-a-view-versus-a-copy\n",
      "  valid_groups['change_in_marking'] = valid_groups.groupby(['defender', 'possession_id'])['closest_attacker'].shift() != valid_groups['closest_attacker']\n"
     ]
    },
    {
     "name": "stdout",
     "output_type": "stream",
     "text": [
      "('SerieA_22-23_tracking/3/MONZA-UDINESE G3_tracking.json', 'SerieA_22-23_tracking/3/MONZA-UDINESE G3.json')\n"
     ]
    },
    {
     "name": "stderr",
     "output_type": "stream",
     "text": [
      "/var/folders/n2/9_7g8plj0bl7kt3pzlkmfdm80000gn/T/ipykernel_32508/2964926902.py:185: SettingWithCopyWarning: \n",
      "A value is trying to be set on a copy of a slice from a DataFrame.\n",
      "Try using .loc[row_indexer,col_indexer] = value instead\n",
      "\n",
      "See the caveats in the documentation: https://pandas.pydata.org/pandas-docs/stable/user_guide/indexing.html#returning-a-view-versus-a-copy\n",
      "  valid_groups['change_in_marking'] = valid_groups.groupby(['defender', 'possession_id'])['closest_attacker'].shift() != valid_groups['closest_attacker']\n"
     ]
    },
    {
     "name": "stdout",
     "output_type": "stream",
     "text": [
      "('SerieA_22-23_tracking/3/SALERNITANA-SAMPDORIA G3_tracking.json', 'SerieA_22-23_tracking/3/SALERNITANA-SAMPDORIA G3.json')\n"
     ]
    },
    {
     "name": "stderr",
     "output_type": "stream",
     "text": [
      "/var/folders/n2/9_7g8plj0bl7kt3pzlkmfdm80000gn/T/ipykernel_32508/2964926902.py:185: SettingWithCopyWarning: \n",
      "A value is trying to be set on a copy of a slice from a DataFrame.\n",
      "Try using .loc[row_indexer,col_indexer] = value instead\n",
      "\n",
      "See the caveats in the documentation: https://pandas.pydata.org/pandas-docs/stable/user_guide/indexing.html#returning-a-view-versus-a-copy\n",
      "  valid_groups['change_in_marking'] = valid_groups.groupby(['defender', 'possession_id'])['closest_attacker'].shift() != valid_groups['closest_attacker']\n"
     ]
    },
    {
     "name": "stdout",
     "output_type": "stream",
     "text": [
      "('SerieA_22-23_tracking/3/SPEZIA CALCIO-SASSUOLO G3_tracking.json', 'SerieA_22-23_tracking/3/SPEZIA CALCIO-SASSUOLO G3.json')\n"
     ]
    },
    {
     "name": "stderr",
     "output_type": "stream",
     "text": [
      "/var/folders/n2/9_7g8plj0bl7kt3pzlkmfdm80000gn/T/ipykernel_32508/2964926902.py:185: SettingWithCopyWarning: \n",
      "A value is trying to be set on a copy of a slice from a DataFrame.\n",
      "Try using .loc[row_indexer,col_indexer] = value instead\n",
      "\n",
      "See the caveats in the documentation: https://pandas.pydata.org/pandas-docs/stable/user_guide/indexing.html#returning-a-view-versus-a-copy\n",
      "  valid_groups['change_in_marking'] = valid_groups.groupby(['defender', 'possession_id'])['closest_attacker'].shift() != valid_groups['closest_attacker']\n"
     ]
    },
    {
     "name": "stdout",
     "output_type": "stream",
     "text": [
      "('SerieA_22-23_tracking/3/US CREMONESE-TORINO G3_tracking.json', 'SerieA_22-23_tracking/3/US CREMONESE-TORINO G3.json')\n"
     ]
    },
    {
     "name": "stderr",
     "output_type": "stream",
     "text": [
      "/var/folders/n2/9_7g8plj0bl7kt3pzlkmfdm80000gn/T/ipykernel_32508/2964926902.py:185: SettingWithCopyWarning: \n",
      "A value is trying to be set on a copy of a slice from a DataFrame.\n",
      "Try using .loc[row_indexer,col_indexer] = value instead\n",
      "\n",
      "See the caveats in the documentation: https://pandas.pydata.org/pandas-docs/stable/user_guide/indexing.html#returning-a-view-versus-a-copy\n",
      "  valid_groups['change_in_marking'] = valid_groups.groupby(['defender', 'possession_id'])['closest_attacker'].shift() != valid_groups['closest_attacker']\n"
     ]
    },
    {
     "name": "stdout",
     "output_type": "stream",
     "text": [
      "('SerieA_22-23_tracking/12/EMPOLI-ATALANTA G12_tracking.json', 'SerieA_22-23_tracking/12/EMPOLI-ATALANTA G12.json')\n"
     ]
    },
    {
     "name": "stderr",
     "output_type": "stream",
     "text": [
      "/var/folders/n2/9_7g8plj0bl7kt3pzlkmfdm80000gn/T/ipykernel_32508/2964926902.py:185: SettingWithCopyWarning: \n",
      "A value is trying to be set on a copy of a slice from a DataFrame.\n",
      "Try using .loc[row_indexer,col_indexer] = value instead\n",
      "\n",
      "See the caveats in the documentation: https://pandas.pydata.org/pandas-docs/stable/user_guide/indexing.html#returning-a-view-versus-a-copy\n",
      "  valid_groups['change_in_marking'] = valid_groups.groupby(['defender', 'possession_id'])['closest_attacker'].shift() != valid_groups['closest_attacker']\n"
     ]
    },
    {
     "name": "stdout",
     "output_type": "stream",
     "text": [
      "('SerieA_22-23_tracking/12/HELLAS VERONA-ROMA G12_tracking.json', 'SerieA_22-23_tracking/12/HELLAS VERONA-ROMA G12.json')\n"
     ]
    },
    {
     "name": "stderr",
     "output_type": "stream",
     "text": [
      "/var/folders/n2/9_7g8plj0bl7kt3pzlkmfdm80000gn/T/ipykernel_32508/2964926902.py:185: SettingWithCopyWarning: \n",
      "A value is trying to be set on a copy of a slice from a DataFrame.\n",
      "Try using .loc[row_indexer,col_indexer] = value instead\n",
      "\n",
      "See the caveats in the documentation: https://pandas.pydata.org/pandas-docs/stable/user_guide/indexing.html#returning-a-view-versus-a-copy\n",
      "  valid_groups['change_in_marking'] = valid_groups.groupby(['defender', 'possession_id'])['closest_attacker'].shift() != valid_groups['closest_attacker']\n"
     ]
    },
    {
     "name": "stdout",
     "output_type": "stream",
     "text": [
      "('SerieA_22-23_tracking/12/INTER-SAMPDORIA G12_tracking.json', 'SerieA_22-23_tracking/12/INTER-SAMPDORIA G12.json')\n"
     ]
    },
    {
     "name": "stderr",
     "output_type": "stream",
     "text": [
      "/var/folders/n2/9_7g8plj0bl7kt3pzlkmfdm80000gn/T/ipykernel_32508/2964926902.py:185: SettingWithCopyWarning: \n",
      "A value is trying to be set on a copy of a slice from a DataFrame.\n",
      "Try using .loc[row_indexer,col_indexer] = value instead\n",
      "\n",
      "See the caveats in the documentation: https://pandas.pydata.org/pandas-docs/stable/user_guide/indexing.html#returning-a-view-versus-a-copy\n",
      "  valid_groups['change_in_marking'] = valid_groups.groupby(['defender', 'possession_id'])['closest_attacker'].shift() != valid_groups['closest_attacker']\n"
     ]
    },
    {
     "name": "stdout",
     "output_type": "stream",
     "text": [
      "('SerieA_22-23_tracking/12/LAZIO-SALERNITANA G12_tracking.json', 'SerieA_22-23_tracking/12/LAZIO-SALERNITANA G12.json')\n"
     ]
    },
    {
     "name": "stderr",
     "output_type": "stream",
     "text": [
      "/var/folders/n2/9_7g8plj0bl7kt3pzlkmfdm80000gn/T/ipykernel_32508/2964926902.py:185: SettingWithCopyWarning: \n",
      "A value is trying to be set on a copy of a slice from a DataFrame.\n",
      "Try using .loc[row_indexer,col_indexer] = value instead\n",
      "\n",
      "See the caveats in the documentation: https://pandas.pydata.org/pandas-docs/stable/user_guide/indexing.html#returning-a-view-versus-a-copy\n",
      "  valid_groups['change_in_marking'] = valid_groups.groupby(['defender', 'possession_id'])['closest_attacker'].shift() != valid_groups['closest_attacker']\n"
     ]
    },
    {
     "name": "stdout",
     "output_type": "stream",
     "text": [
      "('SerieA_22-23_tracking/12/LECCE-JUVENTUS G12_tracking.json', 'SerieA_22-23_tracking/12/LECCE-JUVENTUS G12.json')\n"
     ]
    },
    {
     "name": "stderr",
     "output_type": "stream",
     "text": [
      "/var/folders/n2/9_7g8plj0bl7kt3pzlkmfdm80000gn/T/ipykernel_32508/2964926902.py:185: SettingWithCopyWarning: \n",
      "A value is trying to be set on a copy of a slice from a DataFrame.\n",
      "Try using .loc[row_indexer,col_indexer] = value instead\n",
      "\n",
      "See the caveats in the documentation: https://pandas.pydata.org/pandas-docs/stable/user_guide/indexing.html#returning-a-view-versus-a-copy\n",
      "  valid_groups['change_in_marking'] = valid_groups.groupby(['defender', 'possession_id'])['closest_attacker'].shift() != valid_groups['closest_attacker']\n"
     ]
    },
    {
     "name": "stdout",
     "output_type": "stream",
     "text": [
      "('SerieA_22-23_tracking/12/MONZA-BOLOGNA G12_tracking.json', 'SerieA_22-23_tracking/12/MONZA-BOLOGNA G12.json')\n"
     ]
    },
    {
     "name": "stderr",
     "output_type": "stream",
     "text": [
      "/var/folders/n2/9_7g8plj0bl7kt3pzlkmfdm80000gn/T/ipykernel_32508/2964926902.py:185: SettingWithCopyWarning: \n",
      "A value is trying to be set on a copy of a slice from a DataFrame.\n",
      "Try using .loc[row_indexer,col_indexer] = value instead\n",
      "\n",
      "See the caveats in the documentation: https://pandas.pydata.org/pandas-docs/stable/user_guide/indexing.html#returning-a-view-versus-a-copy\n",
      "  valid_groups['change_in_marking'] = valid_groups.groupby(['defender', 'possession_id'])['closest_attacker'].shift() != valid_groups['closest_attacker']\n"
     ]
    },
    {
     "name": "stdout",
     "output_type": "stream",
     "text": [
      "('SerieA_22-23_tracking/12/NAPOLI-SASSUOLO G12_tracking.json', 'SerieA_22-23_tracking/12/NAPOLI-SASSUOLO G12.json')\n"
     ]
    },
    {
     "name": "stderr",
     "output_type": "stream",
     "text": [
      "/var/folders/n2/9_7g8plj0bl7kt3pzlkmfdm80000gn/T/ipykernel_32508/2964926902.py:185: SettingWithCopyWarning: \n",
      "A value is trying to be set on a copy of a slice from a DataFrame.\n",
      "Try using .loc[row_indexer,col_indexer] = value instead\n",
      "\n",
      "See the caveats in the documentation: https://pandas.pydata.org/pandas-docs/stable/user_guide/indexing.html#returning-a-view-versus-a-copy\n",
      "  valid_groups['change_in_marking'] = valid_groups.groupby(['defender', 'possession_id'])['closest_attacker'].shift() != valid_groups['closest_attacker']\n"
     ]
    },
    {
     "name": "stdout",
     "output_type": "stream",
     "text": [
      "('SerieA_22-23_tracking/12/SPEZIA CALCIO-FIORENTINA G12_tracking.json', 'SerieA_22-23_tracking/12/SPEZIA CALCIO-FIORENTINA G12.json')\n"
     ]
    },
    {
     "name": "stderr",
     "output_type": "stream",
     "text": [
      "/var/folders/n2/9_7g8plj0bl7kt3pzlkmfdm80000gn/T/ipykernel_32508/2964926902.py:185: SettingWithCopyWarning: \n",
      "A value is trying to be set on a copy of a slice from a DataFrame.\n",
      "Try using .loc[row_indexer,col_indexer] = value instead\n",
      "\n",
      "See the caveats in the documentation: https://pandas.pydata.org/pandas-docs/stable/user_guide/indexing.html#returning-a-view-versus-a-copy\n",
      "  valid_groups['change_in_marking'] = valid_groups.groupby(['defender', 'possession_id'])['closest_attacker'].shift() != valid_groups['closest_attacker']\n"
     ]
    },
    {
     "name": "stdout",
     "output_type": "stream",
     "text": [
      "('SerieA_22-23_tracking/12/TORINO-MILAN G12_tracking.json', 'SerieA_22-23_tracking/12/TORINO-MILAN G12.json')\n"
     ]
    },
    {
     "name": "stderr",
     "output_type": "stream",
     "text": [
      "/var/folders/n2/9_7g8plj0bl7kt3pzlkmfdm80000gn/T/ipykernel_32508/2964926902.py:185: SettingWithCopyWarning: \n",
      "A value is trying to be set on a copy of a slice from a DataFrame.\n",
      "Try using .loc[row_indexer,col_indexer] = value instead\n",
      "\n",
      "See the caveats in the documentation: https://pandas.pydata.org/pandas-docs/stable/user_guide/indexing.html#returning-a-view-versus-a-copy\n",
      "  valid_groups['change_in_marking'] = valid_groups.groupby(['defender', 'possession_id'])['closest_attacker'].shift() != valid_groups['closest_attacker']\n"
     ]
    },
    {
     "name": "stdout",
     "output_type": "stream",
     "text": [
      "('SerieA_22-23_tracking/12/US CREMONESE-UDINESE G12_tracking.json', 'SerieA_22-23_tracking/12/US CREMONESE-UDINESE G12.json')\n"
     ]
    },
    {
     "name": "stderr",
     "output_type": "stream",
     "text": [
      "/var/folders/n2/9_7g8plj0bl7kt3pzlkmfdm80000gn/T/ipykernel_32508/2964926902.py:185: SettingWithCopyWarning: \n",
      "A value is trying to be set on a copy of a slice from a DataFrame.\n",
      "Try using .loc[row_indexer,col_indexer] = value instead\n",
      "\n",
      "See the caveats in the documentation: https://pandas.pydata.org/pandas-docs/stable/user_guide/indexing.html#returning-a-view-versus-a-copy\n",
      "  valid_groups['change_in_marking'] = valid_groups.groupby(['defender', 'possession_id'])['closest_attacker'].shift() != valid_groups['closest_attacker']\n"
     ]
    },
    {
     "name": "stdout",
     "output_type": "stream",
     "text": [
      "('SerieA_22-23_tracking/2/ATALANTA-MILAN G2_tracking.json', 'SerieA_22-23_tracking/2/ATALANTA-MILAN G2.json')\n"
     ]
    },
    {
     "name": "stderr",
     "output_type": "stream",
     "text": [
      "/var/folders/n2/9_7g8plj0bl7kt3pzlkmfdm80000gn/T/ipykernel_32508/2964926902.py:185: SettingWithCopyWarning: \n",
      "A value is trying to be set on a copy of a slice from a DataFrame.\n",
      "Try using .loc[row_indexer,col_indexer] = value instead\n",
      "\n",
      "See the caveats in the documentation: https://pandas.pydata.org/pandas-docs/stable/user_guide/indexing.html#returning-a-view-versus-a-copy\n",
      "  valid_groups['change_in_marking'] = valid_groups.groupby(['defender', 'possession_id'])['closest_attacker'].shift() != valid_groups['closest_attacker']\n"
     ]
    },
    {
     "name": "stdout",
     "output_type": "stream",
     "text": [
      "('SerieA_22-23_tracking/2/BOLOGNA-HELLAS VERONA G2_tracking.json', 'SerieA_22-23_tracking/2/BOLOGNA-HELLAS VERONA G2.json')\n"
     ]
    },
    {
     "name": "stderr",
     "output_type": "stream",
     "text": [
      "/var/folders/n2/9_7g8plj0bl7kt3pzlkmfdm80000gn/T/ipykernel_32508/2964926902.py:185: SettingWithCopyWarning: \n",
      "A value is trying to be set on a copy of a slice from a DataFrame.\n",
      "Try using .loc[row_indexer,col_indexer] = value instead\n",
      "\n",
      "See the caveats in the documentation: https://pandas.pydata.org/pandas-docs/stable/user_guide/indexing.html#returning-a-view-versus-a-copy\n",
      "  valid_groups['change_in_marking'] = valid_groups.groupby(['defender', 'possession_id'])['closest_attacker'].shift() != valid_groups['closest_attacker']\n"
     ]
    },
    {
     "name": "stdout",
     "output_type": "stream",
     "text": [
      "('SerieA_22-23_tracking/2/EMPOLI-FIORENTINA G2_tracking.json', 'SerieA_22-23_tracking/2/EMPOLI-FIORENTINA G2.json')\n"
     ]
    },
    {
     "name": "stderr",
     "output_type": "stream",
     "text": [
      "/var/folders/n2/9_7g8plj0bl7kt3pzlkmfdm80000gn/T/ipykernel_32508/2964926902.py:185: SettingWithCopyWarning: \n",
      "A value is trying to be set on a copy of a slice from a DataFrame.\n",
      "Try using .loc[row_indexer,col_indexer] = value instead\n",
      "\n",
      "See the caveats in the documentation: https://pandas.pydata.org/pandas-docs/stable/user_guide/indexing.html#returning-a-view-versus-a-copy\n",
      "  valid_groups['change_in_marking'] = valid_groups.groupby(['defender', 'possession_id'])['closest_attacker'].shift() != valid_groups['closest_attacker']\n"
     ]
    },
    {
     "name": "stdout",
     "output_type": "stream",
     "text": [
      "('SerieA_22-23_tracking/2/INTER-SPEZIA CALCIO G2_tracking.json', 'SerieA_22-23_tracking/2/INTER-SPEZIA CALCIO G2.json')\n"
     ]
    },
    {
     "name": "stderr",
     "output_type": "stream",
     "text": [
      "/var/folders/n2/9_7g8plj0bl7kt3pzlkmfdm80000gn/T/ipykernel_32508/2964926902.py:185: SettingWithCopyWarning: \n",
      "A value is trying to be set on a copy of a slice from a DataFrame.\n",
      "Try using .loc[row_indexer,col_indexer] = value instead\n",
      "\n",
      "See the caveats in the documentation: https://pandas.pydata.org/pandas-docs/stable/user_guide/indexing.html#returning-a-view-versus-a-copy\n",
      "  valid_groups['change_in_marking'] = valid_groups.groupby(['defender', 'possession_id'])['closest_attacker'].shift() != valid_groups['closest_attacker']\n"
     ]
    },
    {
     "name": "stdout",
     "output_type": "stream",
     "text": [
      "('SerieA_22-23_tracking/2/NAPOLI-MONZA G2_tracking.json', 'SerieA_22-23_tracking/2/NAPOLI-MONZA G2.json')\n"
     ]
    },
    {
     "name": "stderr",
     "output_type": "stream",
     "text": [
      "/var/folders/n2/9_7g8plj0bl7kt3pzlkmfdm80000gn/T/ipykernel_32508/2964926902.py:185: SettingWithCopyWarning: \n",
      "A value is trying to be set on a copy of a slice from a DataFrame.\n",
      "Try using .loc[row_indexer,col_indexer] = value instead\n",
      "\n",
      "See the caveats in the documentation: https://pandas.pydata.org/pandas-docs/stable/user_guide/indexing.html#returning-a-view-versus-a-copy\n",
      "  valid_groups['change_in_marking'] = valid_groups.groupby(['defender', 'possession_id'])['closest_attacker'].shift() != valid_groups['closest_attacker']\n"
     ]
    },
    {
     "name": "stdout",
     "output_type": "stream",
     "text": [
      "('SerieA_22-23_tracking/2/ROMA-US CREMONESE G2_tracking.json', 'SerieA_22-23_tracking/2/ROMA-US CREMONESE G2.json')\n"
     ]
    },
    {
     "name": "stderr",
     "output_type": "stream",
     "text": [
      "/var/folders/n2/9_7g8plj0bl7kt3pzlkmfdm80000gn/T/ipykernel_32508/2964926902.py:185: SettingWithCopyWarning: \n",
      "A value is trying to be set on a copy of a slice from a DataFrame.\n",
      "Try using .loc[row_indexer,col_indexer] = value instead\n",
      "\n",
      "See the caveats in the documentation: https://pandas.pydata.org/pandas-docs/stable/user_guide/indexing.html#returning-a-view-versus-a-copy\n",
      "  valid_groups['change_in_marking'] = valid_groups.groupby(['defender', 'possession_id'])['closest_attacker'].shift() != valid_groups['closest_attacker']\n"
     ]
    },
    {
     "name": "stdout",
     "output_type": "stream",
     "text": [
      "('SerieA_22-23_tracking/2/SAMPDORIA-JUVENTUS G2_tracking.json', 'SerieA_22-23_tracking/2/SAMPDORIA-JUVENTUS G2.json')\n"
     ]
    },
    {
     "name": "stderr",
     "output_type": "stream",
     "text": [
      "/var/folders/n2/9_7g8plj0bl7kt3pzlkmfdm80000gn/T/ipykernel_32508/2964926902.py:185: SettingWithCopyWarning: \n",
      "A value is trying to be set on a copy of a slice from a DataFrame.\n",
      "Try using .loc[row_indexer,col_indexer] = value instead\n",
      "\n",
      "See the caveats in the documentation: https://pandas.pydata.org/pandas-docs/stable/user_guide/indexing.html#returning-a-view-versus-a-copy\n",
      "  valid_groups['change_in_marking'] = valid_groups.groupby(['defender', 'possession_id'])['closest_attacker'].shift() != valid_groups['closest_attacker']\n"
     ]
    },
    {
     "name": "stdout",
     "output_type": "stream",
     "text": [
      "('SerieA_22-23_tracking/2/SASSUOLO-LECCE G2_tracking.json', 'SerieA_22-23_tracking/2/SASSUOLO-LECCE G2.json')\n"
     ]
    },
    {
     "name": "stderr",
     "output_type": "stream",
     "text": [
      "/var/folders/n2/9_7g8plj0bl7kt3pzlkmfdm80000gn/T/ipykernel_32508/2964926902.py:185: SettingWithCopyWarning: \n",
      "A value is trying to be set on a copy of a slice from a DataFrame.\n",
      "Try using .loc[row_indexer,col_indexer] = value instead\n",
      "\n",
      "See the caveats in the documentation: https://pandas.pydata.org/pandas-docs/stable/user_guide/indexing.html#returning-a-view-versus-a-copy\n",
      "  valid_groups['change_in_marking'] = valid_groups.groupby(['defender', 'possession_id'])['closest_attacker'].shift() != valid_groups['closest_attacker']\n"
     ]
    },
    {
     "name": "stdout",
     "output_type": "stream",
     "text": [
      "('SerieA_22-23_tracking/2/TORINO-LAZIO G2_tracking.json', 'SerieA_22-23_tracking/2/TORINO-LAZIO G2.json')\n"
     ]
    },
    {
     "name": "stderr",
     "output_type": "stream",
     "text": [
      "/var/folders/n2/9_7g8plj0bl7kt3pzlkmfdm80000gn/T/ipykernel_32508/2964926902.py:185: SettingWithCopyWarning: \n",
      "A value is trying to be set on a copy of a slice from a DataFrame.\n",
      "Try using .loc[row_indexer,col_indexer] = value instead\n",
      "\n",
      "See the caveats in the documentation: https://pandas.pydata.org/pandas-docs/stable/user_guide/indexing.html#returning-a-view-versus-a-copy\n",
      "  valid_groups['change_in_marking'] = valid_groups.groupby(['defender', 'possession_id'])['closest_attacker'].shift() != valid_groups['closest_attacker']\n"
     ]
    },
    {
     "name": "stdout",
     "output_type": "stream",
     "text": [
      "('SerieA_22-23_tracking/2/UDINESE-SALERNITANA G2_tracking.json', 'SerieA_22-23_tracking/2/UDINESE-SALERNITANA G2.json')\n"
     ]
    },
    {
     "name": "stderr",
     "output_type": "stream",
     "text": [
      "/var/folders/n2/9_7g8plj0bl7kt3pzlkmfdm80000gn/T/ipykernel_32508/2964926902.py:185: SettingWithCopyWarning: \n",
      "A value is trying to be set on a copy of a slice from a DataFrame.\n",
      "Try using .loc[row_indexer,col_indexer] = value instead\n",
      "\n",
      "See the caveats in the documentation: https://pandas.pydata.org/pandas-docs/stable/user_guide/indexing.html#returning-a-view-versus-a-copy\n",
      "  valid_groups['change_in_marking'] = valid_groups.groupby(['defender', 'possession_id'])['closest_attacker'].shift() != valid_groups['closest_attacker']\n"
     ]
    },
    {
     "name": "stdout",
     "output_type": "stream",
     "text": [
      "('SerieA_22-23_tracking/13/ATALANTA-NAPOLI G13_tracking.json', 'SerieA_22-23_tracking/13/ATALANTA-NAPOLI G13.json')\n"
     ]
    },
    {
     "name": "stderr",
     "output_type": "stream",
     "text": [
      "/var/folders/n2/9_7g8plj0bl7kt3pzlkmfdm80000gn/T/ipykernel_32508/2964926902.py:185: SettingWithCopyWarning: \n",
      "A value is trying to be set on a copy of a slice from a DataFrame.\n",
      "Try using .loc[row_indexer,col_indexer] = value instead\n",
      "\n",
      "See the caveats in the documentation: https://pandas.pydata.org/pandas-docs/stable/user_guide/indexing.html#returning-a-view-versus-a-copy\n",
      "  valid_groups['change_in_marking'] = valid_groups.groupby(['defender', 'possession_id'])['closest_attacker'].shift() != valid_groups['closest_attacker']\n"
     ]
    },
    {
     "name": "stdout",
     "output_type": "stream",
     "text": [
      "('SerieA_22-23_tracking/13/BOLOGNA-TORINO G13_tracking.json', 'SerieA_22-23_tracking/13/BOLOGNA-TORINO G13.json')\n"
     ]
    },
    {
     "name": "stderr",
     "output_type": "stream",
     "text": [
      "/var/folders/n2/9_7g8plj0bl7kt3pzlkmfdm80000gn/T/ipykernel_32508/2964926902.py:185: SettingWithCopyWarning: \n",
      "A value is trying to be set on a copy of a slice from a DataFrame.\n",
      "Try using .loc[row_indexer,col_indexer] = value instead\n",
      "\n",
      "See the caveats in the documentation: https://pandas.pydata.org/pandas-docs/stable/user_guide/indexing.html#returning-a-view-versus-a-copy\n",
      "  valid_groups['change_in_marking'] = valid_groups.groupby(['defender', 'possession_id'])['closest_attacker'].shift() != valid_groups['closest_attacker']\n"
     ]
    },
    {
     "name": "stdout",
     "output_type": "stream",
     "text": [
      "('SerieA_22-23_tracking/13/EMPOLI-SASSUOLO G13_tracking.json', 'SerieA_22-23_tracking/13/EMPOLI-SASSUOLO G13.json')\n"
     ]
    },
    {
     "name": "stderr",
     "output_type": "stream",
     "text": [
      "/var/folders/n2/9_7g8plj0bl7kt3pzlkmfdm80000gn/T/ipykernel_32508/2964926902.py:185: SettingWithCopyWarning: \n",
      "A value is trying to be set on a copy of a slice from a DataFrame.\n",
      "Try using .loc[row_indexer,col_indexer] = value instead\n",
      "\n",
      "See the caveats in the documentation: https://pandas.pydata.org/pandas-docs/stable/user_guide/indexing.html#returning-a-view-versus-a-copy\n",
      "  valid_groups['change_in_marking'] = valid_groups.groupby(['defender', 'possession_id'])['closest_attacker'].shift() != valid_groups['closest_attacker']\n"
     ]
    },
    {
     "name": "stdout",
     "output_type": "stream",
     "text": [
      "('SerieA_22-23_tracking/13/JUVENTUS-INTER G13_tracking.json', 'SerieA_22-23_tracking/13/JUVENTUS-INTER G13.json')\n"
     ]
    },
    {
     "name": "stderr",
     "output_type": "stream",
     "text": [
      "/var/folders/n2/9_7g8plj0bl7kt3pzlkmfdm80000gn/T/ipykernel_32508/2964926902.py:185: SettingWithCopyWarning: \n",
      "A value is trying to be set on a copy of a slice from a DataFrame.\n",
      "Try using .loc[row_indexer,col_indexer] = value instead\n",
      "\n",
      "See the caveats in the documentation: https://pandas.pydata.org/pandas-docs/stable/user_guide/indexing.html#returning-a-view-versus-a-copy\n",
      "  valid_groups['change_in_marking'] = valid_groups.groupby(['defender', 'possession_id'])['closest_attacker'].shift() != valid_groups['closest_attacker']\n"
     ]
    },
    {
     "name": "stdout",
     "output_type": "stream",
     "text": [
      "('SerieA_22-23_tracking/13/MILAN-SPEZIA CALCIO G13_tracking.json', 'SerieA_22-23_tracking/13/MILAN-SPEZIA CALCIO G13.json')\n"
     ]
    },
    {
     "name": "stderr",
     "output_type": "stream",
     "text": [
      "/var/folders/n2/9_7g8plj0bl7kt3pzlkmfdm80000gn/T/ipykernel_32508/2964926902.py:185: SettingWithCopyWarning: \n",
      "A value is trying to be set on a copy of a slice from a DataFrame.\n",
      "Try using .loc[row_indexer,col_indexer] = value instead\n",
      "\n",
      "See the caveats in the documentation: https://pandas.pydata.org/pandas-docs/stable/user_guide/indexing.html#returning-a-view-versus-a-copy\n",
      "  valid_groups['change_in_marking'] = valid_groups.groupby(['defender', 'possession_id'])['closest_attacker'].shift() != valid_groups['closest_attacker']\n"
     ]
    },
    {
     "name": "stdout",
     "output_type": "stream",
     "text": [
      "('SerieA_22-23_tracking/13/MONZA-HELLAS VERONA G13_tracking.json', 'SerieA_22-23_tracking/13/MONZA-HELLAS VERONA G13.json')\n"
     ]
    },
    {
     "name": "stderr",
     "output_type": "stream",
     "text": [
      "/var/folders/n2/9_7g8plj0bl7kt3pzlkmfdm80000gn/T/ipykernel_32508/2964926902.py:185: SettingWithCopyWarning: \n",
      "A value is trying to be set on a copy of a slice from a DataFrame.\n",
      "Try using .loc[row_indexer,col_indexer] = value instead\n",
      "\n",
      "See the caveats in the documentation: https://pandas.pydata.org/pandas-docs/stable/user_guide/indexing.html#returning-a-view-versus-a-copy\n",
      "  valid_groups['change_in_marking'] = valid_groups.groupby(['defender', 'possession_id'])['closest_attacker'].shift() != valid_groups['closest_attacker']\n"
     ]
    },
    {
     "name": "stdout",
     "output_type": "stream",
     "text": [
      "('SerieA_22-23_tracking/13/ROMA-LAZIO G13_tracking.json', 'SerieA_22-23_tracking/13/ROMA-LAZIO G13.json')\n"
     ]
    },
    {
     "name": "stderr",
     "output_type": "stream",
     "text": [
      "/var/folders/n2/9_7g8plj0bl7kt3pzlkmfdm80000gn/T/ipykernel_32508/2964926902.py:185: SettingWithCopyWarning: \n",
      "A value is trying to be set on a copy of a slice from a DataFrame.\n",
      "Try using .loc[row_indexer,col_indexer] = value instead\n",
      "\n",
      "See the caveats in the documentation: https://pandas.pydata.org/pandas-docs/stable/user_guide/indexing.html#returning-a-view-versus-a-copy\n",
      "  valid_groups['change_in_marking'] = valid_groups.groupby(['defender', 'possession_id'])['closest_attacker'].shift() != valid_groups['closest_attacker']\n"
     ]
    },
    {
     "name": "stdout",
     "output_type": "stream",
     "text": [
      "('SerieA_22-23_tracking/13/SALERNITANA-US CREMONESE G13_tracking.json', 'SerieA_22-23_tracking/13/SALERNITANA-US CREMONESE G13.json')\n"
     ]
    },
    {
     "name": "stderr",
     "output_type": "stream",
     "text": [
      "/var/folders/n2/9_7g8plj0bl7kt3pzlkmfdm80000gn/T/ipykernel_32508/2964926902.py:185: SettingWithCopyWarning: \n",
      "A value is trying to be set on a copy of a slice from a DataFrame.\n",
      "Try using .loc[row_indexer,col_indexer] = value instead\n",
      "\n",
      "See the caveats in the documentation: https://pandas.pydata.org/pandas-docs/stable/user_guide/indexing.html#returning-a-view-versus-a-copy\n",
      "  valid_groups['change_in_marking'] = valid_groups.groupby(['defender', 'possession_id'])['closest_attacker'].shift() != valid_groups['closest_attacker']\n"
     ]
    },
    {
     "name": "stdout",
     "output_type": "stream",
     "text": [
      "('SerieA_22-23_tracking/13/SAMPDORIA-FIORENTINA G13_tracking.json', 'SerieA_22-23_tracking/13/SAMPDORIA-FIORENTINA G13.json')\n"
     ]
    },
    {
     "name": "stderr",
     "output_type": "stream",
     "text": [
      "/var/folders/n2/9_7g8plj0bl7kt3pzlkmfdm80000gn/T/ipykernel_32508/2964926902.py:185: SettingWithCopyWarning: \n",
      "A value is trying to be set on a copy of a slice from a DataFrame.\n",
      "Try using .loc[row_indexer,col_indexer] = value instead\n",
      "\n",
      "See the caveats in the documentation: https://pandas.pydata.org/pandas-docs/stable/user_guide/indexing.html#returning-a-view-versus-a-copy\n",
      "  valid_groups['change_in_marking'] = valid_groups.groupby(['defender', 'possession_id'])['closest_attacker'].shift() != valid_groups['closest_attacker']\n"
     ]
    },
    {
     "name": "stdout",
     "output_type": "stream",
     "text": [
      "('SerieA_22-23_tracking/13/UDINESE-LECCE G13_tracking.json', 'SerieA_22-23_tracking/13/UDINESE-LECCE G13.json')\n"
     ]
    },
    {
     "name": "stderr",
     "output_type": "stream",
     "text": [
      "/var/folders/n2/9_7g8plj0bl7kt3pzlkmfdm80000gn/T/ipykernel_32508/2964926902.py:185: SettingWithCopyWarning: \n",
      "A value is trying to be set on a copy of a slice from a DataFrame.\n",
      "Try using .loc[row_indexer,col_indexer] = value instead\n",
      "\n",
      "See the caveats in the documentation: https://pandas.pydata.org/pandas-docs/stable/user_guide/indexing.html#returning-a-view-versus-a-copy\n",
      "  valid_groups['change_in_marking'] = valid_groups.groupby(['defender', 'possession_id'])['closest_attacker'].shift() != valid_groups['closest_attacker']\n"
     ]
    },
    {
     "name": "stdout",
     "output_type": "stream",
     "text": [
      "('SerieA_22-23_tracking/5/FIORENTINA-JUVENTUS G5_tracking.json', 'SerieA_22-23_tracking/5/FIORENTINA-JUVENTUS G5.json')\n"
     ]
    },
    {
     "name": "stderr",
     "output_type": "stream",
     "text": [
      "/var/folders/n2/9_7g8plj0bl7kt3pzlkmfdm80000gn/T/ipykernel_32508/2964926902.py:185: SettingWithCopyWarning: \n",
      "A value is trying to be set on a copy of a slice from a DataFrame.\n",
      "Try using .loc[row_indexer,col_indexer] = value instead\n",
      "\n",
      "See the caveats in the documentation: https://pandas.pydata.org/pandas-docs/stable/user_guide/indexing.html#returning-a-view-versus-a-copy\n",
      "  valid_groups['change_in_marking'] = valid_groups.groupby(['defender', 'possession_id'])['closest_attacker'].shift() != valid_groups['closest_attacker']\n"
     ]
    },
    {
     "name": "stdout",
     "output_type": "stream",
     "text": [
      "('SerieA_22-23_tracking/5/HELLAS VERONA-SAMPDORIA G5_tracking.json', 'SerieA_22-23_tracking/5/HELLAS VERONA-SAMPDORIA G5.json')\n"
     ]
    },
    {
     "name": "stderr",
     "output_type": "stream",
     "text": [
      "/var/folders/n2/9_7g8plj0bl7kt3pzlkmfdm80000gn/T/ipykernel_32508/2964926902.py:185: SettingWithCopyWarning: \n",
      "A value is trying to be set on a copy of a slice from a DataFrame.\n",
      "Try using .loc[row_indexer,col_indexer] = value instead\n",
      "\n",
      "See the caveats in the documentation: https://pandas.pydata.org/pandas-docs/stable/user_guide/indexing.html#returning-a-view-versus-a-copy\n",
      "  valid_groups['change_in_marking'] = valid_groups.groupby(['defender', 'possession_id'])['closest_attacker'].shift() != valid_groups['closest_attacker']\n"
     ]
    },
    {
     "name": "stdout",
     "output_type": "stream",
     "text": [
      "('SerieA_22-23_tracking/5/LAZIO-NAPOLI G5_tracking.json', 'SerieA_22-23_tracking/5/LAZIO-NAPOLI G5.json')\n"
     ]
    },
    {
     "name": "stderr",
     "output_type": "stream",
     "text": [
      "/var/folders/n2/9_7g8plj0bl7kt3pzlkmfdm80000gn/T/ipykernel_32508/2964926902.py:185: SettingWithCopyWarning: \n",
      "A value is trying to be set on a copy of a slice from a DataFrame.\n",
      "Try using .loc[row_indexer,col_indexer] = value instead\n",
      "\n",
      "See the caveats in the documentation: https://pandas.pydata.org/pandas-docs/stable/user_guide/indexing.html#returning-a-view-versus-a-copy\n",
      "  valid_groups['change_in_marking'] = valid_groups.groupby(['defender', 'possession_id'])['closest_attacker'].shift() != valid_groups['closest_attacker']\n"
     ]
    },
    {
     "name": "stdout",
     "output_type": "stream",
     "text": [
      "('SerieA_22-23_tracking/5/MILAN-INTER G5_tracking.json', 'SerieA_22-23_tracking/5/MILAN-INTER G5.json')\n"
     ]
    },
    {
     "name": "stderr",
     "output_type": "stream",
     "text": [
      "/var/folders/n2/9_7g8plj0bl7kt3pzlkmfdm80000gn/T/ipykernel_32508/2964926902.py:185: SettingWithCopyWarning: \n",
      "A value is trying to be set on a copy of a slice from a DataFrame.\n",
      "Try using .loc[row_indexer,col_indexer] = value instead\n",
      "\n",
      "See the caveats in the documentation: https://pandas.pydata.org/pandas-docs/stable/user_guide/indexing.html#returning-a-view-versus-a-copy\n",
      "  valid_groups['change_in_marking'] = valid_groups.groupby(['defender', 'possession_id'])['closest_attacker'].shift() != valid_groups['closest_attacker']\n"
     ]
    },
    {
     "name": "stdout",
     "output_type": "stream",
     "text": [
      "('SerieA_22-23_tracking/5/MONZA-ATALANTA G5_tracking.json', 'SerieA_22-23_tracking/5/MONZA-ATALANTA G5.json')\n"
     ]
    },
    {
     "name": "stderr",
     "output_type": "stream",
     "text": [
      "/var/folders/n2/9_7g8plj0bl7kt3pzlkmfdm80000gn/T/ipykernel_32508/2964926902.py:185: SettingWithCopyWarning: \n",
      "A value is trying to be set on a copy of a slice from a DataFrame.\n",
      "Try using .loc[row_indexer,col_indexer] = value instead\n",
      "\n",
      "See the caveats in the documentation: https://pandas.pydata.org/pandas-docs/stable/user_guide/indexing.html#returning-a-view-versus-a-copy\n",
      "  valid_groups['change_in_marking'] = valid_groups.groupby(['defender', 'possession_id'])['closest_attacker'].shift() != valid_groups['closest_attacker']\n"
     ]
    },
    {
     "name": "stdout",
     "output_type": "stream",
     "text": [
      "('SerieA_22-23_tracking/5/SALERNITANA-EMPOLI G5_tracking.json', 'SerieA_22-23_tracking/5/SALERNITANA-EMPOLI G5.json')\n"
     ]
    },
    {
     "name": "stderr",
     "output_type": "stream",
     "text": [
      "/var/folders/n2/9_7g8plj0bl7kt3pzlkmfdm80000gn/T/ipykernel_32508/2964926902.py:185: SettingWithCopyWarning: \n",
      "A value is trying to be set on a copy of a slice from a DataFrame.\n",
      "Try using .loc[row_indexer,col_indexer] = value instead\n",
      "\n",
      "See the caveats in the documentation: https://pandas.pydata.org/pandas-docs/stable/user_guide/indexing.html#returning-a-view-versus-a-copy\n",
      "  valid_groups['change_in_marking'] = valid_groups.groupby(['defender', 'possession_id'])['closest_attacker'].shift() != valid_groups['closest_attacker']\n"
     ]
    },
    {
     "name": "stdout",
     "output_type": "stream",
     "text": [
      "('SerieA_22-23_tracking/5/SPEZIA CALCIO-BOLOGNA G5_tracking.json', 'SerieA_22-23_tracking/5/SPEZIA CALCIO-BOLOGNA G5.json')\n"
     ]
    },
    {
     "name": "stderr",
     "output_type": "stream",
     "text": [
      "/var/folders/n2/9_7g8plj0bl7kt3pzlkmfdm80000gn/T/ipykernel_32508/2964926902.py:185: SettingWithCopyWarning: \n",
      "A value is trying to be set on a copy of a slice from a DataFrame.\n",
      "Try using .loc[row_indexer,col_indexer] = value instead\n",
      "\n",
      "See the caveats in the documentation: https://pandas.pydata.org/pandas-docs/stable/user_guide/indexing.html#returning-a-view-versus-a-copy\n",
      "  valid_groups['change_in_marking'] = valid_groups.groupby(['defender', 'possession_id'])['closest_attacker'].shift() != valid_groups['closest_attacker']\n"
     ]
    },
    {
     "name": "stdout",
     "output_type": "stream",
     "text": [
      "('SerieA_22-23_tracking/5/TORINO-LECCE G5_tracking.json', 'SerieA_22-23_tracking/5/TORINO-LECCE G5.json')\n"
     ]
    },
    {
     "name": "stderr",
     "output_type": "stream",
     "text": [
      "/var/folders/n2/9_7g8plj0bl7kt3pzlkmfdm80000gn/T/ipykernel_32508/2964926902.py:185: SettingWithCopyWarning: \n",
      "A value is trying to be set on a copy of a slice from a DataFrame.\n",
      "Try using .loc[row_indexer,col_indexer] = value instead\n",
      "\n",
      "See the caveats in the documentation: https://pandas.pydata.org/pandas-docs/stable/user_guide/indexing.html#returning-a-view-versus-a-copy\n",
      "  valid_groups['change_in_marking'] = valid_groups.groupby(['defender', 'possession_id'])['closest_attacker'].shift() != valid_groups['closest_attacker']\n"
     ]
    },
    {
     "name": "stdout",
     "output_type": "stream",
     "text": [
      "('SerieA_22-23_tracking/5/UDINESE-ROMA G5_tracking.json', 'SerieA_22-23_tracking/5/UDINESE-ROMA G5.json')\n"
     ]
    },
    {
     "name": "stderr",
     "output_type": "stream",
     "text": [
      "/var/folders/n2/9_7g8plj0bl7kt3pzlkmfdm80000gn/T/ipykernel_32508/2964926902.py:185: SettingWithCopyWarning: \n",
      "A value is trying to be set on a copy of a slice from a DataFrame.\n",
      "Try using .loc[row_indexer,col_indexer] = value instead\n",
      "\n",
      "See the caveats in the documentation: https://pandas.pydata.org/pandas-docs/stable/user_guide/indexing.html#returning-a-view-versus-a-copy\n",
      "  valid_groups['change_in_marking'] = valid_groups.groupby(['defender', 'possession_id'])['closest_attacker'].shift() != valid_groups['closest_attacker']\n"
     ]
    },
    {
     "name": "stdout",
     "output_type": "stream",
     "text": [
      "('SerieA_22-23_tracking/5/US CREMONESE-SASSUOLO G5_tracking.json', 'SerieA_22-23_tracking/5/US CREMONESE-SASSUOLO G5.json')\n"
     ]
    },
    {
     "name": "stderr",
     "output_type": "stream",
     "text": [
      "/var/folders/n2/9_7g8plj0bl7kt3pzlkmfdm80000gn/T/ipykernel_32508/2964926902.py:185: SettingWithCopyWarning: \n",
      "A value is trying to be set on a copy of a slice from a DataFrame.\n",
      "Try using .loc[row_indexer,col_indexer] = value instead\n",
      "\n",
      "See the caveats in the documentation: https://pandas.pydata.org/pandas-docs/stable/user_guide/indexing.html#returning-a-view-versus-a-copy\n",
      "  valid_groups['change_in_marking'] = valid_groups.groupby(['defender', 'possession_id'])['closest_attacker'].shift() != valid_groups['closest_attacker']\n"
     ]
    },
    {
     "name": "stdout",
     "output_type": "stream",
     "text": [
      "('SerieA_22-23_tracking/14/FIORENTINA-SALERNITANA G14_tracking.json', 'SerieA_22-23_tracking/14/FIORENTINA-SALERNITANA G14.json')\n"
     ]
    },
    {
     "name": "stderr",
     "output_type": "stream",
     "text": [
      "/var/folders/n2/9_7g8plj0bl7kt3pzlkmfdm80000gn/T/ipykernel_32508/2964926902.py:185: SettingWithCopyWarning: \n",
      "A value is trying to be set on a copy of a slice from a DataFrame.\n",
      "Try using .loc[row_indexer,col_indexer] = value instead\n",
      "\n",
      "See the caveats in the documentation: https://pandas.pydata.org/pandas-docs/stable/user_guide/indexing.html#returning-a-view-versus-a-copy\n",
      "  valid_groups['change_in_marking'] = valid_groups.groupby(['defender', 'possession_id'])['closest_attacker'].shift() != valid_groups['closest_attacker']\n"
     ]
    },
    {
     "name": "stdout",
     "output_type": "stream",
     "text": [
      "('SerieA_22-23_tracking/14/HELLAS VERONA-JUVENTUS G14_tracking.json', 'SerieA_22-23_tracking/14/HELLAS VERONA-JUVENTUS G14.json')\n"
     ]
    },
    {
     "name": "stderr",
     "output_type": "stream",
     "text": [
      "/var/folders/n2/9_7g8plj0bl7kt3pzlkmfdm80000gn/T/ipykernel_32508/2964926902.py:185: SettingWithCopyWarning: \n",
      "A value is trying to be set on a copy of a slice from a DataFrame.\n",
      "Try using .loc[row_indexer,col_indexer] = value instead\n",
      "\n",
      "See the caveats in the documentation: https://pandas.pydata.org/pandas-docs/stable/user_guide/indexing.html#returning-a-view-versus-a-copy\n",
      "  valid_groups['change_in_marking'] = valid_groups.groupby(['defender', 'possession_id'])['closest_attacker'].shift() != valid_groups['closest_attacker']\n"
     ]
    },
    {
     "name": "stdout",
     "output_type": "stream",
     "text": [
      "('SerieA_22-23_tracking/14/INTER-BOLOGNA G14_tracking.json', 'SerieA_22-23_tracking/14/INTER-BOLOGNA G14.json')\n"
     ]
    },
    {
     "name": "stderr",
     "output_type": "stream",
     "text": [
      "/var/folders/n2/9_7g8plj0bl7kt3pzlkmfdm80000gn/T/ipykernel_32508/2964926902.py:185: SettingWithCopyWarning: \n",
      "A value is trying to be set on a copy of a slice from a DataFrame.\n",
      "Try using .loc[row_indexer,col_indexer] = value instead\n",
      "\n",
      "See the caveats in the documentation: https://pandas.pydata.org/pandas-docs/stable/user_guide/indexing.html#returning-a-view-versus-a-copy\n",
      "  valid_groups['change_in_marking'] = valid_groups.groupby(['defender', 'possession_id'])['closest_attacker'].shift() != valid_groups['closest_attacker']\n"
     ]
    },
    {
     "name": "stdout",
     "output_type": "stream",
     "text": [
      "('SerieA_22-23_tracking/14/LAZIO-MONZA G14_tracking.json', 'SerieA_22-23_tracking/14/LAZIO-MONZA G14.json')\n"
     ]
    },
    {
     "name": "stderr",
     "output_type": "stream",
     "text": [
      "/var/folders/n2/9_7g8plj0bl7kt3pzlkmfdm80000gn/T/ipykernel_32508/2964926902.py:185: SettingWithCopyWarning: \n",
      "A value is trying to be set on a copy of a slice from a DataFrame.\n",
      "Try using .loc[row_indexer,col_indexer] = value instead\n",
      "\n",
      "See the caveats in the documentation: https://pandas.pydata.org/pandas-docs/stable/user_guide/indexing.html#returning-a-view-versus-a-copy\n",
      "  valid_groups['change_in_marking'] = valid_groups.groupby(['defender', 'possession_id'])['closest_attacker'].shift() != valid_groups['closest_attacker']\n"
     ]
    },
    {
     "name": "stdout",
     "output_type": "stream",
     "text": [
      "('SerieA_22-23_tracking/14/LECCE-ATALANTA G14_tracking.json', 'SerieA_22-23_tracking/14/LECCE-ATALANTA G14.json')\n"
     ]
    },
    {
     "name": "stderr",
     "output_type": "stream",
     "text": [
      "/var/folders/n2/9_7g8plj0bl7kt3pzlkmfdm80000gn/T/ipykernel_32508/2964926902.py:185: SettingWithCopyWarning: \n",
      "A value is trying to be set on a copy of a slice from a DataFrame.\n",
      "Try using .loc[row_indexer,col_indexer] = value instead\n",
      "\n",
      "See the caveats in the documentation: https://pandas.pydata.org/pandas-docs/stable/user_guide/indexing.html#returning-a-view-versus-a-copy\n",
      "  valid_groups['change_in_marking'] = valid_groups.groupby(['defender', 'possession_id'])['closest_attacker'].shift() != valid_groups['closest_attacker']\n"
     ]
    },
    {
     "name": "stdout",
     "output_type": "stream",
     "text": [
      "('SerieA_22-23_tracking/14/NAPOLI-EMPOLI G14_tracking.json', 'SerieA_22-23_tracking/14/NAPOLI-EMPOLI G14.json')\n"
     ]
    },
    {
     "name": "stderr",
     "output_type": "stream",
     "text": [
      "/var/folders/n2/9_7g8plj0bl7kt3pzlkmfdm80000gn/T/ipykernel_32508/2964926902.py:185: SettingWithCopyWarning: \n",
      "A value is trying to be set on a copy of a slice from a DataFrame.\n",
      "Try using .loc[row_indexer,col_indexer] = value instead\n",
      "\n",
      "See the caveats in the documentation: https://pandas.pydata.org/pandas-docs/stable/user_guide/indexing.html#returning-a-view-versus-a-copy\n",
      "  valid_groups['change_in_marking'] = valid_groups.groupby(['defender', 'possession_id'])['closest_attacker'].shift() != valid_groups['closest_attacker']\n"
     ]
    },
    {
     "name": "stdout",
     "output_type": "stream",
     "text": [
      "('SerieA_22-23_tracking/14/SASSUOLO-ROMA G14_tracking.json', 'SerieA_22-23_tracking/14/SASSUOLO-ROMA G14.json')\n"
     ]
    },
    {
     "name": "stderr",
     "output_type": "stream",
     "text": [
      "/var/folders/n2/9_7g8plj0bl7kt3pzlkmfdm80000gn/T/ipykernel_32508/2964926902.py:185: SettingWithCopyWarning: \n",
      "A value is trying to be set on a copy of a slice from a DataFrame.\n",
      "Try using .loc[row_indexer,col_indexer] = value instead\n",
      "\n",
      "See the caveats in the documentation: https://pandas.pydata.org/pandas-docs/stable/user_guide/indexing.html#returning-a-view-versus-a-copy\n",
      "  valid_groups['change_in_marking'] = valid_groups.groupby(['defender', 'possession_id'])['closest_attacker'].shift() != valid_groups['closest_attacker']\n"
     ]
    },
    {
     "name": "stdout",
     "output_type": "stream",
     "text": [
      "('SerieA_22-23_tracking/14/SPEZIA CALCIO-UDINESE G14_tracking.json', 'SerieA_22-23_tracking/14/SPEZIA CALCIO-UDINESE G14.json')\n"
     ]
    },
    {
     "name": "stderr",
     "output_type": "stream",
     "text": [
      "/var/folders/n2/9_7g8plj0bl7kt3pzlkmfdm80000gn/T/ipykernel_32508/2964926902.py:185: SettingWithCopyWarning: \n",
      "A value is trying to be set on a copy of a slice from a DataFrame.\n",
      "Try using .loc[row_indexer,col_indexer] = value instead\n",
      "\n",
      "See the caveats in the documentation: https://pandas.pydata.org/pandas-docs/stable/user_guide/indexing.html#returning-a-view-versus-a-copy\n",
      "  valid_groups['change_in_marking'] = valid_groups.groupby(['defender', 'possession_id'])['closest_attacker'].shift() != valid_groups['closest_attacker']\n"
     ]
    },
    {
     "name": "stdout",
     "output_type": "stream",
     "text": [
      "('SerieA_22-23_tracking/14/TORINO-SAMPDORIA G14_tracking.json', 'SerieA_22-23_tracking/14/TORINO-SAMPDORIA G14.json')\n"
     ]
    },
    {
     "name": "stderr",
     "output_type": "stream",
     "text": [
      "/var/folders/n2/9_7g8plj0bl7kt3pzlkmfdm80000gn/T/ipykernel_32508/2964926902.py:185: SettingWithCopyWarning: \n",
      "A value is trying to be set on a copy of a slice from a DataFrame.\n",
      "Try using .loc[row_indexer,col_indexer] = value instead\n",
      "\n",
      "See the caveats in the documentation: https://pandas.pydata.org/pandas-docs/stable/user_guide/indexing.html#returning-a-view-versus-a-copy\n",
      "  valid_groups['change_in_marking'] = valid_groups.groupby(['defender', 'possession_id'])['closest_attacker'].shift() != valid_groups['closest_attacker']\n"
     ]
    },
    {
     "name": "stdout",
     "output_type": "stream",
     "text": [
      "('SerieA_22-23_tracking/14/US CREMONESE-MILAN G14_tracking.json', 'SerieA_22-23_tracking/14/US CREMONESE-MILAN G14.json')\n"
     ]
    },
    {
     "name": "stderr",
     "output_type": "stream",
     "text": [
      "/var/folders/n2/9_7g8plj0bl7kt3pzlkmfdm80000gn/T/ipykernel_32508/2964926902.py:185: SettingWithCopyWarning: \n",
      "A value is trying to be set on a copy of a slice from a DataFrame.\n",
      "Try using .loc[row_indexer,col_indexer] = value instead\n",
      "\n",
      "See the caveats in the documentation: https://pandas.pydata.org/pandas-docs/stable/user_guide/indexing.html#returning-a-view-versus-a-copy\n",
      "  valid_groups['change_in_marking'] = valid_groups.groupby(['defender', 'possession_id'])['closest_attacker'].shift() != valid_groups['closest_attacker']\n"
     ]
    },
    {
     "name": "stdout",
     "output_type": "stream",
     "text": [
      "('SerieA_22-23_tracking/22/BOLOGNA-MONZA G22_tracking.json', 'SerieA_22-23_tracking/22/BOLOGNA-MONZA G22.json')\n"
     ]
    },
    {
     "name": "stderr",
     "output_type": "stream",
     "text": [
      "/var/folders/n2/9_7g8plj0bl7kt3pzlkmfdm80000gn/T/ipykernel_32508/2964926902.py:185: SettingWithCopyWarning: \n",
      "A value is trying to be set on a copy of a slice from a DataFrame.\n",
      "Try using .loc[row_indexer,col_indexer] = value instead\n",
      "\n",
      "See the caveats in the documentation: https://pandas.pydata.org/pandas-docs/stable/user_guide/indexing.html#returning-a-view-versus-a-copy\n",
      "  valid_groups['change_in_marking'] = valid_groups.groupby(['defender', 'possession_id'])['closest_attacker'].shift() != valid_groups['closest_attacker']\n"
     ]
    },
    {
     "name": "stdout",
     "output_type": "stream",
     "text": [
      "('SerieA_22-23_tracking/22/EMPOLI-SPEZIA CALCIO G22_tracking.json', 'SerieA_22-23_tracking/22/EMPOLI-SPEZIA CALCIO G22.json')\n"
     ]
    },
    {
     "name": "stderr",
     "output_type": "stream",
     "text": [
      "/var/folders/n2/9_7g8plj0bl7kt3pzlkmfdm80000gn/T/ipykernel_32508/2964926902.py:185: SettingWithCopyWarning: \n",
      "A value is trying to be set on a copy of a slice from a DataFrame.\n",
      "Try using .loc[row_indexer,col_indexer] = value instead\n",
      "\n",
      "See the caveats in the documentation: https://pandas.pydata.org/pandas-docs/stable/user_guide/indexing.html#returning-a-view-versus-a-copy\n",
      "  valid_groups['change_in_marking'] = valid_groups.groupby(['defender', 'possession_id'])['closest_attacker'].shift() != valid_groups['closest_attacker']\n"
     ]
    },
    {
     "name": "stdout",
     "output_type": "stream",
     "text": [
      "('SerieA_22-23_tracking/22/HELLAS VERONA-SALERNITANA G22_tracking.json', 'SerieA_22-23_tracking/22/HELLAS VERONA-SALERNITANA G22.json')\n"
     ]
    },
    {
     "name": "stderr",
     "output_type": "stream",
     "text": [
      "/var/folders/n2/9_7g8plj0bl7kt3pzlkmfdm80000gn/T/ipykernel_32508/2964926902.py:185: SettingWithCopyWarning: \n",
      "A value is trying to be set on a copy of a slice from a DataFrame.\n",
      "Try using .loc[row_indexer,col_indexer] = value instead\n",
      "\n",
      "See the caveats in the documentation: https://pandas.pydata.org/pandas-docs/stable/user_guide/indexing.html#returning-a-view-versus-a-copy\n",
      "  valid_groups['change_in_marking'] = valid_groups.groupby(['defender', 'possession_id'])['closest_attacker'].shift() != valid_groups['closest_attacker']\n"
     ]
    },
    {
     "name": "stdout",
     "output_type": "stream",
     "text": [
      "('SerieA_22-23_tracking/22/JUVENTUS-FIORENTINA G22_tracking.json', 'SerieA_22-23_tracking/22/JUVENTUS-FIORENTINA G22.json')\n"
     ]
    },
    {
     "name": "stderr",
     "output_type": "stream",
     "text": [
      "/var/folders/n2/9_7g8plj0bl7kt3pzlkmfdm80000gn/T/ipykernel_32508/2964926902.py:185: SettingWithCopyWarning: \n",
      "A value is trying to be set on a copy of a slice from a DataFrame.\n",
      "Try using .loc[row_indexer,col_indexer] = value instead\n",
      "\n",
      "See the caveats in the documentation: https://pandas.pydata.org/pandas-docs/stable/user_guide/indexing.html#returning-a-view-versus-a-copy\n",
      "  valid_groups['change_in_marking'] = valid_groups.groupby(['defender', 'possession_id'])['closest_attacker'].shift() != valid_groups['closest_attacker']\n"
     ]
    },
    {
     "name": "stdout",
     "output_type": "stream",
     "text": [
      "('SerieA_22-23_tracking/22/LAZIO-ATALANTA G22_tracking.json', 'SerieA_22-23_tracking/22/LAZIO-ATALANTA G22.json')\n"
     ]
    },
    {
     "name": "stderr",
     "output_type": "stream",
     "text": [
      "/var/folders/n2/9_7g8plj0bl7kt3pzlkmfdm80000gn/T/ipykernel_32508/2964926902.py:185: SettingWithCopyWarning: \n",
      "A value is trying to be set on a copy of a slice from a DataFrame.\n",
      "Try using .loc[row_indexer,col_indexer] = value instead\n",
      "\n",
      "See the caveats in the documentation: https://pandas.pydata.org/pandas-docs/stable/user_guide/indexing.html#returning-a-view-versus-a-copy\n",
      "  valid_groups['change_in_marking'] = valid_groups.groupby(['defender', 'possession_id'])['closest_attacker'].shift() != valid_groups['closest_attacker']\n"
     ]
    },
    {
     "name": "stdout",
     "output_type": "stream",
     "text": [
      "('SerieA_22-23_tracking/22/LECCE-ROMA G22_tracking.json', 'SerieA_22-23_tracking/22/LECCE-ROMA G22.json')\n"
     ]
    },
    {
     "name": "stderr",
     "output_type": "stream",
     "text": [
      "/var/folders/n2/9_7g8plj0bl7kt3pzlkmfdm80000gn/T/ipykernel_32508/2964926902.py:185: SettingWithCopyWarning: \n",
      "A value is trying to be set on a copy of a slice from a DataFrame.\n",
      "Try using .loc[row_indexer,col_indexer] = value instead\n",
      "\n",
      "See the caveats in the documentation: https://pandas.pydata.org/pandas-docs/stable/user_guide/indexing.html#returning-a-view-versus-a-copy\n",
      "  valid_groups['change_in_marking'] = valid_groups.groupby(['defender', 'possession_id'])['closest_attacker'].shift() != valid_groups['closest_attacker']\n"
     ]
    },
    {
     "name": "stdout",
     "output_type": "stream",
     "text": [
      "('SerieA_22-23_tracking/22/MILAN-TORINO G22_tracking.json', 'SerieA_22-23_tracking/22/MILAN-TORINO G22.json')\n"
     ]
    },
    {
     "name": "stderr",
     "output_type": "stream",
     "text": [
      "/var/folders/n2/9_7g8plj0bl7kt3pzlkmfdm80000gn/T/ipykernel_32508/2964926902.py:185: SettingWithCopyWarning: \n",
      "A value is trying to be set on a copy of a slice from a DataFrame.\n",
      "Try using .loc[row_indexer,col_indexer] = value instead\n",
      "\n",
      "See the caveats in the documentation: https://pandas.pydata.org/pandas-docs/stable/user_guide/indexing.html#returning-a-view-versus-a-copy\n",
      "  valid_groups['change_in_marking'] = valid_groups.groupby(['defender', 'possession_id'])['closest_attacker'].shift() != valid_groups['closest_attacker']\n"
     ]
    },
    {
     "name": "stdout",
     "output_type": "stream",
     "text": [
      "('SerieA_22-23_tracking/22/NAPOLI-US CREMONESE G22_tracking.json', 'SerieA_22-23_tracking/22/NAPOLI-US CREMONESE G22.json')\n"
     ]
    },
    {
     "name": "stderr",
     "output_type": "stream",
     "text": [
      "/var/folders/n2/9_7g8plj0bl7kt3pzlkmfdm80000gn/T/ipykernel_32508/2964926902.py:185: SettingWithCopyWarning: \n",
      "A value is trying to be set on a copy of a slice from a DataFrame.\n",
      "Try using .loc[row_indexer,col_indexer] = value instead\n",
      "\n",
      "See the caveats in the documentation: https://pandas.pydata.org/pandas-docs/stable/user_guide/indexing.html#returning-a-view-versus-a-copy\n",
      "  valid_groups['change_in_marking'] = valid_groups.groupby(['defender', 'possession_id'])['closest_attacker'].shift() != valid_groups['closest_attacker']\n"
     ]
    },
    {
     "name": "stdout",
     "output_type": "stream",
     "text": [
      "('SerieA_22-23_tracking/22/SAMPDORIA-INTER G22_tracking.json', 'SerieA_22-23_tracking/22/SAMPDORIA-INTER G22.json')\n"
     ]
    },
    {
     "name": "stderr",
     "output_type": "stream",
     "text": [
      "/var/folders/n2/9_7g8plj0bl7kt3pzlkmfdm80000gn/T/ipykernel_32508/2964926902.py:185: SettingWithCopyWarning: \n",
      "A value is trying to be set on a copy of a slice from a DataFrame.\n",
      "Try using .loc[row_indexer,col_indexer] = value instead\n",
      "\n",
      "See the caveats in the documentation: https://pandas.pydata.org/pandas-docs/stable/user_guide/indexing.html#returning-a-view-versus-a-copy\n",
      "  valid_groups['change_in_marking'] = valid_groups.groupby(['defender', 'possession_id'])['closest_attacker'].shift() != valid_groups['closest_attacker']\n"
     ]
    },
    {
     "name": "stdout",
     "output_type": "stream",
     "text": [
      "('SerieA_22-23_tracking/22/UDINESE-SASSUOLO G22_tracking.json', 'SerieA_22-23_tracking/22/UDINESE-SASSUOLO G22.json')\n"
     ]
    },
    {
     "name": "stderr",
     "output_type": "stream",
     "text": [
      "/var/folders/n2/9_7g8plj0bl7kt3pzlkmfdm80000gn/T/ipykernel_32508/2964926902.py:185: SettingWithCopyWarning: \n",
      "A value is trying to be set on a copy of a slice from a DataFrame.\n",
      "Try using .loc[row_indexer,col_indexer] = value instead\n",
      "\n",
      "See the caveats in the documentation: https://pandas.pydata.org/pandas-docs/stable/user_guide/indexing.html#returning-a-view-versus-a-copy\n",
      "  valid_groups['change_in_marking'] = valid_groups.groupby(['defender', 'possession_id'])['closest_attacker'].shift() != valid_groups['closest_attacker']\n"
     ]
    },
    {
     "name": "stdout",
     "output_type": "stream",
     "text": [
      "('SerieA_22-23_tracking/25/ATALANTA-UDINESE G25_tracking.json', 'SerieA_22-23_tracking/25/ATALANTA-UDINESE G25.json')\n"
     ]
    },
    {
     "name": "stderr",
     "output_type": "stream",
     "text": [
      "/var/folders/n2/9_7g8plj0bl7kt3pzlkmfdm80000gn/T/ipykernel_32508/2964926902.py:185: SettingWithCopyWarning: \n",
      "A value is trying to be set on a copy of a slice from a DataFrame.\n",
      "Try using .loc[row_indexer,col_indexer] = value instead\n",
      "\n",
      "See the caveats in the documentation: https://pandas.pydata.org/pandas-docs/stable/user_guide/indexing.html#returning-a-view-versus-a-copy\n",
      "  valid_groups['change_in_marking'] = valid_groups.groupby(['defender', 'possession_id'])['closest_attacker'].shift() != valid_groups['closest_attacker']\n"
     ]
    },
    {
     "name": "stdout",
     "output_type": "stream",
     "text": [
      "('SerieA_22-23_tracking/25/FIORENTINA-MILAN G25_tracking.json', 'SerieA_22-23_tracking/25/FIORENTINA-MILAN G25.json')\n"
     ]
    },
    {
     "name": "stderr",
     "output_type": "stream",
     "text": [
      "/var/folders/n2/9_7g8plj0bl7kt3pzlkmfdm80000gn/T/ipykernel_32508/2964926902.py:185: SettingWithCopyWarning: \n",
      "A value is trying to be set on a copy of a slice from a DataFrame.\n",
      "Try using .loc[row_indexer,col_indexer] = value instead\n",
      "\n",
      "See the caveats in the documentation: https://pandas.pydata.org/pandas-docs/stable/user_guide/indexing.html#returning-a-view-versus-a-copy\n",
      "  valid_groups['change_in_marking'] = valid_groups.groupby(['defender', 'possession_id'])['closest_attacker'].shift() != valid_groups['closest_attacker']\n"
     ]
    },
    {
     "name": "stdout",
     "output_type": "stream",
     "text": [
      "('SerieA_22-23_tracking/25/INTER-LECCE G25_tracking.json', 'SerieA_22-23_tracking/25/INTER-LECCE G25.json')\n"
     ]
    },
    {
     "name": "stderr",
     "output_type": "stream",
     "text": [
      "/var/folders/n2/9_7g8plj0bl7kt3pzlkmfdm80000gn/T/ipykernel_32508/2964926902.py:185: SettingWithCopyWarning: \n",
      "A value is trying to be set on a copy of a slice from a DataFrame.\n",
      "Try using .loc[row_indexer,col_indexer] = value instead\n",
      "\n",
      "See the caveats in the documentation: https://pandas.pydata.org/pandas-docs/stable/user_guide/indexing.html#returning-a-view-versus-a-copy\n",
      "  valid_groups['change_in_marking'] = valid_groups.groupby(['defender', 'possession_id'])['closest_attacker'].shift() != valid_groups['closest_attacker']\n"
     ]
    },
    {
     "name": "stdout",
     "output_type": "stream",
     "text": [
      "('SerieA_22-23_tracking/25/MONZA-EMPOLI G25_tracking.json', 'SerieA_22-23_tracking/25/MONZA-EMPOLI G25.json')\n"
     ]
    },
    {
     "name": "stderr",
     "output_type": "stream",
     "text": [
      "/var/folders/n2/9_7g8plj0bl7kt3pzlkmfdm80000gn/T/ipykernel_32508/2964926902.py:185: SettingWithCopyWarning: \n",
      "A value is trying to be set on a copy of a slice from a DataFrame.\n",
      "Try using .loc[row_indexer,col_indexer] = value instead\n",
      "\n",
      "See the caveats in the documentation: https://pandas.pydata.org/pandas-docs/stable/user_guide/indexing.html#returning-a-view-versus-a-copy\n",
      "  valid_groups['change_in_marking'] = valid_groups.groupby(['defender', 'possession_id'])['closest_attacker'].shift() != valid_groups['closest_attacker']\n"
     ]
    },
    {
     "name": "stdout",
     "output_type": "stream",
     "text": [
      "('SerieA_22-23_tracking/25/NAPOLI-LAZIO G25_tracking.json', 'SerieA_22-23_tracking/25/NAPOLI-LAZIO G25.json')\n"
     ]
    },
    {
     "name": "stderr",
     "output_type": "stream",
     "text": [
      "/var/folders/n2/9_7g8plj0bl7kt3pzlkmfdm80000gn/T/ipykernel_32508/2964926902.py:185: SettingWithCopyWarning: \n",
      "A value is trying to be set on a copy of a slice from a DataFrame.\n",
      "Try using .loc[row_indexer,col_indexer] = value instead\n",
      "\n",
      "See the caveats in the documentation: https://pandas.pydata.org/pandas-docs/stable/user_guide/indexing.html#returning-a-view-versus-a-copy\n",
      "  valid_groups['change_in_marking'] = valid_groups.groupby(['defender', 'possession_id'])['closest_attacker'].shift() != valid_groups['closest_attacker']\n"
     ]
    },
    {
     "name": "stdout",
     "output_type": "stream",
     "text": [
      "('SerieA_22-23_tracking/25/ROMA-JUVENTUS G25_tracking.json', 'SerieA_22-23_tracking/25/ROMA-JUVENTUS G25.json')\n"
     ]
    },
    {
     "name": "stderr",
     "output_type": "stream",
     "text": [
      "/var/folders/n2/9_7g8plj0bl7kt3pzlkmfdm80000gn/T/ipykernel_32508/2964926902.py:185: SettingWithCopyWarning: \n",
      "A value is trying to be set on a copy of a slice from a DataFrame.\n",
      "Try using .loc[row_indexer,col_indexer] = value instead\n",
      "\n",
      "See the caveats in the documentation: https://pandas.pydata.org/pandas-docs/stable/user_guide/indexing.html#returning-a-view-versus-a-copy\n",
      "  valid_groups['change_in_marking'] = valid_groups.groupby(['defender', 'possession_id'])['closest_attacker'].shift() != valid_groups['closest_attacker']\n"
     ]
    },
    {
     "name": "stdout",
     "output_type": "stream",
     "text": [
      "('SerieA_22-23_tracking/25/SAMPDORIA-SALERNITANA G25_tracking.json', 'SerieA_22-23_tracking/25/SAMPDORIA-SALERNITANA G25.json')\n"
     ]
    },
    {
     "name": "stderr",
     "output_type": "stream",
     "text": [
      "/var/folders/n2/9_7g8plj0bl7kt3pzlkmfdm80000gn/T/ipykernel_32508/2964926902.py:185: SettingWithCopyWarning: \n",
      "A value is trying to be set on a copy of a slice from a DataFrame.\n",
      "Try using .loc[row_indexer,col_indexer] = value instead\n",
      "\n",
      "See the caveats in the documentation: https://pandas.pydata.org/pandas-docs/stable/user_guide/indexing.html#returning-a-view-versus-a-copy\n",
      "  valid_groups['change_in_marking'] = valid_groups.groupby(['defender', 'possession_id'])['closest_attacker'].shift() != valid_groups['closest_attacker']\n"
     ]
    },
    {
     "name": "stdout",
     "output_type": "stream",
     "text": [
      "('SerieA_22-23_tracking/25/SASSUOLO-US CREMONESE G25_tracking.json', 'SerieA_22-23_tracking/25/SASSUOLO-US CREMONESE G25.json')\n"
     ]
    },
    {
     "name": "stderr",
     "output_type": "stream",
     "text": [
      "/var/folders/n2/9_7g8plj0bl7kt3pzlkmfdm80000gn/T/ipykernel_32508/2964926902.py:185: SettingWithCopyWarning: \n",
      "A value is trying to be set on a copy of a slice from a DataFrame.\n",
      "Try using .loc[row_indexer,col_indexer] = value instead\n",
      "\n",
      "See the caveats in the documentation: https://pandas.pydata.org/pandas-docs/stable/user_guide/indexing.html#returning-a-view-versus-a-copy\n",
      "  valid_groups['change_in_marking'] = valid_groups.groupby(['defender', 'possession_id'])['closest_attacker'].shift() != valid_groups['closest_attacker']\n"
     ]
    },
    {
     "name": "stdout",
     "output_type": "stream",
     "text": [
      "('SerieA_22-23_tracking/25/SPEZIA CALCIO-HELLAS VERONA G25_tracking.json', 'SerieA_22-23_tracking/25/SPEZIA CALCIO-HELLAS VERONA G25.json')\n"
     ]
    },
    {
     "name": "stderr",
     "output_type": "stream",
     "text": [
      "/var/folders/n2/9_7g8plj0bl7kt3pzlkmfdm80000gn/T/ipykernel_32508/2964926902.py:185: SettingWithCopyWarning: \n",
      "A value is trying to be set on a copy of a slice from a DataFrame.\n",
      "Try using .loc[row_indexer,col_indexer] = value instead\n",
      "\n",
      "See the caveats in the documentation: https://pandas.pydata.org/pandas-docs/stable/user_guide/indexing.html#returning-a-view-versus-a-copy\n",
      "  valid_groups['change_in_marking'] = valid_groups.groupby(['defender', 'possession_id'])['closest_attacker'].shift() != valid_groups['closest_attacker']\n"
     ]
    },
    {
     "name": "stdout",
     "output_type": "stream",
     "text": [
      "('SerieA_22-23_tracking/25/TORINO-BOLOGNA G25_tracking.json', 'SerieA_22-23_tracking/25/TORINO-BOLOGNA G25.json')\n"
     ]
    },
    {
     "name": "stderr",
     "output_type": "stream",
     "text": [
      "/var/folders/n2/9_7g8plj0bl7kt3pzlkmfdm80000gn/T/ipykernel_32508/2964926902.py:185: SettingWithCopyWarning: \n",
      "A value is trying to be set on a copy of a slice from a DataFrame.\n",
      "Try using .loc[row_indexer,col_indexer] = value instead\n",
      "\n",
      "See the caveats in the documentation: https://pandas.pydata.org/pandas-docs/stable/user_guide/indexing.html#returning-a-view-versus-a-copy\n",
      "  valid_groups['change_in_marking'] = valid_groups.groupby(['defender', 'possession_id'])['closest_attacker'].shift() != valid_groups['closest_attacker']\n"
     ]
    }
   ],
   "source": [
    "import json\n",
    "import os\n",
    "import numpy as np\n",
    "import pandas as pd\n",
    "import itertools\n",
    "\n",
    "def load_json_data(filepath):\n",
    "    with open(filepath, 'r') as file:\n",
    "        return json.load(file)\n",
    "\n",
    "def process_game_data(tracking_file, anagrafica_file):\n",
    "    # Importa i dati\n",
    "    with open(tracking_file, 'r') as file:\n",
    "        tracks = [json.loads(line) for line in file]\n",
    "    \n",
    "    anagrafica = load_json_data(anagrafica_file)\n",
    "    \n",
    "    def mapSingleTimeFrame(row):\n",
    "\n",
    "        tracked_row = list(map(lambda d : [d['track_id'],d['x'],d['y'],d['is_visible'],row['period'],\n",
    "                                        row['timestamp'],row['frame'],row['possession'][\"group\"],\n",
    "                                        row['possession'][\"trackable_object\"]], row['data']))\n",
    "\n",
    "        return tracked_row\n",
    "\n",
    "    tracked_rows = list(map(lambda row: mapSingleTimeFrame(row), list(filter(lambda d : d['data'] != [], tracks))))\n",
    "    flatted_tracked_rows = list(itertools.chain.from_iterable(tracked_rows))\n",
    "\n",
    "    home_team_list = [anagrafica['home_team']['id'],anagrafica['home_team']['name']]\n",
    "    away_team_list = [anagrafica['away_team']['id'],anagrafica['away_team']['name']]\n",
    "\n",
    "    anagrafica_team = [home_team_list, away_team_list]\n",
    "\n",
    "    anagrafica_giocatori = list(map(lambda d : [d['team_id'],d['team_player_id'],d['short_name'],d['player_role']['name'],d['trackable_object']], anagrafica['players']))\n",
    "    anagrafica_giocatori_completa = list(map(lambda d : list(d)+[list(filter(lambda c : c[0] == d[0],anagrafica_team))[0][1]], anagrafica_giocatori))\n",
    "\n",
    "\n",
    "    def timehistory_per_player(anagrafica_row):\n",
    "\n",
    "        ## TROVA IL PLAYER ID ##\n",
    "        trackable_object = anagrafica_row[-2]\n",
    "        tracks = list(filter(lambda c : c[0] == trackable_object, flatted_tracked_rows))\n",
    "        tracks_out = list(map(lambda c : list(c[1:])+anagrafica_row, tracks))\n",
    "\n",
    "        return tracks_out\n",
    "        \n",
    "    players_timehistory = list(map(lambda d : timehistory_per_player(d), anagrafica_giocatori_completa))\n",
    "\n",
    "    players_timehistory_f = list(filter(lambda c : len(c) > 0, players_timehistory))\n",
    "\n",
    "    flatten_players_timehistory_f = list(itertools.chain.from_iterable(players_timehistory_f))\n",
    "\n",
    "    def isVisibleToNumeric(is_visible_boolean):\n",
    "        \n",
    "        if is_visible_boolean == False:\n",
    "            new_visible_value = 0.0\n",
    "        else:\n",
    "            new_visible_value = 1.0\n",
    "\n",
    "        return new_visible_value\n",
    "        \n",
    "        \n",
    "    def addVisibleValue(timehistory):\n",
    "        return list(map(lambda row: row[:is_visible_index]+ [isVisibleToNumeric(row[is_visible_index])] + row[1+is_visible_index:], timehistory))\n",
    "\n",
    "\n",
    "    def reduceFrequencyTo2Hz(frame):\n",
    "\n",
    "        x = float(frame)/10.0\n",
    "        \n",
    "        if float(x) - int(x) > 0.25 and float(x) - int(x) < 0.75:\n",
    "            time_rounded = float(np.round(int(x)+0.5,1))\n",
    "        elif float(x) - int(x) < 0.25:\n",
    "            time_rounded =  float(np.round(int(x),0))\n",
    "        elif float(x) - int(x) > 0.75:\n",
    "            time_rounded =  float(np.round(int(x)+1,0))\n",
    "\n",
    "        return time_rounded\n",
    "\n",
    "    pd_tracks = pd.DataFrame(flatten_players_timehistory_f, columns = ['x','y','is_visible','period','timestamp','frame','possess_group','possess_trackable_object','team_id','player_id','player_name','ruolo','track_id','team_name'])\n",
    "    pd_tracks['is_visible_value'] = pd_tracks.apply(lambda row: isVisibleToNumeric(row.is_visible), axis = 1)\n",
    "    pd_tracks['frame_2hz'] = pd_tracks.apply(lambda row: reduceFrequencyTo2Hz(row.frame), axis = 1)\n",
    "\n",
    "    sampled_tracking_data = pd_tracks[['track_id','frame_2hz','period', 'x','y','team_name','player_name','ruolo','possess_group']].groupby(by = ['track_id','frame_2hz','period','team_name','player_name','ruolo','possess_group'], as_index=False).mean()\n",
    "\n",
    "    ball_tracks = list(filter(lambda c : c[0] == 55, flatted_tracked_rows))\n",
    "    ball_tracks = pd.DataFrame(ball_tracks, columns = ['track_id','x','y','is_visible','period','timestamp','frame','possess_group','possess_trackable_object'])\n",
    "    ball_tracks['frame_2hz'] = ball_tracks.apply(lambda row: reduceFrequencyTo2Hz(row.frame), axis = 1)\n",
    "    sampled_ball_data = ball_tracks[['track_id','frame_2hz','x','y','possess_group']].groupby(by = ['track_id','frame_2hz','possess_group'], as_index=False).mean()\n",
    "\n",
    "    tracking_data = pd.merge(sampled_tracking_data, sampled_ball_data[['frame_2hz', 'x', 'y']], on = ['frame_2hz'], how = 'left')\n",
    "    tracking_data.columns = ['track_id', 'frame_2hz', 'period', 'team_name', 'player_name', 'ruolo', 'possess_group', 'x', 'y', 'x_ball', 'y_ball']\n",
    "\n",
    "\n",
    "    # Determina il lato di attacco basato sul periodo e se il team_name corrisponde al team di casa\n",
    "    def determine_attack_side(row):\n",
    "        if row['team_name'] == anagrafica['home_team']['name']:\n",
    "            # La squadra del giocatore è la squadra di casa\n",
    "            return anagrafica['home_team_side'][0] if row['period'] == 1 else anagrafica['home_team_side'][1]\n",
    "        else:\n",
    "            # La squadra del giocatore è la squadra in trasferta, quindi l'attacco è invertito\n",
    "            return anagrafica['home_team_side'][1] if row['period'] == 1 else anagrafica['home_team_side'][0]\n",
    "\n",
    "    tracking_data['attack_side'] = tracking_data.apply(determine_attack_side, axis=1)\n",
    "\n",
    "    # Funzione per calcolare la distanza euclidea\n",
    "    def calc_distance(x1, y1, x2, y2):\n",
    "        return np.sqrt((x2 - x1) ** 2 + (y2 - y1) ** 2)\n",
    "\n",
    "    # Filtriamo i portieri\n",
    "    tracking_data = tracking_data[tracking_data['ruolo'] != 'Goalkeeper']\n",
    "\n",
    "    # Identifica chi sono i difensori in base alla direzione di attacco e alla posizione della palla\n",
    "    def is_defender(row, home_team, away_team):\n",
    "        if row['possess_group'] == 'home team':\n",
    "            defending_team = away_team\n",
    "        else:\n",
    "            defending_team = home_team\n",
    "\n",
    "        if row['team_name'] == defending_team:\n",
    "            if row['attack_side'] == 'left_to_right':\n",
    "                return row['x'] <= row['x_ball']\n",
    "            else:\n",
    "                return row['x'] >= row['x_ball']\n",
    "        return False\n",
    "\n",
    "\n",
    "    home_team = anagrafica['home_team']['name']\n",
    "    away_team = anagrafica['away_team']['name']\n",
    "    tracking_data['is_defender'] = tracking_data.apply(is_defender, args=(home_team, away_team), axis=1)\n",
    "\n",
    "    # Funzione per calcolare il difensore più vicino per ogni frame\n",
    "    def analyze_frame(frame_data):\n",
    "        defenders = frame_data[frame_data['is_defender']]\n",
    "        attackers = frame_data[~frame_data['is_defender']]\n",
    "        \n",
    "        results = []\n",
    "        for _, defender in defenders.iterrows():\n",
    "            min_distance = np.inf\n",
    "            closest_attacker = None\n",
    "            for _, attacker in attackers.iterrows():\n",
    "                distance = calc_distance(defender['x'], defender['y'], attacker['x'], attacker['y'])\n",
    "                if distance < min_distance:\n",
    "                    min_distance = distance\n",
    "                    closest_attacker = attacker['player_name']\n",
    "            \n",
    "            results.append({\n",
    "                'frame': defender['frame_2hz'],\n",
    "                'defender': defender['player_name'],\n",
    "                'closest_attacker': closest_attacker,\n",
    "                'min_distance': min_distance,\n",
    "                'possession_group': defender['possess_group']\n",
    "            })\n",
    "        return results\n",
    "\n",
    "    # Applichiamo la funzione ad ogni frame\n",
    "    frame_results = []\n",
    "    grouped_frames = tracking_data.groupby('frame_2hz')\n",
    "    for frame, frame_data in grouped_frames:\n",
    "        frame_results.extend(analyze_frame(frame_data))\n",
    "\n",
    "    # Creiamo un DataFrame con i risultati\n",
    "    results_df = pd.DataFrame(frame_results)\n",
    "\n",
    "    results_df = results_df[results_df['defender'] != results_df['closest_attacker']]\n",
    "\n",
    "    results_df['possession_change'] = (results_df['possession_group'] != results_df['possession_group'].shift(1)).astype(int)\n",
    "\n",
    "    results_df['possession_id'] = results_df['possession_change'].cumsum()\n",
    "\n",
    "    possession_durations = results_df.groupby('possession_id').agg(\n",
    "        start_frame=('frame', 'min'),\n",
    "        end_frame=('frame', 'max')\n",
    "    ).reset_index()\n",
    "    possession_durations['duration'] = (possession_durations['end_frame'] - possession_durations['start_frame'])\n",
    "\n",
    "    # Filtra per mantenere solo i gruppi di possesso che durano almeno 5 secondi\n",
    "    valid_possessions = possession_durations[possession_durations['duration'] >= 5]['possession_id']\n",
    "\n",
    "    # Utilizza solo i dati dei gruppi di possesso validi\n",
    "    valid_groups = results_df[results_df['possession_id'].isin(valid_possessions)]\n",
    "\n",
    "\n",
    "    # Aggiunta del tracking dei cambi di marcatura\n",
    "    valid_groups['change_in_marking'] = valid_groups.groupby(['defender', 'possession_id'])['closest_attacker'].shift() != valid_groups['closest_attacker']\n",
    "    changes_per_defender = valid_groups.groupby(['defender', 'possession_id'])['change_in_marking'].sum().groupby('defender').mean()\n",
    "\n",
    "    # Calcolo della distanza media\n",
    "    mean_distances = valid_groups.groupby('defender')['min_distance'].mean()\n",
    "    \n",
    "    # Calcola la distanza media per ogni attaccante e ogni possesso\n",
    "    attacker_distances = valid_groups.groupby(['possession_id', 'closest_attacker'])['min_distance'].mean().reset_index()\n",
    "    overall_distances = attacker_distances.groupby('closest_attacker')['min_distance'].mean()\n",
    "\n",
    "    most_marked_attacker = overall_distances.idxmin()\n",
    "    least_marked_attacker = overall_distances.idxmax()\n",
    "    most_marked_attacker_distance = overall_distances.min()\n",
    "    least_marked_attacker_distance = overall_distances.max()\n",
    "\n",
    "    # Organizza i dati finali in un dizionario\n",
    "    results = {\n",
    "        'match_info': {\n",
    "            'home_team': anagrafica['home_team']['name'],\n",
    "            'away_team': anagrafica['away_team']['name'],\n",
    "            'matchday': tracking_file.split('/')[-2]  # Estrae il numero della giornata dal percorso del file\n",
    "        },\n",
    "        'statistics': {\n",
    "            'changes_per_defender': changes_per_defender.to_dict(),\n",
    "            'mean_distances_per_defender': mean_distances.to_dict(),\n",
    "            'most_marked_attacker': most_marked_attacker,\n",
    "            'least_marked_attacker': least_marked_attacker,\n",
    "            'most_marked_attacker_distance': most_marked_attacker_distance,\n",
    "            'least_marked_attacker_distance': least_marked_attacker_distance\n",
    "        }\n",
    "    }\n",
    "\n",
    "    return results\n",
    "\n",
    "def process_all_games(directory):\n",
    "    all_games_results = []\n",
    "    for root, dirs, files in os.walk(directory):\n",
    "        \n",
    "        tracking_files = [f for f in files if 'tracking.json' in f and f != '.DS_Store']\n",
    "        anagrafica_files = [f for f in files if 'tracking.json' not in f and f != '.DS_Store']\n",
    "        \n",
    "        for tracking_file, anagrafica_file in zip(sorted(tracking_files), sorted(anagrafica_files)):\n",
    "            tracking_path = os.path.join(root, tracking_file)\n",
    "            anagrafica_path = os.path.join(root, anagrafica_file)\n",
    "            print((tracking_path, anagrafica_path))\n",
    "            game_results = process_game_data(tracking_path, anagrafica_path)\n",
    "            all_games_results.append(game_results)\n",
    "    \n",
    "    # Salvare i risultati aggregati in un JSON\n",
    "    with open('all_games_results.json', 'w') as json_file:\n",
    "        json.dump(all_games_results, json_file)\n",
    "\n",
    "# Processa tutte le partite nella directory specificata\n",
    "process_all_games('SerieA_22-23_tracking')\n",
    "\n",
    "\n"
   ]
  },
  {
   "cell_type": "code",
   "execution_count": null,
   "metadata": {},
   "outputs": [],
   "source": []
  }
 ],
 "metadata": {
  "kernelspec": {
   "display_name": "football",
   "language": "python",
   "name": "python3"
  },
  "language_info": {
   "codemirror_mode": {
    "name": "ipython",
    "version": 3
   },
   "file_extension": ".py",
   "mimetype": "text/x-python",
   "name": "python",
   "nbconvert_exporter": "python",
   "pygments_lexer": "ipython3",
   "version": "3.12.3"
  }
 },
 "nbformat": 4,
 "nbformat_minor": 2
}
